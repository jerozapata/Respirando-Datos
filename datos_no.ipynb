{
 "cells": [
  {
   "cell_type": "code",
   "execution_count": 22,
   "id": "339534a3",
   "metadata": {},
   "outputs": [],
   "source": [
    "import json\n",
    "import pandas as pd\n",
    "import numpy as np\n",
    "import matplotlib.pyplot as plt\n",
    "import seaborn as sns\n",
    "import plotly.express as px\n",
    "import folium\n",
    "import os"
   ]
  },
  {
   "cell_type": "code",
   "execution_count": 23,
   "id": "d1fee068",
   "metadata": {},
   "outputs": [
    {
     "name": "stdout",
     "output_type": "stream",
     "text": [
      "    codigoSerial nombreCorto                               nombre   latitud  \\\n",
      "0              3    GIR-SOSN  _OFF-Girardota - S.O.S Aburrá Norte  6.378433   \n",
      "1              3    GIR-SOSN  _OFF-Girardota - S.O.S Aburrá Norte  6.378433   \n",
      "2              3    GIR-SOSN  _OFF-Girardota - S.O.S Aburrá Norte  6.378433   \n",
      "3              3    GIR-SOSN  _OFF-Girardota - S.O.S Aburrá Norte  6.378433   \n",
      "4              3    GIR-SOSN  _OFF-Girardota - S.O.S Aburrá Norte  6.378433   \n",
      "5              3    GIR-SOSN  _OFF-Girardota - S.O.S Aburrá Norte  6.378433   \n",
      "6              3    GIR-SOSN  _OFF-Girardota - S.O.S Aburrá Norte  6.378433   \n",
      "7              3    GIR-SOSN  _OFF-Girardota - S.O.S Aburrá Norte  6.378433   \n",
      "8              3    GIR-SOSN  _OFF-Girardota - S.O.S Aburrá Norte  6.378433   \n",
      "9              3    GIR-SOSN  _OFF-Girardota - S.O.S Aburrá Norte  6.378433   \n",
      "10             3    GIR-SOSN  _OFF-Girardota - S.O.S Aburrá Norte  6.378433   \n",
      "11             3    GIR-SOSN  _OFF-Girardota - S.O.S Aburrá Norte  6.378433   \n",
      "12             3    GIR-SOSN  _OFF-Girardota - S.O.S Aburrá Norte  6.378433   \n",
      "13             3    GIR-SOSN  _OFF-Girardota - S.O.S Aburrá Norte  6.378433   \n",
      "14             3    GIR-SOSN  _OFF-Girardota - S.O.S Aburrá Norte  6.378433   \n",
      "15             3    GIR-SOSN  _OFF-Girardota - S.O.S Aburrá Norte  6.378433   \n",
      "16             3    GIR-SOSN  _OFF-Girardota - S.O.S Aburrá Norte  6.378433   \n",
      "17             3    GIR-SOSN  _OFF-Girardota - S.O.S Aburrá Norte  6.378433   \n",
      "18             3    GIR-SOSN  _OFF-Girardota - S.O.S Aburrá Norte  6.378433   \n",
      "19             3    GIR-SOSN  _OFF-Girardota - S.O.S Aburrá Norte  6.378433   \n",
      "\n",
      "     longitud contaminante               fecha  calibracion  valor  \n",
      "0  -75.451141           no 2021-12-14 04:00:00      -9999.0    NaN  \n",
      "1  -75.451141           no 2021-12-14 05:00:00      -9999.0    NaN  \n",
      "2  -75.451141           no 2021-12-14 06:00:00      -9999.0    NaN  \n",
      "3  -75.451141           no 2021-12-14 07:00:00      -9999.0    NaN  \n",
      "4  -75.451141           no 2021-12-14 08:00:00      -9999.0    NaN  \n",
      "5  -75.451141           no 2021-12-14 09:00:00      -9999.0    NaN  \n",
      "6  -75.451141           no 2021-12-14 10:00:00      -9999.0    NaN  \n",
      "7  -75.451141           no 2021-12-14 11:00:00      -9999.0    NaN  \n",
      "8  -75.451141           no 2021-12-14 12:00:00      -9999.0    NaN  \n",
      "9  -75.451141           no 2021-12-14 13:00:00      -9999.0    NaN  \n",
      "10 -75.451141           no 2021-12-14 14:00:00      -9999.0    NaN  \n",
      "11 -75.451141           no 2021-12-14 15:00:00      -9999.0    NaN  \n",
      "12 -75.451141           no 2021-12-14 16:00:00      -9999.0    NaN  \n",
      "13 -75.451141           no 2021-12-14 17:00:00      -9999.0    NaN  \n",
      "14 -75.451141           no 2021-12-14 18:00:00      -9999.0    NaN  \n",
      "15 -75.451141           no 2021-12-14 19:00:00      -9999.0    NaN  \n",
      "16 -75.451141           no 2021-12-14 20:00:00      -9999.0    NaN  \n",
      "17 -75.451141           no 2021-12-14 21:00:00      -9999.0    NaN  \n",
      "18 -75.451141           no 2021-12-14 22:00:00      -9999.0    NaN  \n",
      "19 -75.451141           no 2021-12-14 23:00:00      -9999.0    NaN  \n"
     ]
    }
   ],
   "source": [
    "carpeta_no = \"Datasets\\Datos_SIATA_Aire_no.json\"\n",
    "\n",
    "with open(carpeta_no, \"r\", encoding=\"utf-8\") as f:data = json.load(f)\n",
    "\n",
    "registros = []\n",
    "\n",
    "        \n",
    "for estacion in data:\n",
    "    lat = estacion.get(\"latitud\")\n",
    "    lon = estacion.get(\"longitud\")\n",
    "    codigo = estacion.get(\"codigoSerial\")\n",
    "    nombre = estacion.get(\"nombre\")\n",
    "    nombreCorto = estacion.get(\"nombreCorto\")\n",
    "    datos = estacion.get(\"datos\", [])\n",
    "\n",
    "    for entrada in datos:\n",
    "        registros.append({\n",
    "            \"codigoSerial\": codigo,\n",
    "            \"nombreCorto\": nombreCorto,\n",
    "            \"nombre\": nombre,\n",
    "            \"latitud\": lat,\n",
    "            \"longitud\": lon,\n",
    "            \"contaminante\": entrada.get(\"variableConsulta\"),\n",
    "            \"fecha\": entrada.get(\"fecha\"),\n",
    "            \"calibracion\": entrada.get(\"valor\"), # Ojooo esto es calibración \n",
    "            \"valor\": entrada.get(\"calidad\") # Y esto calidad, osea que la calidad se llama valor y la calibración valga la redundancia calibración \n",
    "        })\n",
    "\n",
    "# Convertimos a DataFrame como antes\n",
    "df = pd.DataFrame(registros)\n",
    "df['fecha'] = pd.to_datetime(df['fecha'], errors='coerce')\n",
    "df['valor'] = pd.to_numeric(df['valor'], errors='coerce')\n",
    "df[\"calibracion\"] = pd.to_numeric(df[\"calibracion\"], errors='coerce')\n",
    "\n",
    "\n",
    "df.loc[df[\"calibracion\"] == -9999, 'valor'] = np.nan\n",
    "\n",
    "print(df.head(20))"
   ]
  },
  {
   "cell_type": "code",
   "execution_count": 24,
   "id": "7c5d58d4",
   "metadata": {},
   "outputs": [
    {
     "name": "stdout",
     "output_type": "stream",
     "text": [
      "Porcentaje datos válidos por estación\n",
      "nombreCorto\n",
      "BEL-USBV     0.000000\n",
      "GIR-SOSN     0.045657\n",
      "ITA-CJUS    99.326561\n",
      "MED-ITMR    95.879466\n",
      "MED-PJIC    95.251684\n",
      "MED-UNNV     0.000000\n",
      "SUR-TRAF    93.311266\n",
      "Name: valor, dtype: float64\n",
      "\n",
      "Porcentaje datos válidos por contaminantecontaminante\n",
      "no    54.830662\n",
      "Name: valor, dtype: float64\n"
     ]
    }
   ],
   "source": [
    "validos_por_estacion = df.groupby('nombreCorto')['valor'].apply(lambda x: x.notna().mean() * 100)\n",
    "validos_por_contaminante = df.groupby('contaminante')['valor'].apply(lambda x: x.notna().mean() * 100)\n",
    "print(f\"Porcentaje datos válidos por estación\\n{validos_por_estacion}\\n\\nPorcentaje datos válidos por contaminante{validos_por_contaminante}\")"
   ]
  },
  {
   "cell_type": "code",
   "execution_count": 25,
   "id": "51783b51",
   "metadata": {},
   "outputs": [],
   "source": [
    "# Obtener contaminante único (ya que el archivo es solo de uno)\n",
    "contaminante_unico = df['contaminante'].unique()[0] if not df['contaminante'].isna().all() else \"Desconocido\"\n"
   ]
  },
  {
   "cell_type": "code",
   "execution_count": 26,
   "id": "518d7c2a",
   "metadata": {},
   "outputs": [
    {
     "data": {
      "image/png": "[encoded data removed]",
      "text/plain": [
       "<Figure size 1200x600 with 1 Axes>"
      ]
     },
     "metadata": {},
     "output_type": "display_data"
    }
   ],
   "source": [
    "df['mes'] = df['fecha'].dt.to_period(\"M\")\n",
    "promedios_mensuales = df.groupby('mes')['valor'].mean().reset_index()\n",
    "promedios_mensuales['mes'] = promedios_mensuales['mes'].astype(str)\n",
    "\n",
    "# Graficar\n",
    "plt.figure(figsize=(12,6))\n",
    "sns.lineplot(data=promedios_mensuales, x='mes', y='valor', marker='o')\n",
    "plt.title(f'Promedios mensuales todas las estaciones - {contaminante_unico.upper()}')\n",
    "plt.xlabel('Mes')\n",
    "plt.ylabel('Concentración')\n",
    "plt.xticks(rotation=45)\n",
    "plt.grid(True)\n",
    "plt.tight_layout()\n",
    "plt.show()"
   ]
  },
  {
   "cell_type": "code",
   "execution_count": 27,
   "id": "93497a01",
   "metadata": {},
   "outputs": [
    {
     "data": {
      "text/html": [
       "<div style=\"width:100%;\"><div style=\"position:relative;width:100%;height:0;padding-bottom:60%;\"><span style=\"color:#565656\">Make this Notebook Trusted to load map: File -> Trust Notebook</span><iframe srcdoc=\"&lt;!DOCTYPE html&gt;\n",
       "&lt;html&gt;\n",
       "&lt;head&gt;\n",
       "    \n",
       "    &lt;meta http-equiv=&quot;content-type&quot; content=&quot;text/html; charset=UTF-8&quot; /&gt;\n",
       "    &lt;script src=&quot;https://cdn.jsdelivr.net/npm/leaflet@1.9.3/dist/leaflet.js&quot;&gt;&lt;/script&gt;\n",
       "    &lt;script src=&quot;https://code.jquery.com/jquery-3.7.1.min.js&quot;&gt;&lt;/script&gt;\n",
       "    &lt;script src=&quot;https://cdn.jsdelivr.net/npm/bootstrap@5.2.2/dist/js/bootstrap.bundle.min.js&quot;&gt;&lt;/script&gt;\n",
       "    &lt;script src=&quot;https://cdnjs.cloudflare.com/ajax/libs/Leaflet.awesome-markers/2.0.2/leaflet.awesome-markers.js&quot;&gt;&lt;/script&gt;\n",
       "    &lt;link rel=&quot;stylesheet&quot; href=&quot;https://cdn.jsdelivr.net/npm/leaflet@1.9.3/dist/leaflet.css&quot;/&gt;\n",
       "    &lt;link rel=&quot;stylesheet&quot; href=&quot;https://cdn.jsdelivr.net/npm/bootstrap@5.2.2/dist/css/bootstrap.min.css&quot;/&gt;\n",
       "    &lt;link rel=&quot;stylesheet&quot; href=&quot;https://netdna.bootstrapcdn.com/bootstrap/3.0.0/css/bootstrap-glyphicons.css&quot;/&gt;\n",
       "    &lt;link rel=&quot;stylesheet&quot; href=&quot;https://cdn.jsdelivr.net/npm/@fortawesome/fontawesome-free@6.2.0/css/all.min.css&quot;/&gt;\n",
       "    &lt;link rel=&quot;stylesheet&quot; href=&quot;https://cdnjs.cloudflare.com/ajax/libs/Leaflet.awesome-markers/2.0.2/leaflet.awesome-markers.css&quot;/&gt;\n",
       "    &lt;link rel=&quot;stylesheet&quot; href=&quot;https://cdn.jsdelivr.net/gh/python-visualization/folium/folium/templates/leaflet.awesome.rotate.min.css&quot;/&gt;\n",
       "    \n",
       "            &lt;meta name=&quot;viewport&quot; content=&quot;width=device-width,\n",
       "                initial-scale=1.0, maximum-scale=1.0, user-scalable=no&quot; /&gt;\n",
       "            &lt;style&gt;\n",
       "                #map_09379e27c8dd5e41ae90e7c3f88b9353 {\n",
       "                    position: relative;\n",
       "                    width: 100.0%;\n",
       "                    height: 100.0%;\n",
       "                    left: 0.0%;\n",
       "                    top: 0.0%;\n",
       "                }\n",
       "                .leaflet-container { font-size: 1rem; }\n",
       "            &lt;/style&gt;\n",
       "\n",
       "            &lt;style&gt;html, body {\n",
       "                width: 100%;\n",
       "                height: 100%;\n",
       "                margin: 0;\n",
       "                padding: 0;\n",
       "            }\n",
       "            &lt;/style&gt;\n",
       "\n",
       "            &lt;style&gt;#map {\n",
       "                position:absolute;\n",
       "                top:0;\n",
       "                bottom:0;\n",
       "                right:0;\n",
       "                left:0;\n",
       "                }\n",
       "            &lt;/style&gt;\n",
       "\n",
       "            &lt;script&gt;\n",
       "                L_NO_TOUCH = false;\n",
       "                L_DISABLE_3D = false;\n",
       "            &lt;/script&gt;\n",
       "\n",
       "        \n",
       "&lt;/head&gt;\n",
       "&lt;body&gt;\n",
       "    \n",
       "    \n",
       "            &lt;div class=&quot;folium-map&quot; id=&quot;map_09379e27c8dd5e41ae90e7c3f88b9353&quot; &gt;&lt;/div&gt;\n",
       "        \n",
       "&lt;/body&gt;\n",
       "&lt;script&gt;\n",
       "    \n",
       "    \n",
       "            var map_09379e27c8dd5e41ae90e7c3f88b9353 = L.map(\n",
       "                &quot;map_09379e27c8dd5e41ae90e7c3f88b9353&quot;,\n",
       "                {\n",
       "                    center: [6.25, -75.6],\n",
       "                    crs: L.CRS.EPSG3857,\n",
       "                    ...{\n",
       "  &quot;zoom&quot;: 11,\n",
       "  &quot;zoomControl&quot;: true,\n",
       "  &quot;preferCanvas&quot;: false,\n",
       "}\n",
       "\n",
       "                }\n",
       "            );\n",
       "\n",
       "            \n",
       "\n",
       "        \n",
       "    \n",
       "            var tile_layer_42ea521e83955c7bd565c21e88c70499 = L.tileLayer(\n",
       "                &quot;https://tile.openstreetmap.org/{z}/{x}/{y}.png&quot;,\n",
       "                {\n",
       "  &quot;minZoom&quot;: 0,\n",
       "  &quot;maxZoom&quot;: 19,\n",
       "  &quot;maxNativeZoom&quot;: 19,\n",
       "  &quot;noWrap&quot;: false,\n",
       "  &quot;attribution&quot;: &quot;\\u0026copy; \\u003ca href=\\&quot;https://www.openstreetmap.org/copyright\\&quot;\\u003eOpenStreetMap\\u003c/a\\u003e contributors&quot;,\n",
       "  &quot;subdomains&quot;: &quot;abc&quot;,\n",
       "  &quot;detectRetina&quot;: false,\n",
       "  &quot;tms&quot;: false,\n",
       "  &quot;opacity&quot;: 1,\n",
       "}\n",
       "\n",
       "            );\n",
       "        \n",
       "    \n",
       "            tile_layer_42ea521e83955c7bd565c21e88c70499.addTo(map_09379e27c8dd5e41ae90e7c3f88b9353);\n",
       "        \n",
       "    \n",
       "            var circle_marker_39cad2d0c9c8a948d5cd3381d891e78b = L.circleMarker(\n",
       "                [6.3784332, -75.4511414],\n",
       "                {&quot;bubblingMouseEvents&quot;: true, &quot;color&quot;: &quot;red&quot;, &quot;dashArray&quot;: null, &quot;dashOffset&quot;: null, &quot;fill&quot;: true, &quot;fillColor&quot;: &quot;red&quot;, &quot;fillOpacity&quot;: 0.2, &quot;fillRule&quot;: &quot;evenodd&quot;, &quot;lineCap&quot;: &quot;round&quot;, &quot;lineJoin&quot;: &quot;round&quot;, &quot;opacity&quot;: 1.0, &quot;radius&quot;: 6, &quot;stroke&quot;: true, &quot;weight&quot;: 3}\n",
       "            ).addTo(map_09379e27c8dd5e41ae90e7c3f88b9353);\n",
       "        \n",
       "    \n",
       "        var popup_c71af0da07873fd68d1aa66126a2527d = L.popup({\n",
       "  &quot;maxWidth&quot;: &quot;100%&quot;,\n",
       "});\n",
       "\n",
       "        \n",
       "            \n",
       "                var html_15d6cb6608a200b3f3e5598f14490932 = $(`&lt;div id=&quot;html_15d6cb6608a200b3f3e5598f14490932&quot; style=&quot;width: 100.0%; height: 100.0%;&quot;&gt;Estación _OFF-Girardota - S.O.S Aburrá Norte Media: 1.00 Válidos: 0.0%&lt;/div&gt;`)[0];\n",
       "                popup_c71af0da07873fd68d1aa66126a2527d.setContent(html_15d6cb6608a200b3f3e5598f14490932);\n",
       "            \n",
       "        \n",
       "\n",
       "        circle_marker_39cad2d0c9c8a948d5cd3381d891e78b.bindPopup(popup_c71af0da07873fd68d1aa66126a2527d)\n",
       "        ;\n",
       "\n",
       "        \n",
       "    \n",
       "    \n",
       "            var circle_marker_a3d9d74b4d6a272bd951e86c39599a51 = L.circleMarker(\n",
       "                [6.2089748, -75.5777664],\n",
       "                {&quot;bubblingMouseEvents&quot;: true, &quot;color&quot;: &quot;green&quot;, &quot;dashArray&quot;: null, &quot;dashOffset&quot;: null, &quot;fill&quot;: true, &quot;fillColor&quot;: &quot;green&quot;, &quot;fillOpacity&quot;: 0.2, &quot;fillRule&quot;: &quot;evenodd&quot;, &quot;lineCap&quot;: &quot;round&quot;, &quot;lineJoin&quot;: &quot;round&quot;, &quot;opacity&quot;: 1.0, &quot;radius&quot;: 6, &quot;stroke&quot;: true, &quot;weight&quot;: 3}\n",
       "            ).addTo(map_09379e27c8dd5e41ae90e7c3f88b9353);\n",
       "        \n",
       "    \n",
       "        var popup_13486aff9fca3b295449a73fccb7421b = L.popup({\n",
       "  &quot;maxWidth&quot;: &quot;100%&quot;,\n",
       "});\n",
       "\n",
       "        \n",
       "            \n",
       "                var html_730b54b277c488aeba685553edd17695 = $(`&lt;div id=&quot;html_730b54b277c488aeba685553edd17695&quot; style=&quot;width: 100.0%; height: 100.0%;&quot;&gt;Estación Politecnico Colombiano Jaime Isaza Cadavid - Medellin Media: 1.16 Válidos: 95.3%&lt;/div&gt;`)[0];\n",
       "                popup_13486aff9fca3b295449a73fccb7421b.setContent(html_730b54b277c488aeba685553edd17695);\n",
       "            \n",
       "        \n",
       "\n",
       "        circle_marker_a3d9d74b4d6a272bd951e86c39599a51.bindPopup(popup_13486aff9fca3b295449a73fccb7421b)\n",
       "        ;\n",
       "\n",
       "        \n",
       "    \n",
       "    \n",
       "            var circle_marker_1047b4e7d252b8e151809147ccb61d0f = L.circleMarker(\n",
       "                [6.2633696, -75.5770035],\n",
       "                {&quot;bubblingMouseEvents&quot;: true, &quot;color&quot;: &quot;red&quot;, &quot;dashArray&quot;: null, &quot;dashOffset&quot;: null, &quot;fill&quot;: true, &quot;fillColor&quot;: &quot;red&quot;, &quot;fillOpacity&quot;: 0.2, &quot;fillRule&quot;: &quot;evenodd&quot;, &quot;lineCap&quot;: &quot;round&quot;, &quot;lineJoin&quot;: &quot;round&quot;, &quot;opacity&quot;: 1.0, &quot;radius&quot;: 6, &quot;stroke&quot;: true, &quot;weight&quot;: 3}\n",
       "            ).addTo(map_09379e27c8dd5e41ae90e7c3f88b9353);\n",
       "        \n",
       "    \n",
       "        var popup_05c4e4f71d026d2947cf7032528ea58f = L.popup({\n",
       "  &quot;maxWidth&quot;: &quot;100%&quot;,\n",
       "});\n",
       "\n",
       "        \n",
       "            \n",
       "                var html_16f11e8d59b58c4b07d0114e45ad4797 = $(`&lt;div id=&quot;html_16f11e8d59b58c4b07d0114e45ad4797&quot; style=&quot;width: 100.0%; height: 100.0%;&quot;&gt;Estación _OFF-Medellín,  centro occidente - Universidad Nacional, sede El Volador Media: nan Válidos: 0.0%&lt;/div&gt;`)[0];\n",
       "                popup_05c4e4f71d026d2947cf7032528ea58f.setContent(html_16f11e8d59b58c4b07d0114e45ad4797);\n",
       "            \n",
       "        \n",
       "\n",
       "        circle_marker_1047b4e7d252b8e151809147ccb61d0f.bindPopup(popup_05c4e4f71d026d2947cf7032528ea58f)\n",
       "        ;\n",
       "\n",
       "        \n",
       "    \n",
       "    \n",
       "            var circle_marker_47e3e0e7dba6141bf3cdc95cf421c1d7 = L.circleMarker(\n",
       "                [6.1856666, -75.5972061],\n",
       "                {&quot;bubblingMouseEvents&quot;: true, &quot;color&quot;: &quot;green&quot;, &quot;dashArray&quot;: null, &quot;dashOffset&quot;: null, &quot;fill&quot;: true, &quot;fillColor&quot;: &quot;green&quot;, &quot;fillOpacity&quot;: 0.2, &quot;fillRule&quot;: &quot;evenodd&quot;, &quot;lineCap&quot;: &quot;round&quot;, &quot;lineJoin&quot;: &quot;round&quot;, &quot;opacity&quot;: 1.0, &quot;radius&quot;: 6, &quot;stroke&quot;: true, &quot;weight&quot;: 3}\n",
       "            ).addTo(map_09379e27c8dd5e41ae90e7c3f88b9353);\n",
       "        \n",
       "    \n",
       "        var popup_28b406026e8c95448383c6a7b5a32bf8 = L.popup({\n",
       "  &quot;maxWidth&quot;: &quot;100%&quot;,\n",
       "});\n",
       "\n",
       "        \n",
       "            \n",
       "                var html_655c53bd7751ff8546aa4f556015fed2 = $(`&lt;div id=&quot;html_655c53bd7751ff8546aa4f556015fed2&quot; style=&quot;width: 100.0%; height: 100.0%;&quot;&gt;Estación Itagüí - Casa de Justicia Itagüí Media: 1.33 Válidos: 99.3%&lt;/div&gt;`)[0];\n",
       "                popup_28b406026e8c95448383c6a7b5a32bf8.setContent(html_655c53bd7751ff8546aa4f556015fed2);\n",
       "            \n",
       "        \n",
       "\n",
       "        circle_marker_47e3e0e7dba6141bf3cdc95cf421c1d7.bindPopup(popup_28b406026e8c95448383c6a7b5a32bf8)\n",
       "        ;\n",
       "\n",
       "        \n",
       "    \n",
       "    \n",
       "            var circle_marker_93f1b2cb4259f6669e6cd6143bc32825 = L.circleMarker(\n",
       "                [6.3306971, -75.5686722],\n",
       "                {&quot;bubblingMouseEvents&quot;: true, &quot;color&quot;: &quot;red&quot;, &quot;dashArray&quot;: null, &quot;dashOffset&quot;: null, &quot;fill&quot;: true, &quot;fillColor&quot;: &quot;red&quot;, &quot;fillOpacity&quot;: 0.2, &quot;fillRule&quot;: &quot;evenodd&quot;, &quot;lineCap&quot;: &quot;round&quot;, &quot;lineJoin&quot;: &quot;round&quot;, &quot;opacity&quot;: 1.0, &quot;radius&quot;: 6, &quot;stroke&quot;: true, &quot;weight&quot;: 3}\n",
       "            ).addTo(map_09379e27c8dd5e41ae90e7c3f88b9353);\n",
       "        \n",
       "    \n",
       "        var popup_0cf50f6be66eaa82b0da354ebe38ce1a = L.popup({\n",
       "  &quot;maxWidth&quot;: &quot;100%&quot;,\n",
       "});\n",
       "\n",
       "        \n",
       "            \n",
       "                var html_8a13eab464b57de9a87a3b80deb0a8f6 = $(`&lt;div id=&quot;html_8a13eab464b57de9a87a3b80deb0a8f6&quot; style=&quot;width: 100.0%; height: 100.0%;&quot;&gt;Estación Universidad San Buenaventura Media: nan Válidos: 0.0%&lt;/div&gt;`)[0];\n",
       "                popup_0cf50f6be66eaa82b0da354ebe38ce1a.setContent(html_8a13eab464b57de9a87a3b80deb0a8f6);\n",
       "            \n",
       "        \n",
       "\n",
       "        circle_marker_93f1b2cb4259f6669e6cd6143bc32825.bindPopup(popup_0cf50f6be66eaa82b0da354ebe38ce1a)\n",
       "        ;\n",
       "\n",
       "        \n",
       "    \n",
       "    \n",
       "            var circle_marker_af6038c89d0cec29f5b5754acd76a12a = L.circleMarker(\n",
       "                [6.1523128, -75.6274872],\n",
       "                {&quot;bubblingMouseEvents&quot;: true, &quot;color&quot;: &quot;green&quot;, &quot;dashArray&quot;: null, &quot;dashOffset&quot;: null, &quot;fill&quot;: true, &quot;fillColor&quot;: &quot;green&quot;, &quot;fillOpacity&quot;: 0.2, &quot;fillRule&quot;: &quot;evenodd&quot;, &quot;lineCap&quot;: &quot;round&quot;, &quot;lineJoin&quot;: &quot;round&quot;, &quot;opacity&quot;: 1.0, &quot;radius&quot;: 6, &quot;stroke&quot;: true, &quot;weight&quot;: 3}\n",
       "            ).addTo(map_09379e27c8dd5e41ae90e7c3f88b9353);\n",
       "        \n",
       "    \n",
       "        var popup_cc956b6e57250b8e72bc349e909b27b6 = L.popup({\n",
       "  &quot;maxWidth&quot;: &quot;100%&quot;,\n",
       "});\n",
       "\n",
       "        \n",
       "            \n",
       "                var html_e2afff8a97ca4e96fc77b1cde27d8fa6 = $(`&lt;div id=&quot;html_e2afff8a97ca4e96fc77b1cde27d8fa6&quot; style=&quot;width: 100.0%; height: 100.0%;&quot;&gt;Estación _OFF-Estación Tráfico Sur Media: 1.09 Válidos: 93.3%&lt;/div&gt;`)[0];\n",
       "                popup_cc956b6e57250b8e72bc349e909b27b6.setContent(html_e2afff8a97ca4e96fc77b1cde27d8fa6);\n",
       "            \n",
       "        \n",
       "\n",
       "        circle_marker_af6038c89d0cec29f5b5754acd76a12a.bindPopup(popup_cc956b6e57250b8e72bc349e909b27b6)\n",
       "        ;\n",
       "\n",
       "        \n",
       "    \n",
       "    \n",
       "            var circle_marker_d43b0284db401d72cd80a818cd3d4857 = L.circleMarker(\n",
       "                [6.2755637, -75.5882874],\n",
       "                {&quot;bubblingMouseEvents&quot;: true, &quot;color&quot;: &quot;green&quot;, &quot;dashArray&quot;: null, &quot;dashOffset&quot;: null, &quot;fill&quot;: true, &quot;fillColor&quot;: &quot;green&quot;, &quot;fillOpacity&quot;: 0.2, &quot;fillRule&quot;: &quot;evenodd&quot;, &quot;lineCap&quot;: &quot;round&quot;, &quot;lineJoin&quot;: &quot;round&quot;, &quot;opacity&quot;: 1.0, &quot;radius&quot;: 6, &quot;stroke&quot;: true, &quot;weight&quot;: 3}\n",
       "            ).addTo(map_09379e27c8dd5e41ae90e7c3f88b9353);\n",
       "        \n",
       "    \n",
       "        var popup_cef8a8e2b5e30d09dc00fa3b286fb49d = L.popup({\n",
       "  &quot;maxWidth&quot;: &quot;100%&quot;,\n",
       "});\n",
       "\n",
       "        \n",
       "            \n",
       "                var html_95b948182e70d92b1641a645365f3b97 = $(`&lt;div id=&quot;html_95b948182e70d92b1641a645365f3b97&quot; style=&quot;width: 100.0%; height: 100.0%;&quot;&gt;Estación Institucion Universitaria ITM Robledo Media: 1.22 Válidos: 95.9%&lt;/div&gt;`)[0];\n",
       "                popup_cef8a8e2b5e30d09dc00fa3b286fb49d.setContent(html_95b948182e70d92b1641a645365f3b97);\n",
       "            \n",
       "        \n",
       "\n",
       "        circle_marker_d43b0284db401d72cd80a818cd3d4857.bindPopup(popup_cef8a8e2b5e30d09dc00fa3b286fb49d)\n",
       "        ;\n",
       "\n",
       "        \n",
       "    \n",
       "&lt;/script&gt;\n",
       "&lt;/html&gt;\" style=\"position:absolute;width:100%;height:100%;left:0;top:0;border:none !important;\" allowfullscreen webkitallowfullscreen mozallowfullscreen></iframe></div></div>"
      ],
      "text/plain": [
       "<folium.folium.Map at 0x14e17289870>"
      ]
     },
     "execution_count": 27,
     "metadata": {},
     "output_type": "execute_result"
    }
   ],
   "source": [
    "# 5. Mapa estático de estaciones segun datos validos\n",
    "\n",
    "\n",
    "\n",
    "# Media por estacion\n",
    "media_estaciones = df.groupby(['codigoSerial', 'nombre', 'latitud', 'longitud'])['valor'].mean().reset_index()\n",
    "\n",
    "validos_por_estacion = df.groupby('codigoSerial')['valor'].apply(lambda x: x.notna().mean() * 100)\n",
    "\n",
    "media_estaciones['porcentaje_validos'] = media_estaciones['codigoSerial'].map(validos_por_estacion)\n",
    "\n",
    "\n",
    "mapa = folium.Map(location=[6.25, -75.6], zoom_start=11)\n",
    "\n",
    "for _, row in media_estaciones.iterrows():\n",
    "    folium.CircleMarker(\n",
    "        location=[row['latitud'], row['longitud']],\n",
    "        radius=6,\n",
    "        popup=(\n",
    "            f\"Estación {row['nombre']}\\n\"\n",
    "            f\"Media: {row['valor']:.2f}\\n\"\n",
    "            f\"Válidos: {row['porcentaje_validos']:.1f}%\"\n",
    "        ),\n",
    "        color = 'green' if row['porcentaje_validos'] >= 51 else 'red',\n",
    "        fill=True,\n",
    "    ).add_to(mapa)\n",
    "\n",
    "mapa"
   ]
  },
  {
   "cell_type": "code",
   "execution_count": 28,
   "id": "4df1bf5c",
   "metadata": {},
   "outputs": [
    {
     "data": {
      "text/html": [
       "<div style=\"width:100%;\"><div style=\"position:relative;width:100%;height:0;padding-bottom:60%;\"><span style=\"color:#565656\">Make this Notebook Trusted to load map: File -> Trust Notebook</span><iframe srcdoc=\"&lt;!DOCTYPE html&gt;\n",
       "&lt;html&gt;\n",
       "&lt;head&gt;\n",
       "    \n",
       "    &lt;meta http-equiv=&quot;content-type&quot; content=&quot;text/html; charset=UTF-8&quot; /&gt;\n",
       "    &lt;script src=&quot;https://cdn.jsdelivr.net/npm/leaflet@1.9.3/dist/leaflet.js&quot;&gt;&lt;/script&gt;\n",
       "    &lt;script src=&quot;https://code.jquery.com/jquery-3.7.1.min.js&quot;&gt;&lt;/script&gt;\n",
       "    &lt;script src=&quot;https://cdn.jsdelivr.net/npm/bootstrap@5.2.2/dist/js/bootstrap.bundle.min.js&quot;&gt;&lt;/script&gt;\n",
       "    &lt;script src=&quot;https://cdnjs.cloudflare.com/ajax/libs/Leaflet.awesome-markers/2.0.2/leaflet.awesome-markers.js&quot;&gt;&lt;/script&gt;\n",
       "    &lt;link rel=&quot;stylesheet&quot; href=&quot;https://cdn.jsdelivr.net/npm/leaflet@1.9.3/dist/leaflet.css&quot;/&gt;\n",
       "    &lt;link rel=&quot;stylesheet&quot; href=&quot;https://cdn.jsdelivr.net/npm/bootstrap@5.2.2/dist/css/bootstrap.min.css&quot;/&gt;\n",
       "    &lt;link rel=&quot;stylesheet&quot; href=&quot;https://netdna.bootstrapcdn.com/bootstrap/3.0.0/css/bootstrap-glyphicons.css&quot;/&gt;\n",
       "    &lt;link rel=&quot;stylesheet&quot; href=&quot;https://cdn.jsdelivr.net/npm/@fortawesome/fontawesome-free@6.2.0/css/all.min.css&quot;/&gt;\n",
       "    &lt;link rel=&quot;stylesheet&quot; href=&quot;https://cdnjs.cloudflare.com/ajax/libs/Leaflet.awesome-markers/2.0.2/leaflet.awesome-markers.css&quot;/&gt;\n",
       "    &lt;link rel=&quot;stylesheet&quot; href=&quot;https://cdn.jsdelivr.net/gh/python-visualization/folium/folium/templates/leaflet.awesome.rotate.min.css&quot;/&gt;\n",
       "    \n",
       "            &lt;meta name=&quot;viewport&quot; content=&quot;width=device-width,\n",
       "                initial-scale=1.0, maximum-scale=1.0, user-scalable=no&quot; /&gt;\n",
       "            &lt;style&gt;\n",
       "                #map_97f1ee017dd2b75f8dc1e151a11e5e47 {\n",
       "                    position: relative;\n",
       "                    width: 100.0%;\n",
       "                    height: 100.0%;\n",
       "                    left: 0.0%;\n",
       "                    top: 0.0%;\n",
       "                }\n",
       "                .leaflet-container { font-size: 1rem; }\n",
       "            &lt;/style&gt;\n",
       "\n",
       "            &lt;style&gt;html, body {\n",
       "                width: 100%;\n",
       "                height: 100%;\n",
       "                margin: 0;\n",
       "                padding: 0;\n",
       "            }\n",
       "            &lt;/style&gt;\n",
       "\n",
       "            &lt;style&gt;#map {\n",
       "                position:absolute;\n",
       "                top:0;\n",
       "                bottom:0;\n",
       "                right:0;\n",
       "                left:0;\n",
       "                }\n",
       "            &lt;/style&gt;\n",
       "\n",
       "            &lt;script&gt;\n",
       "                L_NO_TOUCH = false;\n",
       "                L_DISABLE_3D = false;\n",
       "            &lt;/script&gt;\n",
       "\n",
       "        \n",
       "&lt;/head&gt;\n",
       "&lt;body&gt;\n",
       "    \n",
       "    \n",
       "            &lt;div class=&quot;folium-map&quot; id=&quot;map_97f1ee017dd2b75f8dc1e151a11e5e47&quot; &gt;&lt;/div&gt;\n",
       "        \n",
       "&lt;/body&gt;\n",
       "&lt;script&gt;\n",
       "    \n",
       "    \n",
       "            var map_97f1ee017dd2b75f8dc1e151a11e5e47 = L.map(\n",
       "                &quot;map_97f1ee017dd2b75f8dc1e151a11e5e47&quot;,\n",
       "                {\n",
       "                    center: [6.25, -75.6],\n",
       "                    crs: L.CRS.EPSG3857,\n",
       "                    ...{\n",
       "  &quot;zoom&quot;: 11,\n",
       "  &quot;zoomControl&quot;: true,\n",
       "  &quot;preferCanvas&quot;: false,\n",
       "}\n",
       "\n",
       "                }\n",
       "            );\n",
       "\n",
       "            \n",
       "\n",
       "        \n",
       "    \n",
       "            var tile_layer_767ab3e4b3d16e6e10791cb3e1bb1f21 = L.tileLayer(\n",
       "                &quot;https://tile.openstreetmap.org/{z}/{x}/{y}.png&quot;,\n",
       "                {\n",
       "  &quot;minZoom&quot;: 0,\n",
       "  &quot;maxZoom&quot;: 19,\n",
       "  &quot;maxNativeZoom&quot;: 19,\n",
       "  &quot;noWrap&quot;: false,\n",
       "  &quot;attribution&quot;: &quot;\\u0026copy; \\u003ca href=\\&quot;https://www.openstreetmap.org/copyright\\&quot;\\u003eOpenStreetMap\\u003c/a\\u003e contributors&quot;,\n",
       "  &quot;subdomains&quot;: &quot;abc&quot;,\n",
       "  &quot;detectRetina&quot;: false,\n",
       "  &quot;tms&quot;: false,\n",
       "  &quot;opacity&quot;: 1,\n",
       "}\n",
       "\n",
       "            );\n",
       "        \n",
       "    \n",
       "            tile_layer_767ab3e4b3d16e6e10791cb3e1bb1f21.addTo(map_97f1ee017dd2b75f8dc1e151a11e5e47);\n",
       "        \n",
       "    \n",
       "            var circle_marker_d778894b3881d390640b12432372386f = L.circleMarker(\n",
       "                [6.3784332, -75.4511414],\n",
       "                {&quot;bubblingMouseEvents&quot;: true, &quot;color&quot;: &quot;blue&quot;, &quot;dashArray&quot;: null, &quot;dashOffset&quot;: null, &quot;fill&quot;: true, &quot;fillColor&quot;: &quot;blue&quot;, &quot;fillOpacity&quot;: 0.7, &quot;fillRule&quot;: &quot;evenodd&quot;, &quot;lineCap&quot;: &quot;round&quot;, &quot;lineJoin&quot;: &quot;round&quot;, &quot;opacity&quot;: 1.0, &quot;radius&quot;: 4.2, &quot;stroke&quot;: true, &quot;weight&quot;: 3}\n",
       "            ).addTo(map_97f1ee017dd2b75f8dc1e151a11e5e47);\n",
       "        \n",
       "    \n",
       "        var popup_52a74721a94cc3753230f665db31c3aa = L.popup({\n",
       "  &quot;maxWidth&quot;: 300,\n",
       "});\n",
       "\n",
       "        \n",
       "            \n",
       "                var html_78063c2c501ecfa80a65dadc4d2b7412 = $(`&lt;div id=&quot;html_78063c2c501ecfa80a65dadc4d2b7412&quot; style=&quot;width: 100.0%; height: 100.0%;&quot;&gt;&lt;b&gt;_OFF-Girardota - S.O.S Aburrá Norte&lt;/b&gt;&lt;br&gt;Media: 1.00&lt;br&gt;Categoría: Sin estándar oficial&lt;br&gt;Válidos: 0.0%&lt;/div&gt;`)[0];\n",
       "                popup_52a74721a94cc3753230f665db31c3aa.setContent(html_78063c2c501ecfa80a65dadc4d2b7412);\n",
       "            \n",
       "        \n",
       "\n",
       "        circle_marker_d778894b3881d390640b12432372386f.bindPopup(popup_52a74721a94cc3753230f665db31c3aa)\n",
       "        ;\n",
       "\n",
       "        \n",
       "    \n",
       "    \n",
       "            var circle_marker_c1f45d8533c8d58111f214858ccd06e9 = L.circleMarker(\n",
       "                [6.2089748, -75.5777664],\n",
       "                {&quot;bubblingMouseEvents&quot;: true, &quot;color&quot;: &quot;blue&quot;, &quot;dashArray&quot;: null, &quot;dashOffset&quot;: null, &quot;fill&quot;: true, &quot;fillColor&quot;: &quot;blue&quot;, &quot;fillOpacity&quot;: 0.7, &quot;fillRule&quot;: &quot;evenodd&quot;, &quot;lineCap&quot;: &quot;round&quot;, &quot;lineJoin&quot;: &quot;round&quot;, &quot;opacity&quot;: 1.0, &quot;radius&quot;: 4.23277171959257, &quot;stroke&quot;: true, &quot;weight&quot;: 3}\n",
       "            ).addTo(map_97f1ee017dd2b75f8dc1e151a11e5e47);\n",
       "        \n",
       "    \n",
       "        var popup_b748a2b51af81494503bcfac4b126ab7 = L.popup({\n",
       "  &quot;maxWidth&quot;: 300,\n",
       "});\n",
       "\n",
       "        \n",
       "            \n",
       "                var html_9109b7e6ae43d08c259d5d4baf99b82a = $(`&lt;div id=&quot;html_9109b7e6ae43d08c259d5d4baf99b82a&quot; style=&quot;width: 100.0%; height: 100.0%;&quot;&gt;&lt;b&gt;Politecnico Colombiano Jaime Isaza Cadavid - Medellin&lt;/b&gt;&lt;br&gt;Media: 1.16&lt;br&gt;Categoría: Sin estándar oficial&lt;br&gt;Válidos: 95.3%&lt;/div&gt;`)[0];\n",
       "                popup_b748a2b51af81494503bcfac4b126ab7.setContent(html_9109b7e6ae43d08c259d5d4baf99b82a);\n",
       "            \n",
       "        \n",
       "\n",
       "        circle_marker_c1f45d8533c8d58111f214858ccd06e9.bindPopup(popup_b748a2b51af81494503bcfac4b126ab7)\n",
       "        ;\n",
       "\n",
       "        \n",
       "    \n",
       "    \n",
       "            var circle_marker_b93d069d3053358038b847c7b33982df = L.circleMarker(\n",
       "                [6.2633696, -75.5770035],\n",
       "                {&quot;bubblingMouseEvents&quot;: true, &quot;color&quot;: &quot;gray&quot;, &quot;dashArray&quot;: null, &quot;dashOffset&quot;: null, &quot;fill&quot;: true, &quot;fillColor&quot;: &quot;gray&quot;, &quot;fillOpacity&quot;: 0.7, &quot;fillRule&quot;: &quot;evenodd&quot;, &quot;lineCap&quot;: &quot;round&quot;, &quot;lineJoin&quot;: &quot;round&quot;, &quot;opacity&quot;: 1.0, &quot;radius&quot;: 4, &quot;stroke&quot;: true, &quot;weight&quot;: 3}\n",
       "            ).addTo(map_97f1ee017dd2b75f8dc1e151a11e5e47);\n",
       "        \n",
       "    \n",
       "        var popup_5daa806ca07505d21638bac999d391e2 = L.popup({\n",
       "  &quot;maxWidth&quot;: 300,\n",
       "});\n",
       "\n",
       "        \n",
       "            \n",
       "                var html_f872c8ef7659f0d52d0966b927c82056 = $(`&lt;div id=&quot;html_f872c8ef7659f0d52d0966b927c82056&quot; style=&quot;width: 100.0%; height: 100.0%;&quot;&gt;&lt;b&gt;_OFF-Medellín,  centro occidente - Universidad Nacional, sede El Volador&lt;/b&gt;&lt;br&gt;Media: nan&lt;br&gt;Categoría: Sin datos&lt;br&gt;Válidos: 0.0%&lt;/div&gt;`)[0];\n",
       "                popup_5daa806ca07505d21638bac999d391e2.setContent(html_f872c8ef7659f0d52d0966b927c82056);\n",
       "            \n",
       "        \n",
       "\n",
       "        circle_marker_b93d069d3053358038b847c7b33982df.bindPopup(popup_5daa806ca07505d21638bac999d391e2)\n",
       "        ;\n",
       "\n",
       "        \n",
       "    \n",
       "    \n",
       "            var circle_marker_919d4dab856292b13ab4d316f197809c = L.circleMarker(\n",
       "                [6.1856666, -75.5972061],\n",
       "                {&quot;bubblingMouseEvents&quot;: true, &quot;color&quot;: &quot;blue&quot;, &quot;dashArray&quot;: null, &quot;dashOffset&quot;: null, &quot;fill&quot;: true, &quot;fillColor&quot;: &quot;blue&quot;, &quot;fillOpacity&quot;: 0.7, &quot;fillRule&quot;: &quot;evenodd&quot;, &quot;lineCap&quot;: &quot;round&quot;, &quot;lineJoin&quot;: &quot;round&quot;, &quot;opacity&quot;: 1.0, &quot;radius&quot;: 4.265155136750172, &quot;stroke&quot;: true, &quot;weight&quot;: 3}\n",
       "            ).addTo(map_97f1ee017dd2b75f8dc1e151a11e5e47);\n",
       "        \n",
       "    \n",
       "        var popup_26fd6b1db085f6fd820446bb089a1546 = L.popup({\n",
       "  &quot;maxWidth&quot;: 300,\n",
       "});\n",
       "\n",
       "        \n",
       "            \n",
       "                var html_6303ad8cc24da469c0624a56d57f836a = $(`&lt;div id=&quot;html_6303ad8cc24da469c0624a56d57f836a&quot; style=&quot;width: 100.0%; height: 100.0%;&quot;&gt;&lt;b&gt;Itagüí - Casa de Justicia Itagüí&lt;/b&gt;&lt;br&gt;Media: 1.33&lt;br&gt;Categoría: Sin estándar oficial&lt;br&gt;Válidos: 99.3%&lt;/div&gt;`)[0];\n",
       "                popup_26fd6b1db085f6fd820446bb089a1546.setContent(html_6303ad8cc24da469c0624a56d57f836a);\n",
       "            \n",
       "        \n",
       "\n",
       "        circle_marker_919d4dab856292b13ab4d316f197809c.bindPopup(popup_26fd6b1db085f6fd820446bb089a1546)\n",
       "        ;\n",
       "\n",
       "        \n",
       "    \n",
       "    \n",
       "            var circle_marker_258bf02b173683ff54b4a2806aade4b7 = L.circleMarker(\n",
       "                [6.3306971, -75.5686722],\n",
       "                {&quot;bubblingMouseEvents&quot;: true, &quot;color&quot;: &quot;gray&quot;, &quot;dashArray&quot;: null, &quot;dashOffset&quot;: null, &quot;fill&quot;: true, &quot;fillColor&quot;: &quot;gray&quot;, &quot;fillOpacity&quot;: 0.7, &quot;fillRule&quot;: &quot;evenodd&quot;, &quot;lineCap&quot;: &quot;round&quot;, &quot;lineJoin&quot;: &quot;round&quot;, &quot;opacity&quot;: 1.0, &quot;radius&quot;: 4, &quot;stroke&quot;: true, &quot;weight&quot;: 3}\n",
       "            ).addTo(map_97f1ee017dd2b75f8dc1e151a11e5e47);\n",
       "        \n",
       "    \n",
       "        var popup_df4b507efbdb687c1dabf44c56a2a669 = L.popup({\n",
       "  &quot;maxWidth&quot;: 300,\n",
       "});\n",
       "\n",
       "        \n",
       "            \n",
       "                var html_14cf88c79c6e9557f055ac6f824aac72 = $(`&lt;div id=&quot;html_14cf88c79c6e9557f055ac6f824aac72&quot; style=&quot;width: 100.0%; height: 100.0%;&quot;&gt;&lt;b&gt;Universidad San Buenaventura&lt;/b&gt;&lt;br&gt;Media: nan&lt;br&gt;Categoría: Sin datos&lt;br&gt;Válidos: 0.0%&lt;/div&gt;`)[0];\n",
       "                popup_df4b507efbdb687c1dabf44c56a2a669.setContent(html_14cf88c79c6e9557f055ac6f824aac72);\n",
       "            \n",
       "        \n",
       "\n",
       "        circle_marker_258bf02b173683ff54b4a2806aade4b7.bindPopup(popup_df4b507efbdb687c1dabf44c56a2a669)\n",
       "        ;\n",
       "\n",
       "        \n",
       "    \n",
       "    \n",
       "            var circle_marker_4d30652dfd203bef5102481ab1019d04 = L.circleMarker(\n",
       "                [6.1523128, -75.6274872],\n",
       "                {&quot;bubblingMouseEvents&quot;: true, &quot;color&quot;: &quot;blue&quot;, &quot;dashArray&quot;: null, &quot;dashOffset&quot;: null, &quot;fill&quot;: true, &quot;fillColor&quot;: &quot;blue&quot;, &quot;fillOpacity&quot;: 0.7, &quot;fillRule&quot;: &quot;evenodd&quot;, &quot;lineCap&quot;: &quot;round&quot;, &quot;lineJoin&quot;: &quot;round&quot;, &quot;opacity&quot;: 1.0, &quot;radius&quot;: 4.218669113149847, &quot;stroke&quot;: true, &quot;weight&quot;: 3}\n",
       "            ).addTo(map_97f1ee017dd2b75f8dc1e151a11e5e47);\n",
       "        \n",
       "    \n",
       "        var popup_83b02f46944ef929c2f4e7541e76e20b = L.popup({\n",
       "  &quot;maxWidth&quot;: 300,\n",
       "});\n",
       "\n",
       "        \n",
       "            \n",
       "                var html_f8d39232ff356abdfec4dd5f99bfa9e0 = $(`&lt;div id=&quot;html_f8d39232ff356abdfec4dd5f99bfa9e0&quot; style=&quot;width: 100.0%; height: 100.0%;&quot;&gt;&lt;b&gt;_OFF-Estación Tráfico Sur&lt;/b&gt;&lt;br&gt;Media: 1.09&lt;br&gt;Categoría: Sin estándar oficial&lt;br&gt;Válidos: 93.3%&lt;/div&gt;`)[0];\n",
       "                popup_83b02f46944ef929c2f4e7541e76e20b.setContent(html_f8d39232ff356abdfec4dd5f99bfa9e0);\n",
       "            \n",
       "        \n",
       "\n",
       "        circle_marker_4d30652dfd203bef5102481ab1019d04.bindPopup(popup_83b02f46944ef929c2f4e7541e76e20b)\n",
       "        ;\n",
       "\n",
       "        \n",
       "    \n",
       "    \n",
       "            var circle_marker_5bdf97b5ee6865b728567153bee55558 = L.circleMarker(\n",
       "                [6.2755637, -75.5882874],\n",
       "                {&quot;bubblingMouseEvents&quot;: true, &quot;color&quot;: &quot;blue&quot;, &quot;dashArray&quot;: null, &quot;dashOffset&quot;: null, &quot;fill&quot;: true, &quot;fillColor&quot;: &quot;blue&quot;, &quot;fillOpacity&quot;: 0.7, &quot;fillRule&quot;: &quot;evenodd&quot;, &quot;lineCap&quot;: &quot;round&quot;, &quot;lineJoin&quot;: &quot;round&quot;, &quot;opacity&quot;: 1.0, &quot;radius&quot;: 4.243833333333333, &quot;stroke&quot;: true, &quot;weight&quot;: 3}\n",
       "            ).addTo(map_97f1ee017dd2b75f8dc1e151a11e5e47);\n",
       "        \n",
       "    \n",
       "        var popup_98a376fb5038b9cf646e30ea705c5e7b = L.popup({\n",
       "  &quot;maxWidth&quot;: 300,\n",
       "});\n",
       "\n",
       "        \n",
       "            \n",
       "                var html_bed15d65a16d77788f32092c025bb4a3 = $(`&lt;div id=&quot;html_bed15d65a16d77788f32092c025bb4a3&quot; style=&quot;width: 100.0%; height: 100.0%;&quot;&gt;&lt;b&gt;Institucion Universitaria ITM Robledo&lt;/b&gt;&lt;br&gt;Media: 1.22&lt;br&gt;Categoría: Sin estándar oficial&lt;br&gt;Válidos: 95.9%&lt;/div&gt;`)[0];\n",
       "                popup_98a376fb5038b9cf646e30ea705c5e7b.setContent(html_bed15d65a16d77788f32092c025bb4a3);\n",
       "            \n",
       "        \n",
       "\n",
       "        circle_marker_5bdf97b5ee6865b728567153bee55558.bindPopup(popup_98a376fb5038b9cf646e30ea705c5e7b)\n",
       "        ;\n",
       "\n",
       "        \n",
       "    \n",
       "&lt;/script&gt;\n",
       "&lt;/html&gt;\" style=\"position:absolute;width:100%;height:100%;left:0;top:0;border:none !important;\" allowfullscreen webkitallowfullscreen mozallowfullscreen></iframe></div></div>"
      ],
      "text/plain": [
       "<folium.folium.Map at 0x14e1bc1bf70>"
      ]
     },
     "execution_count": 28,
     "metadata": {},
     "output_type": "execute_result"
    }
   ],
   "source": [
    "# mapa por estacion según concentracion de la partícula\n",
    "\n",
    "\n",
    "# Media por estación\n",
    "media_estaciones = df.groupby(['codigoSerial', 'nombre', 'latitud', 'longitud'])['valor'].mean().reset_index()\n",
    "\n",
    "# Porcentaje de datos válidos por estación\n",
    "validos_por_estacion = df.groupby('codigoSerial')['valor'].apply(lambda x: x.notna().mean() * 100)\n",
    "media_estaciones['porcentaje_validos'] = media_estaciones['codigoSerial'].map(validos_por_estacion)\n",
    "\n",
    "# Clasificación de color según niveles de concentración promedio\n",
    "def clasificar_calidad_aire(valor, contaminante):\n",
    "    if pd.isna(valor):\n",
    "        return \"Sin datos\"\n",
    "    \n",
    "    contaminante = contaminante.lower()\n",
    "    \n",
    "    if contaminante == 'pm25':\n",
    "        if valor <= 12:\n",
    "            return \"Bueno\"\n",
    "        elif valor <= 35.4:\n",
    "            return \"Aceptable\"\n",
    "        elif valor <= 55.4:\n",
    "            return \"No saludable sensibles\"\n",
    "        elif valor <= 150.4:\n",
    "            return \"No saludable\"\n",
    "        elif valor <= 250.4:\n",
    "            return \"Muy no saludable\"\n",
    "        else:\n",
    "            return \"Peligroso\"\n",
    "\n",
    "    elif contaminante == 'pm10':\n",
    "        if valor <= 54:\n",
    "            return \"Bueno\"\n",
    "        elif valor <= 154:\n",
    "            return \"Aceptable\"\n",
    "        elif valor <= 254:\n",
    "            return \"No saludable sensibles\"\n",
    "        elif valor <= 354:\n",
    "            return \"No saludable\"\n",
    "        elif valor <= 424:\n",
    "            return \"Muy no saludable\"\n",
    "        else:\n",
    "            return \"Peligroso\"\n",
    "\n",
    "    elif contaminante == 'co':\n",
    "        if valor <= 4.4:\n",
    "            return \"Bueno\"\n",
    "        elif valor <= 9.4:\n",
    "            return \"Aceptable\"\n",
    "        elif valor <= 12.4:\n",
    "            return \"No saludable sensibles\"\n",
    "        elif valor <= 15.4:\n",
    "            return \"No saludable\"\n",
    "        elif valor <= 30.4:\n",
    "            return \"Muy no saludable\"\n",
    "        else:\n",
    "            return \"Peligroso\"\n",
    "\n",
    "    elif contaminante == 'o3':\n",
    "        if valor <= 0.054:\n",
    "            return \"Bueno\"\n",
    "        elif valor <= 0.070:\n",
    "            return \"Aceptable\"\n",
    "        elif valor <= 0.085:\n",
    "            return \"No saludable sensibles\"\n",
    "        elif valor <= 0.105:\n",
    "            return \"No saludable\"\n",
    "        elif valor <= 0.200:\n",
    "            return \"Muy no saludable\"\n",
    "        else:\n",
    "            return \"Peligroso\"\n",
    "\n",
    "    elif contaminante == 'no2':\n",
    "        if valor <= 0.053:\n",
    "            return \"Bueno\"\n",
    "        elif valor <= 0.100:\n",
    "            return \"Aceptable\"\n",
    "        elif valor <= 0.360:\n",
    "            return \"No saludable sensibles\"\n",
    "        elif valor <= 0.649:\n",
    "            return \"No saludable\"\n",
    "        elif valor <= 1.249:\n",
    "            return \"Muy no saludable\"\n",
    "        else:\n",
    "            return \"Peligroso\"\n",
    "\n",
    "    elif contaminante == 'so2':\n",
    "        if valor <= 0.035:\n",
    "            return \"Bueno\"\n",
    "        elif valor <= 0.075:\n",
    "            return \"Aceptable\"\n",
    "        elif valor <= 0.185:\n",
    "            return \"No saludable sensibles\"\n",
    "        elif valor <= 0.304:\n",
    "            return \"No saludable\"\n",
    "        elif valor <= 0.604:\n",
    "            return \"Muy no saludable\"\n",
    "        else:\n",
    "            return \"Peligroso\"\n",
    "\n",
    "    elif contaminante == 'no' or contaminante == 'pm1':\n",
    "        return \"Sin estándar oficial\"\n",
    "\n",
    "    else:\n",
    "        return \"Contaminante desconocido\"\n",
    "    \n",
    "def color_por_categoria(categoria):\n",
    "    colores = {\n",
    "        \"Bueno\": \"green\",\n",
    "        \"Aceptable\": \"yellow\",\n",
    "        \"No saludable sensibles\": \"orange\",\n",
    "        \"No saludable\": \"red\",\n",
    "        \"Muy no saludable\": \"purple\",\n",
    "        \"Peligroso\": \"maroon\",\n",
    "        \"Sin datos\": \"gray\",\n",
    "        \"Sin estándar oficial\": \"blue\",\n",
    "        \"Contaminante desconocido\": \"black\"\n",
    "    }\n",
    "    return colores.get(categoria, \"black\")\n",
    "\n",
    "\n",
    "# Crear mapa\n",
    "mapa = folium.Map(location=[6.25, -75.6], zoom_start=11)\n",
    "\n",
    "for _, row in media_estaciones.iterrows():\n",
    "    categoria = clasificar_calidad_aire(row['valor'], contaminante_unico) \n",
    "    color = color_por_categoria(categoria)\n",
    "    radio = 4 + (row['valor'] / 5) if not pd.isna(row['valor']) else 4\n",
    "    folium.CircleMarker(\n",
    "        location=[row['latitud'], row['longitud']],\n",
    "        radius=radio,\n",
    "        popup=folium.Popup(\n",
    "            f\"<b>{row['nombre']}</b><br>\"\n",
    "            f\"Media: {row['valor']:.2f}<br>\"\n",
    "            f\"Categoría: {categoria}<br>\"\n",
    "            f\"Válidos: {row['porcentaje_validos']:.1f}%\",\n",
    "            max_width=300\n",
    "        ),\n",
    "        color=color,\n",
    "        fill=True,\n",
    "        fill_color=color,\n",
    "        fill_opacity=0.7\n",
    "    ).add_to(mapa)\n",
    "\n",
    "# Mostrar mapa en notebook\n",
    "mapa"
   ]
  },
  {
   "cell_type": "code",
   "execution_count": 29,
   "id": "f5247446",
   "metadata": {},
   "outputs": [
    {
     "data": {
      "text/html": [
       "<div>\n",
       "<style scoped>\n",
       "    .dataframe tbody tr th:only-of-type {\n",
       "        vertical-align: middle;\n",
       "    }\n",
       "\n",
       "    .dataframe tbody tr th {\n",
       "        vertical-align: top;\n",
       "    }\n",
       "\n",
       "    .dataframe thead th {\n",
       "        text-align: right;\n",
       "    }\n",
       "</style>\n",
       "<table border=\"1\" class=\"dataframe\">\n",
       "  <thead>\n",
       "    <tr style=\"text-align: right;\">\n",
       "      <th></th>\n",
       "      <th>codigoSerial</th>\n",
       "      <th>nombreCorto</th>\n",
       "      <th>nombre</th>\n",
       "      <th>latitud</th>\n",
       "      <th>longitud</th>\n",
       "      <th>contaminante</th>\n",
       "      <th>fecha</th>\n",
       "      <th>calibracion</th>\n",
       "      <th>valor</th>\n",
       "      <th>mes</th>\n",
       "      <th>categoria_calidad</th>\n",
       "    </tr>\n",
       "  </thead>\n",
       "  <tbody>\n",
       "    <tr>\n",
       "      <th>0</th>\n",
       "      <td>3</td>\n",
       "      <td>GIR-SOSN</td>\n",
       "      <td>_OFF-Girardota - S.O.S Aburrá Norte</td>\n",
       "      <td>6.378433</td>\n",
       "      <td>-75.451141</td>\n",
       "      <td>no</td>\n",
       "      <td>2021-12-14 04:00:00</td>\n",
       "      <td>-9999.000000</td>\n",
       "      <td>NaN</td>\n",
       "      <td>2021-12</td>\n",
       "      <td>Sin datos</td>\n",
       "    </tr>\n",
       "    <tr>\n",
       "      <th>1</th>\n",
       "      <td>3</td>\n",
       "      <td>GIR-SOSN</td>\n",
       "      <td>_OFF-Girardota - S.O.S Aburrá Norte</td>\n",
       "      <td>6.378433</td>\n",
       "      <td>-75.451141</td>\n",
       "      <td>no</td>\n",
       "      <td>2021-12-14 05:00:00</td>\n",
       "      <td>-9999.000000</td>\n",
       "      <td>NaN</td>\n",
       "      <td>2021-12</td>\n",
       "      <td>Sin datos</td>\n",
       "    </tr>\n",
       "    <tr>\n",
       "      <th>2</th>\n",
       "      <td>3</td>\n",
       "      <td>GIR-SOSN</td>\n",
       "      <td>_OFF-Girardota - S.O.S Aburrá Norte</td>\n",
       "      <td>6.378433</td>\n",
       "      <td>-75.451141</td>\n",
       "      <td>no</td>\n",
       "      <td>2021-12-14 06:00:00</td>\n",
       "      <td>-9999.000000</td>\n",
       "      <td>NaN</td>\n",
       "      <td>2021-12</td>\n",
       "      <td>Sin datos</td>\n",
       "    </tr>\n",
       "    <tr>\n",
       "      <th>3</th>\n",
       "      <td>3</td>\n",
       "      <td>GIR-SOSN</td>\n",
       "      <td>_OFF-Girardota - S.O.S Aburrá Norte</td>\n",
       "      <td>6.378433</td>\n",
       "      <td>-75.451141</td>\n",
       "      <td>no</td>\n",
       "      <td>2021-12-14 07:00:00</td>\n",
       "      <td>-9999.000000</td>\n",
       "      <td>NaN</td>\n",
       "      <td>2021-12</td>\n",
       "      <td>Sin datos</td>\n",
       "    </tr>\n",
       "    <tr>\n",
       "      <th>4</th>\n",
       "      <td>3</td>\n",
       "      <td>GIR-SOSN</td>\n",
       "      <td>_OFF-Girardota - S.O.S Aburrá Norte</td>\n",
       "      <td>6.378433</td>\n",
       "      <td>-75.451141</td>\n",
       "      <td>no</td>\n",
       "      <td>2021-12-14 08:00:00</td>\n",
       "      <td>-9999.000000</td>\n",
       "      <td>NaN</td>\n",
       "      <td>2021-12</td>\n",
       "      <td>Sin datos</td>\n",
       "    </tr>\n",
       "    <tr>\n",
       "      <th>...</th>\n",
       "      <td>...</td>\n",
       "      <td>...</td>\n",
       "      <td>...</td>\n",
       "      <td>...</td>\n",
       "      <td>...</td>\n",
       "      <td>...</td>\n",
       "      <td>...</td>\n",
       "      <td>...</td>\n",
       "      <td>...</td>\n",
       "      <td>...</td>\n",
       "      <td>...</td>\n",
       "    </tr>\n",
       "    <tr>\n",
       "      <th>61322</th>\n",
       "      <td>74</td>\n",
       "      <td>MED-ITMR</td>\n",
       "      <td>Institucion Universitaria ITM Robledo</td>\n",
       "      <td>6.275564</td>\n",
       "      <td>-75.588287</td>\n",
       "      <td>no</td>\n",
       "      <td>2022-12-14 00:00:00</td>\n",
       "      <td>20.698127</td>\n",
       "      <td>1.0</td>\n",
       "      <td>2022-12</td>\n",
       "      <td>Sin estándar oficial</td>\n",
       "    </tr>\n",
       "    <tr>\n",
       "      <th>61323</th>\n",
       "      <td>74</td>\n",
       "      <td>MED-ITMR</td>\n",
       "      <td>Institucion Universitaria ITM Robledo</td>\n",
       "      <td>6.275564</td>\n",
       "      <td>-75.588287</td>\n",
       "      <td>no</td>\n",
       "      <td>2022-12-14 01:00:00</td>\n",
       "      <td>27.615092</td>\n",
       "      <td>1.0</td>\n",
       "      <td>2022-12</td>\n",
       "      <td>Sin estándar oficial</td>\n",
       "    </tr>\n",
       "    <tr>\n",
       "      <th>61324</th>\n",
       "      <td>74</td>\n",
       "      <td>MED-ITMR</td>\n",
       "      <td>Institucion Universitaria ITM Robledo</td>\n",
       "      <td>6.275564</td>\n",
       "      <td>-75.588287</td>\n",
       "      <td>no</td>\n",
       "      <td>2022-12-14 02:00:00</td>\n",
       "      <td>17.879158</td>\n",
       "      <td>1.0</td>\n",
       "      <td>2022-12</td>\n",
       "      <td>Sin estándar oficial</td>\n",
       "    </tr>\n",
       "    <tr>\n",
       "      <th>61325</th>\n",
       "      <td>74</td>\n",
       "      <td>MED-ITMR</td>\n",
       "      <td>Institucion Universitaria ITM Robledo</td>\n",
       "      <td>6.275564</td>\n",
       "      <td>-75.588287</td>\n",
       "      <td>no</td>\n",
       "      <td>2022-12-14 03:00:00</td>\n",
       "      <td>11.939811</td>\n",
       "      <td>1.0</td>\n",
       "      <td>2022-12</td>\n",
       "      <td>Sin estándar oficial</td>\n",
       "    </tr>\n",
       "    <tr>\n",
       "      <th>61326</th>\n",
       "      <td>74</td>\n",
       "      <td>MED-ITMR</td>\n",
       "      <td>Institucion Universitaria ITM Robledo</td>\n",
       "      <td>6.275564</td>\n",
       "      <td>-75.588287</td>\n",
       "      <td>no</td>\n",
       "      <td>2022-12-14 04:00:00</td>\n",
       "      <td>8.630192</td>\n",
       "      <td>1.0</td>\n",
       "      <td>2022-12</td>\n",
       "      <td>Sin estándar oficial</td>\n",
       "    </tr>\n",
       "  </tbody>\n",
       "</table>\n",
       "<p>61327 rows × 11 columns</p>\n",
       "</div>"
      ],
      "text/plain": [
       "       codigoSerial nombreCorto                                 nombre  \\\n",
       "0                 3    GIR-SOSN    _OFF-Girardota - S.O.S Aburrá Norte   \n",
       "1                 3    GIR-SOSN    _OFF-Girardota - S.O.S Aburrá Norte   \n",
       "2                 3    GIR-SOSN    _OFF-Girardota - S.O.S Aburrá Norte   \n",
       "3                 3    GIR-SOSN    _OFF-Girardota - S.O.S Aburrá Norte   \n",
       "4                 3    GIR-SOSN    _OFF-Girardota - S.O.S Aburrá Norte   \n",
       "...             ...         ...                                    ...   \n",
       "61322            74    MED-ITMR  Institucion Universitaria ITM Robledo   \n",
       "61323            74    MED-ITMR  Institucion Universitaria ITM Robledo   \n",
       "61324            74    MED-ITMR  Institucion Universitaria ITM Robledo   \n",
       "61325            74    MED-ITMR  Institucion Universitaria ITM Robledo   \n",
       "61326            74    MED-ITMR  Institucion Universitaria ITM Robledo   \n",
       "\n",
       "        latitud   longitud contaminante               fecha  calibracion  \\\n",
       "0      6.378433 -75.451141           no 2021-12-14 04:00:00 -9999.000000   \n",
       "1      6.378433 -75.451141           no 2021-12-14 05:00:00 -9999.000000   \n",
       "2      6.378433 -75.451141           no 2021-12-14 06:00:00 -9999.000000   \n",
       "3      6.378433 -75.451141           no 2021-12-14 07:00:00 -9999.000000   \n",
       "4      6.378433 -75.451141           no 2021-12-14 08:00:00 -9999.000000   \n",
       "...         ...        ...          ...                 ...          ...   \n",
       "61322  6.275564 -75.588287           no 2022-12-14 00:00:00    20.698127   \n",
       "61323  6.275564 -75.588287           no 2022-12-14 01:00:00    27.615092   \n",
       "61324  6.275564 -75.588287           no 2022-12-14 02:00:00    17.879158   \n",
       "61325  6.275564 -75.588287           no 2022-12-14 03:00:00    11.939811   \n",
       "61326  6.275564 -75.588287           no 2022-12-14 04:00:00     8.630192   \n",
       "\n",
       "       valor      mes     categoria_calidad  \n",
       "0        NaN  2021-12             Sin datos  \n",
       "1        NaN  2021-12             Sin datos  \n",
       "2        NaN  2021-12             Sin datos  \n",
       "3        NaN  2021-12             Sin datos  \n",
       "4        NaN  2021-12             Sin datos  \n",
       "...      ...      ...                   ...  \n",
       "61322    1.0  2022-12  Sin estándar oficial  \n",
       "61323    1.0  2022-12  Sin estándar oficial  \n",
       "61324    1.0  2022-12  Sin estándar oficial  \n",
       "61325    1.0  2022-12  Sin estándar oficial  \n",
       "61326    1.0  2022-12  Sin estándar oficial  \n",
       "\n",
       "[61327 rows x 11 columns]"
      ]
     },
     "execution_count": 29,
     "metadata": {},
     "output_type": "execute_result"
    }
   ],
   "source": [
    "df['categoria_calidad'] = df.apply(\n",
    "    lambda row: clasificar_calidad_aire(row['valor'], row['contaminante']),\n",
    "    axis=1\n",
    ")\n",
    "df\n"
   ]
  },
  {
   "cell_type": "markdown",
   "id": "4ae2882e",
   "metadata": {},
   "source": [
    "datos importantes"
   ]
  },
  {
   "cell_type": "code",
   "execution_count": 30,
   "id": "ccc24e3e",
   "metadata": {},
   "outputs": [],
   "source": [
    "df['dia_semana'] = df['fecha'].dt.weekday  # Lunes=0, Domingo=6\n",
    "df['es_fin_semana'] = df['dia_semana'] >= 5"
   ]
  },
  {
   "cell_type": "code",
   "execution_count": 31,
   "id": "2af0b1a9",
   "metadata": {},
   "outputs": [],
   "source": [
    "\n",
    "eventos_especiales = {\n",
    "    '2021-12-24': 'Navidad',\n",
    "    '2021-12-31': 'Año Nuevo',\n",
    "    '2022-01-06': 'Día de Reyes',\n",
    "    '2022-04-10': 'Semana Santa',\n",
    "    '2022-04-15': 'Semana Santa',\n",
    "    '2022-07-20': 'Independencia',\n",
    "    '2022-08-07': 'Feria de las Flores',\n",
    "    '2022-08-08': 'Feria de las Flores',\n",
    "    '2022-09-22': 'Día sin carro',\n",
    "    '2022-10-31': 'Halloween',\n",
    "    '2022-12-07': 'Día de las Velitas',\n",
    "    '2022-12-24': 'Navidad',\n",
    "    '2022-12-31': 'Año Nuevo',\n",
    "    # Puedes seguir agregando...\n",
    "}"
   ]
  },
  {
   "cell_type": "code",
   "execution_count": 32,
   "id": "d5dbd1a6",
   "metadata": {},
   "outputs": [
    {
     "data": {
      "text/html": [
       "<div>\n",
       "<style scoped>\n",
       "    .dataframe tbody tr th:only-of-type {\n",
       "        vertical-align: middle;\n",
       "    }\n",
       "\n",
       "    .dataframe tbody tr th {\n",
       "        vertical-align: top;\n",
       "    }\n",
       "\n",
       "    .dataframe thead th {\n",
       "        text-align: right;\n",
       "    }\n",
       "</style>\n",
       "<table border=\"1\" class=\"dataframe\">\n",
       "  <thead>\n",
       "    <tr style=\"text-align: right;\">\n",
       "      <th></th>\n",
       "      <th>codigoSerial</th>\n",
       "      <th>nombreCorto</th>\n",
       "      <th>nombre</th>\n",
       "      <th>latitud</th>\n",
       "      <th>longitud</th>\n",
       "      <th>contaminante</th>\n",
       "      <th>fecha</th>\n",
       "      <th>calibracion</th>\n",
       "      <th>valor</th>\n",
       "      <th>mes</th>\n",
       "      <th>categoria_calidad</th>\n",
       "      <th>dia_semana</th>\n",
       "      <th>es_fin_semana</th>\n",
       "      <th>fecha_str</th>\n",
       "      <th>evento</th>\n",
       "    </tr>\n",
       "  </thead>\n",
       "  <tbody>\n",
       "    <tr>\n",
       "      <th>0</th>\n",
       "      <td>3</td>\n",
       "      <td>GIR-SOSN</td>\n",
       "      <td>_OFF-Girardota - S.O.S Aburrá Norte</td>\n",
       "      <td>6.378433</td>\n",
       "      <td>-75.451141</td>\n",
       "      <td>no</td>\n",
       "      <td>2021-12-14 04:00:00</td>\n",
       "      <td>-9999.000000</td>\n",
       "      <td>NaN</td>\n",
       "      <td>2021-12</td>\n",
       "      <td>Sin datos</td>\n",
       "      <td>1</td>\n",
       "      <td>False</td>\n",
       "      <td>2021-12-14</td>\n",
       "      <td>Normal</td>\n",
       "    </tr>\n",
       "    <tr>\n",
       "      <th>1</th>\n",
       "      <td>3</td>\n",
       "      <td>GIR-SOSN</td>\n",
       "      <td>_OFF-Girardota - S.O.S Aburrá Norte</td>\n",
       "      <td>6.378433</td>\n",
       "      <td>-75.451141</td>\n",
       "      <td>no</td>\n",
       "      <td>2021-12-14 05:00:00</td>\n",
       "      <td>-9999.000000</td>\n",
       "      <td>NaN</td>\n",
       "      <td>2021-12</td>\n",
       "      <td>Sin datos</td>\n",
       "      <td>1</td>\n",
       "      <td>False</td>\n",
       "      <td>2021-12-14</td>\n",
       "      <td>Normal</td>\n",
       "    </tr>\n",
       "    <tr>\n",
       "      <th>2</th>\n",
       "      <td>3</td>\n",
       "      <td>GIR-SOSN</td>\n",
       "      <td>_OFF-Girardota - S.O.S Aburrá Norte</td>\n",
       "      <td>6.378433</td>\n",
       "      <td>-75.451141</td>\n",
       "      <td>no</td>\n",
       "      <td>2021-12-14 06:00:00</td>\n",
       "      <td>-9999.000000</td>\n",
       "      <td>NaN</td>\n",
       "      <td>2021-12</td>\n",
       "      <td>Sin datos</td>\n",
       "      <td>1</td>\n",
       "      <td>False</td>\n",
       "      <td>2021-12-14</td>\n",
       "      <td>Normal</td>\n",
       "    </tr>\n",
       "    <tr>\n",
       "      <th>3</th>\n",
       "      <td>3</td>\n",
       "      <td>GIR-SOSN</td>\n",
       "      <td>_OFF-Girardota - S.O.S Aburrá Norte</td>\n",
       "      <td>6.378433</td>\n",
       "      <td>-75.451141</td>\n",
       "      <td>no</td>\n",
       "      <td>2021-12-14 07:00:00</td>\n",
       "      <td>-9999.000000</td>\n",
       "      <td>NaN</td>\n",
       "      <td>2021-12</td>\n",
       "      <td>Sin datos</td>\n",
       "      <td>1</td>\n",
       "      <td>False</td>\n",
       "      <td>2021-12-14</td>\n",
       "      <td>Normal</td>\n",
       "    </tr>\n",
       "    <tr>\n",
       "      <th>4</th>\n",
       "      <td>3</td>\n",
       "      <td>GIR-SOSN</td>\n",
       "      <td>_OFF-Girardota - S.O.S Aburrá Norte</td>\n",
       "      <td>6.378433</td>\n",
       "      <td>-75.451141</td>\n",
       "      <td>no</td>\n",
       "      <td>2021-12-14 08:00:00</td>\n",
       "      <td>-9999.000000</td>\n",
       "      <td>NaN</td>\n",
       "      <td>2021-12</td>\n",
       "      <td>Sin datos</td>\n",
       "      <td>1</td>\n",
       "      <td>False</td>\n",
       "      <td>2021-12-14</td>\n",
       "      <td>Normal</td>\n",
       "    </tr>\n",
       "    <tr>\n",
       "      <th>...</th>\n",
       "      <td>...</td>\n",
       "      <td>...</td>\n",
       "      <td>...</td>\n",
       "      <td>...</td>\n",
       "      <td>...</td>\n",
       "      <td>...</td>\n",
       "      <td>...</td>\n",
       "      <td>...</td>\n",
       "      <td>...</td>\n",
       "      <td>...</td>\n",
       "      <td>...</td>\n",
       "      <td>...</td>\n",
       "      <td>...</td>\n",
       "      <td>...</td>\n",
       "      <td>...</td>\n",
       "    </tr>\n",
       "    <tr>\n",
       "      <th>61322</th>\n",
       "      <td>74</td>\n",
       "      <td>MED-ITMR</td>\n",
       "      <td>Institucion Universitaria ITM Robledo</td>\n",
       "      <td>6.275564</td>\n",
       "      <td>-75.588287</td>\n",
       "      <td>no</td>\n",
       "      <td>2022-12-14 00:00:00</td>\n",
       "      <td>20.698127</td>\n",
       "      <td>1.0</td>\n",
       "      <td>2022-12</td>\n",
       "      <td>Sin estándar oficial</td>\n",
       "      <td>2</td>\n",
       "      <td>False</td>\n",
       "      <td>2022-12-14</td>\n",
       "      <td>Normal</td>\n",
       "    </tr>\n",
       "    <tr>\n",
       "      <th>61323</th>\n",
       "      <td>74</td>\n",
       "      <td>MED-ITMR</td>\n",
       "      <td>Institucion Universitaria ITM Robledo</td>\n",
       "      <td>6.275564</td>\n",
       "      <td>-75.588287</td>\n",
       "      <td>no</td>\n",
       "      <td>2022-12-14 01:00:00</td>\n",
       "      <td>27.615092</td>\n",
       "      <td>1.0</td>\n",
       "      <td>2022-12</td>\n",
       "      <td>Sin estándar oficial</td>\n",
       "      <td>2</td>\n",
       "      <td>False</td>\n",
       "      <td>2022-12-14</td>\n",
       "      <td>Normal</td>\n",
       "    </tr>\n",
       "    <tr>\n",
       "      <th>61324</th>\n",
       "      <td>74</td>\n",
       "      <td>MED-ITMR</td>\n",
       "      <td>Institucion Universitaria ITM Robledo</td>\n",
       "      <td>6.275564</td>\n",
       "      <td>-75.588287</td>\n",
       "      <td>no</td>\n",
       "      <td>2022-12-14 02:00:00</td>\n",
       "      <td>17.879158</td>\n",
       "      <td>1.0</td>\n",
       "      <td>2022-12</td>\n",
       "      <td>Sin estándar oficial</td>\n",
       "      <td>2</td>\n",
       "      <td>False</td>\n",
       "      <td>2022-12-14</td>\n",
       "      <td>Normal</td>\n",
       "    </tr>\n",
       "    <tr>\n",
       "      <th>61325</th>\n",
       "      <td>74</td>\n",
       "      <td>MED-ITMR</td>\n",
       "      <td>Institucion Universitaria ITM Robledo</td>\n",
       "      <td>6.275564</td>\n",
       "      <td>-75.588287</td>\n",
       "      <td>no</td>\n",
       "      <td>2022-12-14 03:00:00</td>\n",
       "      <td>11.939811</td>\n",
       "      <td>1.0</td>\n",
       "      <td>2022-12</td>\n",
       "      <td>Sin estándar oficial</td>\n",
       "      <td>2</td>\n",
       "      <td>False</td>\n",
       "      <td>2022-12-14</td>\n",
       "      <td>Normal</td>\n",
       "    </tr>\n",
       "    <tr>\n",
       "      <th>61326</th>\n",
       "      <td>74</td>\n",
       "      <td>MED-ITMR</td>\n",
       "      <td>Institucion Universitaria ITM Robledo</td>\n",
       "      <td>6.275564</td>\n",
       "      <td>-75.588287</td>\n",
       "      <td>no</td>\n",
       "      <td>2022-12-14 04:00:00</td>\n",
       "      <td>8.630192</td>\n",
       "      <td>1.0</td>\n",
       "      <td>2022-12</td>\n",
       "      <td>Sin estándar oficial</td>\n",
       "      <td>2</td>\n",
       "      <td>False</td>\n",
       "      <td>2022-12-14</td>\n",
       "      <td>Normal</td>\n",
       "    </tr>\n",
       "  </tbody>\n",
       "</table>\n",
       "<p>61327 rows × 15 columns</p>\n",
       "</div>"
      ],
      "text/plain": [
       "       codigoSerial nombreCorto                                 nombre  \\\n",
       "0                 3    GIR-SOSN    _OFF-Girardota - S.O.S Aburrá Norte   \n",
       "1                 3    GIR-SOSN    _OFF-Girardota - S.O.S Aburrá Norte   \n",
       "2                 3    GIR-SOSN    _OFF-Girardota - S.O.S Aburrá Norte   \n",
       "3                 3    GIR-SOSN    _OFF-Girardota - S.O.S Aburrá Norte   \n",
       "4                 3    GIR-SOSN    _OFF-Girardota - S.O.S Aburrá Norte   \n",
       "...             ...         ...                                    ...   \n",
       "61322            74    MED-ITMR  Institucion Universitaria ITM Robledo   \n",
       "61323            74    MED-ITMR  Institucion Universitaria ITM Robledo   \n",
       "61324            74    MED-ITMR  Institucion Universitaria ITM Robledo   \n",
       "61325            74    MED-ITMR  Institucion Universitaria ITM Robledo   \n",
       "61326            74    MED-ITMR  Institucion Universitaria ITM Robledo   \n",
       "\n",
       "        latitud   longitud contaminante               fecha  calibracion  \\\n",
       "0      6.378433 -75.451141           no 2021-12-14 04:00:00 -9999.000000   \n",
       "1      6.378433 -75.451141           no 2021-12-14 05:00:00 -9999.000000   \n",
       "2      6.378433 -75.451141           no 2021-12-14 06:00:00 -9999.000000   \n",
       "3      6.378433 -75.451141           no 2021-12-14 07:00:00 -9999.000000   \n",
       "4      6.378433 -75.451141           no 2021-12-14 08:00:00 -9999.000000   \n",
       "...         ...        ...          ...                 ...          ...   \n",
       "61322  6.275564 -75.588287           no 2022-12-14 00:00:00    20.698127   \n",
       "61323  6.275564 -75.588287           no 2022-12-14 01:00:00    27.615092   \n",
       "61324  6.275564 -75.588287           no 2022-12-14 02:00:00    17.879158   \n",
       "61325  6.275564 -75.588287           no 2022-12-14 03:00:00    11.939811   \n",
       "61326  6.275564 -75.588287           no 2022-12-14 04:00:00     8.630192   \n",
       "\n",
       "       valor      mes     categoria_calidad  dia_semana  es_fin_semana  \\\n",
       "0        NaN  2021-12             Sin datos           1          False   \n",
       "1        NaN  2021-12             Sin datos           1          False   \n",
       "2        NaN  2021-12             Sin datos           1          False   \n",
       "3        NaN  2021-12             Sin datos           1          False   \n",
       "4        NaN  2021-12             Sin datos           1          False   \n",
       "...      ...      ...                   ...         ...            ...   \n",
       "61322    1.0  2022-12  Sin estándar oficial           2          False   \n",
       "61323    1.0  2022-12  Sin estándar oficial           2          False   \n",
       "61324    1.0  2022-12  Sin estándar oficial           2          False   \n",
       "61325    1.0  2022-12  Sin estándar oficial           2          False   \n",
       "61326    1.0  2022-12  Sin estándar oficial           2          False   \n",
       "\n",
       "        fecha_str  evento  \n",
       "0      2021-12-14  Normal  \n",
       "1      2021-12-14  Normal  \n",
       "2      2021-12-14  Normal  \n",
       "3      2021-12-14  Normal  \n",
       "4      2021-12-14  Normal  \n",
       "...           ...     ...  \n",
       "61322  2022-12-14  Normal  \n",
       "61323  2022-12-14  Normal  \n",
       "61324  2022-12-14  Normal  \n",
       "61325  2022-12-14  Normal  \n",
       "61326  2022-12-14  Normal  \n",
       "\n",
       "[61327 rows x 15 columns]"
      ]
     },
     "execution_count": 32,
     "metadata": {},
     "output_type": "execute_result"
    }
   ],
   "source": [
    "df['fecha_str'] = df['fecha'].dt.strftime('%Y-%m-%d')\n",
    "df['evento'] = df['fecha_str'].map(eventos_especiales).fillna(\"Normal\")\n",
    "df"
   ]
  },
  {
   "cell_type": "code",
   "execution_count": 33,
   "id": "34741a46",
   "metadata": {},
   "outputs": [
    {
     "name": "stdout",
     "output_type": "stream",
     "text": [
      "es_fin_semana\n",
      "False    1.215961\n",
      "True     1.168444\n",
      "Name: valor, dtype: float64\n"
     ]
    }
   ],
   "source": [
    "#Semana vs fin de semana\n",
    "\n",
    "promedios_dia = df.groupby('es_fin_semana')['valor'].mean()\n",
    "print(promedios_dia)"
   ]
  },
  {
   "cell_type": "code",
   "execution_count": 34,
   "id": "c88ace42",
   "metadata": {},
   "outputs": [
    {
     "name": "stdout",
     "output_type": "stream",
     "text": [
      "evento\n",
      "Año Nuevo              1.225000\n",
      "Día de Reyes           1.364583\n",
      "Día de las Velitas     1.180556\n",
      "Día sin carro          1.104255\n",
      "Feria de las Flores    1.327368\n",
      "Halloween              1.306250\n",
      "Independencia          1.319149\n",
      "Navidad                1.287500\n",
      "Normal                 1.201451\n",
      "Semana Santa           1.050000\n",
      "Name: valor, dtype: float64\n"
     ]
    }
   ],
   "source": [
    "#fechas especiales vs fechas normales\n",
    "\n",
    "promedios_evento = df.groupby('evento')['valor'].mean()\n",
    "print(promedios_evento)"
   ]
  },
  {
   "cell_type": "code",
   "execution_count": 35,
   "id": "a5b81c6c",
   "metadata": {},
   "outputs": [
    {
     "data": {
      "image/png": "[encoded data removed]",
      "text/plain": [
       "<Figure size 640x480 with 1 Axes>"
      ]
     },
     "metadata": {},
     "output_type": "display_data"
    }
   ],
   "source": [
    "df['dia_semana'] = df['fecha'].dt.weekday\n",
    "df['tipo_dia'] = df['dia_semana'].apply(lambda x: 'Fin de semana' if x >= 5 else 'Entre semana')\n",
    "\n",
    "sns.barplot(data=df, x='tipo_dia', y='valor')\n",
    "plt.title(f'{contaminante_unico.upper()} - Promedio por tipo de día')\n",
    "plt.ylabel('Concentración')\n",
    "plt.show()"
   ]
  },
  {
   "cell_type": "code",
   "execution_count": 36,
   "id": "ceaf2193",
   "metadata": {},
   "outputs": [
    {
     "data": {
      "image/png": "[encoded data removed]",
      "text/plain": [
       "<Figure size 1000x500 with 1 Axes>"
      ]
     },
     "metadata": {},
     "output_type": "display_data"
    }
   ],
   "source": [
    "#Semana vs fin de semana\n",
    "plt.figure(figsize=(10, 5))\n",
    "sns.boxplot(data=df, x='evento', y='valor')\n",
    "plt.title(f'{contaminante_unico.upper()} - Concentración por evento')\n",
    "plt.ylabel('Concentración (μg/m³ o ppm)')\n",
    "plt.xticks(rotation=45)\n",
    "plt.tight_layout()\n",
    "plt.show()"
   ]
  },
  {
   "cell_type": "code",
   "execution_count": 37,
   "id": "e54734bc",
   "metadata": {},
   "outputs": [
    {
     "data": {
      "text/html": [
       "<div>\n",
       "<style scoped>\n",
       "    .dataframe tbody tr th:only-of-type {\n",
       "        vertical-align: middle;\n",
       "    }\n",
       "\n",
       "    .dataframe tbody tr th {\n",
       "        vertical-align: top;\n",
       "    }\n",
       "\n",
       "    .dataframe thead th {\n",
       "        text-align: right;\n",
       "    }\n",
       "</style>\n",
       "<table border=\"1\" class=\"dataframe\">\n",
       "  <thead>\n",
       "    <tr style=\"text-align: right;\">\n",
       "      <th>evento</th>\n",
       "      <th>Año Nuevo</th>\n",
       "      <th>Día de Reyes</th>\n",
       "      <th>Día de las Velitas</th>\n",
       "      <th>Día sin carro</th>\n",
       "      <th>Feria de las Flores</th>\n",
       "      <th>Halloween</th>\n",
       "      <th>Independencia</th>\n",
       "      <th>Navidad</th>\n",
       "      <th>Normal</th>\n",
       "      <th>Semana Santa</th>\n",
       "    </tr>\n",
       "    <tr>\n",
       "      <th>tipo_dia</th>\n",
       "      <th></th>\n",
       "      <th></th>\n",
       "      <th></th>\n",
       "      <th></th>\n",
       "      <th></th>\n",
       "      <th></th>\n",
       "      <th></th>\n",
       "      <th></th>\n",
       "      <th></th>\n",
       "      <th></th>\n",
       "    </tr>\n",
       "  </thead>\n",
       "  <tbody>\n",
       "    <tr>\n",
       "      <th>Entre semana</th>\n",
       "      <td>1.225</td>\n",
       "      <td>1.364583</td>\n",
       "      <td>1.180556</td>\n",
       "      <td>1.104255</td>\n",
       "      <td>1.383158</td>\n",
       "      <td>1.30625</td>\n",
       "      <td>1.319149</td>\n",
       "      <td>1.2875</td>\n",
       "      <td>1.214706</td>\n",
       "      <td>1.063043</td>\n",
       "    </tr>\n",
       "    <tr>\n",
       "      <th>Fin de semana</th>\n",
       "      <td>NaN</td>\n",
       "      <td>NaN</td>\n",
       "      <td>NaN</td>\n",
       "      <td>NaN</td>\n",
       "      <td>1.271579</td>\n",
       "      <td>NaN</td>\n",
       "      <td>NaN</td>\n",
       "      <td>NaN</td>\n",
       "      <td>1.168713</td>\n",
       "      <td>1.037234</td>\n",
       "    </tr>\n",
       "  </tbody>\n",
       "</table>\n",
       "</div>"
      ],
      "text/plain": [
       "evento         Año Nuevo  Día de Reyes  Día de las Velitas  Día sin carro  \\\n",
       "tipo_dia                                                                    \n",
       "Entre semana       1.225      1.364583            1.180556       1.104255   \n",
       "Fin de semana        NaN           NaN                 NaN            NaN   \n",
       "\n",
       "evento         Feria de las Flores  Halloween  Independencia  Navidad  \\\n",
       "tipo_dia                                                                \n",
       "Entre semana              1.383158    1.30625       1.319149   1.2875   \n",
       "Fin de semana             1.271579        NaN            NaN      NaN   \n",
       "\n",
       "evento           Normal  Semana Santa  \n",
       "tipo_dia                               \n",
       "Entre semana   1.214706      1.063043  \n",
       "Fin de semana  1.168713      1.037234  "
      ]
     },
     "execution_count": 37,
     "metadata": {},
     "output_type": "execute_result"
    }
   ],
   "source": [
    "#fechas especiales vs fechas normales\n",
    "resumen = df.groupby(['tipo_dia', 'evento'])['valor'].mean().unstack()\n",
    "resumen"
   ]
  },
  {
   "cell_type": "code",
   "execution_count": 38,
   "id": "4d3b6d78",
   "metadata": {},
   "outputs": [
    {
     "name": "stdout",
     "output_type": "stream",
     "text": [
      "                                              nombre     valor\n",
      "3                   Itagüí - Casa de Justicia Itagüí  1.325776\n",
      "6              Institucion Universitaria ITM Robledo  1.219167\n",
      "1  Politecnico Colombiano Jaime Isaza Cadavid - M...  1.163859\n",
      "5                          _OFF-Estación Tráfico Sur  1.093346\n",
      "0                _OFF-Girardota - S.O.S Aburrá Norte  1.000000\n",
      "2  _OFF-Medellín,  centro occidente - Universidad...       NaN\n",
      "4                       Universidad San Buenaventura       NaN\n"
     ]
    },
    {
     "name": "stderr",
     "output_type": "stream",
     "text": [
      "C:\\Users\\Jeronimo Zapata\\AppData\\Local\\Temp\\ipykernel_14924\\1972914900.py:7: FutureWarning:\n",
      "\n",
      "\n",
      "\n",
      "Passing `palette` without assigning `hue` is deprecated and will be removed in v0.14.0. Assign the `y` variable to `hue` and set `legend=False` for the same effect.\n",
      "\n",
      "\n"
     ]
    },
    {
     "data": {
      "image/png": "[encoded data removed]",
      "text/plain": [
       "<Figure size 1200x600 with 1 Axes>"
      ]
     },
     "metadata": {},
     "output_type": "display_data"
    }
   ],
   "source": [
    "#estaciones con peor aire\n",
    "\n",
    "media_top = media_estaciones[['nombre', 'valor']].sort_values(by='valor', ascending=False)\n",
    "print(media_top.head(10))\n",
    "plt.figure(figsize=(12, 6))\n",
    "estaciones_ordenadas = media_estaciones.sort_values(by='valor', ascending=False)\n",
    "sns.barplot(data=estaciones_ordenadas, x='valor', y='nombre', palette='Spectral')\n",
    "plt.title(f'{contaminante_unico.upper()} - Concentración promedio por estación')\n",
    "plt.xlabel('Concentración promedio')\n",
    "plt.ylabel('Estación')\n",
    "plt.tight_layout()\n",
    "plt.show()"
   ]
  },
  {
   "cell_type": "code",
   "execution_count": 39,
   "id": "3bf2d494",
   "metadata": {},
   "outputs": [
    {
     "name": "stderr",
     "output_type": "stream",
     "text": [
      "C:\\Users\\Jeronimo Zapata\\AppData\\Local\\Temp\\ipykernel_14924\\3915280519.py:6: DeprecationWarning:\n",
      "\n",
      "*scatter_mapbox* is deprecated! Use *scatter_map* instead. Learn more at: https://plotly.com/python/mapbox-to-maplibre/\n",
      "\n"
     ]
    },
    {
     "data": {
      "application/vnd.plotly.v1+json": {
       "config": {
        "plotlyServerURL": "https://plot.ly"
       },
       "data": [
        {
         "hovertemplate": "<b>%{hovertext}</b><br><br>valor=%{marker.color}<br>latitud=%{lat}<br>longitud=%{lon}<extra></extra>",
         "hovertext": [
          "_OFF-Girardota - S.O.S Aburrá Norte",
          "Politecnico Colombiano Jaime Isaza Cadavid - Medellin",
          "Itagüí - Casa de Justicia Itagüí",
          "_OFF-Estación Tráfico Sur",
          "Institucion Universitaria ITM Robledo"
         ],
         "lat": {
          "bdata": "7OEm/oODGUCowG59/dUYQIvWm2IfvhhAewz74vebGEDp291eLRoZQA==",
          "dtype": "f8"
         },
         "legendgroup": "",
         "lon": {
          "bdata": "ybctgN/cUsCSLuwf+uRSwDAe75845lLAJ6oSwCjoUsCH6TGApuVSwA==",
          "dtype": "f8"
         },
         "marker": {
          "color": {
           "bdata": "AAAAAAAA8D+os3YxKp/yP/6rOJBgNvU/0emB61d+8T+CThvotIHzPw==",
           "dtype": "f8"
          },
          "coloraxis": "coloraxis",
          "size": {
           "bdata": "AAAAAAAA8D+os3YxKp/yP/6rOJBgNvU/0emB61d+8T+CThvotIHzPw==",
           "dtype": "f8"
          },
          "sizemode": "area",
          "sizeref": 0.005892336372226053
         },
         "mode": "markers",
         "name": "",
         "showlegend": false,
         "subplot": "mapbox",
         "type": "scattermapbox"
        }
       ],
       "layout": {
        "coloraxis": {
         "colorbar": {
          "title": {
           "text": "valor"
          }
         },
         "colorscale": [
          [
           0,
           "rgb(255,255,204)"
          ],
          [
           0.125,
           "rgb(255,237,160)"
          ],
          [
           0.25,
           "rgb(254,217,118)"
          ],
          [
           0.375,
           "rgb(254,178,76)"
          ],
          [
           0.5,
           "rgb(253,141,60)"
          ],
          [
           0.625,
           "rgb(252,78,42)"
          ],
          [
           0.75,
           "rgb(227,26,28)"
          ],
          [
           0.875,
           "rgb(189,0,38)"
          ],
          [
           1,
           "rgb(128,0,38)"
          ]
         ]
        },
        "legend": {
         "itemsizing": "constant",
         "tracegroupgap": 0
        },
        "mapbox": {
         "center": {
          "lat": 6.240190220000001,
          "lon": -75.56837770000001
         },
         "domain": {
          "x": [
           0,
           1
          ],
          "y": [
           0,
           1
          ]
         },
         "style": "carto-positron",
         "zoom": 10
        },
        "margin": {
         "t": 60
        },
        "template": {
         "data": {
          "bar": [
           {
            "error_x": {
             "color": "#2a3f5f"
            },
            "error_y": {
             "color": "#2a3f5f"
            },
            "marker": {
             "line": {
              "color": "#E5ECF6",
              "width": 0.5
             },
             "pattern": {
              "fillmode": "overlay",
              "size": 10,
              "solidity": 0.2
             }
            },
            "type": "bar"
           }
          ],
          "barpolar": [
           {
            "marker": {
             "line": {
              "color": "#E5ECF6",
              "width": 0.5
             },
             "pattern": {
              "fillmode": "overlay",
              "size": 10,
              "solidity": 0.2
             }
            },
            "type": "barpolar"
           }
          ],
          "carpet": [
           {
            "aaxis": {
             "endlinecolor": "#2a3f5f",
             "gridcolor": "white",
             "linecolor": "white",
             "minorgridcolor": "white",
             "startlinecolor": "#2a3f5f"
            },
            "baxis": {
             "endlinecolor": "#2a3f5f",
             "gridcolor": "white",
             "linecolor": "white",
             "minorgridcolor": "white",
             "startlinecolor": "#2a3f5f"
            },
            "type": "carpet"
           }
          ],
          "choropleth": [
           {
            "colorbar": {
             "outlinewidth": 0,
             "ticks": ""
            },
            "type": "choropleth"
           }
          ],
          "contour": [
           {
            "colorbar": {
             "outlinewidth": 0,
             "ticks": ""
            },
            "colorscale": [
             [
              0,
              "#0d0887"
             ],
             [
              0.1111111111111111,
              "#46039f"
             ],
             [
              0.2222222222222222,
              "#7201a8"
             ],
             [
              0.3333333333333333,
              "#9c179e"
             ],
             [
              0.4444444444444444,
              "#bd3786"
             ],
             [
              0.5555555555555556,
              "#d8576b"
             ],
             [
              0.6666666666666666,
              "#ed7953"
             ],
             [
              0.7777777777777778,
              "#fb9f3a"
             ],
             [
              0.8888888888888888,
              "#fdca26"
             ],
             [
              1,
              "#f0f921"
             ]
            ],
            "type": "contour"
           }
          ],
          "contourcarpet": [
           {
            "colorbar": {
             "outlinewidth": 0,
             "ticks": ""
            },
            "type": "contourcarpet"
           }
          ],
          "heatmap": [
           {
            "colorbar": {
             "outlinewidth": 0,
             "ticks": ""
            },
            "colorscale": [
             [
              0,
              "#0d0887"
             ],
             [
              0.1111111111111111,
              "#46039f"
             ],
             [
              0.2222222222222222,
              "#7201a8"
             ],
             [
              0.3333333333333333,
              "#9c179e"
             ],
             [
              0.4444444444444444,
              "#bd3786"
             ],
             [
              0.5555555555555556,
              "#d8576b"
             ],
             [
              0.6666666666666666,
              "#ed7953"
             ],
             [
              0.7777777777777778,
              "#fb9f3a"
             ],
             [
              0.8888888888888888,
              "#fdca26"
             ],
             [
              1,
              "#f0f921"
             ]
            ],
            "type": "heatmap"
           }
          ],
          "histogram": [
           {
            "marker": {
             "pattern": {
              "fillmode": "overlay",
              "size": 10,
              "solidity": 0.2
             }
            },
            "type": "histogram"
           }
          ],
          "histogram2d": [
           {
            "colorbar": {
             "outlinewidth": 0,
             "ticks": ""
            },
            "colorscale": [
             [
              0,
              "#0d0887"
             ],
             [
              0.1111111111111111,
              "#46039f"
             ],
             [
              0.2222222222222222,
              "#7201a8"
             ],
             [
              0.3333333333333333,
              "#9c179e"
             ],
             [
              0.4444444444444444,
              "#bd3786"
             ],
             [
              0.5555555555555556,
              "#d8576b"
             ],
             [
              0.6666666666666666,
              "#ed7953"
             ],
             [
              0.7777777777777778,
              "#fb9f3a"
             ],
             [
              0.8888888888888888,
              "#fdca26"
             ],
             [
              1,
              "#f0f921"
             ]
            ],
            "type": "histogram2d"
           }
          ],
          "histogram2dcontour": [
           {
            "colorbar": {
             "outlinewidth": 0,
             "ticks": ""
            },
            "colorscale": [
             [
              0,
              "#0d0887"
             ],
             [
              0.1111111111111111,
              "#46039f"
             ],
             [
              0.2222222222222222,
              "#7201a8"
             ],
             [
              0.3333333333333333,
              "#9c179e"
             ],
             [
              0.4444444444444444,
              "#bd3786"
             ],
             [
              0.5555555555555556,
              "#d8576b"
             ],
             [
              0.6666666666666666,
              "#ed7953"
             ],
             [
              0.7777777777777778,
              "#fb9f3a"
             ],
             [
              0.8888888888888888,
              "#fdca26"
             ],
             [
              1,
              "#f0f921"
             ]
            ],
            "type": "histogram2dcontour"
           }
          ],
          "mesh3d": [
           {
            "colorbar": {
             "outlinewidth": 0,
             "ticks": ""
            },
            "type": "mesh3d"
           }
          ],
          "parcoords": [
           {
            "line": {
             "colorbar": {
              "outlinewidth": 0,
              "ticks": ""
             }
            },
            "type": "parcoords"
           }
          ],
          "pie": [
           {
            "automargin": true,
            "type": "pie"
           }
          ],
          "scatter": [
           {
            "fillpattern": {
             "fillmode": "overlay",
             "size": 10,
             "solidity": 0.2
            },
            "type": "scatter"
           }
          ],
          "scatter3d": [
           {
            "line": {
             "colorbar": {
              "outlinewidth": 0,
              "ticks": ""
             }
            },
            "marker": {
             "colorbar": {
              "outlinewidth": 0,
              "ticks": ""
             }
            },
            "type": "scatter3d"
           }
          ],
          "scattercarpet": [
           {
            "marker": {
             "colorbar": {
              "outlinewidth": 0,
              "ticks": ""
             }
            },
            "type": "scattercarpet"
           }
          ],
          "scattergeo": [
           {
            "marker": {
             "colorbar": {
              "outlinewidth": 0,
              "ticks": ""
             }
            },
            "type": "scattergeo"
           }
          ],
          "scattergl": [
           {
            "marker": {
             "colorbar": {
              "outlinewidth": 0,
              "ticks": ""
             }
            },
            "type": "scattergl"
           }
          ],
          "scattermap": [
           {
            "marker": {
             "colorbar": {
              "outlinewidth": 0,
              "ticks": ""
             }
            },
            "type": "scattermap"
           }
          ],
          "scattermapbox": [
           {
            "marker": {
             "colorbar": {
              "outlinewidth": 0,
              "ticks": ""
             }
            },
            "type": "scattermapbox"
           }
          ],
          "scatterpolar": [
           {
            "marker": {
             "colorbar": {
              "outlinewidth": 0,
              "ticks": ""
             }
            },
            "type": "scatterpolar"
           }
          ],
          "scatterpolargl": [
           {
            "marker": {
             "colorbar": {
              "outlinewidth": 0,
              "ticks": ""
             }
            },
            "type": "scatterpolargl"
           }
          ],
          "scatterternary": [
           {
            "marker": {
             "colorbar": {
              "outlinewidth": 0,
              "ticks": ""
             }
            },
            "type": "scatterternary"
           }
          ],
          "surface": [
           {
            "colorbar": {
             "outlinewidth": 0,
             "ticks": ""
            },
            "colorscale": [
             [
              0,
              "#0d0887"
             ],
             [
              0.1111111111111111,
              "#46039f"
             ],
             [
              0.2222222222222222,
              "#7201a8"
             ],
             [
              0.3333333333333333,
              "#9c179e"
             ],
             [
              0.4444444444444444,
              "#bd3786"
             ],
             [
              0.5555555555555556,
              "#d8576b"
             ],
             [
              0.6666666666666666,
              "#ed7953"
             ],
             [
              0.7777777777777778,
              "#fb9f3a"
             ],
             [
              0.8888888888888888,
              "#fdca26"
             ],
             [
              1,
              "#f0f921"
             ]
            ],
            "type": "surface"
           }
          ],
          "table": [
           {
            "cells": {
             "fill": {
              "color": "#EBF0F8"
             },
             "line": {
              "color": "white"
             }
            },
            "header": {
             "fill": {
              "color": "#C8D4E3"
             },
             "line": {
              "color": "white"
             }
            },
            "type": "table"
           }
          ]
         },
         "layout": {
          "annotationdefaults": {
           "arrowcolor": "#2a3f5f",
           "arrowhead": 0,
           "arrowwidth": 1
          },
          "autotypenumbers": "strict",
          "coloraxis": {
           "colorbar": {
            "outlinewidth": 0,
            "ticks": ""
           }
          },
          "colorscale": {
           "diverging": [
            [
             0,
             "#8e0152"
            ],
            [
             0.1,
             "#c51b7d"
            ],
            [
             0.2,
             "#de77ae"
            ],
            [
             0.3,
             "#f1b6da"
            ],
            [
             0.4,
             "#fde0ef"
            ],
            [
             0.5,
             "#f7f7f7"
            ],
            [
             0.6,
             "#e6f5d0"
            ],
            [
             0.7,
             "#b8e186"
            ],
            [
             0.8,
             "#7fbc41"
            ],
            [
             0.9,
             "#4d9221"
            ],
            [
             1,
             "#276419"
            ]
           ],
           "sequential": [
            [
             0,
             "#0d0887"
            ],
            [
             0.1111111111111111,
             "#46039f"
            ],
            [
             0.2222222222222222,
             "#7201a8"
            ],
            [
             0.3333333333333333,
             "#9c179e"
            ],
            [
             0.4444444444444444,
             "#bd3786"
            ],
            [
             0.5555555555555556,
             "#d8576b"
            ],
            [
             0.6666666666666666,
             "#ed7953"
            ],
            [
             0.7777777777777778,
             "#fb9f3a"
            ],
            [
             0.8888888888888888,
             "#fdca26"
            ],
            [
             1,
             "#f0f921"
            ]
           ],
           "sequentialminus": [
            [
             0,
             "#0d0887"
            ],
            [
             0.1111111111111111,
             "#46039f"
            ],
            [
             0.2222222222222222,
             "#7201a8"
            ],
            [
             0.3333333333333333,
             "#9c179e"
            ],
            [
             0.4444444444444444,
             "#bd3786"
            ],
            [
             0.5555555555555556,
             "#d8576b"
            ],
            [
             0.6666666666666666,
             "#ed7953"
            ],
            [
             0.7777777777777778,
             "#fb9f3a"
            ],
            [
             0.8888888888888888,
             "#fdca26"
            ],
            [
             1,
             "#f0f921"
            ]
           ]
          },
          "colorway": [
           "#636efa",
           "#EF553B",
           "#00cc96",
           "#ab63fa",
           "#FFA15A",
           "#19d3f3",
           "#FF6692",
           "#B6E880",
           "#FF97FF",
           "#FECB52"
          ],
          "font": {
           "color": "#2a3f5f"
          },
          "geo": {
           "bgcolor": "white",
           "lakecolor": "white",
           "landcolor": "#E5ECF6",
           "showlakes": true,
           "showland": true,
           "subunitcolor": "white"
          },
          "hoverlabel": {
           "align": "left"
          },
          "hovermode": "closest",
          "mapbox": {
           "style": "light"
          },
          "paper_bgcolor": "white",
          "plot_bgcolor": "#E5ECF6",
          "polar": {
           "angularaxis": {
            "gridcolor": "white",
            "linecolor": "white",
            "ticks": ""
           },
           "bgcolor": "#E5ECF6",
           "radialaxis": {
            "gridcolor": "white",
            "linecolor": "white",
            "ticks": ""
           }
          },
          "scene": {
           "xaxis": {
            "backgroundcolor": "#E5ECF6",
            "gridcolor": "white",
            "gridwidth": 2,
            "linecolor": "white",
            "showbackground": true,
            "ticks": "",
            "zerolinecolor": "white"
           },
           "yaxis": {
            "backgroundcolor": "#E5ECF6",
            "gridcolor": "white",
            "gridwidth": 2,
            "linecolor": "white",
            "showbackground": true,
            "ticks": "",
            "zerolinecolor": "white"
           },
           "zaxis": {
            "backgroundcolor": "#E5ECF6",
            "gridcolor": "white",
            "gridwidth": 2,
            "linecolor": "white",
            "showbackground": true,
            "ticks": "",
            "zerolinecolor": "white"
           }
          },
          "shapedefaults": {
           "line": {
            "color": "#2a3f5f"
           }
          },
          "ternary": {
           "aaxis": {
            "gridcolor": "white",
            "linecolor": "white",
            "ticks": ""
           },
           "baxis": {
            "gridcolor": "white",
            "linecolor": "white",
            "ticks": ""
           },
           "bgcolor": "#E5ECF6",
           "caxis": {
            "gridcolor": "white",
            "linecolor": "white",
            "ticks": ""
           }
          },
          "title": {
           "x": 0.05
          },
          "xaxis": {
           "automargin": true,
           "gridcolor": "white",
           "linecolor": "white",
           "ticks": "",
           "title": {
            "standoff": 15
           },
           "zerolinecolor": "white",
           "zerolinewidth": 2
          },
          "yaxis": {
           "automargin": true,
           "gridcolor": "white",
           "linecolor": "white",
           "ticks": "",
           "title": {
            "standoff": 15
           },
           "zerolinecolor": "white",
           "zerolinewidth": 2
          }
         }
        },
        "title": {
         "text": "NO - Concentración por estación"
        }
       }
      }
     },
     "metadata": {},
     "output_type": "display_data"
    }
   ],
   "source": [
    "media_plot = media_estaciones.dropna(subset=['valor'])\n",
    "\n",
    "\n",
    "import plotly.express as px\n",
    "\n",
    "fig = px.scatter_mapbox(\n",
    "    media_plot,\n",
    "    lat=\"latitud\", lon=\"longitud\",\n",
    "    color=\"valor\",\n",
    "    size=\"valor\",\n",
    "    hover_name=\"nombre\",\n",
    "    color_continuous_scale=\"YlOrRd\",\n",
    "    size_max=15,\n",
    "    zoom=10,\n",
    "    mapbox_style=\"carto-positron\"\n",
    ")\n",
    "fig.update_layout(title=f'{contaminante_unico.upper()} - Concentración por estación')\n",
    "fig.show()"
   ]
  },
  {
   "cell_type": "code",
   "execution_count": 40,
   "id": "37cb6133",
   "metadata": {},
   "outputs": [],
   "source": [
    "limites_normativos = {\n",
    "    'pm25': 25,   # μg/m³ (24h) - OMS\n",
    "    'pm10': 50,   # μg/m³ (24h) - OMS\n",
    "    'ozono': 0.051,  # ppm (8h) - OMS 100 μg/m³ → 0.051 ppm aprox\n",
    "    'co': 4.0,    # ppm (24h) - OMS\n",
    "    'no2': 0.025, # ppm (1h) - OMS\n",
    "    'so2': 0.005, # ppm (24h) - OMS\n",
    "    \n",
    "    # otros...\n",
    "}"
   ]
  },
  {
   "cell_type": "code",
   "execution_count": 41,
   "id": "c2332928",
   "metadata": {},
   "outputs": [
    {
     "name": "stdout",
     "output_type": "stream",
     "text": [
      "No hay límite definido para este contaminante.\n"
     ]
    }
   ],
   "source": [
    "contaminante = contaminante_unico.lower()\n",
    "limite = limites_normativos.get(contaminante, None)\n",
    "\n",
    "if limite:\n",
    "    df['excede_limite'] = df['valor'] > limite\n",
    "    excedencias = df['excede_limite'].mean() * 100\n",
    "    print(f\"📌 Porcentaje de registros que exceden el límite OMS para {contaminante.upper()}: {excedencias:.2f}%\")\n",
    "else:\n",
    "    print(\"No hay límite definido para este contaminante.\")\n",
    "#gafico de dias que exceden"
   ]
  },
  {
   "cell_type": "code",
   "execution_count": 42,
   "id": "9944da35",
   "metadata": {},
   "outputs": [
    {
     "data": {
      "text/plain": [
       "\"\\nexcesos_diarios = df.groupby(df['fecha'].dt.date)['excede_limite'].mean()\\n\\nplt.figure(figsize=(12, 4))\\nexcesos_diarios.plot(kind='bar', color='red')\\nplt.title(f'Días con excedencias de {contaminante.upper()} según OMS')\\nplt.ylabel('% de registros diarios que exceden')\\nplt.xticks(rotation=90)\\nplt.tight_layout()\\nplt.show()\\n\""
      ]
     },
     "execution_count": 42,
     "metadata": {},
     "output_type": "execute_result"
    }
   ],
   "source": [
    "\"\"\"\n",
    "excesos_diarios = df.groupby(df['fecha'].dt.date)['excede_limite'].mean()\n",
    "\n",
    "plt.figure(figsize=(12, 4))\n",
    "excesos_diarios.plot(kind='bar', color='red')\n",
    "plt.title(f'Días con excedencias de {contaminante.upper()} según OMS')\n",
    "plt.ylabel('% de registros diarios que exceden')\n",
    "plt.xticks(rotation=90)\n",
    "plt.tight_layout()\n",
    "plt.show()\n",
    "\"\"\""
   ]
  },
  {
   "cell_type": "code",
   "execution_count": 43,
   "id": "c283c3b8",
   "metadata": {},
   "outputs": [
    {
     "name": "stderr",
     "output_type": "stream",
     "text": [
      "C:\\Users\\Jeronimo Zapata\\AppData\\Local\\Temp\\ipykernel_14924\\4060245424.py:10: UserWarning:\n",
      "\n",
      "No artists with labels found to put in legend.  Note that artists whose label start with an underscore are ignored when legend() is called with no argument.\n",
      "\n"
     ]
    },
    {
     "data": {
      "image/png": "[encoded data removed]",
      "text/plain": [
       "<Figure size 1200x600 with 1 Axes>"
      ]
     },
     "metadata": {},
     "output_type": "display_data"
    }
   ],
   "source": [
    "#comparar promedios mensuales con los limites\n",
    "plt.figure(figsize=(12,6))\n",
    "sns.lineplot(data=promedios_mensuales, x='mes', y='valor', marker='o')\n",
    "if limite:\n",
    "    plt.axhline(y=limite, color='red', linestyle='--', label='Límite OMS')\n",
    "plt.title(f'{contaminante_unico.upper()} - Promedio mensual')\n",
    "plt.xlabel('Mes')\n",
    "plt.ylabel('Concentración')\n",
    "plt.xticks(rotation=45)\n",
    "plt.legend()\n",
    "plt.grid(True)\n",
    "plt.tight_layout()\n",
    "plt.show()"
   ]
  },
  {
   "cell_type": "code",
   "execution_count": 44,
   "id": "13cdec49",
   "metadata": {},
   "outputs": [
    {
     "data": {
      "image/png": "[encoded data removed]",
      "text/plain": [
       "<Figure size 1000x500 with 1 Axes>"
      ]
     },
     "metadata": {},
     "output_type": "display_data"
    }
   ],
   "source": [
    "#variacion por hora del dia\n",
    "df['hora'] = df['fecha'].dt.hour\n",
    "\n",
    "horas = df.groupby('hora')['valor'].mean().reset_index()\n",
    "\n",
    "plt.figure(figsize=(10,5))\n",
    "sns.lineplot(data=horas, x='hora', y='valor', marker='o')\n",
    "plt.title(f'{contaminante_unico.upper()} - Promedio por hora del día')\n",
    "plt.xlabel('Hora')\n",
    "plt.ylabel('Concentración')\n",
    "plt.xticks(range(0,24))\n",
    "plt.grid(True)\n",
    "plt.tight_layout()\n",
    "plt.show()"
   ]
  },
  {
   "cell_type": "code",
   "execution_count": 45,
   "id": "b194da03",
   "metadata": {},
   "outputs": [
    {
     "name": "stdout",
     "output_type": "stream",
     "text": [
      "Días con mayor concentración promedio:\n",
      "fecha\n",
      "2022-06-15    1.801587\n",
      "2022-06-20    1.746875\n",
      "2022-06-16    1.726923\n",
      "2022-11-25    1.613684\n",
      "2022-03-02    1.606250\n",
      "2022-06-17    1.595833\n",
      "2022-06-18    1.583696\n",
      "2021-12-18    1.574227\n",
      "2022-11-17    1.567742\n",
      "2022-07-18    1.561702\n",
      "Name: valor, dtype: float64\n"
     ]
    }
   ],
   "source": [
    "#Top 10 dias mas contaminados\n",
    "top_dias = df.groupby(df['fecha'].dt.date)['valor'].mean().sort_values(ascending=False).head(10)\n",
    "print(\"Días con mayor concentración promedio:\")\n",
    "print(top_dias)\n",
    "promedio_eventos = df.groupby('evento')['valor'].mean().sort_values(ascending=False)\n"
   ]
  },
  {
   "cell_type": "code",
   "execution_count": 46,
   "id": "02d20e85",
   "metadata": {},
   "outputs": [
    {
     "name": "stderr",
     "output_type": "stream",
     "text": [
      "C:\\Users\\Jeronimo Zapata\\AppData\\Local\\Temp\\ipykernel_14924\\496521658.py:11: FutureWarning:\n",
      "\n",
      "\n",
      "\n",
      "Passing `palette` without assigning `hue` is deprecated and will be removed in v0.14.0. Assign the `x` variable to `hue` and set `legend=False` for the same effect.\n",
      "\n",
      "\n"
     ]
    },
    {
     "data": {
      "image/png": "[encoded data removed]",
      "text/plain": [
       "<Figure size 1000x500 with 1 Axes>"
      ]
     },
     "metadata": {},
     "output_type": "display_data"
    },
    {
     "name": "stdout",
     "output_type": "stream",
     "text": [
      "                     count      mean       std  min  max\n",
      "evento                                                  \n",
      "Día de Reyes            96  1.364583  0.590447  1.0  3.1\n",
      "Feria de las Flores    190  1.327368  0.488696  1.0  3.1\n",
      "Independencia           94  1.319149  0.463107  1.0  2.2\n",
      "Halloween               96  1.306250  0.554752  1.0  3.1\n",
      "Navidad                 96  1.287500  0.443728  1.0  2.2\n",
      "Año Nuevo               96  1.225000  0.391757  1.0  1.9\n",
      "Normal               32606  1.201451  0.466722  1.0  3.1\n",
      "Día de las Velitas      72  1.180556  0.538553  1.0  3.1\n",
      "Día sin carro           94  1.104255  0.344204  1.0  2.3\n",
      "Semana Santa           186  1.050000  0.236700  1.0  2.2\n"
     ]
    }
   ],
   "source": [
    "\n",
    "# Convertir a DataFrame y ordenar por valor (descendente)\n",
    "evento_df = promedio_eventos.reset_index()\n",
    "evento_df.columns = ['evento', 'valor']\n",
    "evento_df = evento_df.sort_values(by='valor', ascending=False).reset_index(drop=True)\n",
    "\n",
    "# Crear una paleta personalizada basada en el número de eventos\n",
    "paleta = sns.color_palette(\"Reds\", n_colors=len(evento_df))\n",
    "\n",
    "# Graficar\n",
    "plt.figure(figsize=(10, 5))\n",
    "ax = sns.barplot(\n",
    "    data=evento_df,\n",
    "    x='evento', y='valor',\n",
    "    palette=paleta[::-1]  # ahora sí, inverso en orden decreciente\n",
    ")\n",
    "\n",
    "# Agregar etiquetas\n",
    "for i, val in enumerate(evento_df['valor']):\n",
    "    ax.text(i, val + 0.05, f'{val:.2f}', ha='center', va='bottom')\n",
    "\n",
    "plt.title(f'{contaminante_unico.upper()} - Promedio de concentración por evento')\n",
    "plt.ylabel('Concentración')\n",
    "plt.xticks(rotation=45)\n",
    "plt.tight_layout()\n",
    "plt.show()\n",
    "stats_eventos = df.groupby('evento')['valor'].agg(['count', 'mean', 'std', 'min', 'max']).sort_values(by='mean', ascending=False)\n",
    "print(stats_eventos)"
   ]
  },
  {
   "cell_type": "code",
   "execution_count": 47,
   "id": "33f931b2",
   "metadata": {},
   "outputs": [
    {
     "name": "stderr",
     "output_type": "stream",
     "text": [
      "C:\\Users\\Jeronimo Zapata\\AppData\\Local\\Temp\\ipykernel_14924\\3242679077.py:9: FutureWarning:\n",
      "\n",
      "\n",
      "\n",
      "Passing `palette` without assigning `hue` is deprecated and will be removed in v0.14.0. Assign the `x` variable to `hue` and set `legend=False` for the same effect.\n",
      "\n",
      "\n"
     ]
    },
    {
     "data": {
      "image/png": "[encoded data removed]",
      "text/plain": [
       "<Figure size 1000x500 with 1 Axes>"
      ]
     },
     "metadata": {},
     "output_type": "display_data"
    }
   ],
   "source": [
    "# Promedio por estación\n",
    "top_estaciones = df.groupby('nombreCorto')['valor'].mean().sort_values(ascending=False).head(10).reset_index()\n",
    "\n",
    "# Paleta de colores (más alta concentración = más oscuro)\n",
    "paleta = sns.color_palette(\"Reds\", n_colors=len(top_estaciones))\n",
    "\n",
    "# Gráfico\n",
    "plt.figure(figsize=(10, 5))\n",
    "ax = sns.barplot(\n",
    "    data=top_estaciones,\n",
    "    x='nombreCorto', y='valor',\n",
    "    palette=paleta[::-1]\n",
    ")\n",
    "\n",
    "# Etiquetas\n",
    "for i, val in enumerate(top_estaciones['valor']):\n",
    "    ax.text(i, val + 0.05, f'{val:.2f}', ha='center', va='bottom')\n",
    "\n",
    "plt.title(f'{contaminante_unico.upper()} - Top 10 estaciones con mayor concentración')\n",
    "plt.ylabel('Concentración')\n",
    "plt.xlabel('Estación')\n",
    "plt.xticks(rotation=45)\n",
    "plt.tight_layout()\n",
    "plt.show()"
   ]
  },
  {
   "cell_type": "code",
   "execution_count": 48,
   "id": "3f2bdd52",
   "metadata": {},
   "outputs": [
    {
     "data": {
      "image/png": "[encoded data removed]",
      "text/plain": [
       "<Figure size 1400x800 with 2 Axes>"
      ]
     },
     "metadata": {},
     "output_type": "display_data"
    }
   ],
   "source": [
    "# Crear columna de mes\n",
    "df['mes'] = df['fecha'].dt.to_period('M').astype(str)\n",
    "\n",
    "# Agrupamos por estación y mes\n",
    "pivot_df = df.groupby(['nombre', 'mes'])['valor'].mean().reset_index()\n",
    "\n",
    "# Reorganizar en forma de matriz\n",
    "pivot_table = pivot_df.pivot(index='nombre', columns='mes', values='valor')\n",
    "\n",
    "# Crear heatmap\n",
    "plt.figure(figsize=(14, 8))\n",
    "sns.heatmap(pivot_table, cmap=\"Reds\", linewidths=0.5, linecolor='gray', annot=False, fmt=\".1f\", cbar_kws={'label': 'Concentración'})\n",
    "plt.title(f'{contaminante_unico.upper()} - Concentración mensual por estación')\n",
    "plt.xlabel('Mes')\n",
    "plt.ylabel('Estación')\n",
    "plt.tight_layout()\n",
    "plt.show()"
   ]
  },
  {
   "cell_type": "code",
   "execution_count": 49,
   "id": "b727f9ea",
   "metadata": {},
   "outputs": [
    {
     "name": "stderr",
     "output_type": "stream",
     "text": [
      "C:\\Users\\Jeronimo Zapata\\AppData\\Local\\Temp\\ipykernel_14924\\1578024283.py:12: DeprecationWarning:\n",
      "\n",
      "*scatter_mapbox* is deprecated! Use *scatter_map* instead. Learn more at: https://plotly.com/python/mapbox-to-maplibre/\n",
      "\n"
     ]
    },
    {
     "data": {
      "application/vnd.plotly.v1+json": {
       "config": {
        "plotlyServerURL": "https://plot.ly"
       },
       "data": [
        {
         "hovertemplate": "<b>%{hovertext}</b><br><br>mes=2021-12<br>valor=%{marker.color}<br>latitud=%{lat}<br>longitud=%{lon}<extra></extra>",
         "hovertext": [
          "Institucion Universitaria ITM Robledo",
          "Itagüí - Casa de Justicia Itagüí",
          "Politecnico Colombiano Jaime Isaza Cadavid - Medellin",
          "_OFF-Estación Tráfico Sur",
          "_OFF-Girardota - S.O.S Aburrá Norte"
         ],
         "lat": {
          "bdata": "6dvdXi0aGUCL1ptiH74YQKjAbn391RhAewz74vebGEDs4Sb+g4MZQA==",
          "dtype": "f8"
         },
         "legendgroup": "",
         "lon": {
          "bdata": "h+kxgKblUsAwHu+fOOZSwJIu7B/65FLAJ6oSwCjoUsDJty2A39xSwA==",
          "dtype": "f8"
         },
         "marker": {
          "color": {
           "bdata": "kmGDuHny/D9R6oMdt1DyP6HaczJ9lfA/WPhvWrXD8T8AAAAAAADwPw==",
           "dtype": "f8"
          },
          "coloraxis": "coloraxis",
          "size": {
           "bdata": "kmGDuHny/D9R6oMdt1DyP6HaczJ9lfA/WPhvWrXD8T8AAAAAAADwPw==",
           "dtype": "f8"
          },
          "sizemode": "area",
          "sizeref": 0.009944444444444443
         },
         "mode": "markers",
         "name": "",
         "showlegend": false,
         "subplot": "mapbox",
         "type": "scattermapbox"
        }
       ],
       "frames": [
        {
         "data": [
          {
           "hovertemplate": "<b>%{hovertext}</b><br><br>mes=2021-12<br>valor=%{marker.color}<br>latitud=%{lat}<br>longitud=%{lon}<extra></extra>",
           "hovertext": [
            "Institucion Universitaria ITM Robledo",
            "Itagüí - Casa de Justicia Itagüí",
            "Politecnico Colombiano Jaime Isaza Cadavid - Medellin",
            "_OFF-Estación Tráfico Sur",
            "_OFF-Girardota - S.O.S Aburrá Norte"
           ],
           "lat": {
            "bdata": "6dvdXi0aGUCL1ptiH74YQKjAbn391RhAewz74vebGEDs4Sb+g4MZQA==",
            "dtype": "f8"
           },
           "legendgroup": "",
           "lon": {
            "bdata": "h+kxgKblUsAwHu+fOOZSwJIu7B/65FLAJ6oSwCjoUsDJty2A39xSwA==",
            "dtype": "f8"
           },
           "marker": {
            "color": {
             "bdata": "kmGDuHny/D9R6oMdt1DyP6HaczJ9lfA/WPhvWrXD8T8AAAAAAADwPw==",
             "dtype": "f8"
            },
            "coloraxis": "coloraxis",
            "size": {
             "bdata": "kmGDuHny/D9R6oMdt1DyP6HaczJ9lfA/WPhvWrXD8T8AAAAAAADwPw==",
             "dtype": "f8"
            },
            "sizemode": "area",
            "sizeref": 0.009944444444444443
           },
           "mode": "markers",
           "name": "",
           "showlegend": false,
           "subplot": "mapbox",
           "type": "scattermapbox"
          }
         ],
         "name": "2021-12"
        },
        {
         "data": [
          {
           "hovertemplate": "<b>%{hovertext}</b><br><br>mes=2022-01<br>valor=%{marker.color}<br>latitud=%{lat}<br>longitud=%{lon}<extra></extra>",
           "hovertext": [
            "Institucion Universitaria ITM Robledo",
            "Itagüí - Casa de Justicia Itagüí",
            "Politecnico Colombiano Jaime Isaza Cadavid - Medellin",
            "_OFF-Estación Tráfico Sur"
           ],
           "lat": {
            "bdata": "6dvdXi0aGUCL1ptiH74YQKjAbn391RhAewz74vebGEA=",
            "dtype": "f8"
           },
           "legendgroup": "",
           "lon": {
            "bdata": "h+kxgKblUsAwHu+fOOZSwJIu7B/65FLAJ6oSwCjoUsA=",
            "dtype": "f8"
           },
           "marker": {
            "color": {
             "bdata": "9ihcj8L19D9BiMIu05b1P9bFOEOh7/A/FbpOoesU8j8=",
             "dtype": "f8"
            },
            "coloraxis": "coloraxis",
            "size": {
             "bdata": "9ihcj8L19D9BiMIu05b1P9bFOEOh7/A/FbpOoesU8j8=",
             "dtype": "f8"
            },
            "sizemode": "area",
            "sizeref": 0.009944444444444443
           },
           "mode": "markers",
           "name": "",
           "showlegend": false,
           "subplot": "mapbox",
           "type": "scattermapbox"
          }
         ],
         "name": "2022-01"
        },
        {
         "data": [
          {
           "hovertemplate": "<b>%{hovertext}</b><br><br>mes=2022-02<br>valor=%{marker.color}<br>latitud=%{lat}<br>longitud=%{lon}<extra></extra>",
           "hovertext": [
            "Institucion Universitaria ITM Robledo",
            "Itagüí - Casa de Justicia Itagüí",
            "Politecnico Colombiano Jaime Isaza Cadavid - Medellin",
            "_OFF-Estación Tráfico Sur"
           ],
           "lat": {
            "bdata": "6dvdXi0aGUCL1ptiH74YQKjAbn391RhAewz74vebGEA=",
            "dtype": "f8"
           },
           "legendgroup": "",
           "lon": {
            "bdata": "h+kxgKblUsAwHu+fOOZSwJIu7B/65FLAJ6oSwCjoUsA=",
            "dtype": "f8"
           },
           "marker": {
            "color": {
             "bdata": "/i6RVd7v8j+HBNPlwgP5PwJelzpTE/E/vHcELo0U8j8=",
             "dtype": "f8"
            },
            "coloraxis": "coloraxis",
            "size": {
             "bdata": "/i6RVd7v8j+HBNPlwgP5PwJelzpTE/E/vHcELo0U8j8=",
             "dtype": "f8"
            },
            "sizemode": "area",
            "sizeref": 0.009944444444444443
           },
           "mode": "markers",
           "name": "",
           "showlegend": false,
           "subplot": "mapbox",
           "type": "scattermapbox"
          }
         ],
         "name": "2022-02"
        },
        {
         "data": [
          {
           "hovertemplate": "<b>%{hovertext}</b><br><br>mes=2022-03<br>valor=%{marker.color}<br>latitud=%{lat}<br>longitud=%{lon}<extra></extra>",
           "hovertext": [
            "Institucion Universitaria ITM Robledo",
            "Itagüí - Casa de Justicia Itagüí",
            "Politecnico Colombiano Jaime Isaza Cadavid - Medellin",
            "_OFF-Estación Tráfico Sur"
           ],
           "lat": {
            "bdata": "6dvdXi0aGUCL1ptiH74YQKjAbn391RhAewz74vebGEA=",
            "dtype": "f8"
           },
           "legendgroup": "",
           "lon": {
            "bdata": "h+kxgKblUsAwHu+fOOZSwJIu7B/65FLAJ6oSwCjoUsA=",
            "dtype": "f8"
           },
           "marker": {
            "color": {
             "bdata": "T/VUT/VU8z+VHXthD/7zP6c3velNr/A/QxaykIVs8T8=",
             "dtype": "f8"
            },
            "coloraxis": "coloraxis",
            "size": {
             "bdata": "T/VUT/VU8z+VHXthD/7zP6c3velNr/A/QxaykIVs8T8=",
             "dtype": "f8"
            },
            "sizemode": "area",
            "sizeref": 0.009944444444444443
           },
           "mode": "markers",
           "name": "",
           "showlegend": false,
           "subplot": "mapbox",
           "type": "scattermapbox"
          }
         ],
         "name": "2022-03"
        },
        {
         "data": [
          {
           "hovertemplate": "<b>%{hovertext}</b><br><br>mes=2022-04<br>valor=%{marker.color}<br>latitud=%{lat}<br>longitud=%{lon}<extra></extra>",
           "hovertext": [
            "Institucion Universitaria ITM Robledo",
            "Itagüí - Casa de Justicia Itagüí",
            "Politecnico Colombiano Jaime Isaza Cadavid - Medellin",
            "_OFF-Estación Tráfico Sur"
           ],
           "lat": {
            "bdata": "6dvdXi0aGUCL1ptiH74YQKjAbn391RhAewz74vebGEA=",
            "dtype": "f8"
           },
           "legendgroup": "",
           "lon": {
            "bdata": "h+kxgKblUsAwHu+fOOZSwJIu7B/65FLAJ6oSwCjoUsA=",
            "dtype": "f8"
           },
           "marker": {
            "color": {
             "bdata": "43Wa43Wa8z827Vo27VryPzMsldc1DvE/pwR5SpAn8T8=",
             "dtype": "f8"
            },
            "coloraxis": "coloraxis",
            "size": {
             "bdata": "43Wa43Wa8z827Vo27VryPzMsldc1DvE/pwR5SpAn8T8=",
             "dtype": "f8"
            },
            "sizemode": "area",
            "sizeref": 0.009944444444444443
           },
           "mode": "markers",
           "name": "",
           "showlegend": false,
           "subplot": "mapbox",
           "type": "scattermapbox"
          }
         ],
         "name": "2022-04"
        },
        {
         "data": [
          {
           "hovertemplate": "<b>%{hovertext}</b><br><br>mes=2022-05<br>valor=%{marker.color}<br>latitud=%{lat}<br>longitud=%{lon}<extra></extra>",
           "hovertext": [
            "Institucion Universitaria ITM Robledo",
            "Itagüí - Casa de Justicia Itagüí",
            "Politecnico Colombiano Jaime Isaza Cadavid - Medellin",
            "_OFF-Estación Tráfico Sur"
           ],
           "lat": {
            "bdata": "6dvdXi0aGUCL1ptiH74YQKjAbn391RhAewz74vebGEA=",
            "dtype": "f8"
           },
           "legendgroup": "",
           "lon": {
            "bdata": "h+kxgKblUsAwHu+fOOZSwJIu7B/65FLAJ6oSwCjoUsA=",
            "dtype": "f8"
           },
           "marker": {
            "color": {
             "bdata": "bIqrm2h28j95QSHg88DxPwK3ohnI0vA/+X4fOrQT8T8=",
             "dtype": "f8"
            },
            "coloraxis": "coloraxis",
            "size": {
             "bdata": "bIqrm2h28j95QSHg88DxPwK3ohnI0vA/+X4fOrQT8T8=",
             "dtype": "f8"
            },
            "sizemode": "area",
            "sizeref": 0.009944444444444443
           },
           "mode": "markers",
           "name": "",
           "showlegend": false,
           "subplot": "mapbox",
           "type": "scattermapbox"
          }
         ],
         "name": "2022-05"
        },
        {
         "data": [
          {
           "hovertemplate": "<b>%{hovertext}</b><br><br>mes=2022-06<br>valor=%{marker.color}<br>latitud=%{lat}<br>longitud=%{lon}<extra></extra>",
           "hovertext": [
            "Institucion Universitaria ITM Robledo",
            "Itagüí - Casa de Justicia Itagüí",
            "Politecnico Colombiano Jaime Isaza Cadavid - Medellin",
            "_OFF-Estación Tráfico Sur"
           ],
           "lat": {
            "bdata": "6dvdXi0aGUCL1ptiH74YQKjAbn391RhAewz74vebGEA=",
            "dtype": "f8"
           },
           "legendgroup": "",
           "lon": {
            "bdata": "h+kxgKblUsAwHu+fOOZSwJIu7B/65FLAJ6oSwCjoUsA=",
            "dtype": "f8"
           },
           "marker": {
            "color": {
             "bdata": "rmZ5wSMe8j+cbvOvYLb+P1J2v1F2v/E/HMdxHMfx8D8=",
             "dtype": "f8"
            },
            "coloraxis": "coloraxis",
            "size": {
             "bdata": "rmZ5wSMe8j+cbvOvYLb+P1J2v1F2v/E/HMdxHMfx8D8=",
             "dtype": "f8"
            },
            "sizemode": "area",
            "sizeref": 0.009944444444444443
           },
           "mode": "markers",
           "name": "",
           "showlegend": false,
           "subplot": "mapbox",
           "type": "scattermapbox"
          }
         ],
         "name": "2022-06"
        },
        {
         "data": [
          {
           "hovertemplate": "<b>%{hovertext}</b><br><br>mes=2022-07<br>valor=%{marker.color}<br>latitud=%{lat}<br>longitud=%{lon}<extra></extra>",
           "hovertext": [
            "Institucion Universitaria ITM Robledo",
            "Itagüí - Casa de Justicia Itagüí",
            "Politecnico Colombiano Jaime Isaza Cadavid - Medellin",
            "_OFF-Estación Tráfico Sur"
           ],
           "lat": {
            "bdata": "6dvdXi0aGUCL1ptiH74YQKjAbn391RhAewz74vebGEA=",
            "dtype": "f8"
           },
           "legendgroup": "",
           "lon": {
            "bdata": "h+kxgKblUsAwHu+fOOZSwJIu7B/65FLAJ6oSwCjoUsA=",
            "dtype": "f8"
           },
           "marker": {
            "color": {
             "bdata": "HWcP3FM88z9uIKvYopz7Pys0NW6tQvM/vYwotkef8T8=",
             "dtype": "f8"
            },
            "coloraxis": "coloraxis",
            "size": {
             "bdata": "HWcP3FM88z9uIKvYopz7Pys0NW6tQvM/vYwotkef8T8=",
             "dtype": "f8"
            },
            "sizemode": "area",
            "sizeref": 0.009944444444444443
           },
           "mode": "markers",
           "name": "",
           "showlegend": false,
           "subplot": "mapbox",
           "type": "scattermapbox"
          }
         ],
         "name": "2022-07"
        },
        {
         "data": [
          {
           "hovertemplate": "<b>%{hovertext}</b><br><br>mes=2022-08<br>valor=%{marker.color}<br>latitud=%{lat}<br>longitud=%{lon}<extra></extra>",
           "hovertext": [
            "Institucion Universitaria ITM Robledo",
            "Itagüí - Casa de Justicia Itagüí",
            "Politecnico Colombiano Jaime Isaza Cadavid - Medellin",
            "_OFF-Estación Tráfico Sur"
           ],
           "lat": {
            "bdata": "6dvdXi0aGUCL1ptiH74YQKjAbn391RhAewz74vebGEA=",
            "dtype": "f8"
           },
           "legendgroup": "",
           "lon": {
            "bdata": "h+kxgKblUsAwHu+fOOZSwJIu7B/65FLAJ6oSwCjoUsA=",
            "dtype": "f8"
           },
           "marker": {
            "color": {
             "bdata": "67vtqeLx8j8r6CdAvhryP7PUHm03IPE/Pmcg+RCn8T8=",
             "dtype": "f8"
            },
            "coloraxis": "coloraxis",
            "size": {
             "bdata": "67vtqeLx8j8r6CdAvhryP7PUHm03IPE/Pmcg+RCn8T8=",
             "dtype": "f8"
            },
            "sizemode": "area",
            "sizeref": 0.009944444444444443
           },
           "mode": "markers",
           "name": "",
           "showlegend": false,
           "subplot": "mapbox",
           "type": "scattermapbox"
          }
         ],
         "name": "2022-08"
        },
        {
         "data": [
          {
           "hovertemplate": "<b>%{hovertext}</b><br><br>mes=2022-09<br>valor=%{marker.color}<br>latitud=%{lat}<br>longitud=%{lon}<extra></extra>",
           "hovertext": [
            "Institucion Universitaria ITM Robledo",
            "Itagüí - Casa de Justicia Itagüí",
            "Politecnico Colombiano Jaime Isaza Cadavid - Medellin",
            "_OFF-Estación Tráfico Sur"
           ],
           "lat": {
            "bdata": "6dvdXi0aGUCL1ptiH74YQKjAbn391RhAewz74vebGEA=",
            "dtype": "f8"
           },
           "legendgroup": "",
           "lon": {
            "bdata": "h+kxgKblUsAwHu+fOOZSwJIu7B/65FLAJ6oSwCjoUsA=",
            "dtype": "f8"
           },
           "marker": {
            "color": {
             "bdata": "LSAzEM4f9D+fWCfZH0LyP9QRer28yvA/FG47u1bo8D8=",
             "dtype": "f8"
            },
            "coloraxis": "coloraxis",
            "size": {
             "bdata": "LSAzEM4f9D+fWCfZH0LyP9QRer28yvA/FG47u1bo8D8=",
             "dtype": "f8"
            },
            "sizemode": "area",
            "sizeref": 0.009944444444444443
           },
           "mode": "markers",
           "name": "",
           "showlegend": false,
           "subplot": "mapbox",
           "type": "scattermapbox"
          }
         ],
         "name": "2022-09"
        },
        {
         "data": [
          {
           "hovertemplate": "<b>%{hovertext}</b><br><br>mes=2022-10<br>valor=%{marker.color}<br>latitud=%{lat}<br>longitud=%{lon}<extra></extra>",
           "hovertext": [
            "Institucion Universitaria ITM Robledo",
            "Itagüí - Casa de Justicia Itagüí",
            "Politecnico Colombiano Jaime Isaza Cadavid - Medellin",
            "_OFF-Estación Tráfico Sur"
           ],
           "lat": {
            "bdata": "6dvdXi0aGUCL1ptiH74YQKjAbn391RhAewz74vebGEA=",
            "dtype": "f8"
           },
           "legendgroup": "",
           "lon": {
            "bdata": "h+kxgKblUsAwHu+fOOZSwJIu7B/65FLAJ6oSwCjoUsA=",
            "dtype": "f8"
           },
           "marker": {
            "color": {
             "bdata": "i78eyjG58T84KkUPe6PyP8CYxcKq3vc/U5m9iC2V8T8=",
             "dtype": "f8"
            },
            "coloraxis": "coloraxis",
            "size": {
             "bdata": "i78eyjG58T84KkUPe6PyP8CYxcKq3vc/U5m9iC2V8T8=",
             "dtype": "f8"
            },
            "sizemode": "area",
            "sizeref": 0.009944444444444443
           },
           "mode": "markers",
           "name": "",
           "showlegend": false,
           "subplot": "mapbox",
           "type": "scattermapbox"
          }
         ],
         "name": "2022-10"
        },
        {
         "data": [
          {
           "hovertemplate": "<b>%{hovertext}</b><br><br>mes=2022-11<br>valor=%{marker.color}<br>latitud=%{lat}<br>longitud=%{lon}<extra></extra>",
           "hovertext": [
            "Institucion Universitaria ITM Robledo",
            "Itagüí - Casa de Justicia Itagüí",
            "Politecnico Colombiano Jaime Isaza Cadavid - Medellin",
            "_OFF-Estación Tráfico Sur"
           ],
           "lat": {
            "bdata": "6dvdXi0aGUCL1ptiH74YQKjAbn391RhAewz74vebGEA=",
            "dtype": "f8"
           },
           "legendgroup": "",
           "lon": {
            "bdata": "h+kxgKblUsAwHu+fOOZSwJIu7B/65FLAJ6oSwCjoUsA=",
            "dtype": "f8"
           },
           "marker": {
            "color": {
             "bdata": "tmzatWza8T+5tSzW/eD0P8tHey+mxfk/mRxGOJLJ8T8=",
             "dtype": "f8"
            },
            "coloraxis": "coloraxis",
            "size": {
             "bdata": "tmzatWza8T+5tSzW/eD0P8tHey+mxfk/mRxGOJLJ8T8=",
             "dtype": "f8"
            },
            "sizemode": "area",
            "sizeref": 0.009944444444444443
           },
           "mode": "markers",
           "name": "",
           "showlegend": false,
           "subplot": "mapbox",
           "type": "scattermapbox"
          }
         ],
         "name": "2022-11"
        },
        {
         "data": [
          {
           "hovertemplate": "<b>%{hovertext}</b><br><br>mes=2022-12<br>valor=%{marker.color}<br>latitud=%{lat}<br>longitud=%{lon}<extra></extra>",
           "hovertext": [
            "Institucion Universitaria ITM Robledo",
            "Itagüí - Casa de Justicia Itagüí",
            "Politecnico Colombiano Jaime Isaza Cadavid - Medellin",
            "_OFF-Estación Tráfico Sur"
           ],
           "lat": {
            "bdata": "6dvdXi0aGUCL1ptiH74YQKjAbn391RhAewz74vebGEA=",
            "dtype": "f8"
           },
           "legendgroup": "",
           "lon": {
            "bdata": "h+kxgKblUsAwHu+fOOZSwJIu7B/65FLAJ6oSwCjoUsA=",
            "dtype": "f8"
           },
           "marker": {
            "color": {
             "bdata": "chzHcRzH8T8K0Y/Xu8DxP2ZmZmZm5gFAW3ZOijA38T8=",
             "dtype": "f8"
            },
            "coloraxis": "coloraxis",
            "size": {
             "bdata": "chzHcRzH8T8K0Y/Xu8DxP2ZmZmZm5gFAW3ZOijA38T8=",
             "dtype": "f8"
            },
            "sizemode": "area",
            "sizeref": 0.009944444444444443
           },
           "mode": "markers",
           "name": "",
           "showlegend": false,
           "subplot": "mapbox",
           "type": "scattermapbox"
          }
         ],
         "name": "2022-12"
        }
       ],
       "layout": {
        "coloraxis": {
         "colorbar": {
          "title": {
           "text": "valor"
          }
         },
         "colorscale": [
          [
           0,
           "rgb(255,245,240)"
          ],
          [
           0.125,
           "rgb(254,224,210)"
          ],
          [
           0.25,
           "rgb(252,187,161)"
          ],
          [
           0.375,
           "rgb(252,146,114)"
          ],
          [
           0.5,
           "rgb(251,106,74)"
          ],
          [
           0.625,
           "rgb(239,59,44)"
          ],
          [
           0.75,
           "rgb(203,24,29)"
          ],
          [
           0.875,
           "rgb(165,15,21)"
          ],
          [
           1,
           "rgb(103,0,13)"
          ]
         ]
        },
        "legend": {
         "itemsizing": "constant",
         "tracegroupgap": 0
        },
        "mapbox": {
         "center": {
          "lat": 6.208889922641509,
          "lon": -75.59492176792452
         },
         "domain": {
          "x": [
           0,
           1
          ],
          "y": [
           0,
           1
          ]
         },
         "style": "carto-positron",
         "zoom": 10
        },
        "margin": {
         "b": 0,
         "l": 0,
         "r": 0,
         "t": 40
        },
        "sliders": [
         {
          "active": 0,
          "currentvalue": {
           "prefix": "mes="
          },
          "len": 0.9,
          "pad": {
           "b": 10,
           "t": 60
          },
          "steps": [
           {
            "args": [
             [
              "2021-12"
             ],
             {
              "frame": {
               "duration": 0,
               "redraw": true
              },
              "fromcurrent": true,
              "mode": "immediate",
              "transition": {
               "duration": 0,
               "easing": "linear"
              }
             }
            ],
            "label": "2021-12",
            "method": "animate"
           },
           {
            "args": [
             [
              "2022-01"
             ],
             {
              "frame": {
               "duration": 0,
               "redraw": true
              },
              "fromcurrent": true,
              "mode": "immediate",
              "transition": {
               "duration": 0,
               "easing": "linear"
              }
             }
            ],
            "label": "2022-01",
            "method": "animate"
           },
           {
            "args": [
             [
              "2022-02"
             ],
             {
              "frame": {
               "duration": 0,
               "redraw": true
              },
              "fromcurrent": true,
              "mode": "immediate",
              "transition": {
               "duration": 0,
               "easing": "linear"
              }
             }
            ],
            "label": "2022-02",
            "method": "animate"
           },
           {
            "args": [
             [
              "2022-03"
             ],
             {
              "frame": {
               "duration": 0,
               "redraw": true
              },
              "fromcurrent": true,
              "mode": "immediate",
              "transition": {
               "duration": 0,
               "easing": "linear"
              }
             }
            ],
            "label": "2022-03",
            "method": "animate"
           },
           {
            "args": [
             [
              "2022-04"
             ],
             {
              "frame": {
               "duration": 0,
               "redraw": true
              },
              "fromcurrent": true,
              "mode": "immediate",
              "transition": {
               "duration": 0,
               "easing": "linear"
              }
             }
            ],
            "label": "2022-04",
            "method": "animate"
           },
           {
            "args": [
             [
              "2022-05"
             ],
             {
              "frame": {
               "duration": 0,
               "redraw": true
              },
              "fromcurrent": true,
              "mode": "immediate",
              "transition": {
               "duration": 0,
               "easing": "linear"
              }
             }
            ],
            "label": "2022-05",
            "method": "animate"
           },
           {
            "args": [
             [
              "2022-06"
             ],
             {
              "frame": {
               "duration": 0,
               "redraw": true
              },
              "fromcurrent": true,
              "mode": "immediate",
              "transition": {
               "duration": 0,
               "easing": "linear"
              }
             }
            ],
            "label": "2022-06",
            "method": "animate"
           },
           {
            "args": [
             [
              "2022-07"
             ],
             {
              "frame": {
               "duration": 0,
               "redraw": true
              },
              "fromcurrent": true,
              "mode": "immediate",
              "transition": {
               "duration": 0,
               "easing": "linear"
              }
             }
            ],
            "label": "2022-07",
            "method": "animate"
           },
           {
            "args": [
             [
              "2022-08"
             ],
             {
              "frame": {
               "duration": 0,
               "redraw": true
              },
              "fromcurrent": true,
              "mode": "immediate",
              "transition": {
               "duration": 0,
               "easing": "linear"
              }
             }
            ],
            "label": "2022-08",
            "method": "animate"
           },
           {
            "args": [
             [
              "2022-09"
             ],
             {
              "frame": {
               "duration": 0,
               "redraw": true
              },
              "fromcurrent": true,
              "mode": "immediate",
              "transition": {
               "duration": 0,
               "easing": "linear"
              }
             }
            ],
            "label": "2022-09",
            "method": "animate"
           },
           {
            "args": [
             [
              "2022-10"
             ],
             {
              "frame": {
               "duration": 0,
               "redraw": true
              },
              "fromcurrent": true,
              "mode": "immediate",
              "transition": {
               "duration": 0,
               "easing": "linear"
              }
             }
            ],
            "label": "2022-10",
            "method": "animate"
           },
           {
            "args": [
             [
              "2022-11"
             ],
             {
              "frame": {
               "duration": 0,
               "redraw": true
              },
              "fromcurrent": true,
              "mode": "immediate",
              "transition": {
               "duration": 0,
               "easing": "linear"
              }
             }
            ],
            "label": "2022-11",
            "method": "animate"
           },
           {
            "args": [
             [
              "2022-12"
             ],
             {
              "frame": {
               "duration": 0,
               "redraw": true
              },
              "fromcurrent": true,
              "mode": "immediate",
              "transition": {
               "duration": 0,
               "easing": "linear"
              }
             }
            ],
            "label": "2022-12",
            "method": "animate"
           }
          ],
          "x": 0.1,
          "xanchor": "left",
          "y": 0,
          "yanchor": "top"
         }
        ],
        "template": {
         "data": {
          "bar": [
           {
            "error_x": {
             "color": "#2a3f5f"
            },
            "error_y": {
             "color": "#2a3f5f"
            },
            "marker": {
             "line": {
              "color": "#E5ECF6",
              "width": 0.5
             },
             "pattern": {
              "fillmode": "overlay",
              "size": 10,
              "solidity": 0.2
             }
            },
            "type": "bar"
           }
          ],
          "barpolar": [
           {
            "marker": {
             "line": {
              "color": "#E5ECF6",
              "width": 0.5
             },
             "pattern": {
              "fillmode": "overlay",
              "size": 10,
              "solidity": 0.2
             }
            },
            "type": "barpolar"
           }
          ],
          "carpet": [
           {
            "aaxis": {
             "endlinecolor": "#2a3f5f",
             "gridcolor": "white",
             "linecolor": "white",
             "minorgridcolor": "white",
             "startlinecolor": "#2a3f5f"
            },
            "baxis": {
             "endlinecolor": "#2a3f5f",
             "gridcolor": "white",
             "linecolor": "white",
             "minorgridcolor": "white",
             "startlinecolor": "#2a3f5f"
            },
            "type": "carpet"
           }
          ],
          "choropleth": [
           {
            "colorbar": {
             "outlinewidth": 0,
             "ticks": ""
            },
            "type": "choropleth"
           }
          ],
          "contour": [
           {
            "colorbar": {
             "outlinewidth": 0,
             "ticks": ""
            },
            "colorscale": [
             [
              0,
              "#0d0887"
             ],
             [
              0.1111111111111111,
              "#46039f"
             ],
             [
              0.2222222222222222,
              "#7201a8"
             ],
             [
              0.3333333333333333,
              "#9c179e"
             ],
             [
              0.4444444444444444,
              "#bd3786"
             ],
             [
              0.5555555555555556,
              "#d8576b"
             ],
             [
              0.6666666666666666,
              "#ed7953"
             ],
             [
              0.7777777777777778,
              "#fb9f3a"
             ],
             [
              0.8888888888888888,
              "#fdca26"
             ],
             [
              1,
              "#f0f921"
             ]
            ],
            "type": "contour"
           }
          ],
          "contourcarpet": [
           {
            "colorbar": {
             "outlinewidth": 0,
             "ticks": ""
            },
            "type": "contourcarpet"
           }
          ],
          "heatmap": [
           {
            "colorbar": {
             "outlinewidth": 0,
             "ticks": ""
            },
            "colorscale": [
             [
              0,
              "#0d0887"
             ],
             [
              0.1111111111111111,
              "#46039f"
             ],
             [
              0.2222222222222222,
              "#7201a8"
             ],
             [
              0.3333333333333333,
              "#9c179e"
             ],
             [
              0.4444444444444444,
              "#bd3786"
             ],
             [
              0.5555555555555556,
              "#d8576b"
             ],
             [
              0.6666666666666666,
              "#ed7953"
             ],
             [
              0.7777777777777778,
              "#fb9f3a"
             ],
             [
              0.8888888888888888,
              "#fdca26"
             ],
             [
              1,
              "#f0f921"
             ]
            ],
            "type": "heatmap"
           }
          ],
          "histogram": [
           {
            "marker": {
             "pattern": {
              "fillmode": "overlay",
              "size": 10,
              "solidity": 0.2
             }
            },
            "type": "histogram"
           }
          ],
          "histogram2d": [
           {
            "colorbar": {
             "outlinewidth": 0,
             "ticks": ""
            },
            "colorscale": [
             [
              0,
              "#0d0887"
             ],
             [
              0.1111111111111111,
              "#46039f"
             ],
             [
              0.2222222222222222,
              "#7201a8"
             ],
             [
              0.3333333333333333,
              "#9c179e"
             ],
             [
              0.4444444444444444,
              "#bd3786"
             ],
             [
              0.5555555555555556,
              "#d8576b"
             ],
             [
              0.6666666666666666,
              "#ed7953"
             ],
             [
              0.7777777777777778,
              "#fb9f3a"
             ],
             [
              0.8888888888888888,
              "#fdca26"
             ],
             [
              1,
              "#f0f921"
             ]
            ],
            "type": "histogram2d"
           }
          ],
          "histogram2dcontour": [
           {
            "colorbar": {
             "outlinewidth": 0,
             "ticks": ""
            },
            "colorscale": [
             [
              0,
              "#0d0887"
             ],
             [
              0.1111111111111111,
              "#46039f"
             ],
             [
              0.2222222222222222,
              "#7201a8"
             ],
             [
              0.3333333333333333,
              "#9c179e"
             ],
             [
              0.4444444444444444,
              "#bd3786"
             ],
             [
              0.5555555555555556,
              "#d8576b"
             ],
             [
              0.6666666666666666,
              "#ed7953"
             ],
             [
              0.7777777777777778,
              "#fb9f3a"
             ],
             [
              0.8888888888888888,
              "#fdca26"
             ],
             [
              1,
              "#f0f921"
             ]
            ],
            "type": "histogram2dcontour"
           }
          ],
          "mesh3d": [
           {
            "colorbar": {
             "outlinewidth": 0,
             "ticks": ""
            },
            "type": "mesh3d"
           }
          ],
          "parcoords": [
           {
            "line": {
             "colorbar": {
              "outlinewidth": 0,
              "ticks": ""
             }
            },
            "type": "parcoords"
           }
          ],
          "pie": [
           {
            "automargin": true,
            "type": "pie"
           }
          ],
          "scatter": [
           {
            "fillpattern": {
             "fillmode": "overlay",
             "size": 10,
             "solidity": 0.2
            },
            "type": "scatter"
           }
          ],
          "scatter3d": [
           {
            "line": {
             "colorbar": {
              "outlinewidth": 0,
              "ticks": ""
             }
            },
            "marker": {
             "colorbar": {
              "outlinewidth": 0,
              "ticks": ""
             }
            },
            "type": "scatter3d"
           }
          ],
          "scattercarpet": [
           {
            "marker": {
             "colorbar": {
              "outlinewidth": 0,
              "ticks": ""
             }
            },
            "type": "scattercarpet"
           }
          ],
          "scattergeo": [
           {
            "marker": {
             "colorbar": {
              "outlinewidth": 0,
              "ticks": ""
             }
            },
            "type": "scattergeo"
           }
          ],
          "scattergl": [
           {
            "marker": {
             "colorbar": {
              "outlinewidth": 0,
              "ticks": ""
             }
            },
            "type": "scattergl"
           }
          ],
          "scattermap": [
           {
            "marker": {
             "colorbar": {
              "outlinewidth": 0,
              "ticks": ""
             }
            },
            "type": "scattermap"
           }
          ],
          "scattermapbox": [
           {
            "marker": {
             "colorbar": {
              "outlinewidth": 0,
              "ticks": ""
             }
            },
            "type": "scattermapbox"
           }
          ],
          "scatterpolar": [
           {
            "marker": {
             "colorbar": {
              "outlinewidth": 0,
              "ticks": ""
             }
            },
            "type": "scatterpolar"
           }
          ],
          "scatterpolargl": [
           {
            "marker": {
             "colorbar": {
              "outlinewidth": 0,
              "ticks": ""
             }
            },
            "type": "scatterpolargl"
           }
          ],
          "scatterternary": [
           {
            "marker": {
             "colorbar": {
              "outlinewidth": 0,
              "ticks": ""
             }
            },
            "type": "scatterternary"
           }
          ],
          "surface": [
           {
            "colorbar": {
             "outlinewidth": 0,
             "ticks": ""
            },
            "colorscale": [
             [
              0,
              "#0d0887"
             ],
             [
              0.1111111111111111,
              "#46039f"
             ],
             [
              0.2222222222222222,
              "#7201a8"
             ],
             [
              0.3333333333333333,
              "#9c179e"
             ],
             [
              0.4444444444444444,
              "#bd3786"
             ],
             [
              0.5555555555555556,
              "#d8576b"
             ],
             [
              0.6666666666666666,
              "#ed7953"
             ],
             [
              0.7777777777777778,
              "#fb9f3a"
             ],
             [
              0.8888888888888888,
              "#fdca26"
             ],
             [
              1,
              "#f0f921"
             ]
            ],
            "type": "surface"
           }
          ],
          "table": [
           {
            "cells": {
             "fill": {
              "color": "#EBF0F8"
             },
             "line": {
              "color": "white"
             }
            },
            "header": {
             "fill": {
              "color": "#C8D4E3"
             },
             "line": {
              "color": "white"
             }
            },
            "type": "table"
           }
          ]
         },
         "layout": {
          "annotationdefaults": {
           "arrowcolor": "#2a3f5f",
           "arrowhead": 0,
           "arrowwidth": 1
          },
          "autotypenumbers": "strict",
          "coloraxis": {
           "colorbar": {
            "outlinewidth": 0,
            "ticks": ""
           }
          },
          "colorscale": {
           "diverging": [
            [
             0,
             "#8e0152"
            ],
            [
             0.1,
             "#c51b7d"
            ],
            [
             0.2,
             "#de77ae"
            ],
            [
             0.3,
             "#f1b6da"
            ],
            [
             0.4,
             "#fde0ef"
            ],
            [
             0.5,
             "#f7f7f7"
            ],
            [
             0.6,
             "#e6f5d0"
            ],
            [
             0.7,
             "#b8e186"
            ],
            [
             0.8,
             "#7fbc41"
            ],
            [
             0.9,
             "#4d9221"
            ],
            [
             1,
             "#276419"
            ]
           ],
           "sequential": [
            [
             0,
             "#0d0887"
            ],
            [
             0.1111111111111111,
             "#46039f"
            ],
            [
             0.2222222222222222,
             "#7201a8"
            ],
            [
             0.3333333333333333,
             "#9c179e"
            ],
            [
             0.4444444444444444,
             "#bd3786"
            ],
            [
             0.5555555555555556,
             "#d8576b"
            ],
            [
             0.6666666666666666,
             "#ed7953"
            ],
            [
             0.7777777777777778,
             "#fb9f3a"
            ],
            [
             0.8888888888888888,
             "#fdca26"
            ],
            [
             1,
             "#f0f921"
            ]
           ],
           "sequentialminus": [
            [
             0,
             "#0d0887"
            ],
            [
             0.1111111111111111,
             "#46039f"
            ],
            [
             0.2222222222222222,
             "#7201a8"
            ],
            [
             0.3333333333333333,
             "#9c179e"
            ],
            [
             0.4444444444444444,
             "#bd3786"
            ],
            [
             0.5555555555555556,
             "#d8576b"
            ],
            [
             0.6666666666666666,
             "#ed7953"
            ],
            [
             0.7777777777777778,
             "#fb9f3a"
            ],
            [
             0.8888888888888888,
             "#fdca26"
            ],
            [
             1,
             "#f0f921"
            ]
           ]
          },
          "colorway": [
           "#636efa",
           "#EF553B",
           "#00cc96",
           "#ab63fa",
           "#FFA15A",
           "#19d3f3",
           "#FF6692",
           "#B6E880",
           "#FF97FF",
           "#FECB52"
          ],
          "font": {
           "color": "#2a3f5f"
          },
          "geo": {
           "bgcolor": "white",
           "lakecolor": "white",
           "landcolor": "#E5ECF6",
           "showlakes": true,
           "showland": true,
           "subunitcolor": "white"
          },
          "hoverlabel": {
           "align": "left"
          },
          "hovermode": "closest",
          "mapbox": {
           "style": "light"
          },
          "paper_bgcolor": "white",
          "plot_bgcolor": "#E5ECF6",
          "polar": {
           "angularaxis": {
            "gridcolor": "white",
            "linecolor": "white",
            "ticks": ""
           },
           "bgcolor": "#E5ECF6",
           "radialaxis": {
            "gridcolor": "white",
            "linecolor": "white",
            "ticks": ""
           }
          },
          "scene": {
           "xaxis": {
            "backgroundcolor": "#E5ECF6",
            "gridcolor": "white",
            "gridwidth": 2,
            "linecolor": "white",
            "showbackground": true,
            "ticks": "",
            "zerolinecolor": "white"
           },
           "yaxis": {
            "backgroundcolor": "#E5ECF6",
            "gridcolor": "white",
            "gridwidth": 2,
            "linecolor": "white",
            "showbackground": true,
            "ticks": "",
            "zerolinecolor": "white"
           },
           "zaxis": {
            "backgroundcolor": "#E5ECF6",
            "gridcolor": "white",
            "gridwidth": 2,
            "linecolor": "white",
            "showbackground": true,
            "ticks": "",
            "zerolinecolor": "white"
           }
          },
          "shapedefaults": {
           "line": {
            "color": "#2a3f5f"
           }
          },
          "ternary": {
           "aaxis": {
            "gridcolor": "white",
            "linecolor": "white",
            "ticks": ""
           },
           "baxis": {
            "gridcolor": "white",
            "linecolor": "white",
            "ticks": ""
           },
           "bgcolor": "#E5ECF6",
           "caxis": {
            "gridcolor": "white",
            "linecolor": "white",
            "ticks": ""
           }
          },
          "title": {
           "x": 0.05
          },
          "xaxis": {
           "automargin": true,
           "gridcolor": "white",
           "linecolor": "white",
           "ticks": "",
           "title": {
            "standoff": 15
           },
           "zerolinecolor": "white",
           "zerolinewidth": 2
          },
          "yaxis": {
           "automargin": true,
           "gridcolor": "white",
           "linecolor": "white",
           "ticks": "",
           "title": {
            "standoff": 15
           },
           "zerolinecolor": "white",
           "zerolinewidth": 2
          }
         }
        },
        "title": {
         "text": "NO - Concentración mensual por estación"
        },
        "updatemenus": [
         {
          "buttons": [
           {
            "args": [
             null,
             {
              "frame": {
               "duration": 500,
               "redraw": true
              },
              "fromcurrent": true,
              "mode": "immediate",
              "transition": {
               "duration": 500,
               "easing": "linear"
              }
             }
            ],
            "label": "&#9654;",
            "method": "animate"
           },
           {
            "args": [
             [
              null
             ],
             {
              "frame": {
               "duration": 0,
               "redraw": true
              },
              "fromcurrent": true,
              "mode": "immediate",
              "transition": {
               "duration": 0,
               "easing": "linear"
              }
             }
            ],
            "label": "&#9724;",
            "method": "animate"
           }
          ],
          "direction": "left",
          "pad": {
           "r": 10,
           "t": 70
          },
          "showactive": false,
          "type": "buttons",
          "x": 0.1,
          "xanchor": "right",
          "y": 0,
          "yanchor": "top"
         }
        ]
       }
      }
     },
     "metadata": {},
     "output_type": "display_data"
    }
   ],
   "source": [
    "\n",
    "\n",
    "import plotly.express as px\n",
    "\n",
    "# Asegurar que el mes esté como string\n",
    "df['mes'] = df['fecha'].dt.to_period(\"M\").astype(str)\n",
    "\n",
    "# Calcular promedio mensual por estación\n",
    "mapa_mensual = df.groupby(['nombre', 'latitud', 'longitud', 'mes'])['valor'].mean().reset_index()\n",
    "\n",
    "media_mensual_limpio = mapa_mensual.dropna(subset=['valor'])\n",
    "\n",
    "# Crear mapa animado\n",
    "fig = px.scatter_mapbox(\n",
    "    media_mensual_limpio,\n",
    "    lat=\"latitud\", lon=\"longitud\",\n",
    "    color=\"valor\",\n",
    "    size=\"valor\",\n",
    "    animation_frame=\"mes\",\n",
    "    hover_name=\"nombre\",\n",
    "    color_continuous_scale=\"Reds\",\n",
    "    size_max=15,\n",
    "    zoom=10,\n",
    "    mapbox_style=\"carto-positron\",\n",
    "    title=f'{contaminante_unico.upper()} - Concentración mensual por estación'\n",
    ")\n",
    "\n",
    "fig.update_layout(margin={\"r\":0,\"t\":40,\"l\":0,\"b\":0})\n",
    "fig.show()"
   ]
  }
 ],
 "metadata": {
  "kernelspec": {
   "display_name": "Python 3",
   "language": "python",
   "name": "python3"
  },
  "language_info": {
   "codemirror_mode": {
    "name": "ipython",
    "version": 3
   },
   "file_extension": ".py",
   "mimetype": "text/x-python",
   "name": "python",
   "nbconvert_exporter": "python",
   "pygments_lexer": "ipython3",
   "version": "3.10.11"
  }
 },
 "nbformat": 4,
 "nbformat_minor": 5
}
