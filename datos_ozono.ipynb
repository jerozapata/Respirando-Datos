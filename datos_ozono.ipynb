{
 "cells": [
  {
   "cell_type": "code",
   "execution_count": 1,
   "id": "5c4ff833",
   "metadata": {},
   "outputs": [],
   "source": [
    "import json\n",
    "import pandas as pd\n",
    "import numpy as np\n",
    "import matplotlib.pyplot as plt\n",
    "import seaborn as sns\n",
    "import plotly.express as px\n",
    "import folium\n",
    "import os"
   ]
  },
  {
   "cell_type": "code",
   "execution_count": 2,
   "id": "2fa33ec2",
   "metadata": {},
   "outputs": [
    {
     "name": "stdout",
     "output_type": "stream",
     "text": [
      "    codigoSerial                               nombre nombreCorto   latitud  \\\n",
      "0              3  _OFF-Girardota - S.O.S Aburrá Norte    GIR-SOSN  6.378433   \n",
      "1              3  _OFF-Girardota - S.O.S Aburrá Norte    GIR-SOSN  6.378433   \n",
      "2              3  _OFF-Girardota - S.O.S Aburrá Norte    GIR-SOSN  6.378433   \n",
      "3              3  _OFF-Girardota - S.O.S Aburrá Norte    GIR-SOSN  6.378433   \n",
      "4              3  _OFF-Girardota - S.O.S Aburrá Norte    GIR-SOSN  6.378433   \n",
      "5              3  _OFF-Girardota - S.O.S Aburrá Norte    GIR-SOSN  6.378433   \n",
      "6              3  _OFF-Girardota - S.O.S Aburrá Norte    GIR-SOSN  6.378433   \n",
      "7              3  _OFF-Girardota - S.O.S Aburrá Norte    GIR-SOSN  6.378433   \n",
      "8              3  _OFF-Girardota - S.O.S Aburrá Norte    GIR-SOSN  6.378433   \n",
      "9              3  _OFF-Girardota - S.O.S Aburrá Norte    GIR-SOSN  6.378433   \n",
      "10             3  _OFF-Girardota - S.O.S Aburrá Norte    GIR-SOSN  6.378433   \n",
      "11             3  _OFF-Girardota - S.O.S Aburrá Norte    GIR-SOSN  6.378433   \n",
      "12             3  _OFF-Girardota - S.O.S Aburrá Norte    GIR-SOSN  6.378433   \n",
      "13             3  _OFF-Girardota - S.O.S Aburrá Norte    GIR-SOSN  6.378433   \n",
      "14             3  _OFF-Girardota - S.O.S Aburrá Norte    GIR-SOSN  6.378433   \n",
      "15             3  _OFF-Girardota - S.O.S Aburrá Norte    GIR-SOSN  6.378433   \n",
      "16             3  _OFF-Girardota - S.O.S Aburrá Norte    GIR-SOSN  6.378433   \n",
      "17             3  _OFF-Girardota - S.O.S Aburrá Norte    GIR-SOSN  6.378433   \n",
      "18             3  _OFF-Girardota - S.O.S Aburrá Norte    GIR-SOSN  6.378433   \n",
      "19             3  _OFF-Girardota - S.O.S Aburrá Norte    GIR-SOSN  6.378433   \n",
      "\n",
      "     longitud contaminante               fecha  calibracion  valor  \n",
      "0  -75.451141        ozono 2021-12-14 04:00:00      -9999.0    NaN  \n",
      "1  -75.451141        ozono 2021-12-14 05:00:00      -9999.0    NaN  \n",
      "2  -75.451141        ozono 2021-12-14 06:00:00      -9999.0    NaN  \n",
      "3  -75.451141        ozono 2021-12-14 07:00:00      -9999.0    NaN  \n",
      "4  -75.451141        ozono 2021-12-14 08:00:00      -9999.0    NaN  \n",
      "5  -75.451141        ozono 2021-12-14 09:00:00      -9999.0    NaN  \n",
      "6  -75.451141        ozono 2021-12-14 10:00:00      -9999.0    NaN  \n",
      "7  -75.451141        ozono 2021-12-14 11:00:00      -9999.0    NaN  \n",
      "8  -75.451141        ozono 2021-12-14 12:00:00      -9999.0    NaN  \n",
      "9  -75.451141        ozono 2021-12-14 13:00:00      -9999.0    NaN  \n",
      "10 -75.451141        ozono 2021-12-14 14:00:00      -9999.0    NaN  \n",
      "11 -75.451141        ozono 2021-12-14 15:00:00      -9999.0    NaN  \n",
      "12 -75.451141        ozono 2021-12-14 16:00:00      -9999.0    NaN  \n",
      "13 -75.451141        ozono 2021-12-14 17:00:00      -9999.0    NaN  \n",
      "14 -75.451141        ozono 2021-12-14 18:00:00      -9999.0    NaN  \n",
      "15 -75.451141        ozono 2021-12-14 19:00:00      -9999.0    NaN  \n",
      "16 -75.451141        ozono 2021-12-14 20:00:00      -9999.0    NaN  \n",
      "17 -75.451141        ozono 2021-12-14 21:00:00      -9999.0    NaN  \n",
      "18 -75.451141        ozono 2021-12-14 22:00:00      -9999.0    NaN  \n",
      "19 -75.451141        ozono 2021-12-14 23:00:00      -9999.0    NaN  \n"
     ]
    }
   ],
   "source": [
    "\n",
    "carpeta_ozono = \"Datasets\\Datos_SIATA_Aire_ozono.json\"\n",
    "\n",
    "with open(carpeta_ozono, \"r\", encoding=\"utf-8\") as f:data = json.load(f)\n",
    "\n",
    "registros = []\n",
    "\n",
    "        \n",
    "for estacion in data:\n",
    "    lat = estacion.get(\"latitud\")\n",
    "    lon = estacion.get(\"longitud\")\n",
    "    codigo = estacion.get(\"codigoSerial\")\n",
    "    nombre = estacion.get(\"nombre\")\n",
    "    nombreCorto = estacion.get(\"nombreCorto\")\n",
    "    datos = estacion.get(\"datos\", [])\n",
    "\n",
    "    for entrada in datos:\n",
    "        registros.append({\n",
    "            \"codigoSerial\": codigo,\n",
    "            \"nombre\": nombre,\n",
    "            \"nombreCorto\": nombreCorto,\n",
    "            \"latitud\": lat,\n",
    "            \"longitud\": lon,\n",
    "            \"contaminante\": entrada.get(\"variableConsulta\"),\n",
    "            \"fecha\": entrada.get(\"fecha\"),\n",
    "            \"calibracion\": entrada.get(\"valor\"), # Ojooo esto es calibración \n",
    "            \"valor\": entrada.get(\"calidad\") # Y esto calidad, osea que la calidad se llama valor y la calibración valga la redundancia calibración \n",
    "        })\n",
    "\n",
    "# Convertimos a DataFrame como antes\n",
    "df = pd.DataFrame(registros)\n",
    "df['fecha'] = pd.to_datetime(df['fecha'], errors='coerce')\n",
    "df['valor'] = pd.to_numeric(df['valor'], errors='coerce')\n",
    "df[\"calibracion\"] = pd.to_numeric(df[\"calibracion\"], errors='coerce')\n",
    "\n",
    "\n",
    "df.loc[df[\"calibracion\"] == -9999, 'valor'] = np.nan\n",
    "\n",
    "print(df.head(20))\n"
   ]
  },
  {
   "cell_type": "code",
   "execution_count": 3,
   "id": "38fcbbab",
   "metadata": {},
   "outputs": [
    {
     "name": "stdout",
     "output_type": "stream",
     "text": [
      "Porcentaje datos válidos por estación\n",
      "nombreCorto\n",
      "BAR-PDLA    98.938477\n",
      "BEL-USBV    96.313206\n",
      "CAL-LASA    41.513526\n",
      "GIR-SOSN     0.045657\n",
      "ITA-CONC    95.171784\n",
      "MED-LAYE    99.714644\n",
      "MED-MIRA    99.372218\n",
      "MED-UDEM    99.121105\n",
      "MED-UNNV     0.000000\n",
      "Name: valor, dtype: float64\n",
      "\n",
      "Porcentaje datos válidos por contaminantecontaminante\n",
      "ozono    70.02118\n",
      "Name: valor, dtype: float64\n"
     ]
    }
   ],
   "source": [
    "validos_por_estacion = df.groupby('nombreCorto')['valor'].apply(lambda x: x.notna().mean() * 100)\n",
    "validos_por_contaminante = df.groupby('contaminante')['valor'].apply(lambda x: x.notna().mean() * 100)\n",
    "print(f\"Porcentaje datos válidos por estación\\n{validos_por_estacion}\\n\\nPorcentaje datos válidos por contaminante{validos_por_contaminante}\")"
   ]
  },
  {
   "cell_type": "code",
   "execution_count": 4,
   "id": "74e0795b",
   "metadata": {},
   "outputs": [],
   "source": [
    "# Obtener contaminante único (ya que el archivo es solo de uno)\n",
    "contaminante_unico = df['contaminante'].unique()[0] if not df['contaminante'].isna().all() else \"Desconocido\"\n",
    "\n"
   ]
  },
  {
   "cell_type": "code",
   "execution_count": 5,
   "id": "5dbff21c",
   "metadata": {},
   "outputs": [
    {
     "data": {
      "image/png": "[encoded data removed]",
      "text/plain": [
       "<Figure size 1200x600 with 1 Axes>"
      ]
     },
     "metadata": {},
     "output_type": "display_data"
    }
   ],
   "source": [
    "df['mes'] = df['fecha'].dt.to_period(\"M\")\n",
    "promedios_mensuales = df.groupby('mes')['valor'].mean().reset_index()\n",
    "promedios_mensuales['mes'] = promedios_mensuales['mes'].astype(str)\n",
    "\n",
    "# Graficar\n",
    "plt.figure(figsize=(12,6))\n",
    "sns.lineplot(data=promedios_mensuales, x='mes', y='valor', marker='o')\n",
    "plt.title(f'Promedios mensuales todas las estaciones - {contaminante_unico.upper()}')\n",
    "plt.xlabel('Mes')\n",
    "plt.ylabel('Concentración')\n",
    "plt.xticks(rotation=45)\n",
    "plt.grid(True)\n",
    "plt.tight_layout()\n",
    "plt.show()"
   ]
  },
  {
   "cell_type": "code",
   "execution_count": 6,
   "id": "eb043e4a",
   "metadata": {},
   "outputs": [
    {
     "data": {
      "text/html": [
       "<div style=\"width:100%;\"><div style=\"position:relative;width:100%;height:0;padding-bottom:60%;\"><span style=\"color:#565656\">Make this Notebook Trusted to load map: File -> Trust Notebook</span><iframe srcdoc=\"&lt;!DOCTYPE html&gt;\n",
       "&lt;html&gt;\n",
       "&lt;head&gt;\n",
       "    \n",
       "    &lt;meta http-equiv=&quot;content-type&quot; content=&quot;text/html; charset=UTF-8&quot; /&gt;\n",
       "    &lt;script src=&quot;https://cdn.jsdelivr.net/npm/leaflet@1.9.3/dist/leaflet.js&quot;&gt;&lt;/script&gt;\n",
       "    &lt;script src=&quot;https://code.jquery.com/jquery-3.7.1.min.js&quot;&gt;&lt;/script&gt;\n",
       "    &lt;script src=&quot;https://cdn.jsdelivr.net/npm/bootstrap@5.2.2/dist/js/bootstrap.bundle.min.js&quot;&gt;&lt;/script&gt;\n",
       "    &lt;script src=&quot;https://cdnjs.cloudflare.com/ajax/libs/Leaflet.awesome-markers/2.0.2/leaflet.awesome-markers.js&quot;&gt;&lt;/script&gt;\n",
       "    &lt;link rel=&quot;stylesheet&quot; href=&quot;https://cdn.jsdelivr.net/npm/leaflet@1.9.3/dist/leaflet.css&quot;/&gt;\n",
       "    &lt;link rel=&quot;stylesheet&quot; href=&quot;https://cdn.jsdelivr.net/npm/bootstrap@5.2.2/dist/css/bootstrap.min.css&quot;/&gt;\n",
       "    &lt;link rel=&quot;stylesheet&quot; href=&quot;https://netdna.bootstrapcdn.com/bootstrap/3.0.0/css/bootstrap-glyphicons.css&quot;/&gt;\n",
       "    &lt;link rel=&quot;stylesheet&quot; href=&quot;https://cdn.jsdelivr.net/npm/@fortawesome/fontawesome-free@6.2.0/css/all.min.css&quot;/&gt;\n",
       "    &lt;link rel=&quot;stylesheet&quot; href=&quot;https://cdnjs.cloudflare.com/ajax/libs/Leaflet.awesome-markers/2.0.2/leaflet.awesome-markers.css&quot;/&gt;\n",
       "    &lt;link rel=&quot;stylesheet&quot; href=&quot;https://cdn.jsdelivr.net/gh/python-visualization/folium/folium/templates/leaflet.awesome.rotate.min.css&quot;/&gt;\n",
       "    \n",
       "            &lt;meta name=&quot;viewport&quot; content=&quot;width=device-width,\n",
       "                initial-scale=1.0, maximum-scale=1.0, user-scalable=no&quot; /&gt;\n",
       "            &lt;style&gt;\n",
       "                #map_e4486f571c71c0ac8e084c313cd99084 {\n",
       "                    position: relative;\n",
       "                    width: 100.0%;\n",
       "                    height: 100.0%;\n",
       "                    left: 0.0%;\n",
       "                    top: 0.0%;\n",
       "                }\n",
       "                .leaflet-container { font-size: 1rem; }\n",
       "            &lt;/style&gt;\n",
       "\n",
       "            &lt;style&gt;html, body {\n",
       "                width: 100%;\n",
       "                height: 100%;\n",
       "                margin: 0;\n",
       "                padding: 0;\n",
       "            }\n",
       "            &lt;/style&gt;\n",
       "\n",
       "            &lt;style&gt;#map {\n",
       "                position:absolute;\n",
       "                top:0;\n",
       "                bottom:0;\n",
       "                right:0;\n",
       "                left:0;\n",
       "                }\n",
       "            &lt;/style&gt;\n",
       "\n",
       "            &lt;script&gt;\n",
       "                L_NO_TOUCH = false;\n",
       "                L_DISABLE_3D = false;\n",
       "            &lt;/script&gt;\n",
       "\n",
       "        \n",
       "&lt;/head&gt;\n",
       "&lt;body&gt;\n",
       "    \n",
       "    \n",
       "            &lt;div class=&quot;folium-map&quot; id=&quot;map_e4486f571c71c0ac8e084c313cd99084&quot; &gt;&lt;/div&gt;\n",
       "        \n",
       "&lt;/body&gt;\n",
       "&lt;script&gt;\n",
       "    \n",
       "    \n",
       "            var map_e4486f571c71c0ac8e084c313cd99084 = L.map(\n",
       "                &quot;map_e4486f571c71c0ac8e084c313cd99084&quot;,\n",
       "                {\n",
       "                    center: [6.25, -75.6],\n",
       "                    crs: L.CRS.EPSG3857,\n",
       "                    ...{\n",
       "  &quot;zoom&quot;: 11,\n",
       "  &quot;zoomControl&quot;: true,\n",
       "  &quot;preferCanvas&quot;: false,\n",
       "}\n",
       "\n",
       "                }\n",
       "            );\n",
       "\n",
       "            \n",
       "\n",
       "        \n",
       "    \n",
       "            var tile_layer_90c9d105f1df211ad7d1c7e41ef25ca2 = L.tileLayer(\n",
       "                &quot;https://tile.openstreetmap.org/{z}/{x}/{y}.png&quot;,\n",
       "                {\n",
       "  &quot;minZoom&quot;: 0,\n",
       "  &quot;maxZoom&quot;: 19,\n",
       "  &quot;maxNativeZoom&quot;: 19,\n",
       "  &quot;noWrap&quot;: false,\n",
       "  &quot;attribution&quot;: &quot;\\u0026copy; \\u003ca href=\\&quot;https://www.openstreetmap.org/copyright\\&quot;\\u003eOpenStreetMap\\u003c/a\\u003e contributors&quot;,\n",
       "  &quot;subdomains&quot;: &quot;abc&quot;,\n",
       "  &quot;detectRetina&quot;: false,\n",
       "  &quot;tms&quot;: false,\n",
       "  &quot;opacity&quot;: 1,\n",
       "}\n",
       "\n",
       "            );\n",
       "        \n",
       "    \n",
       "            tile_layer_90c9d105f1df211ad7d1c7e41ef25ca2.addTo(map_e4486f571c71c0ac8e084c313cd99084);\n",
       "        \n",
       "    \n",
       "            var circle_marker_de0416176d57e752b8ff918361fa464a = L.circleMarker(\n",
       "                [6.3784332, -75.4511414],\n",
       "                {&quot;bubblingMouseEvents&quot;: true, &quot;color&quot;: &quot;red&quot;, &quot;dashArray&quot;: null, &quot;dashOffset&quot;: null, &quot;fill&quot;: true, &quot;fillColor&quot;: &quot;red&quot;, &quot;fillOpacity&quot;: 0.2, &quot;fillRule&quot;: &quot;evenodd&quot;, &quot;lineCap&quot;: &quot;round&quot;, &quot;lineJoin&quot;: &quot;round&quot;, &quot;opacity&quot;: 1.0, &quot;radius&quot;: 6, &quot;stroke&quot;: true, &quot;weight&quot;: 3}\n",
       "            ).addTo(map_e4486f571c71c0ac8e084c313cd99084);\n",
       "        \n",
       "    \n",
       "        var popup_a03c68ae0866b2b7331a2f6091a5d7d2 = L.popup({\n",
       "  &quot;maxWidth&quot;: &quot;100%&quot;,\n",
       "});\n",
       "\n",
       "        \n",
       "            \n",
       "                var html_5293276d741b3783c80462efc32ab15e = $(`&lt;div id=&quot;html_5293276d741b3783c80462efc32ab15e&quot; style=&quot;width: 100.0%; height: 100.0%;&quot;&gt;Estación _OFF-Girardota - S.O.S Aburrá Norte Media: 1.70 Válidos: 0.0%&lt;/div&gt;`)[0];\n",
       "                popup_a03c68ae0866b2b7331a2f6091a5d7d2.setContent(html_5293276d741b3783c80462efc32ab15e);\n",
       "            \n",
       "        \n",
       "\n",
       "        circle_marker_de0416176d57e752b8ff918361fa464a.bindPopup(popup_a03c68ae0866b2b7331a2f6091a5d7d2)\n",
       "        ;\n",
       "\n",
       "        \n",
       "    \n",
       "    \n",
       "            var circle_marker_346eb6ec4185190a0b8de60ae9a34fd9 = L.circleMarker(\n",
       "                [6.2633696, -75.5770035],\n",
       "                {&quot;bubblingMouseEvents&quot;: true, &quot;color&quot;: &quot;red&quot;, &quot;dashArray&quot;: null, &quot;dashOffset&quot;: null, &quot;fill&quot;: true, &quot;fillColor&quot;: &quot;red&quot;, &quot;fillOpacity&quot;: 0.2, &quot;fillRule&quot;: &quot;evenodd&quot;, &quot;lineCap&quot;: &quot;round&quot;, &quot;lineJoin&quot;: &quot;round&quot;, &quot;opacity&quot;: 1.0, &quot;radius&quot;: 6, &quot;stroke&quot;: true, &quot;weight&quot;: 3}\n",
       "            ).addTo(map_e4486f571c71c0ac8e084c313cd99084);\n",
       "        \n",
       "    \n",
       "        var popup_bc3b4e78560585cfdd83d448746f40cc = L.popup({\n",
       "  &quot;maxWidth&quot;: &quot;100%&quot;,\n",
       "});\n",
       "\n",
       "        \n",
       "            \n",
       "                var html_24f8cceb47751147cf779cc444c7a6f2 = $(`&lt;div id=&quot;html_24f8cceb47751147cf779cc444c7a6f2&quot; style=&quot;width: 100.0%; height: 100.0%;&quot;&gt;Estación _OFF-Medellín,  centro occidente - Universidad Nacional, sede El Volador Media: nan Válidos: 0.0%&lt;/div&gt;`)[0];\n",
       "                popup_bc3b4e78560585cfdd83d448746f40cc.setContent(html_24f8cceb47751147cf779cc444c7a6f2);\n",
       "            \n",
       "        \n",
       "\n",
       "        circle_marker_346eb6ec4185190a0b8de60ae9a34fd9.bindPopup(popup_bc3b4e78560585cfdd83d448746f40cc)\n",
       "        ;\n",
       "\n",
       "        \n",
       "    \n",
       "    \n",
       "            var circle_marker_5770856d722c3ba0f489cfbbff914b93 = L.circleMarker(\n",
       "                [6.0990806, -75.6386261],\n",
       "                {&quot;bubblingMouseEvents&quot;: true, &quot;color&quot;: &quot;red&quot;, &quot;dashArray&quot;: null, &quot;dashOffset&quot;: null, &quot;fill&quot;: true, &quot;fillColor&quot;: &quot;red&quot;, &quot;fillOpacity&quot;: 0.2, &quot;fillRule&quot;: &quot;evenodd&quot;, &quot;lineCap&quot;: &quot;round&quot;, &quot;lineJoin&quot;: &quot;round&quot;, &quot;opacity&quot;: 1.0, &quot;radius&quot;: 6, &quot;stroke&quot;: true, &quot;weight&quot;: 3}\n",
       "            ).addTo(map_e4486f571c71c0ac8e084c313cd99084);\n",
       "        \n",
       "    \n",
       "        var popup_d8ffcda6c61161275f21e251aa987ebd = L.popup({\n",
       "  &quot;maxWidth&quot;: &quot;100%&quot;,\n",
       "});\n",
       "\n",
       "        \n",
       "            \n",
       "                var html_19ac7f097bfcc3a498241c11bf9888f2 = $(`&lt;div id=&quot;html_19ac7f097bfcc3a498241c11bf9888f2&quot; style=&quot;width: 100.0%; height: 100.0%;&quot;&gt;Estación _OFF-Caldas - Corporacion Universitaria Lasallista Media: 1.58 Válidos: 41.5%&lt;/div&gt;`)[0];\n",
       "                popup_d8ffcda6c61161275f21e251aa987ebd.setContent(html_19ac7f097bfcc3a498241c11bf9888f2);\n",
       "            \n",
       "        \n",
       "\n",
       "        circle_marker_5770856d722c3ba0f489cfbbff914b93.bindPopup(popup_d8ffcda6c61161275f21e251aa987ebd)\n",
       "        ;\n",
       "\n",
       "        \n",
       "    \n",
       "    \n",
       "            var circle_marker_c934083d031624ff88702a86e9cb2641 = L.circleMarker(\n",
       "                [6.3306971, -75.5686722],\n",
       "                {&quot;bubblingMouseEvents&quot;: true, &quot;color&quot;: &quot;green&quot;, &quot;dashArray&quot;: null, &quot;dashOffset&quot;: null, &quot;fill&quot;: true, &quot;fillColor&quot;: &quot;green&quot;, &quot;fillOpacity&quot;: 0.2, &quot;fillRule&quot;: &quot;evenodd&quot;, &quot;lineCap&quot;: &quot;round&quot;, &quot;lineJoin&quot;: &quot;round&quot;, &quot;opacity&quot;: 1.0, &quot;radius&quot;: 6, &quot;stroke&quot;: true, &quot;weight&quot;: 3}\n",
       "            ).addTo(map_e4486f571c71c0ac8e084c313cd99084);\n",
       "        \n",
       "    \n",
       "        var popup_c9860f6ce99c78d06d9cdb55917f726d = L.popup({\n",
       "  &quot;maxWidth&quot;: &quot;100%&quot;,\n",
       "});\n",
       "\n",
       "        \n",
       "            \n",
       "                var html_403cd7b7eb6cdb7cc6496abd7f3e5064 = $(`&lt;div id=&quot;html_403cd7b7eb6cdb7cc6496abd7f3e5064&quot; style=&quot;width: 100.0%; height: 100.0%;&quot;&gt;Estación Universidad San Buenaventura Media: 1.24 Válidos: 96.3%&lt;/div&gt;`)[0];\n",
       "                popup_c9860f6ce99c78d06d9cdb55917f726d.setContent(html_403cd7b7eb6cdb7cc6496abd7f3e5064);\n",
       "            \n",
       "        \n",
       "\n",
       "        circle_marker_c934083d031624ff88702a86e9cb2641.bindPopup(popup_c9860f6ce99c78d06d9cdb55917f726d)\n",
       "        ;\n",
       "\n",
       "        \n",
       "    \n",
       "    \n",
       "            var circle_marker_fd1a0a350a760c02980a9945491a8169 = L.circleMarker(\n",
       "                [6.1684971, -75.6443558],\n",
       "                {&quot;bubblingMouseEvents&quot;: true, &quot;color&quot;: &quot;green&quot;, &quot;dashArray&quot;: null, &quot;dashOffset&quot;: null, &quot;fill&quot;: true, &quot;fillColor&quot;: &quot;green&quot;, &quot;fillOpacity&quot;: 0.2, &quot;fillRule&quot;: &quot;evenodd&quot;, &quot;lineCap&quot;: &quot;round&quot;, &quot;lineJoin&quot;: &quot;round&quot;, &quot;opacity&quot;: 1.0, &quot;radius&quot;: 6, &quot;stroke&quot;: true, &quot;weight&quot;: 3}\n",
       "            ).addTo(map_e4486f571c71c0ac8e084c313cd99084);\n",
       "        \n",
       "    \n",
       "        var popup_eca1d12a00c98b2bfd12b2238e8379fa = L.popup({\n",
       "  &quot;maxWidth&quot;: &quot;100%&quot;,\n",
       "});\n",
       "\n",
       "        \n",
       "            \n",
       "                var html_3d5e3d4e6e2694b029ea7f2252d8ea62 = $(`&lt;div id=&quot;html_3d5e3d4e6e2694b029ea7f2252d8ea62&quot; style=&quot;width: 100.0%; height: 100.0%;&quot;&gt;Estación Itagüí - I.E. Concejo Municipal de Itagüí Media: 1.27 Válidos: 95.2%&lt;/div&gt;`)[0];\n",
       "                popup_eca1d12a00c98b2bfd12b2238e8379fa.setContent(html_3d5e3d4e6e2694b029ea7f2252d8ea62);\n",
       "            \n",
       "        \n",
       "\n",
       "        circle_marker_fd1a0a350a760c02980a9945491a8169.bindPopup(popup_eca1d12a00c98b2bfd12b2238e8379fa)\n",
       "        ;\n",
       "\n",
       "        \n",
       "    \n",
       "    \n",
       "            var circle_marker_1305629af8d7848e563ac826858e03ea = L.circleMarker(\n",
       "                [6.4067135, -75.419487],\n",
       "                {&quot;bubblingMouseEvents&quot;: true, &quot;color&quot;: &quot;green&quot;, &quot;dashArray&quot;: null, &quot;dashOffset&quot;: null, &quot;fill&quot;: true, &quot;fillColor&quot;: &quot;green&quot;, &quot;fillOpacity&quot;: 0.2, &quot;fillRule&quot;: &quot;evenodd&quot;, &quot;lineCap&quot;: &quot;round&quot;, &quot;lineJoin&quot;: &quot;round&quot;, &quot;opacity&quot;: 1.0, &quot;radius&quot;: 6, &quot;stroke&quot;: true, &quot;weight&quot;: 3}\n",
       "            ).addTo(map_e4486f571c71c0ac8e084c313cd99084);\n",
       "        \n",
       "    \n",
       "        var popup_806545cb1ddd4a670beac793a1ebb8fb = L.popup({\n",
       "  &quot;maxWidth&quot;: &quot;100%&quot;,\n",
       "});\n",
       "\n",
       "        \n",
       "            \n",
       "                var html_b28864af41068638928df6878d799665 = $(`&lt;div id=&quot;html_b28864af41068638928df6878d799665&quot; style=&quot;width: 100.0%; height: 100.0%;&quot;&gt;Estación Parque de las Aguas Media: 1.24 Válidos: 98.9%&lt;/div&gt;`)[0];\n",
       "                popup_806545cb1ddd4a670beac793a1ebb8fb.setContent(html_b28864af41068638928df6878d799665);\n",
       "            \n",
       "        \n",
       "\n",
       "        circle_marker_1305629af8d7848e563ac826858e03ea.bindPopup(popup_806545cb1ddd4a670beac793a1ebb8fb)\n",
       "        ;\n",
       "\n",
       "        \n",
       "    \n",
       "    \n",
       "            var circle_marker_471370cdaa15c24dba5bca59da53edc9 = L.circleMarker(\n",
       "                [6.2301841, -75.6099625],\n",
       "                {&quot;bubblingMouseEvents&quot;: true, &quot;color&quot;: &quot;green&quot;, &quot;dashArray&quot;: null, &quot;dashOffset&quot;: null, &quot;fill&quot;: true, &quot;fillColor&quot;: &quot;green&quot;, &quot;fillOpacity&quot;: 0.2, &quot;fillRule&quot;: &quot;evenodd&quot;, &quot;lineCap&quot;: &quot;round&quot;, &quot;lineJoin&quot;: &quot;round&quot;, &quot;opacity&quot;: 1.0, &quot;radius&quot;: 6, &quot;stroke&quot;: true, &quot;weight&quot;: 3}\n",
       "            ).addTo(map_e4486f571c71c0ac8e084c313cd99084);\n",
       "        \n",
       "    \n",
       "        var popup_b59fae4d01fb4655107eb22cfad44a7c = L.popup({\n",
       "  &quot;maxWidth&quot;: &quot;100%&quot;,\n",
       "});\n",
       "\n",
       "        \n",
       "            \n",
       "                var html_bb3c44f15803c837e47c3c1d894e5011 = $(`&lt;div id=&quot;html_bb3c44f15803c837e47c3c1d894e5011&quot; style=&quot;width: 100.0%; height: 100.0%;&quot;&gt;Estación Universidad de Medellin Media: 1.18 Válidos: 99.1%&lt;/div&gt;`)[0];\n",
       "                popup_b59fae4d01fb4655107eb22cfad44a7c.setContent(html_bb3c44f15803c837e47c3c1d894e5011);\n",
       "            \n",
       "        \n",
       "\n",
       "        circle_marker_471370cdaa15c24dba5bca59da53edc9.bindPopup(popup_b59fae4d01fb4655107eb22cfad44a7c)\n",
       "        ;\n",
       "\n",
       "        \n",
       "    \n",
       "    \n",
       "            var circle_marker_13c50de97980ec14a9aa96710fa2cec1 = L.circleMarker(\n",
       "                [6.2299724, -75.5491943],\n",
       "                {&quot;bubblingMouseEvents&quot;: true, &quot;color&quot;: &quot;green&quot;, &quot;dashArray&quot;: null, &quot;dashOffset&quot;: null, &quot;fill&quot;: true, &quot;fillColor&quot;: &quot;green&quot;, &quot;fillOpacity&quot;: 0.2, &quot;fillRule&quot;: &quot;evenodd&quot;, &quot;lineCap&quot;: &quot;round&quot;, &quot;lineJoin&quot;: &quot;round&quot;, &quot;opacity&quot;: 1.0, &quot;radius&quot;: 6, &quot;stroke&quot;: true, &quot;weight&quot;: 3}\n",
       "            ).addTo(map_e4486f571c71c0ac8e084c313cd99084);\n",
       "        \n",
       "    \n",
       "        var popup_71983f03abed1eccb60df7363f91ec35 = L.popup({\n",
       "  &quot;maxWidth&quot;: &quot;100%&quot;,\n",
       "});\n",
       "\n",
       "        \n",
       "            \n",
       "                var html_bcddd3b8284803ca2235bfd52251dbed = $(`&lt;div id=&quot;html_bcddd3b8284803ca2235bfd52251dbed&quot; style=&quot;width: 100.0%; height: 100.0%;&quot;&gt;Estación Tanque Miraflores Media: 1.28 Válidos: 99.4%&lt;/div&gt;`)[0];\n",
       "                popup_71983f03abed1eccb60df7363f91ec35.setContent(html_bcddd3b8284803ca2235bfd52251dbed);\n",
       "            \n",
       "        \n",
       "\n",
       "        circle_marker_13c50de97980ec14a9aa96710fa2cec1.bindPopup(popup_71983f03abed1eccb60df7363f91ec35)\n",
       "        ;\n",
       "\n",
       "        \n",
       "    \n",
       "    \n",
       "            var circle_marker_f9fb62382da23d62381c576c255b5f7d = L.circleMarker(\n",
       "                [6.1825418, -75.5506363],\n",
       "                {&quot;bubblingMouseEvents&quot;: true, &quot;color&quot;: &quot;green&quot;, &quot;dashArray&quot;: null, &quot;dashOffset&quot;: null, &quot;fill&quot;: true, &quot;fillColor&quot;: &quot;green&quot;, &quot;fillOpacity&quot;: 0.2, &quot;fillRule&quot;: &quot;evenodd&quot;, &quot;lineCap&quot;: &quot;round&quot;, &quot;lineJoin&quot;: &quot;round&quot;, &quot;opacity&quot;: 1.0, &quot;radius&quot;: 6, &quot;stroke&quot;: true, &quot;weight&quot;: 3}\n",
       "            ).addTo(map_e4486f571c71c0ac8e084c313cd99084);\n",
       "        \n",
       "    \n",
       "        var popup_65d68962750e1d46a9c6ab4b78e8eedf = L.popup({\n",
       "  &quot;maxWidth&quot;: &quot;100%&quot;,\n",
       "});\n",
       "\n",
       "        \n",
       "            \n",
       "                var html_048f74eb64130c0bed7be84648035abf = $(`&lt;div id=&quot;html_048f74eb64130c0bed7be84648035abf&quot; style=&quot;width: 100.0%; height: 100.0%;&quot;&gt;Estación Medellín, El Poblado - Tanques La Ye EPM Media: 1.24 Válidos: 99.7%&lt;/div&gt;`)[0];\n",
       "                popup_65d68962750e1d46a9c6ab4b78e8eedf.setContent(html_048f74eb64130c0bed7be84648035abf);\n",
       "            \n",
       "        \n",
       "\n",
       "        circle_marker_f9fb62382da23d62381c576c255b5f7d.bindPopup(popup_65d68962750e1d46a9c6ab4b78e8eedf)\n",
       "        ;\n",
       "\n",
       "        \n",
       "    \n",
       "&lt;/script&gt;\n",
       "&lt;/html&gt;\" style=\"position:absolute;width:100%;height:100%;left:0;top:0;border:none !important;\" allowfullscreen webkitallowfullscreen mozallowfullscreen></iframe></div></div>"
      ],
      "text/plain": [
       "<folium.folium.Map at 0x206a511d6c0>"
      ]
     },
     "execution_count": 6,
     "metadata": {},
     "output_type": "execute_result"
    }
   ],
   "source": [
    "# 5. Mapa estático de estaciones segun datos validos\n",
    "\n",
    "\n",
    "\n",
    "# Media por estacion\n",
    "media_estaciones = df.groupby(['codigoSerial', 'nombre', 'latitud', 'longitud'])['valor'].mean().reset_index()\n",
    "\n",
    "validos_por_estacion = df.groupby('codigoSerial')['valor'].apply(lambda x: x.notna().mean() * 100)\n",
    "\n",
    "media_estaciones['porcentaje_validos'] = media_estaciones['codigoSerial'].map(validos_por_estacion)\n",
    "\n",
    "\n",
    "mapa = folium.Map(location=[6.25, -75.6], zoom_start=11)\n",
    "\n",
    "for _, row in media_estaciones.iterrows():\n",
    "    folium.CircleMarker(\n",
    "        location=[row['latitud'], row['longitud']],\n",
    "        radius=6,\n",
    "        popup=(\n",
    "            f\"Estación {row['nombre']}\\n\"\n",
    "            f\"Media: {row['valor']:.2f}\\n\"\n",
    "            f\"Válidos: {row['porcentaje_validos']:.1f}%\"\n",
    "        ),\n",
    "        color = 'green' if row['porcentaje_validos'] >= 51 else 'red',\n",
    "        fill=True,\n",
    "    ).add_to(mapa)\n",
    "\n",
    "mapa"
   ]
  },
  {
   "cell_type": "code",
   "execution_count": 30,
   "id": "2cc189ea",
   "metadata": {},
   "outputs": [
    {
     "data": {
      "text/html": [
       "<div style=\"width:100%;\"><div style=\"position:relative;width:100%;height:0;padding-bottom:60%;\"><span style=\"color:#565656\">Make this Notebook Trusted to load map: File -> Trust Notebook</span><iframe srcdoc=\"&lt;!DOCTYPE html&gt;\n",
       "&lt;html&gt;\n",
       "&lt;head&gt;\n",
       "    \n",
       "    &lt;meta http-equiv=&quot;content-type&quot; content=&quot;text/html; charset=UTF-8&quot; /&gt;\n",
       "    &lt;script src=&quot;https://cdn.jsdelivr.net/npm/leaflet@1.9.3/dist/leaflet.js&quot;&gt;&lt;/script&gt;\n",
       "    &lt;script src=&quot;https://code.jquery.com/jquery-3.7.1.min.js&quot;&gt;&lt;/script&gt;\n",
       "    &lt;script src=&quot;https://cdn.jsdelivr.net/npm/bootstrap@5.2.2/dist/js/bootstrap.bundle.min.js&quot;&gt;&lt;/script&gt;\n",
       "    &lt;script src=&quot;https://cdnjs.cloudflare.com/ajax/libs/Leaflet.awesome-markers/2.0.2/leaflet.awesome-markers.js&quot;&gt;&lt;/script&gt;\n",
       "    &lt;link rel=&quot;stylesheet&quot; href=&quot;https://cdn.jsdelivr.net/npm/leaflet@1.9.3/dist/leaflet.css&quot;/&gt;\n",
       "    &lt;link rel=&quot;stylesheet&quot; href=&quot;https://cdn.jsdelivr.net/npm/bootstrap@5.2.2/dist/css/bootstrap.min.css&quot;/&gt;\n",
       "    &lt;link rel=&quot;stylesheet&quot; href=&quot;https://netdna.bootstrapcdn.com/bootstrap/3.0.0/css/bootstrap-glyphicons.css&quot;/&gt;\n",
       "    &lt;link rel=&quot;stylesheet&quot; href=&quot;https://cdn.jsdelivr.net/npm/@fortawesome/fontawesome-free@6.2.0/css/all.min.css&quot;/&gt;\n",
       "    &lt;link rel=&quot;stylesheet&quot; href=&quot;https://cdnjs.cloudflare.com/ajax/libs/Leaflet.awesome-markers/2.0.2/leaflet.awesome-markers.css&quot;/&gt;\n",
       "    &lt;link rel=&quot;stylesheet&quot; href=&quot;https://cdn.jsdelivr.net/gh/python-visualization/folium/folium/templates/leaflet.awesome.rotate.min.css&quot;/&gt;\n",
       "    \n",
       "            &lt;meta name=&quot;viewport&quot; content=&quot;width=device-width,\n",
       "                initial-scale=1.0, maximum-scale=1.0, user-scalable=no&quot; /&gt;\n",
       "            &lt;style&gt;\n",
       "                #map_1cb0a0d3996945184c40c4f9daba2a55 {\n",
       "                    position: relative;\n",
       "                    width: 100.0%;\n",
       "                    height: 100.0%;\n",
       "                    left: 0.0%;\n",
       "                    top: 0.0%;\n",
       "                }\n",
       "                .leaflet-container { font-size: 1rem; }\n",
       "            &lt;/style&gt;\n",
       "\n",
       "            &lt;style&gt;html, body {\n",
       "                width: 100%;\n",
       "                height: 100%;\n",
       "                margin: 0;\n",
       "                padding: 0;\n",
       "            }\n",
       "            &lt;/style&gt;\n",
       "\n",
       "            &lt;style&gt;#map {\n",
       "                position:absolute;\n",
       "                top:0;\n",
       "                bottom:0;\n",
       "                right:0;\n",
       "                left:0;\n",
       "                }\n",
       "            &lt;/style&gt;\n",
       "\n",
       "            &lt;script&gt;\n",
       "                L_NO_TOUCH = false;\n",
       "                L_DISABLE_3D = false;\n",
       "            &lt;/script&gt;\n",
       "\n",
       "        \n",
       "&lt;/head&gt;\n",
       "&lt;body&gt;\n",
       "    \n",
       "    \n",
       "            &lt;div class=&quot;folium-map&quot; id=&quot;map_1cb0a0d3996945184c40c4f9daba2a55&quot; &gt;&lt;/div&gt;\n",
       "        \n",
       "&lt;/body&gt;\n",
       "&lt;script&gt;\n",
       "    \n",
       "    \n",
       "            var map_1cb0a0d3996945184c40c4f9daba2a55 = L.map(\n",
       "                &quot;map_1cb0a0d3996945184c40c4f9daba2a55&quot;,\n",
       "                {\n",
       "                    center: [6.25, -75.6],\n",
       "                    crs: L.CRS.EPSG3857,\n",
       "                    ...{\n",
       "  &quot;zoom&quot;: 11,\n",
       "  &quot;zoomControl&quot;: true,\n",
       "  &quot;preferCanvas&quot;: false,\n",
       "}\n",
       "\n",
       "                }\n",
       "            );\n",
       "\n",
       "            \n",
       "\n",
       "        \n",
       "    \n",
       "            var tile_layer_4b385453bcf5d810a9aa2a8bfa7a92f6 = L.tileLayer(\n",
       "                &quot;https://tile.openstreetmap.org/{z}/{x}/{y}.png&quot;,\n",
       "                {\n",
       "  &quot;minZoom&quot;: 0,\n",
       "  &quot;maxZoom&quot;: 19,\n",
       "  &quot;maxNativeZoom&quot;: 19,\n",
       "  &quot;noWrap&quot;: false,\n",
       "  &quot;attribution&quot;: &quot;\\u0026copy; \\u003ca href=\\&quot;https://www.openstreetmap.org/copyright\\&quot;\\u003eOpenStreetMap\\u003c/a\\u003e contributors&quot;,\n",
       "  &quot;subdomains&quot;: &quot;abc&quot;,\n",
       "  &quot;detectRetina&quot;: false,\n",
       "  &quot;tms&quot;: false,\n",
       "  &quot;opacity&quot;: 1,\n",
       "}\n",
       "\n",
       "            );\n",
       "        \n",
       "    \n",
       "            tile_layer_4b385453bcf5d810a9aa2a8bfa7a92f6.addTo(map_1cb0a0d3996945184c40c4f9daba2a55);\n",
       "        \n",
       "    \n",
       "            var circle_marker_63da358d15cb377b09936d7aed2097c1 = L.circleMarker(\n",
       "                [6.3784332, -75.4511414],\n",
       "                {&quot;bubblingMouseEvents&quot;: true, &quot;color&quot;: &quot;maroon&quot;, &quot;dashArray&quot;: null, &quot;dashOffset&quot;: null, &quot;fill&quot;: true, &quot;fillColor&quot;: &quot;maroon&quot;, &quot;fillOpacity&quot;: 0.7, &quot;fillRule&quot;: &quot;evenodd&quot;, &quot;lineCap&quot;: &quot;round&quot;, &quot;lineJoin&quot;: &quot;round&quot;, &quot;opacity&quot;: 1.0, &quot;radius&quot;: 4.34, &quot;stroke&quot;: true, &quot;weight&quot;: 3}\n",
       "            ).addTo(map_1cb0a0d3996945184c40c4f9daba2a55);\n",
       "        \n",
       "    \n",
       "        var popup_bc276b93bfd9e2e4901e696fd7737640 = L.popup({\n",
       "  &quot;maxWidth&quot;: 300,\n",
       "});\n",
       "\n",
       "        \n",
       "            \n",
       "                var html_8117e89b0ffa73d5bde0deaef7ba008d = $(`&lt;div id=&quot;html_8117e89b0ffa73d5bde0deaef7ba008d&quot; style=&quot;width: 100.0%; height: 100.0%;&quot;&gt;&lt;b&gt;_OFF-Girardota - S.O.S Aburrá Norte&lt;/b&gt;&lt;br&gt;Media: 1.70&lt;br&gt;Categoría: Peligroso&lt;br&gt;Válidos: 0.0%&lt;/div&gt;`)[0];\n",
       "                popup_bc276b93bfd9e2e4901e696fd7737640.setContent(html_8117e89b0ffa73d5bde0deaef7ba008d);\n",
       "            \n",
       "        \n",
       "\n",
       "        circle_marker_63da358d15cb377b09936d7aed2097c1.bindPopup(popup_bc276b93bfd9e2e4901e696fd7737640)\n",
       "        ;\n",
       "\n",
       "        \n",
       "    \n",
       "    \n",
       "            var circle_marker_75ab076f5838234c3767c2188c8e1c37 = L.circleMarker(\n",
       "                [6.2633696, -75.5770035],\n",
       "                {&quot;bubblingMouseEvents&quot;: true, &quot;color&quot;: &quot;gray&quot;, &quot;dashArray&quot;: null, &quot;dashOffset&quot;: null, &quot;fill&quot;: true, &quot;fillColor&quot;: &quot;gray&quot;, &quot;fillOpacity&quot;: 0.7, &quot;fillRule&quot;: &quot;evenodd&quot;, &quot;lineCap&quot;: &quot;round&quot;, &quot;lineJoin&quot;: &quot;round&quot;, &quot;opacity&quot;: 1.0, &quot;radius&quot;: 4, &quot;stroke&quot;: true, &quot;weight&quot;: 3}\n",
       "            ).addTo(map_1cb0a0d3996945184c40c4f9daba2a55);\n",
       "        \n",
       "    \n",
       "        var popup_a384c8de3c62b77e21cd2f69eadc5cc3 = L.popup({\n",
       "  &quot;maxWidth&quot;: 300,\n",
       "});\n",
       "\n",
       "        \n",
       "            \n",
       "                var html_c1ce52fb5e42758aa1bb9d560b709a64 = $(`&lt;div id=&quot;html_c1ce52fb5e42758aa1bb9d560b709a64&quot; style=&quot;width: 100.0%; height: 100.0%;&quot;&gt;&lt;b&gt;_OFF-Medellín,  centro occidente - Universidad Nacional, sede El Volador&lt;/b&gt;&lt;br&gt;Media: nan&lt;br&gt;Categoría: Sin datos&lt;br&gt;Válidos: 0.0%&lt;/div&gt;`)[0];\n",
       "                popup_a384c8de3c62b77e21cd2f69eadc5cc3.setContent(html_c1ce52fb5e42758aa1bb9d560b709a64);\n",
       "            \n",
       "        \n",
       "\n",
       "        circle_marker_75ab076f5838234c3767c2188c8e1c37.bindPopup(popup_a384c8de3c62b77e21cd2f69eadc5cc3)\n",
       "        ;\n",
       "\n",
       "        \n",
       "    \n",
       "    \n",
       "            var circle_marker_71e3eb308505e3fefc23f77d4dceb472 = L.circleMarker(\n",
       "                [6.0990806, -75.6386261],\n",
       "                {&quot;bubblingMouseEvents&quot;: true, &quot;color&quot;: &quot;maroon&quot;, &quot;dashArray&quot;: null, &quot;dashOffset&quot;: null, &quot;fill&quot;: true, &quot;fillColor&quot;: &quot;maroon&quot;, &quot;fillOpacity&quot;: 0.7, &quot;fillRule&quot;: &quot;evenodd&quot;, &quot;lineCap&quot;: &quot;round&quot;, &quot;lineJoin&quot;: &quot;round&quot;, &quot;opacity&quot;: 1.0, &quot;radius&quot;: 4.315177343964806, &quot;stroke&quot;: true, &quot;weight&quot;: 3}\n",
       "            ).addTo(map_1cb0a0d3996945184c40c4f9daba2a55);\n",
       "        \n",
       "    \n",
       "        var popup_8fa3f630d1a1eef2b55f3d56c1421de8 = L.popup({\n",
       "  &quot;maxWidth&quot;: 300,\n",
       "});\n",
       "\n",
       "        \n",
       "            \n",
       "                var html_524e5bb0f2fd60ad6967a4b070cdde20 = $(`&lt;div id=&quot;html_524e5bb0f2fd60ad6967a4b070cdde20&quot; style=&quot;width: 100.0%; height: 100.0%;&quot;&gt;&lt;b&gt;_OFF-Caldas - Corporacion Universitaria Lasallista&lt;/b&gt;&lt;br&gt;Media: 1.58&lt;br&gt;Categoría: Peligroso&lt;br&gt;Válidos: 41.5%&lt;/div&gt;`)[0];\n",
       "                popup_8fa3f630d1a1eef2b55f3d56c1421de8.setContent(html_524e5bb0f2fd60ad6967a4b070cdde20);\n",
       "            \n",
       "        \n",
       "\n",
       "        circle_marker_71e3eb308505e3fefc23f77d4dceb472.bindPopup(popup_8fa3f630d1a1eef2b55f3d56c1421de8)\n",
       "        ;\n",
       "\n",
       "        \n",
       "    \n",
       "    \n",
       "            var circle_marker_00660dfc8486c67017dae194ceffb1e5 = L.circleMarker(\n",
       "                [6.3306971, -75.5686722],\n",
       "                {&quot;bubblingMouseEvents&quot;: true, &quot;color&quot;: &quot;maroon&quot;, &quot;dashArray&quot;: null, &quot;dashOffset&quot;: null, &quot;fill&quot;: true, &quot;fillColor&quot;: &quot;maroon&quot;, &quot;fillOpacity&quot;: 0.7, &quot;fillRule&quot;: &quot;evenodd&quot;, &quot;lineCap&quot;: &quot;round&quot;, &quot;lineJoin&quot;: &quot;round&quot;, &quot;opacity&quot;: 1.0, &quot;radius&quot;: 4.247902346527614, &quot;stroke&quot;: true, &quot;weight&quot;: 3}\n",
       "            ).addTo(map_1cb0a0d3996945184c40c4f9daba2a55);\n",
       "        \n",
       "    \n",
       "        var popup_82b360d550737487741bc5fbe6eb841c = L.popup({\n",
       "  &quot;maxWidth&quot;: 300,\n",
       "});\n",
       "\n",
       "        \n",
       "            \n",
       "                var html_298f39b5bdab202ced1d9afb85a80cd4 = $(`&lt;div id=&quot;html_298f39b5bdab202ced1d9afb85a80cd4&quot; style=&quot;width: 100.0%; height: 100.0%;&quot;&gt;&lt;b&gt;Universidad San Buenaventura&lt;/b&gt;&lt;br&gt;Media: 1.24&lt;br&gt;Categoría: Peligroso&lt;br&gt;Válidos: 96.3%&lt;/div&gt;`)[0];\n",
       "                popup_82b360d550737487741bc5fbe6eb841c.setContent(html_298f39b5bdab202ced1d9afb85a80cd4);\n",
       "            \n",
       "        \n",
       "\n",
       "        circle_marker_00660dfc8486c67017dae194ceffb1e5.bindPopup(popup_82b360d550737487741bc5fbe6eb841c)\n",
       "        ;\n",
       "\n",
       "        \n",
       "    \n",
       "    \n",
       "            var circle_marker_73a2ab38a5277677376e42b8ae1f4484 = L.circleMarker(\n",
       "                [6.1684971, -75.6443558],\n",
       "                {&quot;bubblingMouseEvents&quot;: true, &quot;color&quot;: &quot;maroon&quot;, &quot;dashArray&quot;: null, &quot;dashOffset&quot;: null, &quot;fill&quot;: true, &quot;fillColor&quot;: &quot;maroon&quot;, &quot;fillOpacity&quot;: 0.7, &quot;fillRule&quot;: &quot;evenodd&quot;, &quot;lineCap&quot;: &quot;round&quot;, &quot;lineJoin&quot;: &quot;round&quot;, &quot;opacity&quot;: 1.0, &quot;radius&quot;: 4.253175821539938, &quot;stroke&quot;: true, &quot;weight&quot;: 3}\n",
       "            ).addTo(map_1cb0a0d3996945184c40c4f9daba2a55);\n",
       "        \n",
       "    \n",
       "        var popup_6f671ebe3f7b63083761d67b821d4332 = L.popup({\n",
       "  &quot;maxWidth&quot;: 300,\n",
       "});\n",
       "\n",
       "        \n",
       "            \n",
       "                var html_44e0ebeda7753f8402bb3e7d38c9cf22 = $(`&lt;div id=&quot;html_44e0ebeda7753f8402bb3e7d38c9cf22&quot; style=&quot;width: 100.0%; height: 100.0%;&quot;&gt;&lt;b&gt;Itagüí - I.E. Concejo Municipal de Itagüí&lt;/b&gt;&lt;br&gt;Media: 1.27&lt;br&gt;Categoría: Peligroso&lt;br&gt;Válidos: 95.2%&lt;/div&gt;`)[0];\n",
       "                popup_6f671ebe3f7b63083761d67b821d4332.setContent(html_44e0ebeda7753f8402bb3e7d38c9cf22);\n",
       "            \n",
       "        \n",
       "\n",
       "        circle_marker_73a2ab38a5277677376e42b8ae1f4484.bindPopup(popup_6f671ebe3f7b63083761d67b821d4332)\n",
       "        ;\n",
       "\n",
       "        \n",
       "    \n",
       "    \n",
       "            var circle_marker_097efd7d2ab76173f918959cf643adc1 = L.circleMarker(\n",
       "                [6.4067135, -75.419487],\n",
       "                {&quot;bubblingMouseEvents&quot;: true, &quot;color&quot;: &quot;maroon&quot;, &quot;dashArray&quot;: null, &quot;dashOffset&quot;: null, &quot;fill&quot;: true, &quot;fillColor&quot;: &quot;maroon&quot;, &quot;fillOpacity&quot;: 0.7, &quot;fillRule&quot;: &quot;evenodd&quot;, &quot;lineCap&quot;: &quot;round&quot;, &quot;lineJoin&quot;: &quot;round&quot;, &quot;opacity&quot;: 1.0, &quot;radius&quot;: 4.247951084448546, &quot;stroke&quot;: true, &quot;weight&quot;: 3}\n",
       "            ).addTo(map_1cb0a0d3996945184c40c4f9daba2a55);\n",
       "        \n",
       "    \n",
       "        var popup_f2b20fc28094b545a454bfa1b1c0f995 = L.popup({\n",
       "  &quot;maxWidth&quot;: 300,\n",
       "});\n",
       "\n",
       "        \n",
       "            \n",
       "                var html_ab237a31fb5525080fa7f9d6e7c933f4 = $(`&lt;div id=&quot;html_ab237a31fb5525080fa7f9d6e7c933f4&quot; style=&quot;width: 100.0%; height: 100.0%;&quot;&gt;&lt;b&gt;Parque de las Aguas&lt;/b&gt;&lt;br&gt;Media: 1.24&lt;br&gt;Categoría: Peligroso&lt;br&gt;Válidos: 98.9%&lt;/div&gt;`)[0];\n",
       "                popup_f2b20fc28094b545a454bfa1b1c0f995.setContent(html_ab237a31fb5525080fa7f9d6e7c933f4);\n",
       "            \n",
       "        \n",
       "\n",
       "        circle_marker_097efd7d2ab76173f918959cf643adc1.bindPopup(popup_f2b20fc28094b545a454bfa1b1c0f995)\n",
       "        ;\n",
       "\n",
       "        \n",
       "    \n",
       "    \n",
       "            var circle_marker_671957db6982f05a63d5840fa7595c49 = L.circleMarker(\n",
       "                [6.2301841, -75.6099625],\n",
       "                {&quot;bubblingMouseEvents&quot;: true, &quot;color&quot;: &quot;maroon&quot;, &quot;dashArray&quot;: null, &quot;dashOffset&quot;: null, &quot;fill&quot;: true, &quot;fillColor&quot;: &quot;maroon&quot;, &quot;fillOpacity&quot;: 0.7, &quot;fillRule&quot;: &quot;evenodd&quot;, &quot;lineCap&quot;: &quot;round&quot;, &quot;lineJoin&quot;: &quot;round&quot;, &quot;opacity&quot;: 1.0, &quot;radius&quot;: 4.235916628281898, &quot;stroke&quot;: true, &quot;weight&quot;: 3}\n",
       "            ).addTo(map_1cb0a0d3996945184c40c4f9daba2a55);\n",
       "        \n",
       "    \n",
       "        var popup_0febb51fbeb3beb34ee5f9cc66c0a35b = L.popup({\n",
       "  &quot;maxWidth&quot;: 300,\n",
       "});\n",
       "\n",
       "        \n",
       "            \n",
       "                var html_27fabfc72c34f367d554e8ba575d2f86 = $(`&lt;div id=&quot;html_27fabfc72c34f367d554e8ba575d2f86&quot; style=&quot;width: 100.0%; height: 100.0%;&quot;&gt;&lt;b&gt;Universidad de Medellin&lt;/b&gt;&lt;br&gt;Media: 1.18&lt;br&gt;Categoría: Peligroso&lt;br&gt;Válidos: 99.1%&lt;/div&gt;`)[0];\n",
       "                popup_0febb51fbeb3beb34ee5f9cc66c0a35b.setContent(html_27fabfc72c34f367d554e8ba575d2f86);\n",
       "            \n",
       "        \n",
       "\n",
       "        circle_marker_671957db6982f05a63d5840fa7595c49.bindPopup(popup_0febb51fbeb3beb34ee5f9cc66c0a35b)\n",
       "        ;\n",
       "\n",
       "        \n",
       "    \n",
       "    \n",
       "            var circle_marker_81cfd39df4c49896b9de766caf3b60c4 = L.circleMarker(\n",
       "                [6.2299724, -75.5491943],\n",
       "                {&quot;bubblingMouseEvents&quot;: true, &quot;color&quot;: &quot;maroon&quot;, &quot;dashArray&quot;: null, &quot;dashOffset&quot;: null, &quot;fill&quot;: true, &quot;fillColor&quot;: &quot;maroon&quot;, &quot;fillOpacity&quot;: 0.7, &quot;fillRule&quot;: &quot;evenodd&quot;, &quot;lineCap&quot;: &quot;round&quot;, &quot;lineJoin&quot;: &quot;round&quot;, &quot;opacity&quot;: 1.0, &quot;radius&quot;: 4.255869515276821, &quot;stroke&quot;: true, &quot;weight&quot;: 3}\n",
       "            ).addTo(map_1cb0a0d3996945184c40c4f9daba2a55);\n",
       "        \n",
       "    \n",
       "        var popup_ee12ca408ec2d8443dfc77156cb64ec2 = L.popup({\n",
       "  &quot;maxWidth&quot;: 300,\n",
       "});\n",
       "\n",
       "        \n",
       "            \n",
       "                var html_d3638955b58c64ccb5bf878bc6f3dec5 = $(`&lt;div id=&quot;html_d3638955b58c64ccb5bf878bc6f3dec5&quot; style=&quot;width: 100.0%; height: 100.0%;&quot;&gt;&lt;b&gt;Tanque Miraflores&lt;/b&gt;&lt;br&gt;Media: 1.28&lt;br&gt;Categoría: Peligroso&lt;br&gt;Válidos: 99.4%&lt;/div&gt;`)[0];\n",
       "                popup_ee12ca408ec2d8443dfc77156cb64ec2.setContent(html_d3638955b58c64ccb5bf878bc6f3dec5);\n",
       "            \n",
       "        \n",
       "\n",
       "        circle_marker_81cfd39df4c49896b9de766caf3b60c4.bindPopup(popup_ee12ca408ec2d8443dfc77156cb64ec2)\n",
       "        ;\n",
       "\n",
       "        \n",
       "    \n",
       "    \n",
       "            var circle_marker_02fd848ada77c40e3351aaf9c5d7349d = L.circleMarker(\n",
       "                [6.1825418, -75.5506363],\n",
       "                {&quot;bubblingMouseEvents&quot;: true, &quot;color&quot;: &quot;maroon&quot;, &quot;dashArray&quot;: null, &quot;dashOffset&quot;: null, &quot;fill&quot;: true, &quot;fillColor&quot;: &quot;maroon&quot;, &quot;fillOpacity&quot;: 0.7, &quot;fillRule&quot;: &quot;evenodd&quot;, &quot;lineCap&quot;: &quot;round&quot;, &quot;lineJoin&quot;: &quot;round&quot;, &quot;opacity&quot;: 1.0, &quot;radius&quot;: 4.248940018315018, &quot;stroke&quot;: true, &quot;weight&quot;: 3}\n",
       "            ).addTo(map_1cb0a0d3996945184c40c4f9daba2a55);\n",
       "        \n",
       "    \n",
       "        var popup_eae90d16e3d6b35d92f261e54592ecb9 = L.popup({\n",
       "  &quot;maxWidth&quot;: 300,\n",
       "});\n",
       "\n",
       "        \n",
       "            \n",
       "                var html_844915ef4525703dfb8db8ece0c71584 = $(`&lt;div id=&quot;html_844915ef4525703dfb8db8ece0c71584&quot; style=&quot;width: 100.0%; height: 100.0%;&quot;&gt;&lt;b&gt;Medellín, El Poblado - Tanques La Ye EPM&lt;/b&gt;&lt;br&gt;Media: 1.24&lt;br&gt;Categoría: Peligroso&lt;br&gt;Válidos: 99.7%&lt;/div&gt;`)[0];\n",
       "                popup_eae90d16e3d6b35d92f261e54592ecb9.setContent(html_844915ef4525703dfb8db8ece0c71584);\n",
       "            \n",
       "        \n",
       "\n",
       "        circle_marker_02fd848ada77c40e3351aaf9c5d7349d.bindPopup(popup_eae90d16e3d6b35d92f261e54592ecb9)\n",
       "        ;\n",
       "\n",
       "        \n",
       "    \n",
       "&lt;/script&gt;\n",
       "&lt;/html&gt;\" style=\"position:absolute;width:100%;height:100%;left:0;top:0;border:none !important;\" allowfullscreen webkitallowfullscreen mozallowfullscreen></iframe></div></div>"
      ],
      "text/plain": [
       "<folium.folium.Map at 0x206a5dbe290>"
      ]
     },
     "execution_count": 30,
     "metadata": {},
     "output_type": "execute_result"
    }
   ],
   "source": [
    "# mapa por estacion según concentracion de la partícula\n",
    "\n",
    "media_estaciones = df.groupby(['codigoSerial', 'nombre', 'latitud', 'longitud'])['valor'].mean().reset_index()\n",
    "\n",
    "# Porcentaje de datos válidos por estación\n",
    "validos_por_estacion = df.groupby('codigoSerial')['valor'].apply(lambda x: x.notna().mean() * 100)\n",
    "media_estaciones['porcentaje_validos'] = media_estaciones['codigoSerial'].map(validos_por_estacion)\n",
    "\n",
    "# Clasificación de color según niveles de concentración promedio\n",
    "def clasificar_calidad_aire(valor, contaminante):\n",
    "    if pd.isna(valor):\n",
    "        return \"Sin datos\"\n",
    "    \n",
    "    contaminante = contaminante.lower()\n",
    "    \n",
    "    if contaminante == 'pm25':\n",
    "        if valor <= 12:\n",
    "            return \"Bueno\"\n",
    "        elif valor <= 35.4:\n",
    "            return \"Aceptable\"\n",
    "        elif valor <= 55.4:\n",
    "            return \"No saludable sensibles\"\n",
    "        elif valor <= 150.4:\n",
    "            return \"No saludable\"\n",
    "        elif valor <= 250.4:\n",
    "            return \"Muy no saludable\"\n",
    "        else:\n",
    "            return \"Peligroso\"\n",
    "\n",
    "    elif contaminante == 'pm10':\n",
    "        if valor <= 54:\n",
    "            return \"Bueno\"\n",
    "        elif valor <= 154:\n",
    "            return \"Aceptable\"\n",
    "        elif valor <= 254:\n",
    "            return \"No saludable sensibles\"\n",
    "        elif valor <= 354:\n",
    "            return \"No saludable\"\n",
    "        elif valor <= 424:\n",
    "            return \"Muy no saludable\"\n",
    "        else:\n",
    "            return \"Peligroso\"\n",
    "\n",
    "    elif contaminante == 'co':\n",
    "        if valor <= 4.4:\n",
    "            return \"Bueno\"\n",
    "        elif valor <= 9.4:\n",
    "            return \"Aceptable\"\n",
    "        elif valor <= 12.4:\n",
    "            return \"No saludable sensibles\"\n",
    "        elif valor <= 15.4:\n",
    "            return \"No saludable\"\n",
    "        elif valor <= 30.4:\n",
    "            return \"Muy no saludable\"\n",
    "        else:\n",
    "            return \"Peligroso\"\n",
    "\n",
    "    elif contaminante == 'ozono':\n",
    "        if valor <= 0.054:\n",
    "            return \"Bueno\"\n",
    "        elif valor <= 0.070:\n",
    "            return \"Aceptable\"\n",
    "        elif valor <= 0.085:\n",
    "            return \"No saludable sensibles\"\n",
    "        elif valor <= 0.105:\n",
    "            return \"No saludable\"\n",
    "        elif valor <= 0.200:\n",
    "            return \"Muy no saludable\"\n",
    "        else:\n",
    "            return \"Peligroso\"\n",
    "\n",
    "    elif contaminante == 'no2':\n",
    "        if valor <= 0.053:\n",
    "            return \"Bueno\"\n",
    "        elif valor <= 0.100:\n",
    "            return \"Aceptable\"\n",
    "        elif valor <= 0.360:\n",
    "            return \"No saludable sensibles\"\n",
    "        elif valor <= 0.649:\n",
    "            return \"No saludable\"\n",
    "        elif valor <= 1.249:\n",
    "            return \"Muy no saludable\"\n",
    "        else:\n",
    "            return \"Peligroso\"\n",
    "\n",
    "    elif contaminante == 'so2':\n",
    "        if valor <= 0.035:\n",
    "            return \"Bueno\"\n",
    "        elif valor <= 0.075:\n",
    "            return \"Aceptable\"\n",
    "        elif valor <= 0.185:\n",
    "            return \"No saludable sensibles\"\n",
    "        elif valor <= 0.304:\n",
    "            return \"No saludable\"\n",
    "        elif valor <= 0.604:\n",
    "            return \"Muy no saludable\"\n",
    "        else:\n",
    "            return \"Peligroso\"\n",
    "\n",
    "    elif contaminante == 'no' or contaminante == 'pm1':\n",
    "        return \"Sin estándar oficial\"\n",
    "\n",
    "    else:\n",
    "        return \"Contaminante desconocido\"\n",
    "    \n",
    "def color_por_categoria(categoria):\n",
    "    colores = {\n",
    "        \"Bueno\": \"green\",\n",
    "        \"Aceptable\": \"yellow\",\n",
    "        \"No saludable sensibles\": \"orange\",\n",
    "        \"No saludable\": \"red\",\n",
    "        \"Muy no saludable\": \"purple\",\n",
    "        \"Peligroso\": \"maroon\",\n",
    "        \"Sin datos\": \"gray\",\n",
    "        \"Sin estándar oficial\": \"blue\",\n",
    "        \"Contaminante desconocido\": \"black\"\n",
    "    }\n",
    "    return colores.get(categoria, \"black\")\n",
    "\n",
    "\n",
    "# Crear mapa\n",
    "mapa = folium.Map(location=[6.25, -75.6], zoom_start=11)\n",
    "\n",
    "for _, row in media_estaciones.iterrows():\n",
    "    categoria = clasificar_calidad_aire(row['valor'], contaminante_unico) \n",
    "    color = color_por_categoria(categoria)\n",
    "    radio = 4 + (row['valor'] / 5) if not pd.isna(row['valor']) else 4\n",
    "    folium.CircleMarker(\n",
    "        location=[row['latitud'], row['longitud']],\n",
    "        radius=radio,\n",
    "        popup=folium.Popup(\n",
    "            f\"<b>{row['nombre']}</b><br>\"\n",
    "            f\"Media: {row['valor']:.2f}<br>\"\n",
    "            f\"Categoría: {categoria}<br>\"\n",
    "            f\"Válidos: {row['porcentaje_validos']:.1f}%\",\n",
    "            max_width=300\n",
    "        ),\n",
    "        color=color,\n",
    "        fill=True,\n",
    "        fill_color=color,\n",
    "        fill_opacity=0.7\n",
    "    ).add_to(mapa)\n",
    "\n",
    "# Mostrar mapa en notebook\n",
    "mapa"
   ]
  },
  {
   "cell_type": "code",
   "execution_count": 8,
   "id": "d0b67bda",
   "metadata": {},
   "outputs": [],
   "source": [
    "df['dia_semana'] = df['fecha'].dt.weekday  # Lunes=0, Domingo=6\n",
    "df['es_fin_semana'] = df['dia_semana'] >= 5"
   ]
  },
  {
   "cell_type": "code",
   "execution_count": 9,
   "id": "a18bf566",
   "metadata": {},
   "outputs": [],
   "source": [
    "eventos_especiales = {\n",
    "    '2021-12-24': 'Navidad',\n",
    "    '2021-12-31': 'Año Nuevo',\n",
    "    '2022-01-06': 'Día de Reyes',\n",
    "    '2022-04-10': 'Semana Santa',\n",
    "    '2022-04-15': 'Semana Santa',\n",
    "    '2022-07-20': 'Independencia',\n",
    "    '2022-08-07': 'Feria de las Flores',\n",
    "    '2022-08-08': 'Feria de las Flores',\n",
    "    '2022-09-22': 'Día sin carro',\n",
    "    '2022-10-31': 'Halloween',\n",
    "    '2022-12-07': 'Día de las Velitas',\n",
    "    '2022-12-24': 'Navidad',\n",
    "    '2022-12-31': 'Año Nuevo',\n",
    "    # Puedes seguir agregando...\n",
    "}\n"
   ]
  },
  {
   "cell_type": "code",
   "execution_count": 10,
   "id": "db869279",
   "metadata": {},
   "outputs": [
    {
     "data": {
      "text/html": [
       "<div>\n",
       "<style scoped>\n",
       "    .dataframe tbody tr th:only-of-type {\n",
       "        vertical-align: middle;\n",
       "    }\n",
       "\n",
       "    .dataframe tbody tr th {\n",
       "        vertical-align: top;\n",
       "    }\n",
       "\n",
       "    .dataframe thead th {\n",
       "        text-align: right;\n",
       "    }\n",
       "</style>\n",
       "<table border=\"1\" class=\"dataframe\">\n",
       "  <thead>\n",
       "    <tr style=\"text-align: right;\">\n",
       "      <th></th>\n",
       "      <th>codigoSerial</th>\n",
       "      <th>nombre</th>\n",
       "      <th>nombreCorto</th>\n",
       "      <th>latitud</th>\n",
       "      <th>longitud</th>\n",
       "      <th>contaminante</th>\n",
       "      <th>fecha</th>\n",
       "      <th>calibracion</th>\n",
       "      <th>valor</th>\n",
       "      <th>mes</th>\n",
       "      <th>dia_semana</th>\n",
       "      <th>es_fin_semana</th>\n",
       "      <th>fecha_str</th>\n",
       "      <th>evento</th>\n",
       "    </tr>\n",
       "  </thead>\n",
       "  <tbody>\n",
       "    <tr>\n",
       "      <th>0</th>\n",
       "      <td>3</td>\n",
       "      <td>_OFF-Girardota - S.O.S Aburrá Norte</td>\n",
       "      <td>GIR-SOSN</td>\n",
       "      <td>6.378433</td>\n",
       "      <td>-75.451141</td>\n",
       "      <td>ozono</td>\n",
       "      <td>2021-12-14 04:00:00</td>\n",
       "      <td>-9999.000000</td>\n",
       "      <td>NaN</td>\n",
       "      <td>2021-12</td>\n",
       "      <td>1</td>\n",
       "      <td>False</td>\n",
       "      <td>2021-12-14</td>\n",
       "      <td>Normal</td>\n",
       "    </tr>\n",
       "    <tr>\n",
       "      <th>1</th>\n",
       "      <td>3</td>\n",
       "      <td>_OFF-Girardota - S.O.S Aburrá Norte</td>\n",
       "      <td>GIR-SOSN</td>\n",
       "      <td>6.378433</td>\n",
       "      <td>-75.451141</td>\n",
       "      <td>ozono</td>\n",
       "      <td>2021-12-14 05:00:00</td>\n",
       "      <td>-9999.000000</td>\n",
       "      <td>NaN</td>\n",
       "      <td>2021-12</td>\n",
       "      <td>1</td>\n",
       "      <td>False</td>\n",
       "      <td>2021-12-14</td>\n",
       "      <td>Normal</td>\n",
       "    </tr>\n",
       "    <tr>\n",
       "      <th>2</th>\n",
       "      <td>3</td>\n",
       "      <td>_OFF-Girardota - S.O.S Aburrá Norte</td>\n",
       "      <td>GIR-SOSN</td>\n",
       "      <td>6.378433</td>\n",
       "      <td>-75.451141</td>\n",
       "      <td>ozono</td>\n",
       "      <td>2021-12-14 06:00:00</td>\n",
       "      <td>-9999.000000</td>\n",
       "      <td>NaN</td>\n",
       "      <td>2021-12</td>\n",
       "      <td>1</td>\n",
       "      <td>False</td>\n",
       "      <td>2021-12-14</td>\n",
       "      <td>Normal</td>\n",
       "    </tr>\n",
       "    <tr>\n",
       "      <th>3</th>\n",
       "      <td>3</td>\n",
       "      <td>_OFF-Girardota - S.O.S Aburrá Norte</td>\n",
       "      <td>GIR-SOSN</td>\n",
       "      <td>6.378433</td>\n",
       "      <td>-75.451141</td>\n",
       "      <td>ozono</td>\n",
       "      <td>2021-12-14 07:00:00</td>\n",
       "      <td>-9999.000000</td>\n",
       "      <td>NaN</td>\n",
       "      <td>2021-12</td>\n",
       "      <td>1</td>\n",
       "      <td>False</td>\n",
       "      <td>2021-12-14</td>\n",
       "      <td>Normal</td>\n",
       "    </tr>\n",
       "    <tr>\n",
       "      <th>4</th>\n",
       "      <td>3</td>\n",
       "      <td>_OFF-Girardota - S.O.S Aburrá Norte</td>\n",
       "      <td>GIR-SOSN</td>\n",
       "      <td>6.378433</td>\n",
       "      <td>-75.451141</td>\n",
       "      <td>ozono</td>\n",
       "      <td>2021-12-14 08:00:00</td>\n",
       "      <td>-9999.000000</td>\n",
       "      <td>NaN</td>\n",
       "      <td>2021-12</td>\n",
       "      <td>1</td>\n",
       "      <td>False</td>\n",
       "      <td>2021-12-14</td>\n",
       "      <td>Normal</td>\n",
       "    </tr>\n",
       "    <tr>\n",
       "      <th>...</th>\n",
       "      <td>...</td>\n",
       "      <td>...</td>\n",
       "      <td>...</td>\n",
       "      <td>...</td>\n",
       "      <td>...</td>\n",
       "      <td>...</td>\n",
       "      <td>...</td>\n",
       "      <td>...</td>\n",
       "      <td>...</td>\n",
       "      <td>...</td>\n",
       "      <td>...</td>\n",
       "      <td>...</td>\n",
       "      <td>...</td>\n",
       "      <td>...</td>\n",
       "    </tr>\n",
       "    <tr>\n",
       "      <th>78844</th>\n",
       "      <td>44</td>\n",
       "      <td>Medellín, El Poblado - Tanques La Ye EPM</td>\n",
       "      <td>MED-LAYE</td>\n",
       "      <td>6.182542</td>\n",
       "      <td>-75.550636</td>\n",
       "      <td>ozono</td>\n",
       "      <td>2022-12-14 00:00:00</td>\n",
       "      <td>5.300282</td>\n",
       "      <td>1.9</td>\n",
       "      <td>2022-12</td>\n",
       "      <td>2</td>\n",
       "      <td>False</td>\n",
       "      <td>2022-12-14</td>\n",
       "      <td>Normal</td>\n",
       "    </tr>\n",
       "    <tr>\n",
       "      <th>78845</th>\n",
       "      <td>44</td>\n",
       "      <td>Medellín, El Poblado - Tanques La Ye EPM</td>\n",
       "      <td>MED-LAYE</td>\n",
       "      <td>6.182542</td>\n",
       "      <td>-75.550636</td>\n",
       "      <td>ozono</td>\n",
       "      <td>2022-12-14 01:00:00</td>\n",
       "      <td>4.907669</td>\n",
       "      <td>1.9</td>\n",
       "      <td>2022-12</td>\n",
       "      <td>2</td>\n",
       "      <td>False</td>\n",
       "      <td>2022-12-14</td>\n",
       "      <td>Normal</td>\n",
       "    </tr>\n",
       "    <tr>\n",
       "      <th>78846</th>\n",
       "      <td>44</td>\n",
       "      <td>Medellín, El Poblado - Tanques La Ye EPM</td>\n",
       "      <td>MED-LAYE</td>\n",
       "      <td>6.182542</td>\n",
       "      <td>-75.550636</td>\n",
       "      <td>ozono</td>\n",
       "      <td>2022-12-14 02:00:00</td>\n",
       "      <td>3.533521</td>\n",
       "      <td>1.9</td>\n",
       "      <td>2022-12</td>\n",
       "      <td>2</td>\n",
       "      <td>False</td>\n",
       "      <td>2022-12-14</td>\n",
       "      <td>Normal</td>\n",
       "    </tr>\n",
       "    <tr>\n",
       "      <th>78847</th>\n",
       "      <td>44</td>\n",
       "      <td>Medellín, El Poblado - Tanques La Ye EPM</td>\n",
       "      <td>MED-LAYE</td>\n",
       "      <td>6.182542</td>\n",
       "      <td>-75.550636</td>\n",
       "      <td>ozono</td>\n",
       "      <td>2022-12-14 03:00:00</td>\n",
       "      <td>3.729828</td>\n",
       "      <td>1.9</td>\n",
       "      <td>2022-12</td>\n",
       "      <td>2</td>\n",
       "      <td>False</td>\n",
       "      <td>2022-12-14</td>\n",
       "      <td>Normal</td>\n",
       "    </tr>\n",
       "    <tr>\n",
       "      <th>78848</th>\n",
       "      <td>44</td>\n",
       "      <td>Medellín, El Poblado - Tanques La Ye EPM</td>\n",
       "      <td>MED-LAYE</td>\n",
       "      <td>6.182542</td>\n",
       "      <td>-75.550636</td>\n",
       "      <td>ozono</td>\n",
       "      <td>2022-12-14 04:00:00</td>\n",
       "      <td>3.337215</td>\n",
       "      <td>1.9</td>\n",
       "      <td>2022-12</td>\n",
       "      <td>2</td>\n",
       "      <td>False</td>\n",
       "      <td>2022-12-14</td>\n",
       "      <td>Normal</td>\n",
       "    </tr>\n",
       "  </tbody>\n",
       "</table>\n",
       "<p>78849 rows × 14 columns</p>\n",
       "</div>"
      ],
      "text/plain": [
       "       codigoSerial                                    nombre nombreCorto  \\\n",
       "0                 3       _OFF-Girardota - S.O.S Aburrá Norte    GIR-SOSN   \n",
       "1                 3       _OFF-Girardota - S.O.S Aburrá Norte    GIR-SOSN   \n",
       "2                 3       _OFF-Girardota - S.O.S Aburrá Norte    GIR-SOSN   \n",
       "3                 3       _OFF-Girardota - S.O.S Aburrá Norte    GIR-SOSN   \n",
       "4                 3       _OFF-Girardota - S.O.S Aburrá Norte    GIR-SOSN   \n",
       "...             ...                                       ...         ...   \n",
       "78844            44  Medellín, El Poblado - Tanques La Ye EPM    MED-LAYE   \n",
       "78845            44  Medellín, El Poblado - Tanques La Ye EPM    MED-LAYE   \n",
       "78846            44  Medellín, El Poblado - Tanques La Ye EPM    MED-LAYE   \n",
       "78847            44  Medellín, El Poblado - Tanques La Ye EPM    MED-LAYE   \n",
       "78848            44  Medellín, El Poblado - Tanques La Ye EPM    MED-LAYE   \n",
       "\n",
       "        latitud   longitud contaminante               fecha  calibracion  \\\n",
       "0      6.378433 -75.451141        ozono 2021-12-14 04:00:00 -9999.000000   \n",
       "1      6.378433 -75.451141        ozono 2021-12-14 05:00:00 -9999.000000   \n",
       "2      6.378433 -75.451141        ozono 2021-12-14 06:00:00 -9999.000000   \n",
       "3      6.378433 -75.451141        ozono 2021-12-14 07:00:00 -9999.000000   \n",
       "4      6.378433 -75.451141        ozono 2021-12-14 08:00:00 -9999.000000   \n",
       "...         ...        ...          ...                 ...          ...   \n",
       "78844  6.182542 -75.550636        ozono 2022-12-14 00:00:00     5.300282   \n",
       "78845  6.182542 -75.550636        ozono 2022-12-14 01:00:00     4.907669   \n",
       "78846  6.182542 -75.550636        ozono 2022-12-14 02:00:00     3.533521   \n",
       "78847  6.182542 -75.550636        ozono 2022-12-14 03:00:00     3.729828   \n",
       "78848  6.182542 -75.550636        ozono 2022-12-14 04:00:00     3.337215   \n",
       "\n",
       "       valor      mes  dia_semana  es_fin_semana   fecha_str  evento  \n",
       "0        NaN  2021-12           1          False  2021-12-14  Normal  \n",
       "1        NaN  2021-12           1          False  2021-12-14  Normal  \n",
       "2        NaN  2021-12           1          False  2021-12-14  Normal  \n",
       "3        NaN  2021-12           1          False  2021-12-14  Normal  \n",
       "4        NaN  2021-12           1          False  2021-12-14  Normal  \n",
       "...      ...      ...         ...            ...         ...     ...  \n",
       "78844    1.9  2022-12           2          False  2022-12-14  Normal  \n",
       "78845    1.9  2022-12           2          False  2022-12-14  Normal  \n",
       "78846    1.9  2022-12           2          False  2022-12-14  Normal  \n",
       "78847    1.9  2022-12           2          False  2022-12-14  Normal  \n",
       "78848    1.9  2022-12           2          False  2022-12-14  Normal  \n",
       "\n",
       "[78849 rows x 14 columns]"
      ]
     },
     "execution_count": 10,
     "metadata": {},
     "output_type": "execute_result"
    }
   ],
   "source": [
    "df['fecha_str'] = df['fecha'].dt.strftime('%Y-%m-%d')\n",
    "df['evento'] = df['fecha_str'].map(eventos_especiales).fillna(\"Normal\")\n",
    "df"
   ]
  },
  {
   "cell_type": "markdown",
   "id": "38b18d31",
   "metadata": {},
   "source": [
    "Datos muy importantes "
   ]
  },
  {
   "cell_type": "code",
   "execution_count": 11,
   "id": "3350dca0",
   "metadata": {},
   "outputs": [
    {
     "name": "stdout",
     "output_type": "stream",
     "text": [
      "es_fin_semana\n",
      "False    1.267455\n",
      "True     1.253226\n",
      "Name: valor, dtype: float64\n"
     ]
    }
   ],
   "source": [
    "#Semana vs fin de semana\n",
    "\n",
    "promedios_dia = df.groupby('es_fin_semana')['valor'].mean()\n",
    "print(promedios_dia)\n"
   ]
  },
  {
   "cell_type": "code",
   "execution_count": 12,
   "id": "dd3ee38d",
   "metadata": {},
   "outputs": [
    {
     "name": "stdout",
     "output_type": "stream",
     "text": [
      "evento\n",
      "Año Nuevo              1.235714\n",
      "Día de Reyes           1.282143\n",
      "Día de las Velitas     1.200000\n",
      "Día sin carro          1.042254\n",
      "Feria de las Flores    1.326389\n",
      "Halloween              1.114583\n",
      "Independencia          1.199306\n",
      "Navidad                1.429861\n",
      "Normal                 1.264652\n",
      "Semana Santa           1.141667\n",
      "Name: valor, dtype: float64\n"
     ]
    }
   ],
   "source": [
    "#fechas especiales vs fechas normales\n",
    "\n",
    "promedios_evento = df.groupby('evento')['valor'].mean()\n",
    "print(promedios_evento)\n"
   ]
  },
  {
   "cell_type": "code",
   "execution_count": 13,
   "id": "750e4d0f",
   "metadata": {},
   "outputs": [
    {
     "data": {
      "image/png": "[encoded data removed]",
      "text/plain": [
       "<Figure size 640x480 with 1 Axes>"
      ]
     },
     "metadata": {},
     "output_type": "display_data"
    }
   ],
   "source": [
    "df['dia_semana'] = df['fecha'].dt.weekday\n",
    "df['tipo_dia'] = df['dia_semana'].apply(lambda x: 'Fin de semana' if x >= 5 else 'Entre semana')\n",
    "\n",
    "sns.barplot(data=df, x='tipo_dia', y='valor')\n",
    "plt.title(f'{contaminante_unico.upper()} - Promedio por tipo de día')\n",
    "plt.ylabel('Concentración')\n",
    "plt.show()\n",
    "#Semana vs fin de semana"
   ]
  },
  {
   "cell_type": "code",
   "execution_count": 14,
   "id": "97c46ec7",
   "metadata": {},
   "outputs": [
    {
     "data": {
      "image/png": "[encoded data removed]",
      "text/plain": [
       "<Figure size 1000x500 with 1 Axes>"
      ]
     },
     "metadata": {},
     "output_type": "display_data"
    }
   ],
   "source": [
    "plt.figure(figsize=(10, 5))\n",
    "sns.boxplot(data=df, x='evento', y='valor')\n",
    "plt.title(f'{contaminante_unico.upper()} - Concentración por evento')\n",
    "plt.ylabel('Concentración (μg/m³ o ppm)')\n",
    "plt.xticks(rotation=45)\n",
    "plt.tight_layout()\n",
    "plt.show()\n",
    "#fechas especiales vs fechas normales"
   ]
  },
  {
   "cell_type": "code",
   "execution_count": 15,
   "id": "0cd544d2",
   "metadata": {},
   "outputs": [
    {
     "data": {
      "text/html": [
       "<div>\n",
       "<style scoped>\n",
       "    .dataframe tbody tr th:only-of-type {\n",
       "        vertical-align: middle;\n",
       "    }\n",
       "\n",
       "    .dataframe tbody tr th {\n",
       "        vertical-align: top;\n",
       "    }\n",
       "\n",
       "    .dataframe thead th {\n",
       "        text-align: right;\n",
       "    }\n",
       "</style>\n",
       "<table border=\"1\" class=\"dataframe\">\n",
       "  <thead>\n",
       "    <tr style=\"text-align: right;\">\n",
       "      <th>evento</th>\n",
       "      <th>Año Nuevo</th>\n",
       "      <th>Día de Reyes</th>\n",
       "      <th>Día de las Velitas</th>\n",
       "      <th>Día sin carro</th>\n",
       "      <th>Feria de las Flores</th>\n",
       "      <th>Halloween</th>\n",
       "      <th>Independencia</th>\n",
       "      <th>Navidad</th>\n",
       "      <th>Normal</th>\n",
       "      <th>Semana Santa</th>\n",
       "    </tr>\n",
       "    <tr>\n",
       "      <th>tipo_dia</th>\n",
       "      <th></th>\n",
       "      <th></th>\n",
       "      <th></th>\n",
       "      <th></th>\n",
       "      <th></th>\n",
       "      <th></th>\n",
       "      <th></th>\n",
       "      <th></th>\n",
       "      <th></th>\n",
       "      <th></th>\n",
       "    </tr>\n",
       "  </thead>\n",
       "  <tbody>\n",
       "    <tr>\n",
       "      <th>Entre semana</th>\n",
       "      <td>1.235714</td>\n",
       "      <td>1.282143</td>\n",
       "      <td>1.2</td>\n",
       "      <td>1.042254</td>\n",
       "      <td>1.285417</td>\n",
       "      <td>1.114583</td>\n",
       "      <td>1.199306</td>\n",
       "      <td>1.429861</td>\n",
       "      <td>1.269281</td>\n",
       "      <td>1.143452</td>\n",
       "    </tr>\n",
       "    <tr>\n",
       "      <th>Fin de semana</th>\n",
       "      <td>NaN</td>\n",
       "      <td>NaN</td>\n",
       "      <td>NaN</td>\n",
       "      <td>NaN</td>\n",
       "      <td>1.367361</td>\n",
       "      <td>NaN</td>\n",
       "      <td>NaN</td>\n",
       "      <td>NaN</td>\n",
       "      <td>1.253221</td>\n",
       "      <td>1.139583</td>\n",
       "    </tr>\n",
       "  </tbody>\n",
       "</table>\n",
       "</div>"
      ],
      "text/plain": [
       "evento         Año Nuevo  Día de Reyes  Día de las Velitas  Día sin carro  \\\n",
       "tipo_dia                                                                    \n",
       "Entre semana    1.235714      1.282143                 1.2       1.042254   \n",
       "Fin de semana        NaN           NaN                 NaN            NaN   \n",
       "\n",
       "evento         Feria de las Flores  Halloween  Independencia   Navidad  \\\n",
       "tipo_dia                                                                 \n",
       "Entre semana              1.285417   1.114583       1.199306  1.429861   \n",
       "Fin de semana             1.367361        NaN            NaN       NaN   \n",
       "\n",
       "evento           Normal  Semana Santa  \n",
       "tipo_dia                               \n",
       "Entre semana   1.269281      1.143452  \n",
       "Fin de semana  1.253221      1.139583  "
      ]
     },
     "execution_count": 15,
     "metadata": {},
     "output_type": "execute_result"
    }
   ],
   "source": [
    "resumen = df.groupby(['tipo_dia', 'evento'])['valor'].mean().unstack()\n",
    "resumen\n"
   ]
  },
  {
   "cell_type": "code",
   "execution_count": 16,
   "id": "ad04b2ce",
   "metadata": {},
   "outputs": [
    {
     "name": "stdout",
     "output_type": "stream",
     "text": [
      "                                              nombre     valor\n",
      "0                _OFF-Girardota - S.O.S Aburrá Norte  1.700000\n",
      "2  _OFF-Caldas - Corporacion Universitaria Lasall...  1.575887\n",
      "7                                  Tanque Miraflores  1.279348\n",
      "4          Itagüí - I.E. Concejo Municipal de Itagüí  1.265879\n",
      "8           Medellín, El Poblado - Tanques La Ye EPM  1.244700\n",
      "5                                Parque de las Aguas  1.239755\n",
      "3                       Universidad San Buenaventura  1.239512\n",
      "6                            Universidad de Medellin  1.179583\n",
      "1  _OFF-Medellín,  centro occidente - Universidad...       NaN\n"
     ]
    }
   ],
   "source": [
    "#estaciones con peor aire\n",
    "\n",
    "media_top = media_estaciones[['nombre', 'valor']].sort_values(by='valor', ascending=False)\n",
    "print(media_top.head(10))\n"
   ]
  },
  {
   "cell_type": "code",
   "execution_count": 17,
   "id": "a8775bff",
   "metadata": {},
   "outputs": [
    {
     "name": "stderr",
     "output_type": "stream",
     "text": [
      "C:\\Users\\Jeronimo Zapata\\AppData\\Local\\Temp\\ipykernel_21012\\3759753072.py:3: FutureWarning: \n",
      "\n",
      "Passing `palette` without assigning `hue` is deprecated and will be removed in v0.14.0. Assign the `y` variable to `hue` and set `legend=False` for the same effect.\n",
      "\n",
      "  sns.barplot(data=estaciones_ordenadas, x='valor', y='nombre', palette='Spectral')\n"
     ]
    },
    {
     "data": {
      "image/png": "[encoded data removed]",
      "text/plain": [
       "<Figure size 1200x600 with 1 Axes>"
      ]
     },
     "metadata": {},
     "output_type": "display_data"
    }
   ],
   "source": [
    "plt.figure(figsize=(12, 6))\n",
    "estaciones_ordenadas = media_estaciones.sort_values(by='valor', ascending=False)\n",
    "sns.barplot(data=estaciones_ordenadas, x='valor', y='nombre', palette='Spectral')\n",
    "plt.title(f'{contaminante_unico.upper()} - Concentración promedio por estación')\n",
    "plt.xlabel('Concentración promedio')\n",
    "plt.ylabel('Estación')\n",
    "plt.tight_layout()\n",
    "plt.show()\n"
   ]
  },
  {
   "cell_type": "code",
   "execution_count": 18,
   "id": "aada0f38",
   "metadata": {},
   "outputs": [
    {
     "name": "stderr",
     "output_type": "stream",
     "text": [
      "C:\\Users\\Jeronimo Zapata\\AppData\\Local\\Temp\\ipykernel_21012\\2607126680.py:6: DeprecationWarning: *scatter_mapbox* is deprecated! Use *scatter_map* instead. Learn more at: https://plotly.com/python/mapbox-to-maplibre/\n",
      "  fig = px.scatter_mapbox(\n"
     ]
    },
    {
     "data": {
      "application/vnd.plotly.v1+json": {
       "config": {
        "plotlyServerURL": "https://plot.ly"
       },
       "data": [
        {
         "hovertemplate": "<b>%{hovertext}</b><br><br>valor=%{marker.color}<br>latitud=%{lat}<br>longitud=%{lon}<extra></extra>",
         "hovertext": [
          "_OFF-Girardota - S.O.S Aburrá Norte",
          "_OFF-Caldas - Corporacion Universitaria Lasallista",
          "Universidad San Buenaventura",
          "Itagüí - I.E. Concejo Municipal de Itagüí",
          "Parque de las Aguas",
          "Universidad de Medellin",
          "Tanque Miraflores",
          "Medellín, El Poblado - Tanques La Ye EPM"
         ],
         "lat": {
          "bdata": "7OEm/oODGUAXrIJidWUYQDaHtUKiUhlAJOL3gIqsGEDmXfWAeaAZQJ08dmG16xhAN+6D4n3rGEClnNQ87LoYQA==",
          "dtype": "f8"
         },
         "legendgroup": "",
         "lon": {
          "bdata": "ybctgN/cUsDPdwFA3+hSwD1JFSBl5FLAOv8bID3pUsA4hgDg2NpSwFRSJ6AJ51LAk2nZ/yXjUsBjHwmgPeNSwA==",
          "dtype": "f8"
         },
         "marker": {
          "color": {
           "bdata": "MzMzMzMz+z/ShD3+1Db5P0cFK0EK1fM/OyiEcwpB9D+oIxnICdbzP2REdJKS3/I/2ZUMKjV49D+lSqqkSurzPw==",
           "dtype": "f8"
          },
          "coloraxis": "coloraxis",
          "size": {
           "bdata": "MzMzMzMz+z/ShD3+1Db5P0cFK0EK1fM/OyiEcwpB9D+oIxnICdbzP2REdJKS3/I/2ZUMKjV49D+lSqqkSurzPw==",
           "dtype": "f8"
          },
          "sizemode": "area",
          "sizeref": 0.007555555555555555
         },
         "mode": "markers",
         "name": "",
         "showlegend": false,
         "subplot": "mapbox",
         "type": "scattermapbox"
        }
       ],
       "layout": {
        "coloraxis": {
         "colorbar": {
          "title": {
           "text": "valor"
          }
         },
         "colorscale": [
          [
           0,
           "rgb(255,255,204)"
          ],
          [
           0.125,
           "rgb(255,237,160)"
          ],
          [
           0.25,
           "rgb(254,217,118)"
          ],
          [
           0.375,
           "rgb(254,178,76)"
          ],
          [
           0.5,
           "rgb(253,141,60)"
          ],
          [
           0.625,
           "rgb(252,78,42)"
          ],
          [
           0.75,
           "rgb(227,26,28)"
          ],
          [
           0.875,
           "rgb(189,0,38)"
          ],
          [
           1,
           "rgb(128,0,38)"
          ]
         ]
        },
        "legend": {
         "itemsizing": "constant",
         "tracegroupgap": 0
        },
        "mapbox": {
         "center": {
          "lat": 6.2532649750000004,
          "lon": -75.55400945
         },
         "domain": {
          "x": [
           0,
           1
          ],
          "y": [
           0,
           1
          ]
         },
         "style": "carto-positron",
         "zoom": 10
        },
        "margin": {
         "t": 60
        },
        "template": {
         "data": {
          "bar": [
           {
            "error_x": {
             "color": "#2a3f5f"
            },
            "error_y": {
             "color": "#2a3f5f"
            },
            "marker": {
             "line": {
              "color": "#E5ECF6",
              "width": 0.5
             },
             "pattern": {
              "fillmode": "overlay",
              "size": 10,
              "solidity": 0.2
             }
            },
            "type": "bar"
           }
          ],
          "barpolar": [
           {
            "marker": {
             "line": {
              "color": "#E5ECF6",
              "width": 0.5
             },
             "pattern": {
              "fillmode": "overlay",
              "size": 10,
              "solidity": 0.2
             }
            },
            "type": "barpolar"
           }
          ],
          "carpet": [
           {
            "aaxis": {
             "endlinecolor": "#2a3f5f",
             "gridcolor": "white",
             "linecolor": "white",
             "minorgridcolor": "white",
             "startlinecolor": "#2a3f5f"
            },
            "baxis": {
             "endlinecolor": "#2a3f5f",
             "gridcolor": "white",
             "linecolor": "white",
             "minorgridcolor": "white",
             "startlinecolor": "#2a3f5f"
            },
            "type": "carpet"
           }
          ],
          "choropleth": [
           {
            "colorbar": {
             "outlinewidth": 0,
             "ticks": ""
            },
            "type": "choropleth"
           }
          ],
          "contour": [
           {
            "colorbar": {
             "outlinewidth": 0,
             "ticks": ""
            },
            "colorscale": [
             [
              0,
              "#0d0887"
             ],
             [
              0.1111111111111111,
              "#46039f"
             ],
             [
              0.2222222222222222,
              "#7201a8"
             ],
             [
              0.3333333333333333,
              "#9c179e"
             ],
             [
              0.4444444444444444,
              "#bd3786"
             ],
             [
              0.5555555555555556,
              "#d8576b"
             ],
             [
              0.6666666666666666,
              "#ed7953"
             ],
             [
              0.7777777777777778,
              "#fb9f3a"
             ],
             [
              0.8888888888888888,
              "#fdca26"
             ],
             [
              1,
              "#f0f921"
             ]
            ],
            "type": "contour"
           }
          ],
          "contourcarpet": [
           {
            "colorbar": {
             "outlinewidth": 0,
             "ticks": ""
            },
            "type": "contourcarpet"
           }
          ],
          "heatmap": [
           {
            "colorbar": {
             "outlinewidth": 0,
             "ticks": ""
            },
            "colorscale": [
             [
              0,
              "#0d0887"
             ],
             [
              0.1111111111111111,
              "#46039f"
             ],
             [
              0.2222222222222222,
              "#7201a8"
             ],
             [
              0.3333333333333333,
              "#9c179e"
             ],
             [
              0.4444444444444444,
              "#bd3786"
             ],
             [
              0.5555555555555556,
              "#d8576b"
             ],
             [
              0.6666666666666666,
              "#ed7953"
             ],
             [
              0.7777777777777778,
              "#fb9f3a"
             ],
             [
              0.8888888888888888,
              "#fdca26"
             ],
             [
              1,
              "#f0f921"
             ]
            ],
            "type": "heatmap"
           }
          ],
          "histogram": [
           {
            "marker": {
             "pattern": {
              "fillmode": "overlay",
              "size": 10,
              "solidity": 0.2
             }
            },
            "type": "histogram"
           }
          ],
          "histogram2d": [
           {
            "colorbar": {
             "outlinewidth": 0,
             "ticks": ""
            },
            "colorscale": [
             [
              0,
              "#0d0887"
             ],
             [
              0.1111111111111111,
              "#46039f"
             ],
             [
              0.2222222222222222,
              "#7201a8"
             ],
             [
              0.3333333333333333,
              "#9c179e"
             ],
             [
              0.4444444444444444,
              "#bd3786"
             ],
             [
              0.5555555555555556,
              "#d8576b"
             ],
             [
              0.6666666666666666,
              "#ed7953"
             ],
             [
              0.7777777777777778,
              "#fb9f3a"
             ],
             [
              0.8888888888888888,
              "#fdca26"
             ],
             [
              1,
              "#f0f921"
             ]
            ],
            "type": "histogram2d"
           }
          ],
          "histogram2dcontour": [
           {
            "colorbar": {
             "outlinewidth": 0,
             "ticks": ""
            },
            "colorscale": [
             [
              0,
              "#0d0887"
             ],
             [
              0.1111111111111111,
              "#46039f"
             ],
             [
              0.2222222222222222,
              "#7201a8"
             ],
             [
              0.3333333333333333,
              "#9c179e"
             ],
             [
              0.4444444444444444,
              "#bd3786"
             ],
             [
              0.5555555555555556,
              "#d8576b"
             ],
             [
              0.6666666666666666,
              "#ed7953"
             ],
             [
              0.7777777777777778,
              "#fb9f3a"
             ],
             [
              0.8888888888888888,
              "#fdca26"
             ],
             [
              1,
              "#f0f921"
             ]
            ],
            "type": "histogram2dcontour"
           }
          ],
          "mesh3d": [
           {
            "colorbar": {
             "outlinewidth": 0,
             "ticks": ""
            },
            "type": "mesh3d"
           }
          ],
          "parcoords": [
           {
            "line": {
             "colorbar": {
              "outlinewidth": 0,
              "ticks": ""
             }
            },
            "type": "parcoords"
           }
          ],
          "pie": [
           {
            "automargin": true,
            "type": "pie"
           }
          ],
          "scatter": [
           {
            "fillpattern": {
             "fillmode": "overlay",
             "size": 10,
             "solidity": 0.2
            },
            "type": "scatter"
           }
          ],
          "scatter3d": [
           {
            "line": {
             "colorbar": {
              "outlinewidth": 0,
              "ticks": ""
             }
            },
            "marker": {
             "colorbar": {
              "outlinewidth": 0,
              "ticks": ""
             }
            },
            "type": "scatter3d"
           }
          ],
          "scattercarpet": [
           {
            "marker": {
             "colorbar": {
              "outlinewidth": 0,
              "ticks": ""
             }
            },
            "type": "scattercarpet"
           }
          ],
          "scattergeo": [
           {
            "marker": {
             "colorbar": {
              "outlinewidth": 0,
              "ticks": ""
             }
            },
            "type": "scattergeo"
           }
          ],
          "scattergl": [
           {
            "marker": {
             "colorbar": {
              "outlinewidth": 0,
              "ticks": ""
             }
            },
            "type": "scattergl"
           }
          ],
          "scattermap": [
           {
            "marker": {
             "colorbar": {
              "outlinewidth": 0,
              "ticks": ""
             }
            },
            "type": "scattermap"
           }
          ],
          "scattermapbox": [
           {
            "marker": {
             "colorbar": {
              "outlinewidth": 0,
              "ticks": ""
             }
            },
            "type": "scattermapbox"
           }
          ],
          "scatterpolar": [
           {
            "marker": {
             "colorbar": {
              "outlinewidth": 0,
              "ticks": ""
             }
            },
            "type": "scatterpolar"
           }
          ],
          "scatterpolargl": [
           {
            "marker": {
             "colorbar": {
              "outlinewidth": 0,
              "ticks": ""
             }
            },
            "type": "scatterpolargl"
           }
          ],
          "scatterternary": [
           {
            "marker": {
             "colorbar": {
              "outlinewidth": 0,
              "ticks": ""
             }
            },
            "type": "scatterternary"
           }
          ],
          "surface": [
           {
            "colorbar": {
             "outlinewidth": 0,
             "ticks": ""
            },
            "colorscale": [
             [
              0,
              "#0d0887"
             ],
             [
              0.1111111111111111,
              "#46039f"
             ],
             [
              0.2222222222222222,
              "#7201a8"
             ],
             [
              0.3333333333333333,
              "#9c179e"
             ],
             [
              0.4444444444444444,
              "#bd3786"
             ],
             [
              0.5555555555555556,
              "#d8576b"
             ],
             [
              0.6666666666666666,
              "#ed7953"
             ],
             [
              0.7777777777777778,
              "#fb9f3a"
             ],
             [
              0.8888888888888888,
              "#fdca26"
             ],
             [
              1,
              "#f0f921"
             ]
            ],
            "type": "surface"
           }
          ],
          "table": [
           {
            "cells": {
             "fill": {
              "color": "#EBF0F8"
             },
             "line": {
              "color": "white"
             }
            },
            "header": {
             "fill": {
              "color": "#C8D4E3"
             },
             "line": {
              "color": "white"
             }
            },
            "type": "table"
           }
          ]
         },
         "layout": {
          "annotationdefaults": {
           "arrowcolor": "#2a3f5f",
           "arrowhead": 0,
           "arrowwidth": 1
          },
          "autotypenumbers": "strict",
          "coloraxis": {
           "colorbar": {
            "outlinewidth": 0,
            "ticks": ""
           }
          },
          "colorscale": {
           "diverging": [
            [
             0,
             "#8e0152"
            ],
            [
             0.1,
             "#c51b7d"
            ],
            [
             0.2,
             "#de77ae"
            ],
            [
             0.3,
             "#f1b6da"
            ],
            [
             0.4,
             "#fde0ef"
            ],
            [
             0.5,
             "#f7f7f7"
            ],
            [
             0.6,
             "#e6f5d0"
            ],
            [
             0.7,
             "#b8e186"
            ],
            [
             0.8,
             "#7fbc41"
            ],
            [
             0.9,
             "#4d9221"
            ],
            [
             1,
             "#276419"
            ]
           ],
           "sequential": [
            [
             0,
             "#0d0887"
            ],
            [
             0.1111111111111111,
             "#46039f"
            ],
            [
             0.2222222222222222,
             "#7201a8"
            ],
            [
             0.3333333333333333,
             "#9c179e"
            ],
            [
             0.4444444444444444,
             "#bd3786"
            ],
            [
             0.5555555555555556,
             "#d8576b"
            ],
            [
             0.6666666666666666,
             "#ed7953"
            ],
            [
             0.7777777777777778,
             "#fb9f3a"
            ],
            [
             0.8888888888888888,
             "#fdca26"
            ],
            [
             1,
             "#f0f921"
            ]
           ],
           "sequentialminus": [
            [
             0,
             "#0d0887"
            ],
            [
             0.1111111111111111,
             "#46039f"
            ],
            [
             0.2222222222222222,
             "#7201a8"
            ],
            [
             0.3333333333333333,
             "#9c179e"
            ],
            [
             0.4444444444444444,
             "#bd3786"
            ],
            [
             0.5555555555555556,
             "#d8576b"
            ],
            [
             0.6666666666666666,
             "#ed7953"
            ],
            [
             0.7777777777777778,
             "#fb9f3a"
            ],
            [
             0.8888888888888888,
             "#fdca26"
            ],
            [
             1,
             "#f0f921"
            ]
           ]
          },
          "colorway": [
           "#636efa",
           "#EF553B",
           "#00cc96",
           "#ab63fa",
           "#FFA15A",
           "#19d3f3",
           "#FF6692",
           "#B6E880",
           "#FF97FF",
           "#FECB52"
          ],
          "font": {
           "color": "#2a3f5f"
          },
          "geo": {
           "bgcolor": "white",
           "lakecolor": "white",
           "landcolor": "#E5ECF6",
           "showlakes": true,
           "showland": true,
           "subunitcolor": "white"
          },
          "hoverlabel": {
           "align": "left"
          },
          "hovermode": "closest",
          "mapbox": {
           "style": "light"
          },
          "paper_bgcolor": "white",
          "plot_bgcolor": "#E5ECF6",
          "polar": {
           "angularaxis": {
            "gridcolor": "white",
            "linecolor": "white",
            "ticks": ""
           },
           "bgcolor": "#E5ECF6",
           "radialaxis": {
            "gridcolor": "white",
            "linecolor": "white",
            "ticks": ""
           }
          },
          "scene": {
           "xaxis": {
            "backgroundcolor": "#E5ECF6",
            "gridcolor": "white",
            "gridwidth": 2,
            "linecolor": "white",
            "showbackground": true,
            "ticks": "",
            "zerolinecolor": "white"
           },
           "yaxis": {
            "backgroundcolor": "#E5ECF6",
            "gridcolor": "white",
            "gridwidth": 2,
            "linecolor": "white",
            "showbackground": true,
            "ticks": "",
            "zerolinecolor": "white"
           },
           "zaxis": {
            "backgroundcolor": "#E5ECF6",
            "gridcolor": "white",
            "gridwidth": 2,
            "linecolor": "white",
            "showbackground": true,
            "ticks": "",
            "zerolinecolor": "white"
           }
          },
          "shapedefaults": {
           "line": {
            "color": "#2a3f5f"
           }
          },
          "ternary": {
           "aaxis": {
            "gridcolor": "white",
            "linecolor": "white",
            "ticks": ""
           },
           "baxis": {
            "gridcolor": "white",
            "linecolor": "white",
            "ticks": ""
           },
           "bgcolor": "#E5ECF6",
           "caxis": {
            "gridcolor": "white",
            "linecolor": "white",
            "ticks": ""
           }
          },
          "title": {
           "x": 0.05
          },
          "xaxis": {
           "automargin": true,
           "gridcolor": "white",
           "linecolor": "white",
           "ticks": "",
           "title": {
            "standoff": 15
           },
           "zerolinecolor": "white",
           "zerolinewidth": 2
          },
          "yaxis": {
           "automargin": true,
           "gridcolor": "white",
           "linecolor": "white",
           "ticks": "",
           "title": {
            "standoff": 15
           },
           "zerolinecolor": "white",
           "zerolinewidth": 2
          }
         }
        },
        "title": {
         "text": "OZONO - Concentración por estación"
        }
       }
      }
     },
     "metadata": {},
     "output_type": "display_data"
    }
   ],
   "source": [
    "media_plot = media_estaciones.dropna(subset=['valor'])\n",
    "\n",
    "\n",
    "import plotly.express as px\n",
    "\n",
    "fig = px.scatter_mapbox(\n",
    "    media_plot,\n",
    "    lat=\"latitud\", lon=\"longitud\",\n",
    "    color=\"valor\",\n",
    "    size=\"valor\",\n",
    "    hover_name=\"nombre\",\n",
    "    color_continuous_scale=\"YlOrRd\",\n",
    "    size_max=15,\n",
    "    zoom=10,\n",
    "    mapbox_style=\"carto-positron\"\n",
    ")\n",
    "fig.update_layout(title=f'{contaminante_unico.upper()} - Concentración por estación')\n",
    "fig.show()\n"
   ]
  },
  {
   "cell_type": "code",
   "execution_count": 19,
   "id": "b3702df5",
   "metadata": {},
   "outputs": [],
   "source": [
    "limites_normativos = {\n",
    "    'pm25': 25,   # μg/m³ (24h) - OMS\n",
    "    'pm10': 50,   # μg/m³ (24h) - OMS\n",
    "    'ozono': 0.051,  # ppm (8h) - OMS 100 μg/m³ → 0.051 ppm aprox\n",
    "    'co': 4.0,    # ppm (24h) - OMS\n",
    "    'no2': 0.025, # ppm (1h) - OMS\n",
    "    'so2': 0.005, # ppm (24h) - OMS\n",
    "    # otros...\n",
    "}\n"
   ]
  },
  {
   "cell_type": "code",
   "execution_count": 20,
   "id": "c6323a6b",
   "metadata": {},
   "outputs": [
    {
     "name": "stdout",
     "output_type": "stream",
     "text": [
      "📌 Porcentaje de registros que exceden el límite OMS para OZONO: 70.02%\n"
     ]
    }
   ],
   "source": [
    "contaminante = contaminante_unico.lower()\n",
    "limite = limites_normativos.get(contaminante, None)\n",
    "\n",
    "if limite:\n",
    "    df['excede_limite'] = df['valor'] > limite\n",
    "    excedencias = df['excede_limite'].mean() * 100\n",
    "    print(f\"📌 Porcentaje de registros que exceden el límite OMS para {contaminante.upper()}: {excedencias:.2f}%\")\n",
    "else:\n",
    "    print(\"No hay límite definido para este contaminante.\")\n"
   ]
  },
  {
   "cell_type": "code",
   "execution_count": 21,
   "id": "72245775",
   "metadata": {},
   "outputs": [
    {
     "data": {
      "image/png": "[encoded data removed]",
      "text/plain": [
       "<Figure size 1200x400 with 1 Axes>"
      ]
     },
     "metadata": {},
     "output_type": "display_data"
    }
   ],
   "source": [
    "#gafico de dias que exceden\n",
    "\n",
    "excesos_diarios = df.groupby(df['fecha'].dt.date)['excede_limite'].mean()\n",
    "\n",
    "plt.figure(figsize=(12, 4))\n",
    "excesos_diarios.plot(kind='bar', color='red')\n",
    "plt.title(f'Días con excedencias de {contaminante.upper()} según OMS')\n",
    "plt.ylabel('% de registros diarios que exceden')\n",
    "plt.xticks(rotation=90)\n",
    "plt.tight_layout()\n",
    "plt.show()\n"
   ]
  },
  {
   "cell_type": "code",
   "execution_count": 22,
   "id": "2f1765c7",
   "metadata": {},
   "outputs": [
    {
     "data": {
      "image/png": "[encoded data removed]",
      "text/plain": [
       "<Figure size 1200x600 with 1 Axes>"
      ]
     },
     "metadata": {},
     "output_type": "display_data"
    }
   ],
   "source": [
    "#comparar promedios mensuales con los limites\n",
    "plt.figure(figsize=(12,6))\n",
    "sns.lineplot(data=promedios_mensuales, x='mes', y='valor', marker='o')\n",
    "if limite:\n",
    "    plt.axhline(y=limite, color='red', linestyle='--', label='Límite OMS')\n",
    "plt.title(f'{contaminante_unico.upper()} - Promedio mensual')\n",
    "plt.xlabel('Mes')\n",
    "plt.ylabel('Concentración')\n",
    "plt.xticks(rotation=45)\n",
    "plt.legend()\n",
    "plt.grid(True)\n",
    "plt.tight_layout()\n",
    "plt.show()\n"
   ]
  },
  {
   "cell_type": "code",
   "execution_count": 23,
   "id": "ea3d61aa",
   "metadata": {},
   "outputs": [
    {
     "data": {
      "image/png": "[encoded data removed]",
      "text/plain": [
       "<Figure size 1000x500 with 1 Axes>"
      ]
     },
     "metadata": {},
     "output_type": "display_data"
    }
   ],
   "source": [
    "#variacion por hora del dia\n",
    "df['hora'] = df['fecha'].dt.hour\n",
    "\n",
    "horas = df.groupby('hora')['valor'].mean().reset_index()\n",
    "\n",
    "plt.figure(figsize=(10,5))\n",
    "sns.lineplot(data=horas, x='hora', y='valor', marker='o')\n",
    "plt.title(f'{contaminante_unico.upper()} - Promedio por hora del día')\n",
    "plt.xlabel('Hora')\n",
    "plt.ylabel('Concentración')\n",
    "plt.xticks(range(0,24))\n",
    "plt.grid(True)\n",
    "plt.tight_layout()\n",
    "plt.show()\n"
   ]
  },
  {
   "cell_type": "code",
   "execution_count": 24,
   "id": "c2aaac70",
   "metadata": {},
   "outputs": [
    {
     "name": "stdout",
     "output_type": "stream",
     "text": [
      "Días con mayor concentración promedio:\n",
      "fecha\n",
      "2022-05-19    1.951875\n",
      "2022-05-25    1.886806\n",
      "2022-05-22    1.865972\n",
      "2022-05-23    1.823611\n",
      "2022-05-24    1.797917\n",
      "2022-05-31    1.756944\n",
      "2022-05-21    1.749306\n",
      "2022-05-20    1.731944\n",
      "2022-05-27    1.730556\n",
      "2022-05-14    1.728571\n",
      "Name: valor, dtype: float64\n"
     ]
    }
   ],
   "source": [
    "#Top 10 dias mas contaminados\n",
    "top_dias = df.groupby(df['fecha'].dt.date)['valor'].mean().sort_values(ascending=False).head(10)\n",
    "print(\"Días con mayor concentración promedio:\")\n",
    "print(top_dias)\n"
   ]
  },
  {
   "cell_type": "code",
   "execution_count": 25,
   "id": "35a91eb9",
   "metadata": {},
   "outputs": [
    {
     "name": "stderr",
     "output_type": "stream",
     "text": [
      "C:\\Users\\Jeronimo Zapata\\AppData\\Local\\Temp\\ipykernel_21012\\951271130.py:13: FutureWarning:\n",
      "\n",
      "\n",
      "\n",
      "Passing `palette` without assigning `hue` is deprecated and will be removed in v0.14.0. Assign the `x` variable to `hue` and set `legend=False` for the same effect.\n",
      "\n",
      "\n"
     ]
    },
    {
     "data": {
      "image/png": "[encoded data removed]",
      "text/plain": [
       "<Figure size 1000x500 with 1 Axes>"
      ]
     },
     "metadata": {},
     "output_type": "display_data"
    }
   ],
   "source": [
    "promedio_eventos = df.groupby('evento')['valor'].mean().sort_values(ascending=False)\n",
    "\n",
    "# Convertir a DataFrame y ordenar por valor (descendente)\n",
    "evento_df = promedio_eventos.reset_index()\n",
    "evento_df.columns = ['evento', 'valor']\n",
    "evento_df = evento_df.sort_values(by='valor', ascending=False).reset_index(drop=True)\n",
    "\n",
    "# Crear una paleta personalizada basada en el número de eventos\n",
    "paleta = sns.color_palette(\"Reds\", n_colors=len(evento_df))\n",
    "\n",
    "# Graficar\n",
    "plt.figure(figsize=(10, 5))\n",
    "ax = sns.barplot(\n",
    "    data=evento_df,\n",
    "    x='evento', y='valor',\n",
    "    palette=paleta[::-1]  # ahora sí, inverso en orden decreciente\n",
    ")\n",
    "\n",
    "# Agregar etiquetas\n",
    "for i, val in enumerate(evento_df['valor']):\n",
    "    ax.text(i, val + 0.05, f'{val:.2f}', ha='center', va='bottom')\n",
    "\n",
    "plt.title(f'{contaminante_unico.upper()} - Promedio de concentración por evento')\n",
    "plt.ylabel('Concentración')\n",
    "plt.xticks(rotation=45)\n",
    "plt.tight_layout()\n",
    "plt.show()\n"
   ]
  },
  {
   "cell_type": "code",
   "execution_count": 26,
   "id": "dea16ca2",
   "metadata": {},
   "outputs": [
    {
     "name": "stdout",
     "output_type": "stream",
     "text": [
      "                     count      mean       std  min  max\n",
      "evento                                                  \n",
      "Navidad                144  1.429861  0.564210  1.0  2.4\n",
      "Feria de las Flores    288  1.326389  0.466880  1.0  2.3\n",
      "Día de Reyes           168  1.282143  0.608751  1.0  3.1\n",
      "Normal               53581  1.264652  0.548904  1.0  3.2\n",
      "Año Nuevo              168  1.235714  0.448054  1.0  2.4\n",
      "Día de las Velitas     120  1.200000  0.383921  1.0  2.3\n",
      "Independencia          144  1.199306  0.395162  1.0  2.3\n",
      "Semana Santa           312  1.141667  0.414055  1.0  2.4\n",
      "Halloween              144  1.114583  0.365270  1.0  2.3\n",
      "Día sin carro          142  1.042254  0.222597  1.0  2.3\n"
     ]
    }
   ],
   "source": [
    "stats_eventos = df.groupby('evento')['valor'].agg(['count', 'mean', 'std', 'min', 'max']).sort_values(by='mean', ascending=False)\n",
    "print(stats_eventos)\n"
   ]
  },
  {
   "cell_type": "code",
   "execution_count": 31,
   "id": "10d79fd1",
   "metadata": {},
   "outputs": [
    {
     "name": "stderr",
     "output_type": "stream",
     "text": [
      "C:\\Users\\Jeronimo Zapata\\AppData\\Local\\Temp\\ipykernel_21012\\1442359101.py:9: FutureWarning:\n",
      "\n",
      "\n",
      "\n",
      "Passing `palette` without assigning `hue` is deprecated and will be removed in v0.14.0. Assign the `x` variable to `hue` and set `legend=False` for the same effect.\n",
      "\n",
      "\n"
     ]
    },
    {
     "data": {
      "image/png": "[encoded data removed]",
      "text/plain": [
       "<Figure size 1000x500 with 1 Axes>"
      ]
     },
     "metadata": {},
     "output_type": "display_data"
    }
   ],
   "source": [
    "# Promedio por estación\n",
    "top_estaciones = df.groupby('nombreCorto')['valor'].mean().sort_values(ascending=False).head(10).reset_index()\n",
    "\n",
    "# Paleta de colores (más alta concentración = más oscuro)\n",
    "paleta = sns.color_palette(\"Reds\", n_colors=len(top_estaciones))\n",
    "\n",
    "# Gráfico\n",
    "plt.figure(figsize=(10, 5))\n",
    "ax = sns.barplot(\n",
    "    data=top_estaciones,\n",
    "    x='nombreCorto', y='valor',\n",
    "    palette=paleta[::-1]\n",
    ")\n",
    "\n",
    "# Etiquetas\n",
    "for i, val in enumerate(top_estaciones['valor']):\n",
    "    ax.text(i, val + 0.05, f'{val:.2f}', ha='center', va='bottom')\n",
    "\n",
    "plt.title(f'{contaminante_unico.upper()} - Top 10 estaciones con mayor concentración')\n",
    "plt.ylabel('Concentración')\n",
    "plt.xlabel('Estación')\n",
    "plt.xticks(rotation=45)\n",
    "plt.tight_layout()\n",
    "plt.show()\n"
   ]
  },
  {
   "cell_type": "code",
   "execution_count": 28,
   "id": "39f61e3c",
   "metadata": {},
   "outputs": [
    {
     "data": {
      "image/png": "[encoded data removed]",
      "text/plain": [
       "<Figure size 1400x800 with 2 Axes>"
      ]
     },
     "metadata": {},
     "output_type": "display_data"
    }
   ],
   "source": [
    "# Crear columna de mes\n",
    "df['mes'] = df['fecha'].dt.to_period('M').astype(str)\n",
    "\n",
    "# Agrupamos por estación y mes\n",
    "pivot_df = df.groupby(['nombre', 'mes'])['valor'].mean().reset_index()\n",
    "\n",
    "# Reorganizar en forma de matriz\n",
    "pivot_table = pivot_df.pivot(index='nombre', columns='mes', values='valor')\n",
    "\n",
    "# Crear heatmap\n",
    "plt.figure(figsize=(14, 8))\n",
    "sns.heatmap(pivot_table, cmap=\"Reds\", linewidths=0.5, linecolor='gray', annot=False, fmt=\".1f\", cbar_kws={'label': 'Concentración'})\n",
    "plt.title(f'{contaminante_unico.upper()} - Concentración mensual por estación')\n",
    "plt.xlabel('Mes')\n",
    "plt.ylabel('Estación')\n",
    "plt.tight_layout()\n",
    "plt.show()\n"
   ]
  },
  {
   "cell_type": "code",
   "execution_count": 29,
   "id": "9720a829",
   "metadata": {},
   "outputs": [
    {
     "name": "stderr",
     "output_type": "stream",
     "text": [
      "C:\\Users\\Jeronimo Zapata\\AppData\\Local\\Temp\\ipykernel_21012\\3309211999.py:12: DeprecationWarning:\n",
      "\n",
      "*scatter_mapbox* is deprecated! Use *scatter_map* instead. Learn more at: https://plotly.com/python/mapbox-to-maplibre/\n",
      "\n"
     ]
    },
    {
     "data": {
      "application/vnd.plotly.v1+json": {
       "config": {
        "plotlyServerURL": "https://plot.ly"
       },
       "data": [
        {
         "hovertemplate": "<b>%{hovertext}</b><br><br>mes=2021-12<br>valor=%{marker.color}<br>latitud=%{lat}<br>longitud=%{lon}<extra></extra>",
         "hovertext": [
          "Itagüí - I.E. Concejo Municipal de Itagüí",
          "Medellín, El Poblado - Tanques La Ye EPM",
          "Parque de las Aguas",
          "Tanque Miraflores",
          "Universidad San Buenaventura",
          "Universidad de Medellin",
          "_OFF-Caldas - Corporacion Universitaria Lasallista",
          "_OFF-Girardota - S.O.S Aburrá Norte"
         ],
         "lat": {
          "bdata": "JOL3gIqsGEClnNQ87LoYQOZd9YB5oBlAN+6D4n3rGEA2h7VColIZQJ08dmG16xhAF6yCYnVlGEDs4Sb+g4MZQA==",
          "dtype": "f8"
         },
         "legendgroup": "",
         "lon": {
          "bdata": "Ov8bID3pUsBjHwmgPeNSwDiGAODY2lLAk2nZ/yXjUsA9SRUgZeRSwFRSJ6AJ51LAz3cBQN/oUsDJty2A39xSwA==",
          "dtype": "f8"
         },
         "marker": {
          "color": {
           "bdata": "BPqIMrRx8T91f1b6aqjyP0fNJXeRsP0/QiXdKGZ//j+NNqLbk23xPzF231vAwvE/xh9hGnyT9j8zMzMzMzP7Pw==",
           "dtype": "f8"
          },
          "coloraxis": "coloraxis",
          "size": {
           "bdata": "BPqIMrRx8T91f1b6aqjyP0fNJXeRsP0/QiXdKGZ//j+NNqLbk23xPzF231vAwvE/xh9hGnyT9j8zMzMzMzP7Pw==",
           "dtype": "f8"
          },
          "sizemode": "area",
          "sizeref": 0.010469491073807619
         },
         "mode": "markers",
         "name": "",
         "showlegend": false,
         "subplot": "mapbox",
         "type": "scattermapbox"
        }
       ],
       "frames": [
        {
         "data": [
          {
           "hovertemplate": "<b>%{hovertext}</b><br><br>mes=2021-12<br>valor=%{marker.color}<br>latitud=%{lat}<br>longitud=%{lon}<extra></extra>",
           "hovertext": [
            "Itagüí - I.E. Concejo Municipal de Itagüí",
            "Medellín, El Poblado - Tanques La Ye EPM",
            "Parque de las Aguas",
            "Tanque Miraflores",
            "Universidad San Buenaventura",
            "Universidad de Medellin",
            "_OFF-Caldas - Corporacion Universitaria Lasallista",
            "_OFF-Girardota - S.O.S Aburrá Norte"
           ],
           "lat": {
            "bdata": "JOL3gIqsGEClnNQ87LoYQOZd9YB5oBlAN+6D4n3rGEA2h7VColIZQJ08dmG16xhAF6yCYnVlGEDs4Sb+g4MZQA==",
            "dtype": "f8"
           },
           "legendgroup": "",
           "lon": {
            "bdata": "Ov8bID3pUsBjHwmgPeNSwDiGAODY2lLAk2nZ/yXjUsA9SRUgZeRSwFRSJ6AJ51LAz3cBQN/oUsDJty2A39xSwA==",
            "dtype": "f8"
           },
           "marker": {
            "color": {
             "bdata": "BPqIMrRx8T91f1b6aqjyP0fNJXeRsP0/QiXdKGZ//j+NNqLbk23xPzF231vAwvE/xh9hGnyT9j8zMzMzMzP7Pw==",
             "dtype": "f8"
            },
            "coloraxis": "coloraxis",
            "size": {
             "bdata": "BPqIMrRx8T91f1b6aqjyP0fNJXeRsP0/QiXdKGZ//j+NNqLbk23xPzF231vAwvE/xh9hGnyT9j8zMzMzMzP7Pw==",
             "dtype": "f8"
            },
            "sizemode": "area",
            "sizeref": 0.010469491073807619
           },
           "mode": "markers",
           "name": "",
           "showlegend": false,
           "subplot": "mapbox",
           "type": "scattermapbox"
          }
         ],
         "name": "2021-12"
        },
        {
         "data": [
          {
           "hovertemplate": "<b>%{hovertext}</b><br><br>mes=2022-01<br>valor=%{marker.color}<br>latitud=%{lat}<br>longitud=%{lon}<extra></extra>",
           "hovertext": [
            "Itagüí - I.E. Concejo Municipal de Itagüí",
            "Medellín, El Poblado - Tanques La Ye EPM",
            "Parque de las Aguas",
            "Tanque Miraflores",
            "Universidad San Buenaventura",
            "Universidad de Medellin",
            "_OFF-Caldas - Corporacion Universitaria Lasallista"
           ],
           "lat": {
            "bdata": "JOL3gIqsGEClnNQ87LoYQOZd9YB5oBlAN+6D4n3rGEA2h7VColIZQJ08dmG16xhAF6yCYnVlGEA=",
            "dtype": "f8"
           },
           "legendgroup": "",
           "lon": {
            "bdata": "Ov8bID3pUsBjHwmgPeNSwDiGAODY2lLAk2nZ/yXjUsA9SRUgZeRSwFRSJ6AJ51LAz3cBQN/oUsA=",
            "dtype": "f8"
           },
           "marker": {
            "color": {
             "bdata": "qL5ZNT1E8T9KWpykxUnxPzIMsJ2kyPA/L2QOPJPc+T/CoBwMysHwPzuNJKe10/A/GKIJT3Jz8j8=",
             "dtype": "f8"
            },
            "coloraxis": "coloraxis",
            "size": {
             "bdata": "qL5ZNT1E8T9KWpykxUnxPzIMsJ2kyPA/L2QOPJPc+T/CoBwMysHwPzuNJKe10/A/GKIJT3Jz8j8=",
             "dtype": "f8"
            },
            "sizemode": "area",
            "sizeref": 0.010469491073807619
           },
           "mode": "markers",
           "name": "",
           "showlegend": false,
           "subplot": "mapbox",
           "type": "scattermapbox"
          }
         ],
         "name": "2022-01"
        },
        {
         "data": [
          {
           "hovertemplate": "<b>%{hovertext}</b><br><br>mes=2022-02<br>valor=%{marker.color}<br>latitud=%{lat}<br>longitud=%{lon}<extra></extra>",
           "hovertext": [
            "Itagüí - I.E. Concejo Municipal de Itagüí",
            "Medellín, El Poblado - Tanques La Ye EPM",
            "Parque de las Aguas",
            "Tanque Miraflores",
            "Universidad San Buenaventura",
            "Universidad de Medellin",
            "_OFF-Caldas - Corporacion Universitaria Lasallista"
           ],
           "lat": {
            "bdata": "JOL3gIqsGEClnNQ87LoYQOZd9YB5oBlAN+6D4n3rGEA2h7VColIZQJ08dmG16xhAF6yCYnVlGEA=",
            "dtype": "f8"
           },
           "legendgroup": "",
           "lon": {
            "bdata": "Ov8bID3pUsBjHwmgPeNSwDiGAODY2lLAk2nZ/yXjUsA9SRUgZeRSwFRSJ6AJ51LAz3cBQN/oUsA=",
            "dtype": "f8"
           },
           "marker": {
            "color": {
             "bdata": "RYA0MnDm9T9+EnVG+QPyP8xV0qi2XPE/GrsEZsX/+D+hNzwiYAH5Pw6kbmJCbvE/XGwRah7L9T8=",
             "dtype": "f8"
            },
            "coloraxis": "coloraxis",
            "size": {
             "bdata": "RYA0MnDm9T9+EnVG+QPyP8xV0qi2XPE/GrsEZsX/+D+hNzwiYAH5Pw6kbmJCbvE/XGwRah7L9T8=",
             "dtype": "f8"
            },
            "sizemode": "area",
            "sizeref": 0.010469491073807619
           },
           "mode": "markers",
           "name": "",
           "showlegend": false,
           "subplot": "mapbox",
           "type": "scattermapbox"
          }
         ],
         "name": "2022-02"
        },
        {
         "data": [
          {
           "hovertemplate": "<b>%{hovertext}</b><br><br>mes=2022-03<br>valor=%{marker.color}<br>latitud=%{lat}<br>longitud=%{lon}<extra></extra>",
           "hovertext": [
            "Itagüí - I.E. Concejo Municipal de Itagüí",
            "Medellín, El Poblado - Tanques La Ye EPM",
            "Parque de las Aguas",
            "Tanque Miraflores",
            "Universidad San Buenaventura",
            "Universidad de Medellin",
            "_OFF-Caldas - Corporacion Universitaria Lasallista"
           ],
           "lat": {
            "bdata": "JOL3gIqsGEClnNQ87LoYQOZd9YB5oBlAN+6D4n3rGEA2h7VColIZQJ08dmG16xhAF6yCYnVlGEA=",
            "dtype": "f8"
           },
           "legendgroup": "",
           "lon": {
            "bdata": "Ov8bID3pUsBjHwmgPeNSwDiGAODY2lLAk2nZ/yXjUsA9SRUgZeRSwFRSJ6AJ51LAz3cBQN/oUsA=",
            "dtype": "f8"
           },
           "marker": {
            "color": {
             "bdata": "bUh3P0218z/qmq7pmq7xP6scILpRyvA/tQdSeyC19D/XFFc30ezwPy6Nv2wUlPE/TOvNYILa+T8=",
             "dtype": "f8"
            },
            "coloraxis": "coloraxis",
            "size": {
             "bdata": "bUh3P0218z/qmq7pmq7xP6scILpRyvA/tQdSeyC19D/XFFc30ezwPy6Nv2wUlPE/TOvNYILa+T8=",
             "dtype": "f8"
            },
            "sizemode": "area",
            "sizeref": 0.010469491073807619
           },
           "mode": "markers",
           "name": "",
           "showlegend": false,
           "subplot": "mapbox",
           "type": "scattermapbox"
          }
         ],
         "name": "2022-03"
        },
        {
         "data": [
          {
           "hovertemplate": "<b>%{hovertext}</b><br><br>mes=2022-04<br>valor=%{marker.color}<br>latitud=%{lat}<br>longitud=%{lon}<extra></extra>",
           "hovertext": [
            "Itagüí - I.E. Concejo Municipal de Itagüí",
            "Medellín, El Poblado - Tanques La Ye EPM",
            "Parque de las Aguas",
            "Tanque Miraflores",
            "Universidad San Buenaventura",
            "Universidad de Medellin",
            "_OFF-Caldas - Corporacion Universitaria Lasallista"
           ],
           "lat": {
            "bdata": "JOL3gIqsGEClnNQ87LoYQOZd9YB5oBlAN+6D4n3rGEA2h7VColIZQJ08dmG16xhAF6yCYnVlGEA=",
            "dtype": "f8"
           },
           "legendgroup": "",
           "lon": {
            "bdata": "Ov8bID3pUsBjHwmgPeNSwDiGAODY2lLAk2nZ/yXjUsA9SRUgZeRSwFRSJ6AJ51LAz3cBQN/oUsA=",
            "dtype": "f8"
           },
           "marker": {
            "color": {
             "bdata": "r5JGteUq8T+vENlagSfxP7MyqBIuC/E/cD0K16Nw8j9/kKGyw9TwPxpG+015LvE/AQgcYtdx/D8=",
             "dtype": "f8"
            },
            "coloraxis": "coloraxis",
            "size": {
             "bdata": "r5JGteUq8T+vENlagSfxP7MyqBIuC/E/cD0K16Nw8j9/kKGyw9TwPxpG+015LvE/AQgcYtdx/D8=",
             "dtype": "f8"
            },
            "sizemode": "area",
            "sizeref": 0.010469491073807619
           },
           "mode": "markers",
           "name": "",
           "showlegend": false,
           "subplot": "mapbox",
           "type": "scattermapbox"
          }
         ],
         "name": "2022-04"
        },
        {
         "data": [
          {
           "hovertemplate": "<b>%{hovertext}</b><br><br>mes=2022-05<br>valor=%{marker.color}<br>latitud=%{lat}<br>longitud=%{lon}<extra></extra>",
           "hovertext": [
            "Itagüí - I.E. Concejo Municipal de Itagüí",
            "Medellín, El Poblado - Tanques La Ye EPM",
            "Parque de las Aguas",
            "Tanque Miraflores",
            "Universidad San Buenaventura",
            "Universidad de Medellin",
            "_OFF-Caldas - Corporacion Universitaria Lasallista"
           ],
           "lat": {
            "bdata": "JOL3gIqsGEClnNQ87LoYQOZd9YB5oBlAN+6D4n3rGEA2h7VColIZQJ08dmG16xhAF6yCYnVlGEA=",
            "dtype": "f8"
           },
           "legendgroup": "",
           "lon": {
            "bdata": "Ov8bID3pUsBjHwmgPeNSwDiGAODY2lLAk2nZ/yXjUsA9SRUgZeRSwFRSJ6AJ51LAz3cBQN/oUsA=",
            "dtype": "f8"
           },
           "marker": {
            "color": {
             "bdata": "fY3P1/h8/z/s7byZ2jAAQKYJfKhR9fA/faYwaikN8z97ILUHUnvxPwhm4eL2BPs/Vfuta1fYAkA=",
             "dtype": "f8"
            },
            "coloraxis": "coloraxis",
            "size": {
             "bdata": "fY3P1/h8/z/s7byZ2jAAQKYJfKhR9fA/faYwaikN8z97ILUHUnvxPwhm4eL2BPs/Vfuta1fYAkA=",
             "dtype": "f8"
            },
            "sizemode": "area",
            "sizeref": 0.010469491073807619
           },
           "mode": "markers",
           "name": "",
           "showlegend": false,
           "subplot": "mapbox",
           "type": "scattermapbox"
          }
         ],
         "name": "2022-05"
        },
        {
         "data": [
          {
           "hovertemplate": "<b>%{hovertext}</b><br><br>mes=2022-06<br>valor=%{marker.color}<br>latitud=%{lat}<br>longitud=%{lon}<extra></extra>",
           "hovertext": [
            "Itagüí - I.E. Concejo Municipal de Itagüí",
            "Medellín, El Poblado - Tanques La Ye EPM",
            "Parque de las Aguas",
            "Tanque Miraflores",
            "Universidad San Buenaventura",
            "Universidad de Medellin"
           ],
           "lat": {
            "bdata": "JOL3gIqsGEClnNQ87LoYQOZd9YB5oBlAN+6D4n3rGEA2h7VColIZQJ08dmG16xhA",
            "dtype": "f8"
           },
           "legendgroup": "",
           "lon": {
            "bdata": "Ov8bID3pUsBjHwmgPeNSwDiGAODY2lLAk2nZ/yXjUsA9SRUgZeRSwFRSJ6AJ51LA",
            "dtype": "f8"
           },
           "marker": {
            "color": {
             "bdata": "UijWrdcp8j/tMHW5/UHyP4kU0G9QRPc/jTUw8W8U8z/Oq4lnRaPxP/ZSOXGeTfI/",
             "dtype": "f8"
            },
            "coloraxis": "coloraxis",
            "size": {
             "bdata": "UijWrdcp8j/tMHW5/UHyP4kU0G9QRPc/jTUw8W8U8z/Oq4lnRaPxP/ZSOXGeTfI/",
             "dtype": "f8"
            },
            "sizemode": "area",
            "sizeref": 0.010469491073807619
           },
           "mode": "markers",
           "name": "",
           "showlegend": false,
           "subplot": "mapbox",
           "type": "scattermapbox"
          }
         ],
         "name": "2022-06"
        },
        {
         "data": [
          {
           "hovertemplate": "<b>%{hovertext}</b><br><br>mes=2022-07<br>valor=%{marker.color}<br>latitud=%{lat}<br>longitud=%{lon}<extra></extra>",
           "hovertext": [
            "Itagüí - I.E. Concejo Municipal de Itagüí",
            "Medellín, El Poblado - Tanques La Ye EPM",
            "Parque de las Aguas",
            "Tanque Miraflores",
            "Universidad San Buenaventura",
            "Universidad de Medellin"
           ],
           "lat": {
            "bdata": "JOL3gIqsGEClnNQ87LoYQOZd9YB5oBlAN+6D4n3rGEA2h7VColIZQJ08dmG16xhA",
            "dtype": "f8"
           },
           "legendgroup": "",
           "lon": {
            "bdata": "Ov8bID3pUsBjHwmgPeNSwDiGAODY2lLAk2nZ/yXjUsA9SRUgZeRSwFRSJ6AJ51LA",
            "dtype": "f8"
           },
           "marker": {
            "color": {
             "bdata": "MrgFD2L78D+QUQ8vlXnxP6M97cJ2uvo/ELL4zfGZ8j/cLsgNaF7yP0zVOdPHVPU/",
             "dtype": "f8"
            },
            "coloraxis": "coloraxis",
            "size": {
             "bdata": "MrgFD2L78D+QUQ8vlXnxP6M97cJ2uvo/ELL4zfGZ8j/cLsgNaF7yP0zVOdPHVPU/",
             "dtype": "f8"
            },
            "sizemode": "area",
            "sizeref": 0.010469491073807619
           },
           "mode": "markers",
           "name": "",
           "showlegend": false,
           "subplot": "mapbox",
           "type": "scattermapbox"
          }
         ],
         "name": "2022-07"
        },
        {
         "data": [
          {
           "hovertemplate": "<b>%{hovertext}</b><br><br>mes=2022-08<br>valor=%{marker.color}<br>latitud=%{lat}<br>longitud=%{lon}<extra></extra>",
           "hovertext": [
            "Itagüí - I.E. Concejo Municipal de Itagüí",
            "Medellín, El Poblado - Tanques La Ye EPM",
            "Parque de las Aguas",
            "Tanque Miraflores",
            "Universidad San Buenaventura",
            "Universidad de Medellin"
           ],
           "lat": {
            "bdata": "JOL3gIqsGEClnNQ87LoYQOZd9YB5oBlAN+6D4n3rGEA2h7VColIZQJ08dmG16xhA",
            "dtype": "f8"
           },
           "legendgroup": "",
           "lon": {
            "bdata": "Ov8bID3pUsBjHwmgPeNSwDiGAODY2lLAk2nZ/yXjUsA9SRUgZeRSwFRSJ6AJ51LA",
            "dtype": "f8"
           },
           "marker": {
            "color": {
             "bdata": "GR1k1YjH+D+z9zUhKHvxP9yrRaDOqvA/fPNq4lnR8T8s1NOqm4/8P2WpPdpuQPI/",
             "dtype": "f8"
            },
            "coloraxis": "coloraxis",
            "size": {
             "bdata": "GR1k1YjH+D+z9zUhKHvxP9yrRaDOqvA/fPNq4lnR8T8s1NOqm4/8P2WpPdpuQPI/",
             "dtype": "f8"
            },
            "sizemode": "area",
            "sizeref": 0.010469491073807619
           },
           "mode": "markers",
           "name": "",
           "showlegend": false,
           "subplot": "mapbox",
           "type": "scattermapbox"
          }
         ],
         "name": "2022-08"
        },
        {
         "data": [
          {
           "hovertemplate": "<b>%{hovertext}</b><br><br>mes=2022-09<br>valor=%{marker.color}<br>latitud=%{lat}<br>longitud=%{lon}<extra></extra>",
           "hovertext": [
            "Itagüí - I.E. Concejo Municipal de Itagüí",
            "Medellín, El Poblado - Tanques La Ye EPM",
            "Parque de las Aguas",
            "Tanque Miraflores",
            "Universidad San Buenaventura",
            "Universidad de Medellin"
           ],
           "lat": {
            "bdata": "JOL3gIqsGEClnNQ87LoYQOZd9YB5oBlAN+6D4n3rGEA2h7VColIZQJ08dmG16xhA",
            "dtype": "f8"
           },
           "legendgroup": "",
           "lon": {
            "bdata": "Ov8bID3pUsBjHwmgPeNSwDiGAODY2lLAk2nZ/yXjUsA9SRUgZeRSwFRSJ6AJ51LA",
            "dtype": "f8"
           },
           "marker": {
            "color": {
             "bdata": "Vg1pmvCK9j/ztBqKcrzxP5T8B5jyyfA/rkfhehSu8z+dN7nl8if1P0DIUNlh6vI/",
             "dtype": "f8"
            },
            "coloraxis": "coloraxis",
            "size": {
             "bdata": "Vg1pmvCK9j/ztBqKcrzxP5T8B5jyyfA/rkfhehSu8z+dN7nl8if1P0DIUNlh6vI/",
             "dtype": "f8"
            },
            "sizemode": "area",
            "sizeref": 0.010469491073807619
           },
           "mode": "markers",
           "name": "",
           "showlegend": false,
           "subplot": "mapbox",
           "type": "scattermapbox"
          }
         ],
         "name": "2022-09"
        },
        {
         "data": [
          {
           "hovertemplate": "<b>%{hovertext}</b><br><br>mes=2022-10<br>valor=%{marker.color}<br>latitud=%{lat}<br>longitud=%{lon}<extra></extra>",
           "hovertext": [
            "Itagüí - I.E. Concejo Municipal de Itagüí",
            "Medellín, El Poblado - Tanques La Ye EPM",
            "Parque de las Aguas",
            "Tanque Miraflores",
            "Universidad San Buenaventura",
            "Universidad de Medellin"
           ],
           "lat": {
            "bdata": "JOL3gIqsGEClnNQ87LoYQOZd9YB5oBlAN+6D4n3rGEA2h7VColIZQJ08dmG16xhA",
            "dtype": "f8"
           },
           "legendgroup": "",
           "lon": {
            "bdata": "Ov8bID3pUsBjHwmgPeNSwDiGAODY2lLAk2nZ/yXjUsA9SRUgZeRSwFRSJ6AJ51LA",
            "dtype": "f8"
           },
           "marker": {
            "color": {
             "bdata": "7/HEOsn+8D80XEI/zkXxPwTh5ReI5fA/h/NmDuWs8T/tgdQeSO3wP5dddtlll/I/",
             "dtype": "f8"
            },
            "coloraxis": "coloraxis",
            "size": {
             "bdata": "7/HEOsn+8D80XEI/zkXxPwTh5ReI5fA/h/NmDuWs8T/tgdQeSO3wP5dddtlll/I/",
             "dtype": "f8"
            },
            "sizemode": "area",
            "sizeref": 0.010469491073807619
           },
           "mode": "markers",
           "name": "",
           "showlegend": false,
           "subplot": "mapbox",
           "type": "scattermapbox"
          }
         ],
         "name": "2022-10"
        },
        {
         "data": [
          {
           "hovertemplate": "<b>%{hovertext}</b><br><br>mes=2022-11<br>valor=%{marker.color}<br>latitud=%{lat}<br>longitud=%{lon}<extra></extra>",
           "hovertext": [
            "Itagüí - I.E. Concejo Municipal de Itagüí",
            "Medellín, El Poblado - Tanques La Ye EPM",
            "Parque de las Aguas",
            "Tanque Miraflores",
            "Universidad San Buenaventura",
            "Universidad de Medellin"
           ],
           "lat": {
            "bdata": "JOL3gIqsGEClnNQ87LoYQOZd9YB5oBlAN+6D4n3rGEA2h7VColIZQJ08dmG16xhA",
            "dtype": "f8"
           },
           "legendgroup": "",
           "lon": {
            "bdata": "Ov8bID3pUsBjHwmgPeNSwDiGAODY2lLAk2nZ/yXjUsA9SRUgZeRSwFRSJ6AJ51LA",
            "dtype": "f8"
           },
           "marker": {
            "color": {
             "bdata": "t/Y/u9FS8T9L4a19IDn4P+xuWTdrJ/w/fqYWS9tn8j/v7u7u7m74P8Wy8c3Q2vE/",
             "dtype": "f8"
            },
            "coloraxis": "coloraxis",
            "size": {
             "bdata": "t/Y/u9FS8T9L4a19IDn4P+xuWTdrJ/w/fqYWS9tn8j/v7u7u7m74P8Wy8c3Q2vE/",
             "dtype": "f8"
            },
            "sizemode": "area",
            "sizeref": 0.010469491073807619
           },
           "mode": "markers",
           "name": "",
           "showlegend": false,
           "subplot": "mapbox",
           "type": "scattermapbox"
          }
         ],
         "name": "2022-11"
        },
        {
         "data": [
          {
           "hovertemplate": "<b>%{hovertext}</b><br><br>mes=2022-12<br>valor=%{marker.color}<br>latitud=%{lat}<br>longitud=%{lon}<extra></extra>",
           "hovertext": [
            "Itagüí - I.E. Concejo Municipal de Itagüí",
            "Medellín, El Poblado - Tanques La Ye EPM",
            "Parque de las Aguas",
            "Tanque Miraflores",
            "Universidad San Buenaventura",
            "Universidad de Medellin"
           ],
           "lat": {
            "bdata": "JOL3gIqsGEClnNQ87LoYQOZd9YB5oBlAN+6D4n3rGEA2h7VColIZQJ08dmG16xhA",
            "dtype": "f8"
           },
           "legendgroup": "",
           "lon": {
            "bdata": "Ov8bID3pUsBjHwmgPeNSwDiGAODY2lLAk2nZ/yXjUsA9SRUgZeRSwFRSJ6AJ51LA",
            "dtype": "f8"
           },
           "marker": {
            "color": {
             "bdata": "vhSgO2wr8T8o+300q5z+P6cpUQEoX/I/nmtWh1Gm8j8AAAAAAADwPyeygW16KvE/",
             "dtype": "f8"
            },
            "coloraxis": "coloraxis",
            "size": {
             "bdata": "vhSgO2wr8T8o+300q5z+P6cpUQEoX/I/nmtWh1Gm8j8AAAAAAADwPyeygW16KvE/",
             "dtype": "f8"
            },
            "sizemode": "area",
            "sizeref": 0.010469491073807619
           },
           "mode": "markers",
           "name": "",
           "showlegend": false,
           "subplot": "mapbox",
           "type": "scattermapbox"
          }
         ],
         "name": "2022-12"
        }
       ],
       "layout": {
        "coloraxis": {
         "colorbar": {
          "title": {
           "text": "valor"
          }
         },
         "colorscale": [
          [
           0,
           "rgb(255,245,240)"
          ],
          [
           0.125,
           "rgb(254,224,210)"
          ],
          [
           0.25,
           "rgb(252,187,161)"
          ],
          [
           0.375,
           "rgb(252,146,114)"
          ],
          [
           0.5,
           "rgb(251,106,74)"
          ],
          [
           0.625,
           "rgb(239,59,44)"
          ],
          [
           0.75,
           "rgb(203,24,29)"
          ],
          [
           0.875,
           "rgb(165,15,21)"
          ],
          [
           1,
           "rgb(103,0,13)"
          ]
         ]
        },
        "legend": {
         "itemsizing": "constant",
         "tracegroupgap": 0
        },
        "mapbox": {
         "center": {
          "lat": 6.2482917035294125,
          "lon": -75.56156356823529
         },
         "domain": {
          "x": [
           0,
           1
          ],
          "y": [
           0,
           1
          ]
         },
         "style": "carto-positron",
         "zoom": 10
        },
        "margin": {
         "b": 0,
         "l": 0,
         "r": 0,
         "t": 40
        },
        "sliders": [
         {
          "active": 0,
          "currentvalue": {
           "prefix": "mes="
          },
          "len": 0.9,
          "pad": {
           "b": 10,
           "t": 60
          },
          "steps": [
           {
            "args": [
             [
              "2021-12"
             ],
             {
              "frame": {
               "duration": 0,
               "redraw": true
              },
              "fromcurrent": true,
              "mode": "immediate",
              "transition": {
               "duration": 0,
               "easing": "linear"
              }
             }
            ],
            "label": "2021-12",
            "method": "animate"
           },
           {
            "args": [
             [
              "2022-01"
             ],
             {
              "frame": {
               "duration": 0,
               "redraw": true
              },
              "fromcurrent": true,
              "mode": "immediate",
              "transition": {
               "duration": 0,
               "easing": "linear"
              }
             }
            ],
            "label": "2022-01",
            "method": "animate"
           },
           {
            "args": [
             [
              "2022-02"
             ],
             {
              "frame": {
               "duration": 0,
               "redraw": true
              },
              "fromcurrent": true,
              "mode": "immediate",
              "transition": {
               "duration": 0,
               "easing": "linear"
              }
             }
            ],
            "label": "2022-02",
            "method": "animate"
           },
           {
            "args": [
             [
              "2022-03"
             ],
             {
              "frame": {
               "duration": 0,
               "redraw": true
              },
              "fromcurrent": true,
              "mode": "immediate",
              "transition": {
               "duration": 0,
               "easing": "linear"
              }
             }
            ],
            "label": "2022-03",
            "method": "animate"
           },
           {
            "args": [
             [
              "2022-04"
             ],
             {
              "frame": {
               "duration": 0,
               "redraw": true
              },
              "fromcurrent": true,
              "mode": "immediate",
              "transition": {
               "duration": 0,
               "easing": "linear"
              }
             }
            ],
            "label": "2022-04",
            "method": "animate"
           },
           {
            "args": [
             [
              "2022-05"
             ],
             {
              "frame": {
               "duration": 0,
               "redraw": true
              },
              "fromcurrent": true,
              "mode": "immediate",
              "transition": {
               "duration": 0,
               "easing": "linear"
              }
             }
            ],
            "label": "2022-05",
            "method": "animate"
           },
           {
            "args": [
             [
              "2022-06"
             ],
             {
              "frame": {
               "duration": 0,
               "redraw": true
              },
              "fromcurrent": true,
              "mode": "immediate",
              "transition": {
               "duration": 0,
               "easing": "linear"
              }
             }
            ],
            "label": "2022-06",
            "method": "animate"
           },
           {
            "args": [
             [
              "2022-07"
             ],
             {
              "frame": {
               "duration": 0,
               "redraw": true
              },
              "fromcurrent": true,
              "mode": "immediate",
              "transition": {
               "duration": 0,
               "easing": "linear"
              }
             }
            ],
            "label": "2022-07",
            "method": "animate"
           },
           {
            "args": [
             [
              "2022-08"
             ],
             {
              "frame": {
               "duration": 0,
               "redraw": true
              },
              "fromcurrent": true,
              "mode": "immediate",
              "transition": {
               "duration": 0,
               "easing": "linear"
              }
             }
            ],
            "label": "2022-08",
            "method": "animate"
           },
           {
            "args": [
             [
              "2022-09"
             ],
             {
              "frame": {
               "duration": 0,
               "redraw": true
              },
              "fromcurrent": true,
              "mode": "immediate",
              "transition": {
               "duration": 0,
               "easing": "linear"
              }
             }
            ],
            "label": "2022-09",
            "method": "animate"
           },
           {
            "args": [
             [
              "2022-10"
             ],
             {
              "frame": {
               "duration": 0,
               "redraw": true
              },
              "fromcurrent": true,
              "mode": "immediate",
              "transition": {
               "duration": 0,
               "easing": "linear"
              }
             }
            ],
            "label": "2022-10",
            "method": "animate"
           },
           {
            "args": [
             [
              "2022-11"
             ],
             {
              "frame": {
               "duration": 0,
               "redraw": true
              },
              "fromcurrent": true,
              "mode": "immediate",
              "transition": {
               "duration": 0,
               "easing": "linear"
              }
             }
            ],
            "label": "2022-11",
            "method": "animate"
           },
           {
            "args": [
             [
              "2022-12"
             ],
             {
              "frame": {
               "duration": 0,
               "redraw": true
              },
              "fromcurrent": true,
              "mode": "immediate",
              "transition": {
               "duration": 0,
               "easing": "linear"
              }
             }
            ],
            "label": "2022-12",
            "method": "animate"
           }
          ],
          "x": 0.1,
          "xanchor": "left",
          "y": 0,
          "yanchor": "top"
         }
        ],
        "template": {
         "data": {
          "bar": [
           {
            "error_x": {
             "color": "#2a3f5f"
            },
            "error_y": {
             "color": "#2a3f5f"
            },
            "marker": {
             "line": {
              "color": "#E5ECF6",
              "width": 0.5
             },
             "pattern": {
              "fillmode": "overlay",
              "size": 10,
              "solidity": 0.2
             }
            },
            "type": "bar"
           }
          ],
          "barpolar": [
           {
            "marker": {
             "line": {
              "color": "#E5ECF6",
              "width": 0.5
             },
             "pattern": {
              "fillmode": "overlay",
              "size": 10,
              "solidity": 0.2
             }
            },
            "type": "barpolar"
           }
          ],
          "carpet": [
           {
            "aaxis": {
             "endlinecolor": "#2a3f5f",
             "gridcolor": "white",
             "linecolor": "white",
             "minorgridcolor": "white",
             "startlinecolor": "#2a3f5f"
            },
            "baxis": {
             "endlinecolor": "#2a3f5f",
             "gridcolor": "white",
             "linecolor": "white",
             "minorgridcolor": "white",
             "startlinecolor": "#2a3f5f"
            },
            "type": "carpet"
           }
          ],
          "choropleth": [
           {
            "colorbar": {
             "outlinewidth": 0,
             "ticks": ""
            },
            "type": "choropleth"
           }
          ],
          "contour": [
           {
            "colorbar": {
             "outlinewidth": 0,
             "ticks": ""
            },
            "colorscale": [
             [
              0,
              "#0d0887"
             ],
             [
              0.1111111111111111,
              "#46039f"
             ],
             [
              0.2222222222222222,
              "#7201a8"
             ],
             [
              0.3333333333333333,
              "#9c179e"
             ],
             [
              0.4444444444444444,
              "#bd3786"
             ],
             [
              0.5555555555555556,
              "#d8576b"
             ],
             [
              0.6666666666666666,
              "#ed7953"
             ],
             [
              0.7777777777777778,
              "#fb9f3a"
             ],
             [
              0.8888888888888888,
              "#fdca26"
             ],
             [
              1,
              "#f0f921"
             ]
            ],
            "type": "contour"
           }
          ],
          "contourcarpet": [
           {
            "colorbar": {
             "outlinewidth": 0,
             "ticks": ""
            },
            "type": "contourcarpet"
           }
          ],
          "heatmap": [
           {
            "colorbar": {
             "outlinewidth": 0,
             "ticks": ""
            },
            "colorscale": [
             [
              0,
              "#0d0887"
             ],
             [
              0.1111111111111111,
              "#46039f"
             ],
             [
              0.2222222222222222,
              "#7201a8"
             ],
             [
              0.3333333333333333,
              "#9c179e"
             ],
             [
              0.4444444444444444,
              "#bd3786"
             ],
             [
              0.5555555555555556,
              "#d8576b"
             ],
             [
              0.6666666666666666,
              "#ed7953"
             ],
             [
              0.7777777777777778,
              "#fb9f3a"
             ],
             [
              0.8888888888888888,
              "#fdca26"
             ],
             [
              1,
              "#f0f921"
             ]
            ],
            "type": "heatmap"
           }
          ],
          "histogram": [
           {
            "marker": {
             "pattern": {
              "fillmode": "overlay",
              "size": 10,
              "solidity": 0.2
             }
            },
            "type": "histogram"
           }
          ],
          "histogram2d": [
           {
            "colorbar": {
             "outlinewidth": 0,
             "ticks": ""
            },
            "colorscale": [
             [
              0,
              "#0d0887"
             ],
             [
              0.1111111111111111,
              "#46039f"
             ],
             [
              0.2222222222222222,
              "#7201a8"
             ],
             [
              0.3333333333333333,
              "#9c179e"
             ],
             [
              0.4444444444444444,
              "#bd3786"
             ],
             [
              0.5555555555555556,
              "#d8576b"
             ],
             [
              0.6666666666666666,
              "#ed7953"
             ],
             [
              0.7777777777777778,
              "#fb9f3a"
             ],
             [
              0.8888888888888888,
              "#fdca26"
             ],
             [
              1,
              "#f0f921"
             ]
            ],
            "type": "histogram2d"
           }
          ],
          "histogram2dcontour": [
           {
            "colorbar": {
             "outlinewidth": 0,
             "ticks": ""
            },
            "colorscale": [
             [
              0,
              "#0d0887"
             ],
             [
              0.1111111111111111,
              "#46039f"
             ],
             [
              0.2222222222222222,
              "#7201a8"
             ],
             [
              0.3333333333333333,
              "#9c179e"
             ],
             [
              0.4444444444444444,
              "#bd3786"
             ],
             [
              0.5555555555555556,
              "#d8576b"
             ],
             [
              0.6666666666666666,
              "#ed7953"
             ],
             [
              0.7777777777777778,
              "#fb9f3a"
             ],
             [
              0.8888888888888888,
              "#fdca26"
             ],
             [
              1,
              "#f0f921"
             ]
            ],
            "type": "histogram2dcontour"
           }
          ],
          "mesh3d": [
           {
            "colorbar": {
             "outlinewidth": 0,
             "ticks": ""
            },
            "type": "mesh3d"
           }
          ],
          "parcoords": [
           {
            "line": {
             "colorbar": {
              "outlinewidth": 0,
              "ticks": ""
             }
            },
            "type": "parcoords"
           }
          ],
          "pie": [
           {
            "automargin": true,
            "type": "pie"
           }
          ],
          "scatter": [
           {
            "fillpattern": {
             "fillmode": "overlay",
             "size": 10,
             "solidity": 0.2
            },
            "type": "scatter"
           }
          ],
          "scatter3d": [
           {
            "line": {
             "colorbar": {
              "outlinewidth": 0,
              "ticks": ""
             }
            },
            "marker": {
             "colorbar": {
              "outlinewidth": 0,
              "ticks": ""
             }
            },
            "type": "scatter3d"
           }
          ],
          "scattercarpet": [
           {
            "marker": {
             "colorbar": {
              "outlinewidth": 0,
              "ticks": ""
             }
            },
            "type": "scattercarpet"
           }
          ],
          "scattergeo": [
           {
            "marker": {
             "colorbar": {
              "outlinewidth": 0,
              "ticks": ""
             }
            },
            "type": "scattergeo"
           }
          ],
          "scattergl": [
           {
            "marker": {
             "colorbar": {
              "outlinewidth": 0,
              "ticks": ""
             }
            },
            "type": "scattergl"
           }
          ],
          "scattermap": [
           {
            "marker": {
             "colorbar": {
              "outlinewidth": 0,
              "ticks": ""
             }
            },
            "type": "scattermap"
           }
          ],
          "scattermapbox": [
           {
            "marker": {
             "colorbar": {
              "outlinewidth": 0,
              "ticks": ""
             }
            },
            "type": "scattermapbox"
           }
          ],
          "scatterpolar": [
           {
            "marker": {
             "colorbar": {
              "outlinewidth": 0,
              "ticks": ""
             }
            },
            "type": "scatterpolar"
           }
          ],
          "scatterpolargl": [
           {
            "marker": {
             "colorbar": {
              "outlinewidth": 0,
              "ticks": ""
             }
            },
            "type": "scatterpolargl"
           }
          ],
          "scatterternary": [
           {
            "marker": {
             "colorbar": {
              "outlinewidth": 0,
              "ticks": ""
             }
            },
            "type": "scatterternary"
           }
          ],
          "surface": [
           {
            "colorbar": {
             "outlinewidth": 0,
             "ticks": ""
            },
            "colorscale": [
             [
              0,
              "#0d0887"
             ],
             [
              0.1111111111111111,
              "#46039f"
             ],
             [
              0.2222222222222222,
              "#7201a8"
             ],
             [
              0.3333333333333333,
              "#9c179e"
             ],
             [
              0.4444444444444444,
              "#bd3786"
             ],
             [
              0.5555555555555556,
              "#d8576b"
             ],
             [
              0.6666666666666666,
              "#ed7953"
             ],
             [
              0.7777777777777778,
              "#fb9f3a"
             ],
             [
              0.8888888888888888,
              "#fdca26"
             ],
             [
              1,
              "#f0f921"
             ]
            ],
            "type": "surface"
           }
          ],
          "table": [
           {
            "cells": {
             "fill": {
              "color": "#EBF0F8"
             },
             "line": {
              "color": "white"
             }
            },
            "header": {
             "fill": {
              "color": "#C8D4E3"
             },
             "line": {
              "color": "white"
             }
            },
            "type": "table"
           }
          ]
         },
         "layout": {
          "annotationdefaults": {
           "arrowcolor": "#2a3f5f",
           "arrowhead": 0,
           "arrowwidth": 1
          },
          "autotypenumbers": "strict",
          "coloraxis": {
           "colorbar": {
            "outlinewidth": 0,
            "ticks": ""
           }
          },
          "colorscale": {
           "diverging": [
            [
             0,
             "#8e0152"
            ],
            [
             0.1,
             "#c51b7d"
            ],
            [
             0.2,
             "#de77ae"
            ],
            [
             0.3,
             "#f1b6da"
            ],
            [
             0.4,
             "#fde0ef"
            ],
            [
             0.5,
             "#f7f7f7"
            ],
            [
             0.6,
             "#e6f5d0"
            ],
            [
             0.7,
             "#b8e186"
            ],
            [
             0.8,
             "#7fbc41"
            ],
            [
             0.9,
             "#4d9221"
            ],
            [
             1,
             "#276419"
            ]
           ],
           "sequential": [
            [
             0,
             "#0d0887"
            ],
            [
             0.1111111111111111,
             "#46039f"
            ],
            [
             0.2222222222222222,
             "#7201a8"
            ],
            [
             0.3333333333333333,
             "#9c179e"
            ],
            [
             0.4444444444444444,
             "#bd3786"
            ],
            [
             0.5555555555555556,
             "#d8576b"
            ],
            [
             0.6666666666666666,
             "#ed7953"
            ],
            [
             0.7777777777777778,
             "#fb9f3a"
            ],
            [
             0.8888888888888888,
             "#fdca26"
            ],
            [
             1,
             "#f0f921"
            ]
           ],
           "sequentialminus": [
            [
             0,
             "#0d0887"
            ],
            [
             0.1111111111111111,
             "#46039f"
            ],
            [
             0.2222222222222222,
             "#7201a8"
            ],
            [
             0.3333333333333333,
             "#9c179e"
            ],
            [
             0.4444444444444444,
             "#bd3786"
            ],
            [
             0.5555555555555556,
             "#d8576b"
            ],
            [
             0.6666666666666666,
             "#ed7953"
            ],
            [
             0.7777777777777778,
             "#fb9f3a"
            ],
            [
             0.8888888888888888,
             "#fdca26"
            ],
            [
             1,
             "#f0f921"
            ]
           ]
          },
          "colorway": [
           "#636efa",
           "#EF553B",
           "#00cc96",
           "#ab63fa",
           "#FFA15A",
           "#19d3f3",
           "#FF6692",
           "#B6E880",
           "#FF97FF",
           "#FECB52"
          ],
          "font": {
           "color": "#2a3f5f"
          },
          "geo": {
           "bgcolor": "white",
           "lakecolor": "white",
           "landcolor": "#E5ECF6",
           "showlakes": true,
           "showland": true,
           "subunitcolor": "white"
          },
          "hoverlabel": {
           "align": "left"
          },
          "hovermode": "closest",
          "mapbox": {
           "style": "light"
          },
          "paper_bgcolor": "white",
          "plot_bgcolor": "#E5ECF6",
          "polar": {
           "angularaxis": {
            "gridcolor": "white",
            "linecolor": "white",
            "ticks": ""
           },
           "bgcolor": "#E5ECF6",
           "radialaxis": {
            "gridcolor": "white",
            "linecolor": "white",
            "ticks": ""
           }
          },
          "scene": {
           "xaxis": {
            "backgroundcolor": "#E5ECF6",
            "gridcolor": "white",
            "gridwidth": 2,
            "linecolor": "white",
            "showbackground": true,
            "ticks": "",
            "zerolinecolor": "white"
           },
           "yaxis": {
            "backgroundcolor": "#E5ECF6",
            "gridcolor": "white",
            "gridwidth": 2,
            "linecolor": "white",
            "showbackground": true,
            "ticks": "",
            "zerolinecolor": "white"
           },
           "zaxis": {
            "backgroundcolor": "#E5ECF6",
            "gridcolor": "white",
            "gridwidth": 2,
            "linecolor": "white",
            "showbackground": true,
            "ticks": "",
            "zerolinecolor": "white"
           }
          },
          "shapedefaults": {
           "line": {
            "color": "#2a3f5f"
           }
          },
          "ternary": {
           "aaxis": {
            "gridcolor": "white",
            "linecolor": "white",
            "ticks": ""
           },
           "baxis": {
            "gridcolor": "white",
            "linecolor": "white",
            "ticks": ""
           },
           "bgcolor": "#E5ECF6",
           "caxis": {
            "gridcolor": "white",
            "linecolor": "white",
            "ticks": ""
           }
          },
          "title": {
           "x": 0.05
          },
          "xaxis": {
           "automargin": true,
           "gridcolor": "white",
           "linecolor": "white",
           "ticks": "",
           "title": {
            "standoff": 15
           },
           "zerolinecolor": "white",
           "zerolinewidth": 2
          },
          "yaxis": {
           "automargin": true,
           "gridcolor": "white",
           "linecolor": "white",
           "ticks": "",
           "title": {
            "standoff": 15
           },
           "zerolinecolor": "white",
           "zerolinewidth": 2
          }
         }
        },
        "title": {
         "text": "OZONO - Concentración mensual por estación"
        },
        "updatemenus": [
         {
          "buttons": [
           {
            "args": [
             null,
             {
              "frame": {
               "duration": 500,
               "redraw": true
              },
              "fromcurrent": true,
              "mode": "immediate",
              "transition": {
               "duration": 500,
               "easing": "linear"
              }
             }
            ],
            "label": "&#9654;",
            "method": "animate"
           },
           {
            "args": [
             [
              null
             ],
             {
              "frame": {
               "duration": 0,
               "redraw": true
              },
              "fromcurrent": true,
              "mode": "immediate",
              "transition": {
               "duration": 0,
               "easing": "linear"
              }
             }
            ],
            "label": "&#9724;",
            "method": "animate"
           }
          ],
          "direction": "left",
          "pad": {
           "r": 10,
           "t": 70
          },
          "showactive": false,
          "type": "buttons",
          "x": 0.1,
          "xanchor": "right",
          "y": 0,
          "yanchor": "top"
         }
        ]
       }
      }
     },
     "metadata": {},
     "output_type": "display_data"
    }
   ],
   "source": [
    "import plotly.express as px\n",
    "\n",
    "# Asegurar que el mes esté como string\n",
    "df['mes'] = df['fecha'].dt.to_period(\"M\").astype(str)\n",
    "\n",
    "# Calcular promedio mensual por estación\n",
    "mapa_mensual = df.groupby(['nombre', 'latitud', 'longitud', 'mes'])['valor'].mean().reset_index()\n",
    "\n",
    "media_mensual_limpio = mapa_mensual.dropna(subset=['valor'])\n",
    "\n",
    "# Crear mapa animado\n",
    "fig = px.scatter_mapbox(\n",
    "    media_mensual_limpio,\n",
    "    lat=\"latitud\", lon=\"longitud\",\n",
    "    color=\"valor\",\n",
    "    size=\"valor\",\n",
    "    animation_frame=\"mes\",\n",
    "    hover_name=\"nombre\",\n",
    "    color_continuous_scale=\"Reds\",\n",
    "    size_max=15,\n",
    "    zoom=10,\n",
    "    mapbox_style=\"carto-positron\",\n",
    "    title=f'{contaminante_unico.upper()} - Concentración mensual por estación'\n",
    ")\n",
    "\n",
    "fig.update_layout(margin={\"r\":0,\"t\":40,\"l\":0,\"b\":0})\n",
    "fig.show()\n"
   ]
  }
 ],
 "metadata": {
  "kernelspec": {
   "display_name": "Python 3",
   "language": "python",
   "name": "python3"
  },
  "language_info": {
   "codemirror_mode": {
    "name": "ipython",
    "version": 3
   },
   "file_extension": ".py",
   "mimetype": "text/x-python",
   "name": "python",
   "nbconvert_exporter": "python",
   "pygments_lexer": "ipython3",
   "version": "3.10.11"
  }
 },
 "nbformat": 4,
 "nbformat_minor": 5
}
