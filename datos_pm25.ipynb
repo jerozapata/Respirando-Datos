{
 "cells": [
  {
   "cell_type": "code",
   "execution_count": 1,
   "id": "5c4ff833",
   "metadata": {},
   "outputs": [],
   "source": [
    "import json\n",
    "import pandas as pd\n",
    "import numpy as np\n",
    "import matplotlib.pyplot as plt\n",
    "import seaborn as sns\n",
    "import plotly.express as px\n",
    "import folium\n",
    "import os"
   ]
  },
  {
   "cell_type": "code",
   "execution_count": 2,
   "id": "2fa33ec2",
   "metadata": {},
   "outputs": [
    {
     "name": "stdout",
     "output_type": "stream",
     "text": [
      "    codigoSerial                               nombre nombreCorto   latitud  \\\n",
      "0              3  _OFF-Girardota - S.O.S Aburrá Norte    GIR-SOSN  6.378433   \n",
      "1              3  _OFF-Girardota - S.O.S Aburrá Norte    GIR-SOSN  6.378433   \n",
      "2              3  _OFF-Girardota - S.O.S Aburrá Norte    GIR-SOSN  6.378433   \n",
      "3              3  _OFF-Girardota - S.O.S Aburrá Norte    GIR-SOSN  6.378433   \n",
      "4              3  _OFF-Girardota - S.O.S Aburrá Norte    GIR-SOSN  6.378433   \n",
      "5              3  _OFF-Girardota - S.O.S Aburrá Norte    GIR-SOSN  6.378433   \n",
      "6              3  _OFF-Girardota - S.O.S Aburrá Norte    GIR-SOSN  6.378433   \n",
      "7              3  _OFF-Girardota - S.O.S Aburrá Norte    GIR-SOSN  6.378433   \n",
      "8              3  _OFF-Girardota - S.O.S Aburrá Norte    GIR-SOSN  6.378433   \n",
      "9              3  _OFF-Girardota - S.O.S Aburrá Norte    GIR-SOSN  6.378433   \n",
      "10             3  _OFF-Girardota - S.O.S Aburrá Norte    GIR-SOSN  6.378433   \n",
      "11             3  _OFF-Girardota - S.O.S Aburrá Norte    GIR-SOSN  6.378433   \n",
      "12             3  _OFF-Girardota - S.O.S Aburrá Norte    GIR-SOSN  6.378433   \n",
      "13             3  _OFF-Girardota - S.O.S Aburrá Norte    GIR-SOSN  6.378433   \n",
      "14             3  _OFF-Girardota - S.O.S Aburrá Norte    GIR-SOSN  6.378433   \n",
      "15             3  _OFF-Girardota - S.O.S Aburrá Norte    GIR-SOSN  6.378433   \n",
      "16             3  _OFF-Girardota - S.O.S Aburrá Norte    GIR-SOSN  6.378433   \n",
      "17             3  _OFF-Girardota - S.O.S Aburrá Norte    GIR-SOSN  6.378433   \n",
      "18             3  _OFF-Girardota - S.O.S Aburrá Norte    GIR-SOSN  6.378433   \n",
      "19             3  _OFF-Girardota - S.O.S Aburrá Norte    GIR-SOSN  6.378433   \n",
      "\n",
      "     longitud contaminante               fecha  calibracion  valor  \n",
      "0  -75.451141         pm25 2021-10-12 04:00:00      -9999.0    NaN  \n",
      "1  -75.451141         pm25 2021-10-12 05:00:00      -9999.0    NaN  \n",
      "2  -75.451141         pm25 2021-10-12 06:00:00      -9999.0    NaN  \n",
      "3  -75.451141         pm25 2021-10-12 07:00:00      -9999.0    NaN  \n",
      "4  -75.451141         pm25 2021-10-12 08:00:00      -9999.0    NaN  \n",
      "5  -75.451141         pm25 2021-10-12 09:00:00      -9999.0    NaN  \n",
      "6  -75.451141         pm25 2021-10-12 10:00:00      -9999.0    NaN  \n",
      "7  -75.451141         pm25 2021-10-12 11:00:00      -9999.0    NaN  \n",
      "8  -75.451141         pm25 2021-10-12 12:00:00      -9999.0    NaN  \n",
      "9  -75.451141         pm25 2021-10-12 13:00:00      -9999.0    NaN  \n",
      "10 -75.451141         pm25 2021-10-12 14:00:00      -9999.0    NaN  \n",
      "11 -75.451141         pm25 2021-10-12 15:00:00      -9999.0    NaN  \n",
      "12 -75.451141         pm25 2021-10-12 16:00:00      -9999.0    NaN  \n",
      "13 -75.451141         pm25 2021-10-12 17:00:00      -9999.0    NaN  \n",
      "14 -75.451141         pm25 2021-10-12 18:00:00      -9999.0    NaN  \n",
      "15 -75.451141         pm25 2021-10-12 19:00:00      -9999.0    NaN  \n",
      "16 -75.451141         pm25 2021-10-12 20:00:00      -9999.0    NaN  \n",
      "17 -75.451141         pm25 2021-10-12 21:00:00      -9999.0    NaN  \n",
      "18 -75.451141         pm25 2021-10-12 22:00:00      -9999.0    NaN  \n",
      "19 -75.451141         pm25 2021-10-12 23:00:00      -9999.0    NaN  \n"
     ]
    }
   ],
   "source": [
    "\n",
    "carpeta_pm25 = \"Datasets\\Datos_SIATA_Aire_pm25.json\"\n",
    "\n",
    "with open(carpeta_pm25, \"r\", encoding=\"utf-8\") as f:data = json.load(f)\n",
    "\n",
    "registros = []\n",
    "\n",
    "        \n",
    "for estacion in data:\n",
    "    lat = estacion.get(\"latitud\")\n",
    "    lon = estacion.get(\"longitud\")\n",
    "    codigo = estacion.get(\"codigoSerial\")\n",
    "    nombre = estacion.get(\"nombre\")\n",
    "    nombreCorto = estacion.get(\"nombreCorto\")\n",
    "    datos = estacion.get(\"datos\", [])\n",
    "\n",
    "    for entrada in datos:\n",
    "        registros.append({\n",
    "            \"codigoSerial\": codigo,\n",
    "            \"nombre\": nombre,\n",
    "            \"nombreCorto\": nombreCorto,\n",
    "            \"latitud\": lat,\n",
    "            \"longitud\": lon,\n",
    "            \"contaminante\": entrada.get(\"variableConsulta\"),\n",
    "            \"fecha\": entrada.get(\"fecha\"),\n",
    "            \"calibracion\": entrada.get(\"valor\"), # Ojooo esto es calibración \n",
    "            \"valor\": entrada.get(\"calidad\") # Y esto calidad, osea que la calidad se llama valor y la calibración valga la redundancia calibración \n",
    "        })\n",
    "\n",
    "# Convertimos a DataFrame como antes\n",
    "df = pd.DataFrame(registros)\n",
    "df['fecha'] = pd.to_datetime(df['fecha'], errors='coerce')\n",
    "df['valor'] = pd.to_numeric(df['valor'], errors='coerce')\n",
    "df[\"calibracion\"] = pd.to_numeric(df[\"calibracion\"], errors='coerce')\n",
    "\n",
    "\n",
    "df.loc[df[\"calibracion\"] == -9999, 'valor'] = np.nan\n",
    "\n",
    "print(df.head(20))\n"
   ]
  },
  {
   "cell_type": "code",
   "execution_count": 3,
   "id": "38fcbbab",
   "metadata": {},
   "outputs": [
    {
     "name": "stdout",
     "output_type": "stream",
     "text": [
      "Porcentaje datos válidos por estación\n",
      "nombreCorto\n",
      "BAR-TORR    98.322109\n",
      "BEL-FEVE    99.086862\n",
      "CAL-JOAR    97.694327\n",
      "CAL-LASA    57.607579\n",
      "CEN-TRAF    98.641708\n",
      "COP-CVID    99.520603\n",
      "ENV-HOSP    99.337975\n",
      "EST-HOSP    97.865540\n",
      "GIR-SOSN     0.022828\n",
      "ITA-CJUS    99.269490\n",
      "ITA-CONC    98.915649\n",
      "MED-ALTA    99.143933\n",
      "MED-ARAN    99.292318\n",
      "MED-BEME    99.109691\n",
      "MED-LAYE    99.611916\n",
      "MED-SCRI    98.230796\n",
      "MED-TESO    98.881406\n",
      "MED-UNNV     0.000000\n",
      "MED-VILL    99.532017\n",
      "SAB-RAME    98.459080\n",
      "SUR-TRAF    97.808469\n",
      "Name: valor, dtype: float64\n",
      "\n",
      "Porcentaje datos válidos por contaminantecontaminante\n",
      "pm25    87.445443\n",
      "Name: valor, dtype: float64\n"
     ]
    }
   ],
   "source": [
    "validos_por_estacion = df.groupby('nombreCorto')['valor'].apply(lambda x: x.notna().mean() * 100)\n",
    "validos_por_contaminante = df.groupby('contaminante')['valor'].apply(lambda x: x.notna().mean() * 100)\n",
    "print(f\"Porcentaje datos válidos por estación\\n{validos_por_estacion}\\n\\nPorcentaje datos válidos por contaminante{validos_por_contaminante}\")"
   ]
  },
  {
   "cell_type": "code",
   "execution_count": 4,
   "id": "74e0795b",
   "metadata": {},
   "outputs": [],
   "source": [
    "# Obtener contaminante único (ya que el archivo es solo de uno)\n",
    "contaminante_unico = df['contaminante'].unique()[0] if not df['contaminante'].isna().all() else \"Desconocido\"\n",
    "\n"
   ]
  },
  {
   "cell_type": "code",
   "execution_count": 5,
   "id": "5dbff21c",
   "metadata": {},
   "outputs": [
    {
     "data": {
      "image/png": "[encoded data removed]",
      "text/plain": [
       "<Figure size 1200x600 with 1 Axes>"
      ]
     },
     "metadata": {},
     "output_type": "display_data"
    }
   ],
   "source": [
    "df['mes'] = df['fecha'].dt.to_period(\"M\")\n",
    "promedios_mensuales = df.groupby('mes')['valor'].mean().reset_index()\n",
    "promedios_mensuales['mes'] = promedios_mensuales['mes'].astype(str)\n",
    "\n",
    "# Graficar\n",
    "plt.figure(figsize=(12,6))\n",
    "sns.lineplot(data=promedios_mensuales, x='mes', y='valor', marker='o')\n",
    "plt.title(f'Promedios mensuales todas las estaciones - {contaminante_unico.upper()}')\n",
    "plt.xlabel('Mes')\n",
    "plt.ylabel('Concentración')\n",
    "plt.xticks(rotation=45)\n",
    "plt.grid(True)\n",
    "plt.tight_layout()\n",
    "plt.show()"
   ]
  },
  {
   "cell_type": "code",
   "execution_count": 6,
   "id": "eb043e4a",
   "metadata": {},
   "outputs": [
    {
     "data": {
      "text/html": [
       "<div style=\"width:100%;\"><div style=\"position:relative;width:100%;height:0;padding-bottom:60%;\"><span style=\"color:#565656\">Make this Notebook Trusted to load map: File -> Trust Notebook</span><iframe srcdoc=\"&lt;!DOCTYPE html&gt;\n",
       "&lt;html&gt;\n",
       "&lt;head&gt;\n",
       "    \n",
       "    &lt;meta http-equiv=&quot;content-type&quot; content=&quot;text/html; charset=UTF-8&quot; /&gt;\n",
       "    &lt;script src=&quot;https://cdn.jsdelivr.net/npm/leaflet@1.9.3/dist/leaflet.js&quot;&gt;&lt;/script&gt;\n",
       "    &lt;script src=&quot;https://code.jquery.com/jquery-3.7.1.min.js&quot;&gt;&lt;/script&gt;\n",
       "    &lt;script src=&quot;https://cdn.jsdelivr.net/npm/bootstrap@5.2.2/dist/js/bootstrap.bundle.min.js&quot;&gt;&lt;/script&gt;\n",
       "    &lt;script src=&quot;https://cdnjs.cloudflare.com/ajax/libs/Leaflet.awesome-markers/2.0.2/leaflet.awesome-markers.js&quot;&gt;&lt;/script&gt;\n",
       "    &lt;link rel=&quot;stylesheet&quot; href=&quot;https://cdn.jsdelivr.net/npm/leaflet@1.9.3/dist/leaflet.css&quot;/&gt;\n",
       "    &lt;link rel=&quot;stylesheet&quot; href=&quot;https://cdn.jsdelivr.net/npm/bootstrap@5.2.2/dist/css/bootstrap.min.css&quot;/&gt;\n",
       "    &lt;link rel=&quot;stylesheet&quot; href=&quot;https://netdna.bootstrapcdn.com/bootstrap/3.0.0/css/bootstrap-glyphicons.css&quot;/&gt;\n",
       "    &lt;link rel=&quot;stylesheet&quot; href=&quot;https://cdn.jsdelivr.net/npm/@fortawesome/fontawesome-free@6.2.0/css/all.min.css&quot;/&gt;\n",
       "    &lt;link rel=&quot;stylesheet&quot; href=&quot;https://cdnjs.cloudflare.com/ajax/libs/Leaflet.awesome-markers/2.0.2/leaflet.awesome-markers.css&quot;/&gt;\n",
       "    &lt;link rel=&quot;stylesheet&quot; href=&quot;https://cdn.jsdelivr.net/gh/python-visualization/folium/folium/templates/leaflet.awesome.rotate.min.css&quot;/&gt;\n",
       "    \n",
       "            &lt;meta name=&quot;viewport&quot; content=&quot;width=device-width,\n",
       "                initial-scale=1.0, maximum-scale=1.0, user-scalable=no&quot; /&gt;\n",
       "            &lt;style&gt;\n",
       "                #map_46ec508be05a1ed1f9dc8ad9dc6e1832 {\n",
       "                    position: relative;\n",
       "                    width: 100.0%;\n",
       "                    height: 100.0%;\n",
       "                    left: 0.0%;\n",
       "                    top: 0.0%;\n",
       "                }\n",
       "                .leaflet-container { font-size: 1rem; }\n",
       "            &lt;/style&gt;\n",
       "\n",
       "            &lt;style&gt;html, body {\n",
       "                width: 100%;\n",
       "                height: 100%;\n",
       "                margin: 0;\n",
       "                padding: 0;\n",
       "            }\n",
       "            &lt;/style&gt;\n",
       "\n",
       "            &lt;style&gt;#map {\n",
       "                position:absolute;\n",
       "                top:0;\n",
       "                bottom:0;\n",
       "                right:0;\n",
       "                left:0;\n",
       "                }\n",
       "            &lt;/style&gt;\n",
       "\n",
       "            &lt;script&gt;\n",
       "                L_NO_TOUCH = false;\n",
       "                L_DISABLE_3D = false;\n",
       "            &lt;/script&gt;\n",
       "\n",
       "        \n",
       "&lt;/head&gt;\n",
       "&lt;body&gt;\n",
       "    \n",
       "    \n",
       "            &lt;div class=&quot;folium-map&quot; id=&quot;map_46ec508be05a1ed1f9dc8ad9dc6e1832&quot; &gt;&lt;/div&gt;\n",
       "        \n",
       "&lt;/body&gt;\n",
       "&lt;script&gt;\n",
       "    \n",
       "    \n",
       "            var map_46ec508be05a1ed1f9dc8ad9dc6e1832 = L.map(\n",
       "                &quot;map_46ec508be05a1ed1f9dc8ad9dc6e1832&quot;,\n",
       "                {\n",
       "                    center: [6.25, -75.6],\n",
       "                    crs: L.CRS.EPSG3857,\n",
       "                    ...{\n",
       "  &quot;zoom&quot;: 11,\n",
       "  &quot;zoomControl&quot;: true,\n",
       "  &quot;preferCanvas&quot;: false,\n",
       "}\n",
       "\n",
       "                }\n",
       "            );\n",
       "\n",
       "            \n",
       "\n",
       "        \n",
       "    \n",
       "            var tile_layer_9fba6caa44a6bbaef3665765877b2a83 = L.tileLayer(\n",
       "                &quot;https://tile.openstreetmap.org/{z}/{x}/{y}.png&quot;,\n",
       "                {\n",
       "  &quot;minZoom&quot;: 0,\n",
       "  &quot;maxZoom&quot;: 19,\n",
       "  &quot;maxNativeZoom&quot;: 19,\n",
       "  &quot;noWrap&quot;: false,\n",
       "  &quot;attribution&quot;: &quot;\\u0026copy; \\u003ca href=\\&quot;https://www.openstreetmap.org/copyright\\&quot;\\u003eOpenStreetMap\\u003c/a\\u003e contributors&quot;,\n",
       "  &quot;subdomains&quot;: &quot;abc&quot;,\n",
       "  &quot;detectRetina&quot;: false,\n",
       "  &quot;tms&quot;: false,\n",
       "  &quot;opacity&quot;: 1,\n",
       "}\n",
       "\n",
       "            );\n",
       "        \n",
       "    \n",
       "            tile_layer_9fba6caa44a6bbaef3665765877b2a83.addTo(map_46ec508be05a1ed1f9dc8ad9dc6e1832);\n",
       "        \n",
       "    \n",
       "            var circle_marker_d02bcf2fcc47157782f83e07d16ee5c1 = L.circleMarker(\n",
       "                [6.3784332, -75.4511414],\n",
       "                {&quot;bubblingMouseEvents&quot;: true, &quot;color&quot;: &quot;red&quot;, &quot;dashArray&quot;: null, &quot;dashOffset&quot;: null, &quot;fill&quot;: true, &quot;fillColor&quot;: &quot;red&quot;, &quot;fillOpacity&quot;: 0.2, &quot;fillRule&quot;: &quot;evenodd&quot;, &quot;lineCap&quot;: &quot;round&quot;, &quot;lineJoin&quot;: &quot;round&quot;, &quot;opacity&quot;: 1.0, &quot;radius&quot;: 6, &quot;stroke&quot;: true, &quot;weight&quot;: 3}\n",
       "            ).addTo(map_46ec508be05a1ed1f9dc8ad9dc6e1832);\n",
       "        \n",
       "    \n",
       "        var popup_52518b2d396a7bde8ba944dccacad915 = L.popup({\n",
       "  &quot;maxWidth&quot;: &quot;100%&quot;,\n",
       "});\n",
       "\n",
       "        \n",
       "            \n",
       "                var html_e3f2b3ff7d2bf1a652f0851d64c79594 = $(`&lt;div id=&quot;html_e3f2b3ff7d2bf1a652f0851d64c79594&quot; style=&quot;width: 100.0%; height: 100.0%;&quot;&gt;Estación _OFF-Girardota - S.O.S Aburrá Norte Media: 1.00 Válidos: 0.0%&lt;/div&gt;`)[0];\n",
       "                popup_52518b2d396a7bde8ba944dccacad915.setContent(html_e3f2b3ff7d2bf1a652f0851d64c79594);\n",
       "            \n",
       "        \n",
       "\n",
       "        circle_marker_d02bcf2fcc47157782f83e07d16ee5c1.bindPopup(popup_52518b2d396a7bde8ba944dccacad915)\n",
       "        ;\n",
       "\n",
       "        \n",
       "    \n",
       "    \n",
       "            var circle_marker_1674a354c262808758786e7dd5b33c20 = L.circleMarker(\n",
       "                [6.2525611, -75.5695801],\n",
       "                {&quot;bubblingMouseEvents&quot;: true, &quot;color&quot;: &quot;green&quot;, &quot;dashArray&quot;: null, &quot;dashOffset&quot;: null, &quot;fill&quot;: true, &quot;fillColor&quot;: &quot;green&quot;, &quot;fillOpacity&quot;: 0.2, &quot;fillRule&quot;: &quot;evenodd&quot;, &quot;lineCap&quot;: &quot;round&quot;, &quot;lineJoin&quot;: &quot;round&quot;, &quot;opacity&quot;: 1.0, &quot;radius&quot;: 6, &quot;stroke&quot;: true, &quot;weight&quot;: 3}\n",
       "            ).addTo(map_46ec508be05a1ed1f9dc8ad9dc6e1832);\n",
       "        \n",
       "    \n",
       "        var popup_fde2502cbfc5ed985afb6508819ee056 = L.popup({\n",
       "  &quot;maxWidth&quot;: &quot;100%&quot;,\n",
       "});\n",
       "\n",
       "        \n",
       "            \n",
       "                var html_43aeb18a2724999c755756cb3ec927dd = $(`&lt;div id=&quot;html_43aeb18a2724999c755756cb3ec927dd&quot; style=&quot;width: 100.0%; height: 100.0%;&quot;&gt;Estación Estación Tráfico Centro Media: 1.09 Válidos: 98.6%&lt;/div&gt;`)[0];\n",
       "                popup_fde2502cbfc5ed985afb6508819ee056.setContent(html_43aeb18a2724999c755756cb3ec927dd);\n",
       "            \n",
       "        \n",
       "\n",
       "        circle_marker_1674a354c262808758786e7dd5b33c20.bindPopup(popup_fde2502cbfc5ed985afb6508819ee056)\n",
       "        ;\n",
       "\n",
       "        \n",
       "    \n",
       "    \n",
       "            var circle_marker_3899d2d3acb6347ee068414694c6d4ad = L.circleMarker(\n",
       "                [6.2633696, -75.5770035],\n",
       "                {&quot;bubblingMouseEvents&quot;: true, &quot;color&quot;: &quot;red&quot;, &quot;dashArray&quot;: null, &quot;dashOffset&quot;: null, &quot;fill&quot;: true, &quot;fillColor&quot;: &quot;red&quot;, &quot;fillOpacity&quot;: 0.2, &quot;fillRule&quot;: &quot;evenodd&quot;, &quot;lineCap&quot;: &quot;round&quot;, &quot;lineJoin&quot;: &quot;round&quot;, &quot;opacity&quot;: 1.0, &quot;radius&quot;: 6, &quot;stroke&quot;: true, &quot;weight&quot;: 3}\n",
       "            ).addTo(map_46ec508be05a1ed1f9dc8ad9dc6e1832);\n",
       "        \n",
       "    \n",
       "        var popup_80f965c241d1ba805fa1c6339b2adfe3 = L.popup({\n",
       "  &quot;maxWidth&quot;: &quot;100%&quot;,\n",
       "});\n",
       "\n",
       "        \n",
       "            \n",
       "                var html_a2bfba88a0e7cab405cd0aae23e76aa9 = $(`&lt;div id=&quot;html_a2bfba88a0e7cab405cd0aae23e76aa9&quot; style=&quot;width: 100.0%; height: 100.0%;&quot;&gt;Estación _OFF-Medellín,  centro occidente - Universidad Nacional, sede El Volador Media: nan Válidos: 0.0%&lt;/div&gt;`)[0];\n",
       "                popup_80f965c241d1ba805fa1c6339b2adfe3.setContent(html_a2bfba88a0e7cab405cd0aae23e76aa9);\n",
       "            \n",
       "        \n",
       "\n",
       "        circle_marker_3899d2d3acb6347ee068414694c6d4ad.bindPopup(popup_80f965c241d1ba805fa1c6339b2adfe3)\n",
       "        ;\n",
       "\n",
       "        \n",
       "    \n",
       "    \n",
       "            var circle_marker_e6e51a52130776ecd4e54f0755805508 = L.circleMarker(\n",
       "                [6.1856666, -75.5972061],\n",
       "                {&quot;bubblingMouseEvents&quot;: true, &quot;color&quot;: &quot;green&quot;, &quot;dashArray&quot;: null, &quot;dashOffset&quot;: null, &quot;fill&quot;: true, &quot;fillColor&quot;: &quot;green&quot;, &quot;fillOpacity&quot;: 0.2, &quot;fillRule&quot;: &quot;evenodd&quot;, &quot;lineCap&quot;: &quot;round&quot;, &quot;lineJoin&quot;: &quot;round&quot;, &quot;opacity&quot;: 1.0, &quot;radius&quot;: 6, &quot;stroke&quot;: true, &quot;weight&quot;: 3}\n",
       "            ).addTo(map_46ec508be05a1ed1f9dc8ad9dc6e1832);\n",
       "        \n",
       "    \n",
       "        var popup_3370d071ed6082ae50d4f2311652b7c7 = L.popup({\n",
       "  &quot;maxWidth&quot;: &quot;100%&quot;,\n",
       "});\n",
       "\n",
       "        \n",
       "            \n",
       "                var html_67a89015599807016dd5bb86cfc3e932 = $(`&lt;div id=&quot;html_67a89015599807016dd5bb86cfc3e932&quot; style=&quot;width: 100.0%; height: 100.0%;&quot;&gt;Estación Itagüí - Casa de Justicia Itagüí Media: 1.09 Válidos: 99.3%&lt;/div&gt;`)[0];\n",
       "                popup_3370d071ed6082ae50d4f2311652b7c7.setContent(html_67a89015599807016dd5bb86cfc3e932);\n",
       "            \n",
       "        \n",
       "\n",
       "        circle_marker_e6e51a52130776ecd4e54f0755805508.bindPopup(popup_3370d071ed6082ae50d4f2311652b7c7)\n",
       "        ;\n",
       "\n",
       "        \n",
       "    \n",
       "    \n",
       "            var circle_marker_01d06f655428c29357f001cf300c409f = L.circleMarker(\n",
       "                [6.0990806, -75.6386261],\n",
       "                {&quot;bubblingMouseEvents&quot;: true, &quot;color&quot;: &quot;green&quot;, &quot;dashArray&quot;: null, &quot;dashOffset&quot;: null, &quot;fill&quot;: true, &quot;fillColor&quot;: &quot;green&quot;, &quot;fillOpacity&quot;: 0.2, &quot;fillRule&quot;: &quot;evenodd&quot;, &quot;lineCap&quot;: &quot;round&quot;, &quot;lineJoin&quot;: &quot;round&quot;, &quot;opacity&quot;: 1.0, &quot;radius&quot;: 6, &quot;stroke&quot;: true, &quot;weight&quot;: 3}\n",
       "            ).addTo(map_46ec508be05a1ed1f9dc8ad9dc6e1832);\n",
       "        \n",
       "    \n",
       "        var popup_4843326afc2d623798bd190956a270e3 = L.popup({\n",
       "  &quot;maxWidth&quot;: &quot;100%&quot;,\n",
       "});\n",
       "\n",
       "        \n",
       "            \n",
       "                var html_88b433864e9c602181508e1c13c7267a = $(`&lt;div id=&quot;html_88b433864e9c602181508e1c13c7267a&quot; style=&quot;width: 100.0%; height: 100.0%;&quot;&gt;Estación _OFF-Caldas - Corporacion Universitaria Lasallista Media: 1.10 Válidos: 57.6%&lt;/div&gt;`)[0];\n",
       "                popup_4843326afc2d623798bd190956a270e3.setContent(html_88b433864e9c602181508e1c13c7267a);\n",
       "            \n",
       "        \n",
       "\n",
       "        circle_marker_01d06f655428c29357f001cf300c409f.bindPopup(popup_4843326afc2d623798bd190956a270e3)\n",
       "        ;\n",
       "\n",
       "        \n",
       "    \n",
       "    \n",
       "            var circle_marker_11615aa183a9b7015496bf2208028b25 = L.circleMarker(\n",
       "                [6.1684971, -75.6443558],\n",
       "                {&quot;bubblingMouseEvents&quot;: true, &quot;color&quot;: &quot;green&quot;, &quot;dashArray&quot;: null, &quot;dashOffset&quot;: null, &quot;fill&quot;: true, &quot;fillColor&quot;: &quot;green&quot;, &quot;fillOpacity&quot;: 0.2, &quot;fillRule&quot;: &quot;evenodd&quot;, &quot;lineCap&quot;: &quot;round&quot;, &quot;lineJoin&quot;: &quot;round&quot;, &quot;opacity&quot;: 1.0, &quot;radius&quot;: 6, &quot;stroke&quot;: true, &quot;weight&quot;: 3}\n",
       "            ).addTo(map_46ec508be05a1ed1f9dc8ad9dc6e1832);\n",
       "        \n",
       "    \n",
       "        var popup_98a42adc3d29afdce144e0fb54fc77b2 = L.popup({\n",
       "  &quot;maxWidth&quot;: &quot;100%&quot;,\n",
       "});\n",
       "\n",
       "        \n",
       "            \n",
       "                var html_c3a2cc6fca076f3db0d2f068580f381b = $(`&lt;div id=&quot;html_c3a2cc6fca076f3db0d2f068580f381b&quot; style=&quot;width: 100.0%; height: 100.0%;&quot;&gt;Estación Itagüí - I.E. Concejo Municipal de Itagüí Media: 1.09 Válidos: 98.9%&lt;/div&gt;`)[0];\n",
       "                popup_98a42adc3d29afdce144e0fb54fc77b2.setContent(html_c3a2cc6fca076f3db0d2f068580f381b);\n",
       "            \n",
       "        \n",
       "\n",
       "        circle_marker_11615aa183a9b7015496bf2208028b25.bindPopup(popup_98a42adc3d29afdce144e0fb54fc77b2)\n",
       "        ;\n",
       "\n",
       "        \n",
       "    \n",
       "    \n",
       "            var circle_marker_9bac4ceaf93121f7e4c7f22c12534bb8 = L.circleMarker(\n",
       "                [6.1825418, -75.5506363],\n",
       "                {&quot;bubblingMouseEvents&quot;: true, &quot;color&quot;: &quot;green&quot;, &quot;dashArray&quot;: null, &quot;dashOffset&quot;: null, &quot;fill&quot;: true, &quot;fillColor&quot;: &quot;green&quot;, &quot;fillOpacity&quot;: 0.2, &quot;fillRule&quot;: &quot;evenodd&quot;, &quot;lineCap&quot;: &quot;round&quot;, &quot;lineJoin&quot;: &quot;round&quot;, &quot;opacity&quot;: 1.0, &quot;radius&quot;: 6, &quot;stroke&quot;: true, &quot;weight&quot;: 3}\n",
       "            ).addTo(map_46ec508be05a1ed1f9dc8ad9dc6e1832);\n",
       "        \n",
       "    \n",
       "        var popup_4a9f5306c9998b314d425be7f903a9a3 = L.popup({\n",
       "  &quot;maxWidth&quot;: &quot;100%&quot;,\n",
       "});\n",
       "\n",
       "        \n",
       "            \n",
       "                var html_005ff84ed189554b52f88cb2cc08f338 = $(`&lt;div id=&quot;html_005ff84ed189554b52f88cb2cc08f338&quot; style=&quot;width: 100.0%; height: 100.0%;&quot;&gt;Estación Medellín, El Poblado - Tanques La Ye EPM Media: 1.08 Válidos: 99.6%&lt;/div&gt;`)[0];\n",
       "                popup_4a9f5306c9998b314d425be7f903a9a3.setContent(html_005ff84ed189554b52f88cb2cc08f338);\n",
       "            \n",
       "        \n",
       "\n",
       "        circle_marker_9bac4ceaf93121f7e4c7f22c12534bb8.bindPopup(popup_4a9f5306c9998b314d425be7f903a9a3)\n",
       "        ;\n",
       "\n",
       "        \n",
       "    \n",
       "    \n",
       "            var circle_marker_ec6bee184870cbb0fffd9e4fe89275d8 = L.circleMarker(\n",
       "                [6.1523128, -75.6274872],\n",
       "                {&quot;bubblingMouseEvents&quot;: true, &quot;color&quot;: &quot;green&quot;, &quot;dashArray&quot;: null, &quot;dashOffset&quot;: null, &quot;fill&quot;: true, &quot;fillColor&quot;: &quot;green&quot;, &quot;fillOpacity&quot;: 0.2, &quot;fillRule&quot;: &quot;evenodd&quot;, &quot;lineCap&quot;: &quot;round&quot;, &quot;lineJoin&quot;: &quot;round&quot;, &quot;opacity&quot;: 1.0, &quot;radius&quot;: 6, &quot;stroke&quot;: true, &quot;weight&quot;: 3}\n",
       "            ).addTo(map_46ec508be05a1ed1f9dc8ad9dc6e1832);\n",
       "        \n",
       "    \n",
       "        var popup_47d65221118f35573edee21b39a32af7 = L.popup({\n",
       "  &quot;maxWidth&quot;: &quot;100%&quot;,\n",
       "});\n",
       "\n",
       "        \n",
       "            \n",
       "                var html_d43bb39b9ad20625a042205e397caecc = $(`&lt;div id=&quot;html_d43bb39b9ad20625a042205e397caecc&quot; style=&quot;width: 100.0%; height: 100.0%;&quot;&gt;Estación Estación Tráfico Sur Media: 1.14 Válidos: 97.8%&lt;/div&gt;`)[0];\n",
       "                popup_47d65221118f35573edee21b39a32af7.setContent(html_d43bb39b9ad20625a042205e397caecc);\n",
       "            \n",
       "        \n",
       "\n",
       "        circle_marker_ec6bee184870cbb0fffd9e4fe89275d8.bindPopup(popup_47d65221118f35573edee21b39a32af7)\n",
       "        ;\n",
       "\n",
       "        \n",
       "    \n",
       "    \n",
       "            var circle_marker_f07516d1839187e83999ef3c82040773 = L.circleMarker(\n",
       "                [6.0930777, -75.637764],\n",
       "                {&quot;bubblingMouseEvents&quot;: true, &quot;color&quot;: &quot;green&quot;, &quot;dashArray&quot;: null, &quot;dashOffset&quot;: null, &quot;fill&quot;: true, &quot;fillColor&quot;: &quot;green&quot;, &quot;fillOpacity&quot;: 0.2, &quot;fillRule&quot;: &quot;evenodd&quot;, &quot;lineCap&quot;: &quot;round&quot;, &quot;lineJoin&quot;: &quot;round&quot;, &quot;opacity&quot;: 1.0, &quot;radius&quot;: 6, &quot;stroke&quot;: true, &quot;weight&quot;: 3}\n",
       "            ).addTo(map_46ec508be05a1ed1f9dc8ad9dc6e1832);\n",
       "        \n",
       "    \n",
       "        var popup_17613c74ccae14de8808f3d199367793 = L.popup({\n",
       "  &quot;maxWidth&quot;: &quot;100%&quot;,\n",
       "});\n",
       "\n",
       "        \n",
       "            \n",
       "                var html_ded205d1cb2234b583d2b3c98e04c013 = $(`&lt;div id=&quot;html_ded205d1cb2234b583d2b3c98e04c013&quot; style=&quot;width: 100.0%; height: 100.0%;&quot;&gt;Estación Caldas - E U Joaquín Aristizabal Media: 1.09 Válidos: 97.7%&lt;/div&gt;`)[0];\n",
       "                popup_17613c74ccae14de8808f3d199367793.setContent(html_ded205d1cb2234b583d2b3c98e04c013);\n",
       "            \n",
       "        \n",
       "\n",
       "        circle_marker_f07516d1839187e83999ef3c82040773.bindPopup(popup_17613c74ccae14de8808f3d199367793)\n",
       "        ;\n",
       "\n",
       "        \n",
       "    \n",
       "    \n",
       "            var circle_marker_75ffa16bc131730e3572caaf8e7471c4 = L.circleMarker(\n",
       "                [6.1555305, -75.6441727],\n",
       "                {&quot;bubblingMouseEvents&quot;: true, &quot;color&quot;: &quot;green&quot;, &quot;dashArray&quot;: null, &quot;dashOffset&quot;: null, &quot;fill&quot;: true, &quot;fillColor&quot;: &quot;green&quot;, &quot;fillOpacity&quot;: 0.2, &quot;fillRule&quot;: &quot;evenodd&quot;, &quot;lineCap&quot;: &quot;round&quot;, &quot;lineJoin&quot;: &quot;round&quot;, &quot;opacity&quot;: 1.0, &quot;radius&quot;: 6, &quot;stroke&quot;: true, &quot;weight&quot;: 3}\n",
       "            ).addTo(map_46ec508be05a1ed1f9dc8ad9dc6e1832);\n",
       "        \n",
       "    \n",
       "        var popup_887b800987d789ecc214d4b19ea57c64 = L.popup({\n",
       "  &quot;maxWidth&quot;: &quot;100%&quot;,\n",
       "});\n",
       "\n",
       "        \n",
       "            \n",
       "                var html_19abf38265be0632903c7b68f8b4aa0a = $(`&lt;div id=&quot;html_19abf38265be0632903c7b68f8b4aa0a&quot; style=&quot;width: 100.0%; height: 100.0%;&quot;&gt;Estación La Estrella - Hospital Media: 1.08 Válidos: 97.9%&lt;/div&gt;`)[0];\n",
       "                popup_887b800987d789ecc214d4b19ea57c64.setContent(html_19abf38265be0632903c7b68f8b4aa0a);\n",
       "            \n",
       "        \n",
       "\n",
       "        circle_marker_75ffa16bc131730e3572caaf8e7471c4.bindPopup(popup_887b800987d789ecc214d4b19ea57c64)\n",
       "        ;\n",
       "\n",
       "        \n",
       "    \n",
       "    \n",
       "            var circle_marker_54c09823da2126c797c3904fd489ec77 = L.circleMarker(\n",
       "                [6.2218938, -75.6106033],\n",
       "                {&quot;bubblingMouseEvents&quot;: true, &quot;color&quot;: &quot;green&quot;, &quot;dashArray&quot;: null, &quot;dashOffset&quot;: null, &quot;fill&quot;: true, &quot;fillColor&quot;: &quot;green&quot;, &quot;fillOpacity&quot;: 0.2, &quot;fillRule&quot;: &quot;evenodd&quot;, &quot;lineCap&quot;: &quot;round&quot;, &quot;lineJoin&quot;: &quot;round&quot;, &quot;opacity&quot;: 1.0, &quot;radius&quot;: 6, &quot;stroke&quot;: true, &quot;weight&quot;: 3}\n",
       "            ).addTo(map_46ec508be05a1ed1f9dc8ad9dc6e1832);\n",
       "        \n",
       "    \n",
       "        var popup_9e2ced71ed386d63d7f9494a80ac4450 = L.popup({\n",
       "  &quot;maxWidth&quot;: &quot;100%&quot;,\n",
       "});\n",
       "\n",
       "        \n",
       "            \n",
       "                var html_a529db3e5cc80e94c8727325cda4406c = $(`&lt;div id=&quot;html_a529db3e5cc80e94c8727325cda4406c&quot; style=&quot;width: 100.0%; height: 100.0%;&quot;&gt;Estación Medellín, Altavista - I.E. Pedro Octavio Amado Media: 1.10 Válidos: 99.1%&lt;/div&gt;`)[0];\n",
       "                popup_9e2ced71ed386d63d7f9494a80ac4450.setContent(html_a529db3e5cc80e94c8727325cda4406c);\n",
       "            \n",
       "        \n",
       "\n",
       "        circle_marker_54c09823da2126c797c3904fd489ec77.bindPopup(popup_9e2ced71ed386d63d7f9494a80ac4450)\n",
       "        ;\n",
       "\n",
       "        \n",
       "    \n",
       "    \n",
       "            var circle_marker_43812446595f05ced98298a24b8f0e47 = L.circleMarker(\n",
       "                [6.2589092, -75.5482635],\n",
       "                {&quot;bubblingMouseEvents&quot;: true, &quot;color&quot;: &quot;green&quot;, &quot;dashArray&quot;: null, &quot;dashOffset&quot;: null, &quot;fill&quot;: true, &quot;fillColor&quot;: &quot;green&quot;, &quot;fillOpacity&quot;: 0.2, &quot;fillRule&quot;: &quot;evenodd&quot;, &quot;lineCap&quot;: &quot;round&quot;, &quot;lineJoin&quot;: &quot;round&quot;, &quot;opacity&quot;: 1.0, &quot;radius&quot;: 6, &quot;stroke&quot;: true, &quot;weight&quot;: 3}\n",
       "            ).addTo(map_46ec508be05a1ed1f9dc8ad9dc6e1832);\n",
       "        \n",
       "    \n",
       "        var popup_cd0e51691e06ccaaa3845fe6c3a4ef03 = L.popup({\n",
       "  &quot;maxWidth&quot;: &quot;100%&quot;,\n",
       "});\n",
       "\n",
       "        \n",
       "            \n",
       "                var html_0b2af0d49fb20425904489950ab448e2 = $(`&lt;div id=&quot;html_0b2af0d49fb20425904489950ab448e2&quot; style=&quot;width: 100.0%; height: 100.0%;&quot;&gt;Estación Medellín, Villahermosa - Planta de producción de agua potable EPM Media: 1.10 Válidos: 99.5%&lt;/div&gt;`)[0];\n",
       "                popup_cd0e51691e06ccaaa3845fe6c3a4ef03.setContent(html_0b2af0d49fb20425904489950ab448e2);\n",
       "            \n",
       "        \n",
       "\n",
       "        circle_marker_43812446595f05ced98298a24b8f0e47.bindPopup(popup_cd0e51691e06ccaaa3845fe6c3a4ef03)\n",
       "        ;\n",
       "\n",
       "        \n",
       "    \n",
       "    \n",
       "            var circle_marker_86e229ca1c3e17c3800c4cee7abf2fec = L.circleMarker(\n",
       "                [6.4369602, -75.3303986],\n",
       "                {&quot;bubblingMouseEvents&quot;: true, &quot;color&quot;: &quot;green&quot;, &quot;dashArray&quot;: null, &quot;dashOffset&quot;: null, &quot;fill&quot;: true, &quot;fillColor&quot;: &quot;green&quot;, &quot;fillOpacity&quot;: 0.2, &quot;fillRule&quot;: &quot;evenodd&quot;, &quot;lineCap&quot;: &quot;round&quot;, &quot;lineJoin&quot;: &quot;round&quot;, &quot;opacity&quot;: 1.0, &quot;radius&quot;: 6, &quot;stroke&quot;: true, &quot;weight&quot;: 3}\n",
       "            ).addTo(map_46ec508be05a1ed1f9dc8ad9dc6e1832);\n",
       "        \n",
       "    \n",
       "        var popup_394bd4a33044d8357e6189bdeea4404c = L.popup({\n",
       "  &quot;maxWidth&quot;: &quot;100%&quot;,\n",
       "});\n",
       "\n",
       "        \n",
       "            \n",
       "                var html_d3b772662e940c4f5d3304a54998c23b = $(`&lt;div id=&quot;html_d3b772662e940c4f5d3304a54998c23b&quot; style=&quot;width: 100.0%; height: 100.0%;&quot;&gt;Estación Barbosa - Torre Social Media: 1.17 Válidos: 98.3%&lt;/div&gt;`)[0];\n",
       "                popup_394bd4a33044d8357e6189bdeea4404c.setContent(html_d3b772662e940c4f5d3304a54998c23b);\n",
       "            \n",
       "        \n",
       "\n",
       "        circle_marker_86e229ca1c3e17c3800c4cee7abf2fec.bindPopup(popup_394bd4a33044d8357e6189bdeea4404c)\n",
       "        ;\n",
       "\n",
       "        \n",
       "    \n",
       "    \n",
       "            var circle_marker_bc3c1423d53d6009273a4e82eb9c3ef0 = L.circleMarker(\n",
       "                [6.3453598, -75.5047531],\n",
       "                {&quot;bubblingMouseEvents&quot;: true, &quot;color&quot;: &quot;green&quot;, &quot;dashArray&quot;: null, &quot;dashOffset&quot;: null, &quot;fill&quot;: true, &quot;fillColor&quot;: &quot;green&quot;, &quot;fillOpacity&quot;: 0.2, &quot;fillRule&quot;: &quot;evenodd&quot;, &quot;lineCap&quot;: &quot;round&quot;, &quot;lineJoin&quot;: &quot;round&quot;, &quot;opacity&quot;: 1.0, &quot;radius&quot;: 6, &quot;stroke&quot;: true, &quot;weight&quot;: 3}\n",
       "            ).addTo(map_46ec508be05a1ed1f9dc8ad9dc6e1832);\n",
       "        \n",
       "    \n",
       "        var popup_e6f39f11629d2c125e9fca9c08b8a9a0 = L.popup({\n",
       "  &quot;maxWidth&quot;: &quot;100%&quot;,\n",
       "});\n",
       "\n",
       "        \n",
       "            \n",
       "                var html_816e1f5ce8b6d6e1a6c07facbc3f2089 = $(`&lt;div id=&quot;html_816e1f5ce8b6d6e1a6c07facbc3f2089&quot; style=&quot;width: 100.0%; height: 100.0%;&quot;&gt;Estación Copacabana - Ciudadela Educativa La Vida Media: 1.08 Válidos: 99.5%&lt;/div&gt;`)[0];\n",
       "                popup_e6f39f11629d2c125e9fca9c08b8a9a0.setContent(html_816e1f5ce8b6d6e1a6c07facbc3f2089);\n",
       "            \n",
       "        \n",
       "\n",
       "        circle_marker_bc3c1423d53d6009273a4e82eb9c3ef0.bindPopup(popup_e6f39f11629d2c125e9fca9c08b8a9a0)\n",
       "        ;\n",
       "\n",
       "        \n",
       "    \n",
       "    \n",
       "            var circle_marker_922d943613434803c669dde7bcc4a9d0 = L.circleMarker(\n",
       "                [6.2372341, -75.610466],\n",
       "                {&quot;bubblingMouseEvents&quot;: true, &quot;color&quot;: &quot;green&quot;, &quot;dashArray&quot;: null, &quot;dashOffset&quot;: null, &quot;fill&quot;: true, &quot;fillColor&quot;: &quot;green&quot;, &quot;fillOpacity&quot;: 0.2, &quot;fillRule&quot;: &quot;evenodd&quot;, &quot;lineCap&quot;: &quot;round&quot;, &quot;lineJoin&quot;: &quot;round&quot;, &quot;opacity&quot;: 1.0, &quot;radius&quot;: 6, &quot;stroke&quot;: true, &quot;weight&quot;: 3}\n",
       "            ).addTo(map_46ec508be05a1ed1f9dc8ad9dc6e1832);\n",
       "        \n",
       "    \n",
       "        var popup_dc2b1c43eb09d236cb63a27ec1896618 = L.popup({\n",
       "  &quot;maxWidth&quot;: &quot;100%&quot;,\n",
       "});\n",
       "\n",
       "        \n",
       "            \n",
       "                var html_8c43161e663ebb0801bcdfc8d0d51555 = $(`&lt;div id=&quot;html_8c43161e663ebb0801bcdfc8d0d51555&quot; style=&quot;width: 100.0%; height: 100.0%;&quot;&gt;Estación Medellin, Belén - I.E Pedro Justo Berrio Media: 1.09 Válidos: 99.1%&lt;/div&gt;`)[0];\n",
       "                popup_dc2b1c43eb09d236cb63a27ec1896618.setContent(html_8c43161e663ebb0801bcdfc8d0d51555);\n",
       "            \n",
       "        \n",
       "\n",
       "        circle_marker_922d943613434803c669dde7bcc4a9d0.bindPopup(popup_dc2b1c43eb09d236cb63a27ec1896618)\n",
       "        ;\n",
       "\n",
       "        \n",
       "    \n",
       "    \n",
       "            var circle_marker_a061ba84f7b399b2a9dcdaf4e3667d56 = L.circleMarker(\n",
       "                [6.1998701, -75.5609512],\n",
       "                {&quot;bubblingMouseEvents&quot;: true, &quot;color&quot;: &quot;green&quot;, &quot;dashArray&quot;: null, &quot;dashOffset&quot;: null, &quot;fill&quot;: true, &quot;fillColor&quot;: &quot;green&quot;, &quot;fillOpacity&quot;: 0.2, &quot;fillRule&quot;: &quot;evenodd&quot;, &quot;lineCap&quot;: &quot;round&quot;, &quot;lineJoin&quot;: &quot;round&quot;, &quot;opacity&quot;: 1.0, &quot;radius&quot;: 6, &quot;stroke&quot;: true, &quot;weight&quot;: 3}\n",
       "            ).addTo(map_46ec508be05a1ed1f9dc8ad9dc6e1832);\n",
       "        \n",
       "    \n",
       "        var popup_905d6806eaea920e3724b9a0a5fd9121 = L.popup({\n",
       "  &quot;maxWidth&quot;: &quot;100%&quot;,\n",
       "});\n",
       "\n",
       "        \n",
       "            \n",
       "                var html_a4de14acd702062cff476fc004e56b8a = $(`&lt;div id=&quot;html_a4de14acd702062cff476fc004e56b8a&quot; style=&quot;width: 100.0%; height: 100.0%;&quot;&gt;Estación Medellín, El Poblado - I.E INEM sede Santa Catalina Media: 1.08 Válidos: 98.9%&lt;/div&gt;`)[0];\n",
       "                popup_905d6806eaea920e3724b9a0a5fd9121.setContent(html_a4de14acd702062cff476fc004e56b8a);\n",
       "            \n",
       "        \n",
       "\n",
       "        circle_marker_a061ba84f7b399b2a9dcdaf4e3667d56.bindPopup(popup_905d6806eaea920e3724b9a0a5fd9121)\n",
       "        ;\n",
       "\n",
       "        \n",
       "    \n",
       "    \n",
       "            var circle_marker_8e92c0aed919c3d6f789eded1c1cf35b = L.circleMarker(\n",
       "                [6.2778502, -75.6364288],\n",
       "                {&quot;bubblingMouseEvents&quot;: true, &quot;color&quot;: &quot;green&quot;, &quot;dashArray&quot;: null, &quot;dashOffset&quot;: null, &quot;fill&quot;: true, &quot;fillColor&quot;: &quot;green&quot;, &quot;fillOpacity&quot;: 0.2, &quot;fillRule&quot;: &quot;evenodd&quot;, &quot;lineCap&quot;: &quot;round&quot;, &quot;lineJoin&quot;: &quot;round&quot;, &quot;opacity&quot;: 1.0, &quot;radius&quot;: 6, &quot;stroke&quot;: true, &quot;weight&quot;: 3}\n",
       "            ).addTo(map_46ec508be05a1ed1f9dc8ad9dc6e1832);\n",
       "        \n",
       "    \n",
       "        var popup_fd790d7ff747f45c72b3ee44b6f07974 = L.popup({\n",
       "  &quot;maxWidth&quot;: &quot;100%&quot;,\n",
       "});\n",
       "\n",
       "        \n",
       "            \n",
       "                var html_2b14a014d38155ab29e9348ffe7b2afa = $(`&lt;div id=&quot;html_2b14a014d38155ab29e9348ffe7b2afa&quot; style=&quot;width: 100.0%; height: 100.0%;&quot;&gt;Estación Medellín, San Cristobal - Parque Biblioteca Fernando Botero Media: 1.13 Válidos: 98.2%&lt;/div&gt;`)[0];\n",
       "                popup_fd790d7ff747f45c72b3ee44b6f07974.setContent(html_2b14a014d38155ab29e9348ffe7b2afa);\n",
       "            \n",
       "        \n",
       "\n",
       "        circle_marker_8e92c0aed919c3d6f789eded1c1cf35b.bindPopup(popup_fd790d7ff747f45c72b3ee44b6f07974)\n",
       "        ;\n",
       "\n",
       "        \n",
       "    \n",
       "    \n",
       "            var circle_marker_8490424b50b45204d1c2ac35d72e39bf = L.circleMarker(\n",
       "                [6.2904806, -75.5555191],\n",
       "                {&quot;bubblingMouseEvents&quot;: true, &quot;color&quot;: &quot;green&quot;, &quot;dashArray&quot;: null, &quot;dashOffset&quot;: null, &quot;fill&quot;: true, &quot;fillColor&quot;: &quot;green&quot;, &quot;fillOpacity&quot;: 0.2, &quot;fillRule&quot;: &quot;evenodd&quot;, &quot;lineCap&quot;: &quot;round&quot;, &quot;lineJoin&quot;: &quot;round&quot;, &quot;opacity&quot;: 1.0, &quot;radius&quot;: 6, &quot;stroke&quot;: true, &quot;weight&quot;: 3}\n",
       "            ).addTo(map_46ec508be05a1ed1f9dc8ad9dc6e1832);\n",
       "        \n",
       "    \n",
       "        var popup_f14a48de537201fdbe151808760844f6 = L.popup({\n",
       "  &quot;maxWidth&quot;: &quot;100%&quot;,\n",
       "});\n",
       "\n",
       "        \n",
       "            \n",
       "                var html_8852a26adab3c005a547aa427a28b8c3 = $(`&lt;div id=&quot;html_8852a26adab3c005a547aa427a28b8c3&quot; style=&quot;width: 100.0%; height: 100.0%;&quot;&gt;Estación Medellín, Aranjuez - I.E Ciro Mendia Media: 1.06 Válidos: 99.3%&lt;/div&gt;`)[0];\n",
       "                popup_f14a48de537201fdbe151808760844f6.setContent(html_8852a26adab3c005a547aa427a28b8c3);\n",
       "            \n",
       "        \n",
       "\n",
       "        circle_marker_8490424b50b45204d1c2ac35d72e39bf.bindPopup(popup_f14a48de537201fdbe151808760844f6)\n",
       "        ;\n",
       "\n",
       "        \n",
       "    \n",
       "    \n",
       "            var circle_marker_8747fc043930f5257cfb9d5f60bd331e = L.circleMarker(\n",
       "                [6.3375502, -75.5678024],\n",
       "                {&quot;bubblingMouseEvents&quot;: true, &quot;color&quot;: &quot;green&quot;, &quot;dashArray&quot;: null, &quot;dashOffset&quot;: null, &quot;fill&quot;: true, &quot;fillColor&quot;: &quot;green&quot;, &quot;fillOpacity&quot;: 0.2, &quot;fillRule&quot;: &quot;evenodd&quot;, &quot;lineCap&quot;: &quot;round&quot;, &quot;lineJoin&quot;: &quot;round&quot;, &quot;opacity&quot;: 1.0, &quot;radius&quot;: 6, &quot;stroke&quot;: true, &quot;weight&quot;: 3}\n",
       "            ).addTo(map_46ec508be05a1ed1f9dc8ad9dc6e1832);\n",
       "        \n",
       "    \n",
       "        var popup_af9a741166f1f99fea8e6822bf0fa4e1 = L.popup({\n",
       "  &quot;maxWidth&quot;: &quot;100%&quot;,\n",
       "});\n",
       "\n",
       "        \n",
       "            \n",
       "                var html_9235a5db013c0e1c2b37626bcf40576e = $(`&lt;div id=&quot;html_9235a5db013c0e1c2b37626bcf40576e&quot; style=&quot;width: 100.0%; height: 100.0%;&quot;&gt;Estación Bello - I.E. Fernando Vélez Media: 1.09 Válidos: 99.1%&lt;/div&gt;`)[0];\n",
       "                popup_af9a741166f1f99fea8e6822bf0fa4e1.setContent(html_9235a5db013c0e1c2b37626bcf40576e);\n",
       "            \n",
       "        \n",
       "\n",
       "        circle_marker_8747fc043930f5257cfb9d5f60bd331e.bindPopup(popup_af9a741166f1f99fea8e6822bf0fa4e1)\n",
       "        ;\n",
       "\n",
       "        \n",
       "    \n",
       "    \n",
       "            var circle_marker_e1fa836a00f729f95909c07d3249f6d6 = L.circleMarker(\n",
       "                [6.1686831, -75.5819702],\n",
       "                {&quot;bubblingMouseEvents&quot;: true, &quot;color&quot;: &quot;green&quot;, &quot;dashArray&quot;: null, &quot;dashOffset&quot;: null, &quot;fill&quot;: true, &quot;fillColor&quot;: &quot;green&quot;, &quot;fillOpacity&quot;: 0.2, &quot;fillRule&quot;: &quot;evenodd&quot;, &quot;lineCap&quot;: &quot;round&quot;, &quot;lineJoin&quot;: &quot;round&quot;, &quot;opacity&quot;: 1.0, &quot;radius&quot;: 6, &quot;stroke&quot;: true, &quot;weight&quot;: 3}\n",
       "            ).addTo(map_46ec508be05a1ed1f9dc8ad9dc6e1832);\n",
       "        \n",
       "    \n",
       "        var popup_b017d688237deb58b195776bb2c917e3 = L.popup({\n",
       "  &quot;maxWidth&quot;: &quot;100%&quot;,\n",
       "});\n",
       "\n",
       "        \n",
       "            \n",
       "                var html_df2f9679857889f976ba218b1409a3f2 = $(`&lt;div id=&quot;html_df2f9679857889f976ba218b1409a3f2&quot; style=&quot;width: 100.0%; height: 100.0%;&quot;&gt;Estación Envigado - E.S.E. Santa Gertrudis Media: 1.08 Válidos: 99.3%&lt;/div&gt;`)[0];\n",
       "                popup_b017d688237deb58b195776bb2c917e3.setContent(html_df2f9679857889f976ba218b1409a3f2);\n",
       "            \n",
       "        \n",
       "\n",
       "        circle_marker_e1fa836a00f729f95909c07d3249f6d6.bindPopup(popup_b017d688237deb58b195776bb2c917e3)\n",
       "        ;\n",
       "\n",
       "        \n",
       "    \n",
       "    \n",
       "            var circle_marker_9c20c72311fc3119f939afdbbead9a8e = L.circleMarker(\n",
       "                [6.1455002, -75.6212616],\n",
       "                {&quot;bubblingMouseEvents&quot;: true, &quot;color&quot;: &quot;green&quot;, &quot;dashArray&quot;: null, &quot;dashOffset&quot;: null, &quot;fill&quot;: true, &quot;fillColor&quot;: &quot;green&quot;, &quot;fillOpacity&quot;: 0.2, &quot;fillRule&quot;: &quot;evenodd&quot;, &quot;lineCap&quot;: &quot;round&quot;, &quot;lineJoin&quot;: &quot;round&quot;, &quot;opacity&quot;: 1.0, &quot;radius&quot;: 6, &quot;stroke&quot;: true, &quot;weight&quot;: 3}\n",
       "            ).addTo(map_46ec508be05a1ed1f9dc8ad9dc6e1832);\n",
       "        \n",
       "    \n",
       "        var popup_8898c7d4aa18d086d872032732c70f2c = L.popup({\n",
       "  &quot;maxWidth&quot;: &quot;100%&quot;,\n",
       "});\n",
       "\n",
       "        \n",
       "            \n",
       "                var html_75a5f80d2444b3af220a4224e08365b4 = $(`&lt;div id=&quot;html_75a5f80d2444b3af220a4224e08365b4&quot; style=&quot;width: 100.0%; height: 100.0%;&quot;&gt;Estación Sabaneta - I.E. Rafael J. Mejía Media: 1.11 Válidos: 98.5%&lt;/div&gt;`)[0];\n",
       "                popup_8898c7d4aa18d086d872032732c70f2c.setContent(html_75a5f80d2444b3af220a4224e08365b4);\n",
       "            \n",
       "        \n",
       "\n",
       "        circle_marker_9c20c72311fc3119f939afdbbead9a8e.bindPopup(popup_8898c7d4aa18d086d872032732c70f2c)\n",
       "        ;\n",
       "\n",
       "        \n",
       "    \n",
       "&lt;/script&gt;\n",
       "&lt;/html&gt;\" style=\"position:absolute;width:100%;height:100%;left:0;top:0;border:none !important;\" allowfullscreen webkitallowfullscreen mozallowfullscreen></iframe></div></div>"
      ],
      "text/plain": [
       "<folium.folium.Map at 0x2bec5c6a1a0>"
      ]
     },
     "execution_count": 6,
     "metadata": {},
     "output_type": "execute_result"
    }
   ],
   "source": [
    "# 5. Mapa estático de estaciones segun datos validos\n",
    "\n",
    "\n",
    "\n",
    "# Media por estacion\n",
    "media_estaciones = df.groupby(['codigoSerial', 'nombre', 'latitud', 'longitud'])['valor'].mean().reset_index()\n",
    "\n",
    "validos_por_estacion = df.groupby('codigoSerial')['valor'].apply(lambda x: x.notna().mean() * 100)\n",
    "\n",
    "media_estaciones['porcentaje_validos'] = media_estaciones['codigoSerial'].map(validos_por_estacion)\n",
    "\n",
    "\n",
    "mapa = folium.Map(location=[6.25, -75.6], zoom_start=11)\n",
    "\n",
    "for _, row in media_estaciones.iterrows():\n",
    "    folium.CircleMarker(\n",
    "        location=[row['latitud'], row['longitud']],\n",
    "        radius=6,\n",
    "        popup=(\n",
    "            f\"Estación {row['nombre']}\\n\"\n",
    "            f\"Media: {row['valor']:.2f}\\n\"\n",
    "            f\"Válidos: {row['porcentaje_validos']:.1f}%\"\n",
    "        ),\n",
    "        color = 'green' if row['porcentaje_validos'] >= 51 else 'red',\n",
    "        fill=True,\n",
    "    ).add_to(mapa)\n",
    "\n",
    "mapa"
   ]
  },
  {
   "cell_type": "code",
   "execution_count": 7,
   "id": "2cc189ea",
   "metadata": {},
   "outputs": [
    {
     "data": {
      "text/html": [
       "<div style=\"width:100%;\"><div style=\"position:relative;width:100%;height:0;padding-bottom:60%;\"><span style=\"color:#565656\">Make this Notebook Trusted to load map: File -> Trust Notebook</span><iframe srcdoc=\"&lt;!DOCTYPE html&gt;\n",
       "&lt;html&gt;\n",
       "&lt;head&gt;\n",
       "    \n",
       "    &lt;meta http-equiv=&quot;content-type&quot; content=&quot;text/html; charset=UTF-8&quot; /&gt;\n",
       "    &lt;script src=&quot;https://cdn.jsdelivr.net/npm/leaflet@1.9.3/dist/leaflet.js&quot;&gt;&lt;/script&gt;\n",
       "    &lt;script src=&quot;https://code.jquery.com/jquery-3.7.1.min.js&quot;&gt;&lt;/script&gt;\n",
       "    &lt;script src=&quot;https://cdn.jsdelivr.net/npm/bootstrap@5.2.2/dist/js/bootstrap.bundle.min.js&quot;&gt;&lt;/script&gt;\n",
       "    &lt;script src=&quot;https://cdnjs.cloudflare.com/ajax/libs/Leaflet.awesome-markers/2.0.2/leaflet.awesome-markers.js&quot;&gt;&lt;/script&gt;\n",
       "    &lt;link rel=&quot;stylesheet&quot; href=&quot;https://cdn.jsdelivr.net/npm/leaflet@1.9.3/dist/leaflet.css&quot;/&gt;\n",
       "    &lt;link rel=&quot;stylesheet&quot; href=&quot;https://cdn.jsdelivr.net/npm/bootstrap@5.2.2/dist/css/bootstrap.min.css&quot;/&gt;\n",
       "    &lt;link rel=&quot;stylesheet&quot; href=&quot;https://netdna.bootstrapcdn.com/bootstrap/3.0.0/css/bootstrap-glyphicons.css&quot;/&gt;\n",
       "    &lt;link rel=&quot;stylesheet&quot; href=&quot;https://cdn.jsdelivr.net/npm/@fortawesome/fontawesome-free@6.2.0/css/all.min.css&quot;/&gt;\n",
       "    &lt;link rel=&quot;stylesheet&quot; href=&quot;https://cdnjs.cloudflare.com/ajax/libs/Leaflet.awesome-markers/2.0.2/leaflet.awesome-markers.css&quot;/&gt;\n",
       "    &lt;link rel=&quot;stylesheet&quot; href=&quot;https://cdn.jsdelivr.net/gh/python-visualization/folium/folium/templates/leaflet.awesome.rotate.min.css&quot;/&gt;\n",
       "    \n",
       "            &lt;meta name=&quot;viewport&quot; content=&quot;width=device-width,\n",
       "                initial-scale=1.0, maximum-scale=1.0, user-scalable=no&quot; /&gt;\n",
       "            &lt;style&gt;\n",
       "                #map_1069fcd6c40af435130687f1a1a06cdc {\n",
       "                    position: relative;\n",
       "                    width: 100.0%;\n",
       "                    height: 100.0%;\n",
       "                    left: 0.0%;\n",
       "                    top: 0.0%;\n",
       "                }\n",
       "                .leaflet-container { font-size: 1rem; }\n",
       "            &lt;/style&gt;\n",
       "\n",
       "            &lt;style&gt;html, body {\n",
       "                width: 100%;\n",
       "                height: 100%;\n",
       "                margin: 0;\n",
       "                padding: 0;\n",
       "            }\n",
       "            &lt;/style&gt;\n",
       "\n",
       "            &lt;style&gt;#map {\n",
       "                position:absolute;\n",
       "                top:0;\n",
       "                bottom:0;\n",
       "                right:0;\n",
       "                left:0;\n",
       "                }\n",
       "            &lt;/style&gt;\n",
       "\n",
       "            &lt;script&gt;\n",
       "                L_NO_TOUCH = false;\n",
       "                L_DISABLE_3D = false;\n",
       "            &lt;/script&gt;\n",
       "\n",
       "        \n",
       "&lt;/head&gt;\n",
       "&lt;body&gt;\n",
       "    \n",
       "    \n",
       "            &lt;div class=&quot;folium-map&quot; id=&quot;map_1069fcd6c40af435130687f1a1a06cdc&quot; &gt;&lt;/div&gt;\n",
       "        \n",
       "&lt;/body&gt;\n",
       "&lt;script&gt;\n",
       "    \n",
       "    \n",
       "            var map_1069fcd6c40af435130687f1a1a06cdc = L.map(\n",
       "                &quot;map_1069fcd6c40af435130687f1a1a06cdc&quot;,\n",
       "                {\n",
       "                    center: [6.25, -75.6],\n",
       "                    crs: L.CRS.EPSG3857,\n",
       "                    ...{\n",
       "  &quot;zoom&quot;: 11,\n",
       "  &quot;zoomControl&quot;: true,\n",
       "  &quot;preferCanvas&quot;: false,\n",
       "}\n",
       "\n",
       "                }\n",
       "            );\n",
       "\n",
       "            \n",
       "\n",
       "        \n",
       "    \n",
       "            var tile_layer_2d0fe2e3d64ed6dafbd001c4b34827a4 = L.tileLayer(\n",
       "                &quot;https://tile.openstreetmap.org/{z}/{x}/{y}.png&quot;,\n",
       "                {\n",
       "  &quot;minZoom&quot;: 0,\n",
       "  &quot;maxZoom&quot;: 19,\n",
       "  &quot;maxNativeZoom&quot;: 19,\n",
       "  &quot;noWrap&quot;: false,\n",
       "  &quot;attribution&quot;: &quot;\\u0026copy; \\u003ca href=\\&quot;https://www.openstreetmap.org/copyright\\&quot;\\u003eOpenStreetMap\\u003c/a\\u003e contributors&quot;,\n",
       "  &quot;subdomains&quot;: &quot;abc&quot;,\n",
       "  &quot;detectRetina&quot;: false,\n",
       "  &quot;tms&quot;: false,\n",
       "  &quot;opacity&quot;: 1,\n",
       "}\n",
       "\n",
       "            );\n",
       "        \n",
       "    \n",
       "            tile_layer_2d0fe2e3d64ed6dafbd001c4b34827a4.addTo(map_1069fcd6c40af435130687f1a1a06cdc);\n",
       "        \n",
       "    \n",
       "            var circle_marker_5ab2c7abd95b6a6f8c5ab6f6eceb9f79 = L.circleMarker(\n",
       "                [6.3784332, -75.4511414],\n",
       "                {&quot;bubblingMouseEvents&quot;: true, &quot;color&quot;: &quot;green&quot;, &quot;dashArray&quot;: null, &quot;dashOffset&quot;: null, &quot;fill&quot;: true, &quot;fillColor&quot;: &quot;green&quot;, &quot;fillOpacity&quot;: 0.7, &quot;fillRule&quot;: &quot;evenodd&quot;, &quot;lineCap&quot;: &quot;round&quot;, &quot;lineJoin&quot;: &quot;round&quot;, &quot;opacity&quot;: 1.0, &quot;radius&quot;: 4.2, &quot;stroke&quot;: true, &quot;weight&quot;: 3}\n",
       "            ).addTo(map_1069fcd6c40af435130687f1a1a06cdc);\n",
       "        \n",
       "    \n",
       "        var popup_98c42c21a51272f2685a4fba930d9900 = L.popup({\n",
       "  &quot;maxWidth&quot;: 300,\n",
       "});\n",
       "\n",
       "        \n",
       "            \n",
       "                var html_ac5d7e32e4072a1ab580e53c4bc36fc0 = $(`&lt;div id=&quot;html_ac5d7e32e4072a1ab580e53c4bc36fc0&quot; style=&quot;width: 100.0%; height: 100.0%;&quot;&gt;&lt;b&gt;_OFF-Girardota - S.O.S Aburrá Norte&lt;/b&gt;&lt;br&gt;Media: 1.00&lt;br&gt;Categoría: Bueno&lt;br&gt;Válidos: 0.0%&lt;/div&gt;`)[0];\n",
       "                popup_98c42c21a51272f2685a4fba930d9900.setContent(html_ac5d7e32e4072a1ab580e53c4bc36fc0);\n",
       "            \n",
       "        \n",
       "\n",
       "        circle_marker_5ab2c7abd95b6a6f8c5ab6f6eceb9f79.bindPopup(popup_98c42c21a51272f2685a4fba930d9900)\n",
       "        ;\n",
       "\n",
       "        \n",
       "    \n",
       "    \n",
       "            var circle_marker_759af0022b4d638c0979276c5985f99e = L.circleMarker(\n",
       "                [6.2525611, -75.5695801],\n",
       "                {&quot;bubblingMouseEvents&quot;: true, &quot;color&quot;: &quot;green&quot;, &quot;dashArray&quot;: null, &quot;dashOffset&quot;: null, &quot;fill&quot;: true, &quot;fillColor&quot;: &quot;green&quot;, &quot;fillOpacity&quot;: 0.7, &quot;fillRule&quot;: &quot;evenodd&quot;, &quot;lineCap&quot;: &quot;round&quot;, &quot;lineJoin&quot;: &quot;round&quot;, &quot;opacity&quot;: 1.0, &quot;radius&quot;: 4.218402210136542, &quot;stroke&quot;: true, &quot;weight&quot;: 3}\n",
       "            ).addTo(map_1069fcd6c40af435130687f1a1a06cdc);\n",
       "        \n",
       "    \n",
       "        var popup_6edecfd82706eb7c036b3866ee6ebcea = L.popup({\n",
       "  &quot;maxWidth&quot;: 300,\n",
       "});\n",
       "\n",
       "        \n",
       "            \n",
       "                var html_e8f281bf324a55b666e69568b23b07cd = $(`&lt;div id=&quot;html_e8f281bf324a55b666e69568b23b07cd&quot; style=&quot;width: 100.0%; height: 100.0%;&quot;&gt;&lt;b&gt;Estación Tráfico Centro&lt;/b&gt;&lt;br&gt;Media: 1.09&lt;br&gt;Categoría: Bueno&lt;br&gt;Válidos: 98.6%&lt;/div&gt;`)[0];\n",
       "                popup_6edecfd82706eb7c036b3866ee6ebcea.setContent(html_e8f281bf324a55b666e69568b23b07cd);\n",
       "            \n",
       "        \n",
       "\n",
       "        circle_marker_759af0022b4d638c0979276c5985f99e.bindPopup(popup_6edecfd82706eb7c036b3866ee6ebcea)\n",
       "        ;\n",
       "\n",
       "        \n",
       "    \n",
       "    \n",
       "            var circle_marker_4befb36aea720ad8480167ec4406ee42 = L.circleMarker(\n",
       "                [6.2633696, -75.5770035],\n",
       "                {&quot;bubblingMouseEvents&quot;: true, &quot;color&quot;: &quot;gray&quot;, &quot;dashArray&quot;: null, &quot;dashOffset&quot;: null, &quot;fill&quot;: true, &quot;fillColor&quot;: &quot;gray&quot;, &quot;fillOpacity&quot;: 0.7, &quot;fillRule&quot;: &quot;evenodd&quot;, &quot;lineCap&quot;: &quot;round&quot;, &quot;lineJoin&quot;: &quot;round&quot;, &quot;opacity&quot;: 1.0, &quot;radius&quot;: 4, &quot;stroke&quot;: true, &quot;weight&quot;: 3}\n",
       "            ).addTo(map_1069fcd6c40af435130687f1a1a06cdc);\n",
       "        \n",
       "    \n",
       "        var popup_7150f50d75ac6c097706c6045d4b15c4 = L.popup({\n",
       "  &quot;maxWidth&quot;: 300,\n",
       "});\n",
       "\n",
       "        \n",
       "            \n",
       "                var html_a5ed634c969dfd3ca15d560f7f2ad653 = $(`&lt;div id=&quot;html_a5ed634c969dfd3ca15d560f7f2ad653&quot; style=&quot;width: 100.0%; height: 100.0%;&quot;&gt;&lt;b&gt;_OFF-Medellín,  centro occidente - Universidad Nacional, sede El Volador&lt;/b&gt;&lt;br&gt;Media: nan&lt;br&gt;Categoría: Sin datos&lt;br&gt;Válidos: 0.0%&lt;/div&gt;`)[0];\n",
       "                popup_7150f50d75ac6c097706c6045d4b15c4.setContent(html_a5ed634c969dfd3ca15d560f7f2ad653);\n",
       "            \n",
       "        \n",
       "\n",
       "        circle_marker_4befb36aea720ad8480167ec4406ee42.bindPopup(popup_7150f50d75ac6c097706c6045d4b15c4)\n",
       "        ;\n",
       "\n",
       "        \n",
       "    \n",
       "    \n",
       "            var circle_marker_0fc7e88136a3638d87c138a51305167e = L.circleMarker(\n",
       "                [6.1856666, -75.5972061],\n",
       "                {&quot;bubblingMouseEvents&quot;: true, &quot;color&quot;: &quot;green&quot;, &quot;dashArray&quot;: null, &quot;dashOffset&quot;: null, &quot;fill&quot;: true, &quot;fillColor&quot;: &quot;green&quot;, &quot;fillOpacity&quot;: 0.7, &quot;fillRule&quot;: &quot;evenodd&quot;, &quot;lineCap&quot;: &quot;round&quot;, &quot;lineJoin&quot;: &quot;round&quot;, &quot;opacity&quot;: 1.0, &quot;radius&quot;: 4.217817488789238, &quot;stroke&quot;: true, &quot;weight&quot;: 3}\n",
       "            ).addTo(map_1069fcd6c40af435130687f1a1a06cdc);\n",
       "        \n",
       "    \n",
       "        var popup_cb4ef3c8b241ce9b4c777744b08ce2db = L.popup({\n",
       "  &quot;maxWidth&quot;: 300,\n",
       "});\n",
       "\n",
       "        \n",
       "            \n",
       "                var html_8fd16be6e9a84c9a7caf69ebf85a9dd0 = $(`&lt;div id=&quot;html_8fd16be6e9a84c9a7caf69ebf85a9dd0&quot; style=&quot;width: 100.0%; height: 100.0%;&quot;&gt;&lt;b&gt;Itagüí - Casa de Justicia Itagüí&lt;/b&gt;&lt;br&gt;Media: 1.09&lt;br&gt;Categoría: Bueno&lt;br&gt;Válidos: 99.3%&lt;/div&gt;`)[0];\n",
       "                popup_cb4ef3c8b241ce9b4c777744b08ce2db.setContent(html_8fd16be6e9a84c9a7caf69ebf85a9dd0);\n",
       "            \n",
       "        \n",
       "\n",
       "        circle_marker_0fc7e88136a3638d87c138a51305167e.bindPopup(popup_cb4ef3c8b241ce9b4c777744b08ce2db)\n",
       "        ;\n",
       "\n",
       "        \n",
       "    \n",
       "    \n",
       "            var circle_marker_8b3ba3d88e02dc6bd02fc0944e8eafdc = L.circleMarker(\n",
       "                [6.0990806, -75.6386261],\n",
       "                {&quot;bubblingMouseEvents&quot;: true, &quot;color&quot;: &quot;green&quot;, &quot;dashArray&quot;: null, &quot;dashOffset&quot;: null, &quot;fill&quot;: true, &quot;fillColor&quot;: &quot;green&quot;, &quot;fillOpacity&quot;: 0.7, &quot;fillRule&quot;: &quot;evenodd&quot;, &quot;lineCap&quot;: &quot;round&quot;, &quot;lineJoin&quot;: &quot;round&quot;, &quot;opacity&quot;: 1.0, &quot;radius&quot;: 4.22084240142659, &quot;stroke&quot;: true, &quot;weight&quot;: 3}\n",
       "            ).addTo(map_1069fcd6c40af435130687f1a1a06cdc);\n",
       "        \n",
       "    \n",
       "        var popup_ce80dfd82dbcf4ee91298bbece11825a = L.popup({\n",
       "  &quot;maxWidth&quot;: 300,\n",
       "});\n",
       "\n",
       "        \n",
       "            \n",
       "                var html_c336763979f6ebf3b1151de3bf6b408d = $(`&lt;div id=&quot;html_c336763979f6ebf3b1151de3bf6b408d&quot; style=&quot;width: 100.0%; height: 100.0%;&quot;&gt;&lt;b&gt;_OFF-Caldas - Corporacion Universitaria Lasallista&lt;/b&gt;&lt;br&gt;Media: 1.10&lt;br&gt;Categoría: Bueno&lt;br&gt;Válidos: 57.6%&lt;/div&gt;`)[0];\n",
       "                popup_ce80dfd82dbcf4ee91298bbece11825a.setContent(html_c336763979f6ebf3b1151de3bf6b408d);\n",
       "            \n",
       "        \n",
       "\n",
       "        circle_marker_8b3ba3d88e02dc6bd02fc0944e8eafdc.bindPopup(popup_ce80dfd82dbcf4ee91298bbece11825a)\n",
       "        ;\n",
       "\n",
       "        \n",
       "    \n",
       "    \n",
       "            var circle_marker_6353a93c79aaef1509c7b63a16b79512 = L.circleMarker(\n",
       "                [6.1684971, -75.6443558],\n",
       "                {&quot;bubblingMouseEvents&quot;: true, &quot;color&quot;: &quot;green&quot;, &quot;dashArray&quot;: null, &quot;dashOffset&quot;: null, &quot;fill&quot;: true, &quot;fillColor&quot;: &quot;green&quot;, &quot;fillOpacity&quot;: 0.7, &quot;fillRule&quot;: &quot;evenodd&quot;, &quot;lineCap&quot;: &quot;round&quot;, &quot;lineJoin&quot;: &quot;round&quot;, &quot;opacity&quot;: 1.0, &quot;radius&quot;: 4.2176136164320335, &quot;stroke&quot;: true, &quot;weight&quot;: 3}\n",
       "            ).addTo(map_1069fcd6c40af435130687f1a1a06cdc);\n",
       "        \n",
       "    \n",
       "        var popup_5ac387308ff9c83148b763713dc6e7a8 = L.popup({\n",
       "  &quot;maxWidth&quot;: 300,\n",
       "});\n",
       "\n",
       "        \n",
       "            \n",
       "                var html_be1f089f8a0332f74b4bf8e43cd33bf9 = $(`&lt;div id=&quot;html_be1f089f8a0332f74b4bf8e43cd33bf9&quot; style=&quot;width: 100.0%; height: 100.0%;&quot;&gt;&lt;b&gt;Itagüí - I.E. Concejo Municipal de Itagüí&lt;/b&gt;&lt;br&gt;Media: 1.09&lt;br&gt;Categoría: Bueno&lt;br&gt;Válidos: 98.9%&lt;/div&gt;`)[0];\n",
       "                popup_5ac387308ff9c83148b763713dc6e7a8.setContent(html_be1f089f8a0332f74b4bf8e43cd33bf9);\n",
       "            \n",
       "        \n",
       "\n",
       "        circle_marker_6353a93c79aaef1509c7b63a16b79512.bindPopup(popup_5ac387308ff9c83148b763713dc6e7a8)\n",
       "        ;\n",
       "\n",
       "        \n",
       "    \n",
       "    \n",
       "            var circle_marker_83f7eda0f3577b00982790df4acb8c39 = L.circleMarker(\n",
       "                [6.1825418, -75.5506363],\n",
       "                {&quot;bubblingMouseEvents&quot;: true, &quot;color&quot;: &quot;green&quot;, &quot;dashArray&quot;: null, &quot;dashOffset&quot;: null, &quot;fill&quot;: true, &quot;fillColor&quot;: &quot;green&quot;, &quot;fillOpacity&quot;: 0.7, &quot;fillRule&quot;: &quot;evenodd&quot;, &quot;lineCap&quot;: &quot;round&quot;, &quot;lineJoin&quot;: &quot;round&quot;, &quot;opacity&quot;: 1.0, &quot;radius&quot;: 4.215216764065544, &quot;stroke&quot;: true, &quot;weight&quot;: 3}\n",
       "            ).addTo(map_1069fcd6c40af435130687f1a1a06cdc);\n",
       "        \n",
       "    \n",
       "        var popup_8bd8974a2739980b8bcd8fd502352881 = L.popup({\n",
       "  &quot;maxWidth&quot;: 300,\n",
       "});\n",
       "\n",
       "        \n",
       "            \n",
       "                var html_aaa5553ba0fc6764ae503e689dc8fd9a = $(`&lt;div id=&quot;html_aaa5553ba0fc6764ae503e689dc8fd9a&quot; style=&quot;width: 100.0%; height: 100.0%;&quot;&gt;&lt;b&gt;Medellín, El Poblado - Tanques La Ye EPM&lt;/b&gt;&lt;br&gt;Media: 1.08&lt;br&gt;Categoría: Bueno&lt;br&gt;Válidos: 99.6%&lt;/div&gt;`)[0];\n",
       "                popup_8bd8974a2739980b8bcd8fd502352881.setContent(html_aaa5553ba0fc6764ae503e689dc8fd9a);\n",
       "            \n",
       "        \n",
       "\n",
       "        circle_marker_83f7eda0f3577b00982790df4acb8c39.bindPopup(popup_8bd8974a2739980b8bcd8fd502352881)\n",
       "        ;\n",
       "\n",
       "        \n",
       "    \n",
       "    \n",
       "            var circle_marker_8220258bf8c7805b47a262f07df3a85d = L.circleMarker(\n",
       "                [6.1523128, -75.6274872],\n",
       "                {&quot;bubblingMouseEvents&quot;: true, &quot;color&quot;: &quot;green&quot;, &quot;dashArray&quot;: null, &quot;dashOffset&quot;: null, &quot;fill&quot;: true, &quot;fillColor&quot;: &quot;green&quot;, &quot;fillOpacity&quot;: 0.7, &quot;fillRule&quot;: &quot;evenodd&quot;, &quot;lineCap&quot;: &quot;round&quot;, &quot;lineJoin&quot;: &quot;round&quot;, &quot;opacity&quot;: 1.0, &quot;radius&quot;: 4.22885600420119, &quot;stroke&quot;: true, &quot;weight&quot;: 3}\n",
       "            ).addTo(map_1069fcd6c40af435130687f1a1a06cdc);\n",
       "        \n",
       "    \n",
       "        var popup_47aea71edc4f4f9e4a80863ae86aed38 = L.popup({\n",
       "  &quot;maxWidth&quot;: 300,\n",
       "});\n",
       "\n",
       "        \n",
       "            \n",
       "                var html_3a339b40ea05897010cfb1f036a4d971 = $(`&lt;div id=&quot;html_3a339b40ea05897010cfb1f036a4d971&quot; style=&quot;width: 100.0%; height: 100.0%;&quot;&gt;&lt;b&gt;Estación Tráfico Sur&lt;/b&gt;&lt;br&gt;Media: 1.14&lt;br&gt;Categoría: Bueno&lt;br&gt;Válidos: 97.8%&lt;/div&gt;`)[0];\n",
       "                popup_47aea71edc4f4f9e4a80863ae86aed38.setContent(html_3a339b40ea05897010cfb1f036a4d971);\n",
       "            \n",
       "        \n",
       "\n",
       "        circle_marker_8220258bf8c7805b47a262f07df3a85d.bindPopup(popup_47aea71edc4f4f9e4a80863ae86aed38)\n",
       "        ;\n",
       "\n",
       "        \n",
       "    \n",
       "    \n",
       "            var circle_marker_9365c6d6ff95b45f9bf04d0e13002dd8 = L.circleMarker(\n",
       "                [6.0930777, -75.637764],\n",
       "                {&quot;bubblingMouseEvents&quot;: true, &quot;color&quot;: &quot;green&quot;, &quot;dashArray&quot;: null, &quot;dashOffset&quot;: null, &quot;fill&quot;: true, &quot;fillColor&quot;: &quot;green&quot;, &quot;fillOpacity&quot;: 0.7, &quot;fillRule&quot;: &quot;evenodd&quot;, &quot;lineCap&quot;: &quot;round&quot;, &quot;lineJoin&quot;: &quot;round&quot;, &quot;opacity&quot;: 1.0, &quot;radius&quot;: 4.217949760486038, &quot;stroke&quot;: true, &quot;weight&quot;: 3}\n",
       "            ).addTo(map_1069fcd6c40af435130687f1a1a06cdc);\n",
       "        \n",
       "    \n",
       "        var popup_aa8697a611765dab3eb06b84686a9108 = L.popup({\n",
       "  &quot;maxWidth&quot;: 300,\n",
       "});\n",
       "\n",
       "        \n",
       "            \n",
       "                var html_82fa4f4dc70f466d186a5f712594178c = $(`&lt;div id=&quot;html_82fa4f4dc70f466d186a5f712594178c&quot; style=&quot;width: 100.0%; height: 100.0%;&quot;&gt;&lt;b&gt;Caldas - E U Joaquín Aristizabal&lt;/b&gt;&lt;br&gt;Media: 1.09&lt;br&gt;Categoría: Bueno&lt;br&gt;Válidos: 97.7%&lt;/div&gt;`)[0];\n",
       "                popup_aa8697a611765dab3eb06b84686a9108.setContent(html_82fa4f4dc70f466d186a5f712594178c);\n",
       "            \n",
       "        \n",
       "\n",
       "        circle_marker_9365c6d6ff95b45f9bf04d0e13002dd8.bindPopup(popup_aa8697a611765dab3eb06b84686a9108)\n",
       "        ;\n",
       "\n",
       "        \n",
       "    \n",
       "    \n",
       "            var circle_marker_8d6d09c6abae8b3514349c8ac9371fa8 = L.circleMarker(\n",
       "                [6.1555305, -75.6441727],\n",
       "                {&quot;bubblingMouseEvents&quot;: true, &quot;color&quot;: &quot;green&quot;, &quot;dashArray&quot;: null, &quot;dashOffset&quot;: null, &quot;fill&quot;: true, &quot;fillColor&quot;: &quot;green&quot;, &quot;fillOpacity&quot;: 0.7, &quot;fillRule&quot;: &quot;evenodd&quot;, &quot;lineCap&quot;: &quot;round&quot;, &quot;lineJoin&quot;: &quot;round&quot;, &quot;opacity&quot;: 1.0, &quot;radius&quot;: 4.215722673198041, &quot;stroke&quot;: true, &quot;weight&quot;: 3}\n",
       "            ).addTo(map_1069fcd6c40af435130687f1a1a06cdc);\n",
       "        \n",
       "    \n",
       "        var popup_a3e3885c4300f30ad31764593b7a62e5 = L.popup({\n",
       "  &quot;maxWidth&quot;: 300,\n",
       "});\n",
       "\n",
       "        \n",
       "            \n",
       "                var html_ae98f1ba4d7878aa4ca0323c0963d693 = $(`&lt;div id=&quot;html_ae98f1ba4d7878aa4ca0323c0963d693&quot; style=&quot;width: 100.0%; height: 100.0%;&quot;&gt;&lt;b&gt;La Estrella - Hospital&lt;/b&gt;&lt;br&gt;Media: 1.08&lt;br&gt;Categoría: Bueno&lt;br&gt;Válidos: 97.9%&lt;/div&gt;`)[0];\n",
       "                popup_a3e3885c4300f30ad31764593b7a62e5.setContent(html_ae98f1ba4d7878aa4ca0323c0963d693);\n",
       "            \n",
       "        \n",
       "\n",
       "        circle_marker_8d6d09c6abae8b3514349c8ac9371fa8.bindPopup(popup_a3e3885c4300f30ad31764593b7a62e5)\n",
       "        ;\n",
       "\n",
       "        \n",
       "    \n",
       "    \n",
       "            var circle_marker_c79d5a0df98cf4b33ab0e94f533117fa = L.circleMarker(\n",
       "                [6.2218938, -75.6106033],\n",
       "                {&quot;bubblingMouseEvents&quot;: true, &quot;color&quot;: &quot;green&quot;, &quot;dashArray&quot;: null, &quot;dashOffset&quot;: null, &quot;fill&quot;: true, &quot;fillColor&quot;: &quot;green&quot;, &quot;fillOpacity&quot;: 0.7, &quot;fillRule&quot;: &quot;evenodd&quot;, &quot;lineCap&quot;: &quot;round&quot;, &quot;lineJoin&quot;: &quot;round&quot;, &quot;opacity&quot;: 1.0, &quot;radius&quot;: 4.219129173382455, &quot;stroke&quot;: true, &quot;weight&quot;: 3}\n",
       "            ).addTo(map_1069fcd6c40af435130687f1a1a06cdc);\n",
       "        \n",
       "    \n",
       "        var popup_710a4312bc76f3d4b6966178eaddefcb = L.popup({\n",
       "  &quot;maxWidth&quot;: 300,\n",
       "});\n",
       "\n",
       "        \n",
       "            \n",
       "                var html_b0855caca715775866f5ba5fed0d1195 = $(`&lt;div id=&quot;html_b0855caca715775866f5ba5fed0d1195&quot; style=&quot;width: 100.0%; height: 100.0%;&quot;&gt;&lt;b&gt;Medellín, Altavista - I.E. Pedro Octavio Amado&lt;/b&gt;&lt;br&gt;Media: 1.10&lt;br&gt;Categoría: Bueno&lt;br&gt;Válidos: 99.1%&lt;/div&gt;`)[0];\n",
       "                popup_710a4312bc76f3d4b6966178eaddefcb.setContent(html_b0855caca715775866f5ba5fed0d1195);\n",
       "            \n",
       "        \n",
       "\n",
       "        circle_marker_c79d5a0df98cf4b33ab0e94f533117fa.bindPopup(popup_710a4312bc76f3d4b6966178eaddefcb)\n",
       "        ;\n",
       "\n",
       "        \n",
       "    \n",
       "    \n",
       "            var circle_marker_fd19cb6d0a7e827c02a3db226093cb8e = L.circleMarker(\n",
       "                [6.2589092, -75.5482635],\n",
       "                {&quot;bubblingMouseEvents&quot;: true, &quot;color&quot;: &quot;green&quot;, &quot;dashArray&quot;: null, &quot;dashOffset&quot;: null, &quot;fill&quot;: true, &quot;fillColor&quot;: &quot;green&quot;, &quot;fillOpacity&quot;: 0.7, &quot;fillRule&quot;: &quot;evenodd&quot;, &quot;lineCap&quot;: &quot;round&quot;, &quot;lineJoin&quot;: &quot;round&quot;, &quot;opacity&quot;: 1.0, &quot;radius&quot;: 4.220438990825688, &quot;stroke&quot;: true, &quot;weight&quot;: 3}\n",
       "            ).addTo(map_1069fcd6c40af435130687f1a1a06cdc);\n",
       "        \n",
       "    \n",
       "        var popup_0ece765a8847f71f19819149dd64b49f = L.popup({\n",
       "  &quot;maxWidth&quot;: 300,\n",
       "});\n",
       "\n",
       "        \n",
       "            \n",
       "                var html_55499e291bc5c9e1cf0421c1e0fd3b42 = $(`&lt;div id=&quot;html_55499e291bc5c9e1cf0421c1e0fd3b42&quot; style=&quot;width: 100.0%; height: 100.0%;&quot;&gt;&lt;b&gt;Medellín, Villahermosa - Planta de producción de agua potable EPM&lt;/b&gt;&lt;br&gt;Media: 1.10&lt;br&gt;Categoría: Bueno&lt;br&gt;Válidos: 99.5%&lt;/div&gt;`)[0];\n",
       "                popup_0ece765a8847f71f19819149dd64b49f.setContent(html_55499e291bc5c9e1cf0421c1e0fd3b42);\n",
       "            \n",
       "        \n",
       "\n",
       "        circle_marker_fd19cb6d0a7e827c02a3db226093cb8e.bindPopup(popup_0ece765a8847f71f19819149dd64b49f)\n",
       "        ;\n",
       "\n",
       "        \n",
       "    \n",
       "    \n",
       "            var circle_marker_8a4ca8ddf6f0f98d9f29bead090bdc27 = L.circleMarker(\n",
       "                [6.4369602, -75.3303986],\n",
       "                {&quot;bubblingMouseEvents&quot;: true, &quot;color&quot;: &quot;green&quot;, &quot;dashArray&quot;: null, &quot;dashOffset&quot;: null, &quot;fill&quot;: true, &quot;fillColor&quot;: &quot;green&quot;, &quot;fillOpacity&quot;: 0.7, &quot;fillRule&quot;: &quot;evenodd&quot;, &quot;lineCap&quot;: &quot;round&quot;, &quot;lineJoin&quot;: &quot;round&quot;, &quot;opacity&quot;: 1.0, &quot;radius&quot;: 4.233344787555143, &quot;stroke&quot;: true, &quot;weight&quot;: 3}\n",
       "            ).addTo(map_1069fcd6c40af435130687f1a1a06cdc);\n",
       "        \n",
       "    \n",
       "        var popup_0a02c9cae5e67d58452c0eb9496f01c9 = L.popup({\n",
       "  &quot;maxWidth&quot;: 300,\n",
       "});\n",
       "\n",
       "        \n",
       "            \n",
       "                var html_46fdf7d2e7203e2a67d1fe7d8cf7750f = $(`&lt;div id=&quot;html_46fdf7d2e7203e2a67d1fe7d8cf7750f&quot; style=&quot;width: 100.0%; height: 100.0%;&quot;&gt;&lt;b&gt;Barbosa - Torre Social&lt;/b&gt;&lt;br&gt;Media: 1.17&lt;br&gt;Categoría: Bueno&lt;br&gt;Válidos: 98.3%&lt;/div&gt;`)[0];\n",
       "                popup_0a02c9cae5e67d58452c0eb9496f01c9.setContent(html_46fdf7d2e7203e2a67d1fe7d8cf7750f);\n",
       "            \n",
       "        \n",
       "\n",
       "        circle_marker_8a4ca8ddf6f0f98d9f29bead090bdc27.bindPopup(popup_0a02c9cae5e67d58452c0eb9496f01c9)\n",
       "        ;\n",
       "\n",
       "        \n",
       "    \n",
       "    \n",
       "            var circle_marker_e5dab3f5bac8caddb40e7b53a6a3ec9e = L.circleMarker(\n",
       "                [6.3453598, -75.5047531],\n",
       "                {&quot;bubblingMouseEvents&quot;: true, &quot;color&quot;: &quot;green&quot;, &quot;dashArray&quot;: null, &quot;dashOffset&quot;: null, &quot;fill&quot;: true, &quot;fillColor&quot;: &quot;green&quot;, &quot;fillOpacity&quot;: 0.7, &quot;fillRule&quot;: &quot;evenodd&quot;, &quot;lineCap&quot;: &quot;round&quot;, &quot;lineJoin&quot;: &quot;round&quot;, &quot;opacity&quot;: 1.0, &quot;radius&quot;: 4.216712467026035, &quot;stroke&quot;: true, &quot;weight&quot;: 3}\n",
       "            ).addTo(map_1069fcd6c40af435130687f1a1a06cdc);\n",
       "        \n",
       "    \n",
       "        var popup_a58b826f619f4b9a76b5e70432515c25 = L.popup({\n",
       "  &quot;maxWidth&quot;: 300,\n",
       "});\n",
       "\n",
       "        \n",
       "            \n",
       "                var html_567f322fe472e6b591299bf495d34953 = $(`&lt;div id=&quot;html_567f322fe472e6b591299bf495d34953&quot; style=&quot;width: 100.0%; height: 100.0%;&quot;&gt;&lt;b&gt;Copacabana - Ciudadela Educativa La Vida&lt;/b&gt;&lt;br&gt;Media: 1.08&lt;br&gt;Categoría: Bueno&lt;br&gt;Válidos: 99.5%&lt;/div&gt;`)[0];\n",
       "                popup_a58b826f619f4b9a76b5e70432515c25.setContent(html_567f322fe472e6b591299bf495d34953);\n",
       "            \n",
       "        \n",
       "\n",
       "        circle_marker_e5dab3f5bac8caddb40e7b53a6a3ec9e.bindPopup(popup_a58b826f619f4b9a76b5e70432515c25)\n",
       "        ;\n",
       "\n",
       "        \n",
       "    \n",
       "    \n",
       "            var circle_marker_635b162de1b2894e5bc2380db194aaaa = L.circleMarker(\n",
       "                [6.2372341, -75.610466],\n",
       "                {&quot;bubblingMouseEvents&quot;: true, &quot;color&quot;: &quot;green&quot;, &quot;dashArray&quot;: null, &quot;dashOffset&quot;: null, &quot;fill&quot;: true, &quot;fillColor&quot;: &quot;green&quot;, &quot;fillOpacity&quot;: 0.7, &quot;fillRule&quot;: &quot;evenodd&quot;, &quot;lineCap&quot;: &quot;round&quot;, &quot;lineJoin&quot;: &quot;round&quot;, &quot;opacity&quot;: 1.0, &quot;radius&quot;: 4.217014856616377, &quot;stroke&quot;: true, &quot;weight&quot;: 3}\n",
       "            ).addTo(map_1069fcd6c40af435130687f1a1a06cdc);\n",
       "        \n",
       "    \n",
       "        var popup_e50bad78e016893ed65184d56f1042b2 = L.popup({\n",
       "  &quot;maxWidth&quot;: 300,\n",
       "});\n",
       "\n",
       "        \n",
       "            \n",
       "                var html_800d905b05af01436964a83fbd91d6c2 = $(`&lt;div id=&quot;html_800d905b05af01436964a83fbd91d6c2&quot; style=&quot;width: 100.0%; height: 100.0%;&quot;&gt;&lt;b&gt;Medellin, Belén - I.E Pedro Justo Berrio&lt;/b&gt;&lt;br&gt;Media: 1.09&lt;br&gt;Categoría: Bueno&lt;br&gt;Válidos: 99.1%&lt;/div&gt;`)[0];\n",
       "                popup_e50bad78e016893ed65184d56f1042b2.setContent(html_800d905b05af01436964a83fbd91d6c2);\n",
       "            \n",
       "        \n",
       "\n",
       "        circle_marker_635b162de1b2894e5bc2380db194aaaa.bindPopup(popup_e50bad78e016893ed65184d56f1042b2)\n",
       "        ;\n",
       "\n",
       "        \n",
       "    \n",
       "    \n",
       "            var circle_marker_81f49f9bcd84e78b2dbd638f7a33daec = L.circleMarker(\n",
       "                [6.1998701, -75.5609512],\n",
       "                {&quot;bubblingMouseEvents&quot;: true, &quot;color&quot;: &quot;green&quot;, &quot;dashArray&quot;: null, &quot;dashOffset&quot;: null, &quot;fill&quot;: true, &quot;fillColor&quot;: &quot;green&quot;, &quot;fillOpacity&quot;: 0.7, &quot;fillRule&quot;: &quot;evenodd&quot;, &quot;lineCap&quot;: &quot;round&quot;, &quot;lineJoin&quot;: &quot;round&quot;, &quot;opacity&quot;: 1.0, &quot;radius&quot;: 4.215950594482281, &quot;stroke&quot;: true, &quot;weight&quot;: 3}\n",
       "            ).addTo(map_1069fcd6c40af435130687f1a1a06cdc);\n",
       "        \n",
       "    \n",
       "        var popup_0914623f82354611972938ce474f69ce = L.popup({\n",
       "  &quot;maxWidth&quot;: 300,\n",
       "});\n",
       "\n",
       "        \n",
       "            \n",
       "                var html_0763814805c379639ce99b3e0615ee70 = $(`&lt;div id=&quot;html_0763814805c379639ce99b3e0615ee70&quot; style=&quot;width: 100.0%; height: 100.0%;&quot;&gt;&lt;b&gt;Medellín, El Poblado - I.E INEM sede Santa Catalina&lt;/b&gt;&lt;br&gt;Media: 1.08&lt;br&gt;Categoría: Bueno&lt;br&gt;Válidos: 98.9%&lt;/div&gt;`)[0];\n",
       "                popup_0914623f82354611972938ce474f69ce.setContent(html_0763814805c379639ce99b3e0615ee70);\n",
       "            \n",
       "        \n",
       "\n",
       "        circle_marker_81f49f9bcd84e78b2dbd638f7a33daec.bindPopup(popup_0914623f82354611972938ce474f69ce)\n",
       "        ;\n",
       "\n",
       "        \n",
       "    \n",
       "    \n",
       "            var circle_marker_48a25d577f49d52307326d8cc63224cf = L.circleMarker(\n",
       "                [6.2778502, -75.6364288],\n",
       "                {&quot;bubblingMouseEvents&quot;: true, &quot;color&quot;: &quot;green&quot;, &quot;dashArray&quot;: null, &quot;dashOffset&quot;: null, &quot;fill&quot;: true, &quot;fillColor&quot;: &quot;green&quot;, &quot;fillOpacity&quot;: 0.7, &quot;fillRule&quot;: &quot;evenodd&quot;, &quot;lineCap&quot;: &quot;round&quot;, &quot;lineJoin&quot;: &quot;round&quot;, &quot;opacity&quot;: 1.0, &quot;radius&quot;: 4.225470601905648, &quot;stroke&quot;: true, &quot;weight&quot;: 3}\n",
       "            ).addTo(map_1069fcd6c40af435130687f1a1a06cdc);\n",
       "        \n",
       "    \n",
       "        var popup_8888773cbd9047a50c4af0758c5c59ab = L.popup({\n",
       "  &quot;maxWidth&quot;: 300,\n",
       "});\n",
       "\n",
       "        \n",
       "            \n",
       "                var html_247033a136f0db1b0016a6b50491dafe = $(`&lt;div id=&quot;html_247033a136f0db1b0016a6b50491dafe&quot; style=&quot;width: 100.0%; height: 100.0%;&quot;&gt;&lt;b&gt;Medellín, San Cristobal - Parque Biblioteca Fernando Botero&lt;/b&gt;&lt;br&gt;Media: 1.13&lt;br&gt;Categoría: Bueno&lt;br&gt;Válidos: 98.2%&lt;/div&gt;`)[0];\n",
       "                popup_8888773cbd9047a50c4af0758c5c59ab.setContent(html_247033a136f0db1b0016a6b50491dafe);\n",
       "            \n",
       "        \n",
       "\n",
       "        circle_marker_48a25d577f49d52307326d8cc63224cf.bindPopup(popup_8888773cbd9047a50c4af0758c5c59ab)\n",
       "        ;\n",
       "\n",
       "        \n",
       "    \n",
       "    \n",
       "            var circle_marker_5ee21ae3321c5f0cfc4809d9dc2c04a5 = L.circleMarker(\n",
       "                [6.2904806, -75.5555191],\n",
       "                {&quot;bubblingMouseEvents&quot;: true, &quot;color&quot;: &quot;green&quot;, &quot;dashArray&quot;: null, &quot;dashOffset&quot;: null, &quot;fill&quot;: true, &quot;fillColor&quot;: &quot;green&quot;, &quot;fillOpacity&quot;: 0.7, &quot;fillRule&quot;: &quot;evenodd&quot;, &quot;lineCap&quot;: &quot;round&quot;, &quot;lineJoin&quot;: &quot;round&quot;, &quot;opacity&quot;: 1.0, &quot;radius&quot;: 4.212408782618692, &quot;stroke&quot;: true, &quot;weight&quot;: 3}\n",
       "            ).addTo(map_1069fcd6c40af435130687f1a1a06cdc);\n",
       "        \n",
       "    \n",
       "        var popup_7336f9ff981c1f0a53348021bc160c0f = L.popup({\n",
       "  &quot;maxWidth&quot;: 300,\n",
       "});\n",
       "\n",
       "        \n",
       "            \n",
       "                var html_8abba497a60df45c47e7acfabe40314a = $(`&lt;div id=&quot;html_8abba497a60df45c47e7acfabe40314a&quot; style=&quot;width: 100.0%; height: 100.0%;&quot;&gt;&lt;b&gt;Medellín, Aranjuez - I.E Ciro Mendia&lt;/b&gt;&lt;br&gt;Media: 1.06&lt;br&gt;Categoría: Bueno&lt;br&gt;Válidos: 99.3%&lt;/div&gt;`)[0];\n",
       "                popup_7336f9ff981c1f0a53348021bc160c0f.setContent(html_8abba497a60df45c47e7acfabe40314a);\n",
       "            \n",
       "        \n",
       "\n",
       "        circle_marker_5ee21ae3321c5f0cfc4809d9dc2c04a5.bindPopup(popup_7336f9ff981c1f0a53348021bc160c0f)\n",
       "        ;\n",
       "\n",
       "        \n",
       "    \n",
       "    \n",
       "            var circle_marker_dcb4608eeb25af4c0a1b4ea31c9f3944 = L.circleMarker(\n",
       "                [6.3375502, -75.5678024],\n",
       "                {&quot;bubblingMouseEvents&quot;: true, &quot;color&quot;: &quot;green&quot;, &quot;dashArray&quot;: null, &quot;dashOffset&quot;: null, &quot;fill&quot;: true, &quot;fillColor&quot;: &quot;green&quot;, &quot;fillOpacity&quot;: 0.7, &quot;fillRule&quot;: &quot;evenodd&quot;, &quot;lineCap&quot;: &quot;round&quot;, &quot;lineJoin&quot;: &quot;round&quot;, &quot;opacity&quot;: 1.0, &quot;radius&quot;: 4.2176790692316555, &quot;stroke&quot;: true, &quot;weight&quot;: 3}\n",
       "            ).addTo(map_1069fcd6c40af435130687f1a1a06cdc);\n",
       "        \n",
       "    \n",
       "        var popup_e923c1b34c9812df10b79cf6047489a7 = L.popup({\n",
       "  &quot;maxWidth&quot;: 300,\n",
       "});\n",
       "\n",
       "        \n",
       "            \n",
       "                var html_ab826f20d60d9a8455057cadcc3e8012 = $(`&lt;div id=&quot;html_ab826f20d60d9a8455057cadcc3e8012&quot; style=&quot;width: 100.0%; height: 100.0%;&quot;&gt;&lt;b&gt;Bello - I.E. Fernando Vélez&lt;/b&gt;&lt;br&gt;Media: 1.09&lt;br&gt;Categoría: Bueno&lt;br&gt;Válidos: 99.1%&lt;/div&gt;`)[0];\n",
       "                popup_e923c1b34c9812df10b79cf6047489a7.setContent(html_ab826f20d60d9a8455057cadcc3e8012);\n",
       "            \n",
       "        \n",
       "\n",
       "        circle_marker_dcb4608eeb25af4c0a1b4ea31c9f3944.bindPopup(popup_e923c1b34c9812df10b79cf6047489a7)\n",
       "        ;\n",
       "\n",
       "        \n",
       "    \n",
       "    \n",
       "            var circle_marker_9b3f7bcb54a82cad442a9ca217d299b8 = L.circleMarker(\n",
       "                [6.1686831, -75.5819702],\n",
       "                {&quot;bubblingMouseEvents&quot;: true, &quot;color&quot;: &quot;green&quot;, &quot;dashArray&quot;: null, &quot;dashOffset&quot;: null, &quot;fill&quot;: true, &quot;fillColor&quot;: &quot;green&quot;, &quot;fillOpacity&quot;: 0.7, &quot;fillRule&quot;: &quot;evenodd&quot;, &quot;lineCap&quot;: &quot;round&quot;, &quot;lineJoin&quot;: &quot;round&quot;, &quot;opacity&quot;: 1.0, &quot;radius&quot;: 4.216279903481558, &quot;stroke&quot;: true, &quot;weight&quot;: 3}\n",
       "            ).addTo(map_1069fcd6c40af435130687f1a1a06cdc);\n",
       "        \n",
       "    \n",
       "        var popup_c9050006275898e70e1b242de6f6d00b = L.popup({\n",
       "  &quot;maxWidth&quot;: 300,\n",
       "});\n",
       "\n",
       "        \n",
       "            \n",
       "                var html_dfc7a4690b7490404ff5ece04a90e2d0 = $(`&lt;div id=&quot;html_dfc7a4690b7490404ff5ece04a90e2d0&quot; style=&quot;width: 100.0%; height: 100.0%;&quot;&gt;&lt;b&gt;Envigado - E.S.E. Santa Gertrudis&lt;/b&gt;&lt;br&gt;Media: 1.08&lt;br&gt;Categoría: Bueno&lt;br&gt;Válidos: 99.3%&lt;/div&gt;`)[0];\n",
       "                popup_c9050006275898e70e1b242de6f6d00b.setContent(html_dfc7a4690b7490404ff5ece04a90e2d0);\n",
       "            \n",
       "        \n",
       "\n",
       "        circle_marker_9b3f7bcb54a82cad442a9ca217d299b8.bindPopup(popup_c9050006275898e70e1b242de6f6d00b)\n",
       "        ;\n",
       "\n",
       "        \n",
       "    \n",
       "    \n",
       "            var circle_marker_68ffec0629f7998b31a5cbcfe3a0b2e3 = L.circleMarker(\n",
       "                [6.1455002, -75.6212616],\n",
       "                {&quot;bubblingMouseEvents&quot;: true, &quot;color&quot;: &quot;green&quot;, &quot;dashArray&quot;: null, &quot;dashOffset&quot;: null, &quot;fill&quot;: true, &quot;fillColor&quot;: &quot;green&quot;, &quot;fillOpacity&quot;: 0.7, &quot;fillRule&quot;: &quot;evenodd&quot;, &quot;lineCap&quot;: &quot;round&quot;, &quot;lineJoin&quot;: &quot;round&quot;, &quot;opacity&quot;: 1.0, &quot;radius&quot;: 4.222673313239045, &quot;stroke&quot;: true, &quot;weight&quot;: 3}\n",
       "            ).addTo(map_1069fcd6c40af435130687f1a1a06cdc);\n",
       "        \n",
       "    \n",
       "        var popup_ae179f681eb8e2ae6666c54e59dd5c2c = L.popup({\n",
       "  &quot;maxWidth&quot;: 300,\n",
       "});\n",
       "\n",
       "        \n",
       "            \n",
       "                var html_030378946ee1f40f80d87984a776b859 = $(`&lt;div id=&quot;html_030378946ee1f40f80d87984a776b859&quot; style=&quot;width: 100.0%; height: 100.0%;&quot;&gt;&lt;b&gt;Sabaneta - I.E. Rafael J. Mejía&lt;/b&gt;&lt;br&gt;Media: 1.11&lt;br&gt;Categoría: Bueno&lt;br&gt;Válidos: 98.5%&lt;/div&gt;`)[0];\n",
       "                popup_ae179f681eb8e2ae6666c54e59dd5c2c.setContent(html_030378946ee1f40f80d87984a776b859);\n",
       "            \n",
       "        \n",
       "\n",
       "        circle_marker_68ffec0629f7998b31a5cbcfe3a0b2e3.bindPopup(popup_ae179f681eb8e2ae6666c54e59dd5c2c)\n",
       "        ;\n",
       "\n",
       "        \n",
       "    \n",
       "&lt;/script&gt;\n",
       "&lt;/html&gt;\" style=\"position:absolute;width:100%;height:100%;left:0;top:0;border:none !important;\" allowfullscreen webkitallowfullscreen mozallowfullscreen></iframe></div></div>"
      ],
      "text/plain": [
       "<folium.folium.Map at 0x2bed888d4e0>"
      ]
     },
     "execution_count": 7,
     "metadata": {},
     "output_type": "execute_result"
    }
   ],
   "source": [
    "# mapa por estacion según concentracion de la partícula\n",
    "\n",
    "media_estaciones = df.groupby(['codigoSerial', 'nombre', 'latitud', 'longitud'])['valor'].mean().reset_index()\n",
    "\n",
    "# Porcentaje de datos válidos por estación\n",
    "validos_por_estacion = df.groupby('codigoSerial')['valor'].apply(lambda x: x.notna().mean() * 100)\n",
    "media_estaciones['porcentaje_validos'] = media_estaciones['codigoSerial'].map(validos_por_estacion)\n",
    "\n",
    "# Clasificación de color según niveles de concentración promedio\n",
    "def clasificar_calidad_aire(valor, contaminante):\n",
    "    if pd.isna(valor):\n",
    "        return \"Sin datos\"\n",
    "    \n",
    "    contaminante = contaminante.lower()\n",
    "    \n",
    "    if contaminante == 'pm25':\n",
    "        if valor <= 12:\n",
    "            return \"Bueno\"\n",
    "        elif valor <= 35.4:\n",
    "            return \"Aceptable\"\n",
    "        elif valor <= 55.4:\n",
    "            return \"No saludable sensibles\"\n",
    "        elif valor <= 150.4:\n",
    "            return \"No saludable\"\n",
    "        elif valor <= 250.4:\n",
    "            return \"Muy no saludable\"\n",
    "        else:\n",
    "            return \"Peligroso\"\n",
    "\n",
    "    elif contaminante == 'pm10':\n",
    "        if valor <= 54:\n",
    "            return \"Bueno\"\n",
    "        elif valor <= 154:\n",
    "            return \"Aceptable\"\n",
    "        elif valor <= 254:\n",
    "            return \"No saludable sensibles\"\n",
    "        elif valor <= 354:\n",
    "            return \"No saludable\"\n",
    "        elif valor <= 424:\n",
    "            return \"Muy no saludable\"\n",
    "        else:\n",
    "            return \"Peligroso\"\n",
    "\n",
    "    elif contaminante == 'co':\n",
    "        if valor <= 4.4:\n",
    "            return \"Bueno\"\n",
    "        elif valor <= 9.4:\n",
    "            return \"Aceptable\"\n",
    "        elif valor <= 12.4:\n",
    "            return \"No saludable sensibles\"\n",
    "        elif valor <= 15.4:\n",
    "            return \"No saludable\"\n",
    "        elif valor <= 30.4:\n",
    "            return \"Muy no saludable\"\n",
    "        else:\n",
    "            return \"Peligroso\"\n",
    "\n",
    "    elif contaminante == 'ozono':\n",
    "        if valor <= 0.054:\n",
    "            return \"Bueno\"\n",
    "        elif valor <= 0.070:\n",
    "            return \"Aceptable\"\n",
    "        elif valor <= 0.085:\n",
    "            return \"No saludable sensibles\"\n",
    "        elif valor <= 0.105:\n",
    "            return \"No saludable\"\n",
    "        elif valor <= 0.200:\n",
    "            return \"Muy no saludable\"\n",
    "        else:\n",
    "            return \"Peligroso\"\n",
    "\n",
    "    elif contaminante == 'no2':\n",
    "        if valor <= 0.053:\n",
    "            return \"Bueno\"\n",
    "        elif valor <= 0.100:\n",
    "            return \"Aceptable\"\n",
    "        elif valor <= 0.360:\n",
    "            return \"No saludable sensibles\"\n",
    "        elif valor <= 0.649:\n",
    "            return \"No saludable\"\n",
    "        elif valor <= 1.249:\n",
    "            return \"Muy no saludable\"\n",
    "        else:\n",
    "            return \"Peligroso\"\n",
    "\n",
    "    elif contaminante == 'so2':\n",
    "        if valor <= 0.035:\n",
    "            return \"Bueno\"\n",
    "        elif valor <= 0.075:\n",
    "            return \"Aceptable\"\n",
    "        elif valor <= 0.185:\n",
    "            return \"No saludable sensibles\"\n",
    "        elif valor <= 0.304:\n",
    "            return \"No saludable\"\n",
    "        elif valor <= 0.604:\n",
    "            return \"Muy no saludable\"\n",
    "        else:\n",
    "            return \"Peligroso\"\n",
    "\n",
    "    elif contaminante == 'no' or contaminante == 'pm1':\n",
    "        return \"Sin estándar oficial\"\n",
    "\n",
    "    else:\n",
    "        return \"Contaminante desconocido\"\n",
    "    \n",
    "def color_por_categoria(categoria):\n",
    "    colores = {\n",
    "        \"Bueno\": \"green\",\n",
    "        \"Aceptable\": \"yellow\",\n",
    "        \"No saludable sensibles\": \"orange\",\n",
    "        \"No saludable\": \"red\",\n",
    "        \"Muy no saludable\": \"purple\",\n",
    "        \"Peligroso\": \"maroon\",\n",
    "        \"Sin datos\": \"gray\",\n",
    "        \"Sin estándar oficial\": \"blue\",\n",
    "        \"Contaminante desconocido\": \"black\"\n",
    "    }\n",
    "    return colores.get(categoria, \"black\")\n",
    "\n",
    "\n",
    "# Crear mapa\n",
    "mapa = folium.Map(location=[6.25, -75.6], zoom_start=11)\n",
    "\n",
    "for _, row in media_estaciones.iterrows():\n",
    "    categoria = clasificar_calidad_aire(row['valor'], contaminante_unico) \n",
    "    color = color_por_categoria(categoria)\n",
    "    radio = 4 + (row['valor'] / 5) if not pd.isna(row['valor']) else 4\n",
    "    folium.CircleMarker(\n",
    "        location=[row['latitud'], row['longitud']],\n",
    "        radius=radio,\n",
    "        popup=folium.Popup(\n",
    "            f\"<b>{row['nombre']}</b><br>\"\n",
    "            f\"Media: {row['valor']:.2f}<br>\"\n",
    "            f\"Categoría: {categoria}<br>\"\n",
    "            f\"Válidos: {row['porcentaje_validos']:.1f}%\",\n",
    "            max_width=300\n",
    "        ),\n",
    "        color=color,\n",
    "        fill=True,\n",
    "        fill_color=color,\n",
    "        fill_opacity=0.7\n",
    "    ).add_to(mapa)\n",
    "\n",
    "# Mostrar mapa en notebook\n",
    "mapa"
   ]
  },
  {
   "cell_type": "code",
   "execution_count": 8,
   "id": "d0b67bda",
   "metadata": {},
   "outputs": [],
   "source": [
    "df['dia_semana'] = df['fecha'].dt.weekday  # Lunes=0, Domingo=6\n",
    "df['es_fin_semana'] = df['dia_semana'] >= 5"
   ]
  },
  {
   "cell_type": "code",
   "execution_count": 9,
   "id": "a18bf566",
   "metadata": {},
   "outputs": [],
   "source": [
    "eventos_especiales = {\n",
    "    '2021-12-24': 'Navidad',\n",
    "    '2021-12-31': 'Año Nuevo',\n",
    "    '2022-01-06': 'Día de Reyes',\n",
    "    '2022-04-10': 'Semana Santa',\n",
    "    '2022-04-15': 'Semana Santa',\n",
    "    '2022-07-20': 'Independencia',\n",
    "    '2022-08-07': 'Feria de las Flores',\n",
    "    '2022-08-08': 'Feria de las Flores',\n",
    "    '2022-09-22': 'Día sin carro',\n",
    "    '2022-10-31': 'Halloween',\n",
    "    '2022-12-07': 'Día de las Velitas',\n",
    "    '2022-12-24': 'Navidad',\n",
    "    '2022-12-31': 'Año Nuevo',\n",
    "    # Puedes seguir agregando...\n",
    "}\n"
   ]
  },
  {
   "cell_type": "code",
   "execution_count": 10,
   "id": "db869279",
   "metadata": {},
   "outputs": [
    {
     "data": {
      "text/html": [
       "<div>\n",
       "<style scoped>\n",
       "    .dataframe tbody tr th:only-of-type {\n",
       "        vertical-align: middle;\n",
       "    }\n",
       "\n",
       "    .dataframe tbody tr th {\n",
       "        vertical-align: top;\n",
       "    }\n",
       "\n",
       "    .dataframe thead th {\n",
       "        text-align: right;\n",
       "    }\n",
       "</style>\n",
       "<table border=\"1\" class=\"dataframe\">\n",
       "  <thead>\n",
       "    <tr style=\"text-align: right;\">\n",
       "      <th></th>\n",
       "      <th>codigoSerial</th>\n",
       "      <th>nombre</th>\n",
       "      <th>nombreCorto</th>\n",
       "      <th>latitud</th>\n",
       "      <th>longitud</th>\n",
       "      <th>contaminante</th>\n",
       "      <th>fecha</th>\n",
       "      <th>calibracion</th>\n",
       "      <th>valor</th>\n",
       "      <th>mes</th>\n",
       "      <th>dia_semana</th>\n",
       "      <th>es_fin_semana</th>\n",
       "      <th>fecha_str</th>\n",
       "      <th>evento</th>\n",
       "    </tr>\n",
       "  </thead>\n",
       "  <tbody>\n",
       "    <tr>\n",
       "      <th>0</th>\n",
       "      <td>3</td>\n",
       "      <td>_OFF-Girardota - S.O.S Aburrá Norte</td>\n",
       "      <td>GIR-SOSN</td>\n",
       "      <td>6.378433</td>\n",
       "      <td>-75.451141</td>\n",
       "      <td>pm25</td>\n",
       "      <td>2021-10-12 04:00:00</td>\n",
       "      <td>-9999.0000</td>\n",
       "      <td>NaN</td>\n",
       "      <td>2021-10</td>\n",
       "      <td>1</td>\n",
       "      <td>False</td>\n",
       "      <td>2021-10-12</td>\n",
       "      <td>Normal</td>\n",
       "    </tr>\n",
       "    <tr>\n",
       "      <th>1</th>\n",
       "      <td>3</td>\n",
       "      <td>_OFF-Girardota - S.O.S Aburrá Norte</td>\n",
       "      <td>GIR-SOSN</td>\n",
       "      <td>6.378433</td>\n",
       "      <td>-75.451141</td>\n",
       "      <td>pm25</td>\n",
       "      <td>2021-10-12 05:00:00</td>\n",
       "      <td>-9999.0000</td>\n",
       "      <td>NaN</td>\n",
       "      <td>2021-10</td>\n",
       "      <td>1</td>\n",
       "      <td>False</td>\n",
       "      <td>2021-10-12</td>\n",
       "      <td>Normal</td>\n",
       "    </tr>\n",
       "    <tr>\n",
       "      <th>2</th>\n",
       "      <td>3</td>\n",
       "      <td>_OFF-Girardota - S.O.S Aburrá Norte</td>\n",
       "      <td>GIR-SOSN</td>\n",
       "      <td>6.378433</td>\n",
       "      <td>-75.451141</td>\n",
       "      <td>pm25</td>\n",
       "      <td>2021-10-12 06:00:00</td>\n",
       "      <td>-9999.0000</td>\n",
       "      <td>NaN</td>\n",
       "      <td>2021-10</td>\n",
       "      <td>1</td>\n",
       "      <td>False</td>\n",
       "      <td>2021-10-12</td>\n",
       "      <td>Normal</td>\n",
       "    </tr>\n",
       "    <tr>\n",
       "      <th>3</th>\n",
       "      <td>3</td>\n",
       "      <td>_OFF-Girardota - S.O.S Aburrá Norte</td>\n",
       "      <td>GIR-SOSN</td>\n",
       "      <td>6.378433</td>\n",
       "      <td>-75.451141</td>\n",
       "      <td>pm25</td>\n",
       "      <td>2021-10-12 07:00:00</td>\n",
       "      <td>-9999.0000</td>\n",
       "      <td>NaN</td>\n",
       "      <td>2021-10</td>\n",
       "      <td>1</td>\n",
       "      <td>False</td>\n",
       "      <td>2021-10-12</td>\n",
       "      <td>Normal</td>\n",
       "    </tr>\n",
       "    <tr>\n",
       "      <th>4</th>\n",
       "      <td>3</td>\n",
       "      <td>_OFF-Girardota - S.O.S Aburrá Norte</td>\n",
       "      <td>GIR-SOSN</td>\n",
       "      <td>6.378433</td>\n",
       "      <td>-75.451141</td>\n",
       "      <td>pm25</td>\n",
       "      <td>2021-10-12 08:00:00</td>\n",
       "      <td>-9999.0000</td>\n",
       "      <td>NaN</td>\n",
       "      <td>2021-10</td>\n",
       "      <td>1</td>\n",
       "      <td>False</td>\n",
       "      <td>2021-10-12</td>\n",
       "      <td>Normal</td>\n",
       "    </tr>\n",
       "    <tr>\n",
       "      <th>...</th>\n",
       "      <td>...</td>\n",
       "      <td>...</td>\n",
       "      <td>...</td>\n",
       "      <td>...</td>\n",
       "      <td>...</td>\n",
       "      <td>...</td>\n",
       "      <td>...</td>\n",
       "      <td>...</td>\n",
       "      <td>...</td>\n",
       "      <td>...</td>\n",
       "      <td>...</td>\n",
       "      <td>...</td>\n",
       "      <td>...</td>\n",
       "      <td>...</td>\n",
       "    </tr>\n",
       "    <tr>\n",
       "      <th>183976</th>\n",
       "      <td>90</td>\n",
       "      <td>Sabaneta - I.E. Rafael J. Mejía</td>\n",
       "      <td>SAB-RAME</td>\n",
       "      <td>6.145500</td>\n",
       "      <td>-75.621262</td>\n",
       "      <td>pm25</td>\n",
       "      <td>2022-10-12 00:00:00</td>\n",
       "      <td>18.9537</td>\n",
       "      <td>1.0</td>\n",
       "      <td>2022-10</td>\n",
       "      <td>2</td>\n",
       "      <td>False</td>\n",
       "      <td>2022-10-12</td>\n",
       "      <td>Normal</td>\n",
       "    </tr>\n",
       "    <tr>\n",
       "      <th>183977</th>\n",
       "      <td>90</td>\n",
       "      <td>Sabaneta - I.E. Rafael J. Mejía</td>\n",
       "      <td>SAB-RAME</td>\n",
       "      <td>6.145500</td>\n",
       "      <td>-75.621262</td>\n",
       "      <td>pm25</td>\n",
       "      <td>2022-10-12 01:00:00</td>\n",
       "      <td>15.3660</td>\n",
       "      <td>1.0</td>\n",
       "      <td>2022-10</td>\n",
       "      <td>2</td>\n",
       "      <td>False</td>\n",
       "      <td>2022-10-12</td>\n",
       "      <td>Normal</td>\n",
       "    </tr>\n",
       "    <tr>\n",
       "      <th>183978</th>\n",
       "      <td>90</td>\n",
       "      <td>Sabaneta - I.E. Rafael J. Mejía</td>\n",
       "      <td>SAB-RAME</td>\n",
       "      <td>6.145500</td>\n",
       "      <td>-75.621262</td>\n",
       "      <td>pm25</td>\n",
       "      <td>2022-10-12 02:00:00</td>\n",
       "      <td>15.3597</td>\n",
       "      <td>1.0</td>\n",
       "      <td>2022-10</td>\n",
       "      <td>2</td>\n",
       "      <td>False</td>\n",
       "      <td>2022-10-12</td>\n",
       "      <td>Normal</td>\n",
       "    </tr>\n",
       "    <tr>\n",
       "      <th>183979</th>\n",
       "      <td>90</td>\n",
       "      <td>Sabaneta - I.E. Rafael J. Mejía</td>\n",
       "      <td>SAB-RAME</td>\n",
       "      <td>6.145500</td>\n",
       "      <td>-75.621262</td>\n",
       "      <td>pm25</td>\n",
       "      <td>2022-10-12 03:00:00</td>\n",
       "      <td>18.9207</td>\n",
       "      <td>1.0</td>\n",
       "      <td>2022-10</td>\n",
       "      <td>2</td>\n",
       "      <td>False</td>\n",
       "      <td>2022-10-12</td>\n",
       "      <td>Normal</td>\n",
       "    </tr>\n",
       "    <tr>\n",
       "      <th>183980</th>\n",
       "      <td>90</td>\n",
       "      <td>Sabaneta - I.E. Rafael J. Mejía</td>\n",
       "      <td>SAB-RAME</td>\n",
       "      <td>6.145500</td>\n",
       "      <td>-75.621262</td>\n",
       "      <td>pm25</td>\n",
       "      <td>2022-10-12 04:00:00</td>\n",
       "      <td>28.4146</td>\n",
       "      <td>1.0</td>\n",
       "      <td>2022-10</td>\n",
       "      <td>2</td>\n",
       "      <td>False</td>\n",
       "      <td>2022-10-12</td>\n",
       "      <td>Normal</td>\n",
       "    </tr>\n",
       "  </tbody>\n",
       "</table>\n",
       "<p>183981 rows × 14 columns</p>\n",
       "</div>"
      ],
      "text/plain": [
       "        codigoSerial                               nombre nombreCorto  \\\n",
       "0                  3  _OFF-Girardota - S.O.S Aburrá Norte    GIR-SOSN   \n",
       "1                  3  _OFF-Girardota - S.O.S Aburrá Norte    GIR-SOSN   \n",
       "2                  3  _OFF-Girardota - S.O.S Aburrá Norte    GIR-SOSN   \n",
       "3                  3  _OFF-Girardota - S.O.S Aburrá Norte    GIR-SOSN   \n",
       "4                  3  _OFF-Girardota - S.O.S Aburrá Norte    GIR-SOSN   \n",
       "...              ...                                  ...         ...   \n",
       "183976            90      Sabaneta - I.E. Rafael J. Mejía    SAB-RAME   \n",
       "183977            90      Sabaneta - I.E. Rafael J. Mejía    SAB-RAME   \n",
       "183978            90      Sabaneta - I.E. Rafael J. Mejía    SAB-RAME   \n",
       "183979            90      Sabaneta - I.E. Rafael J. Mejía    SAB-RAME   \n",
       "183980            90      Sabaneta - I.E. Rafael J. Mejía    SAB-RAME   \n",
       "\n",
       "         latitud   longitud contaminante               fecha  calibracion  \\\n",
       "0       6.378433 -75.451141         pm25 2021-10-12 04:00:00   -9999.0000   \n",
       "1       6.378433 -75.451141         pm25 2021-10-12 05:00:00   -9999.0000   \n",
       "2       6.378433 -75.451141         pm25 2021-10-12 06:00:00   -9999.0000   \n",
       "3       6.378433 -75.451141         pm25 2021-10-12 07:00:00   -9999.0000   \n",
       "4       6.378433 -75.451141         pm25 2021-10-12 08:00:00   -9999.0000   \n",
       "...          ...        ...          ...                 ...          ...   \n",
       "183976  6.145500 -75.621262         pm25 2022-10-12 00:00:00      18.9537   \n",
       "183977  6.145500 -75.621262         pm25 2022-10-12 01:00:00      15.3660   \n",
       "183978  6.145500 -75.621262         pm25 2022-10-12 02:00:00      15.3597   \n",
       "183979  6.145500 -75.621262         pm25 2022-10-12 03:00:00      18.9207   \n",
       "183980  6.145500 -75.621262         pm25 2022-10-12 04:00:00      28.4146   \n",
       "\n",
       "        valor      mes  dia_semana  es_fin_semana   fecha_str  evento  \n",
       "0         NaN  2021-10           1          False  2021-10-12  Normal  \n",
       "1         NaN  2021-10           1          False  2021-10-12  Normal  \n",
       "2         NaN  2021-10           1          False  2021-10-12  Normal  \n",
       "3         NaN  2021-10           1          False  2021-10-12  Normal  \n",
       "4         NaN  2021-10           1          False  2021-10-12  Normal  \n",
       "...       ...      ...         ...            ...         ...     ...  \n",
       "183976    1.0  2022-10           2          False  2022-10-12  Normal  \n",
       "183977    1.0  2022-10           2          False  2022-10-12  Normal  \n",
       "183978    1.0  2022-10           2          False  2022-10-12  Normal  \n",
       "183979    1.0  2022-10           2          False  2022-10-12  Normal  \n",
       "183980    1.0  2022-10           2          False  2022-10-12  Normal  \n",
       "\n",
       "[183981 rows x 14 columns]"
      ]
     },
     "execution_count": 10,
     "metadata": {},
     "output_type": "execute_result"
    }
   ],
   "source": [
    "df['fecha_str'] = df['fecha'].dt.strftime('%Y-%m-%d')\n",
    "df['evento'] = df['fecha_str'].map(eventos_especiales).fillna(\"Normal\")\n",
    "df"
   ]
  },
  {
   "cell_type": "markdown",
   "id": "38b18d31",
   "metadata": {},
   "source": [
    "Datos muy importantes "
   ]
  },
  {
   "cell_type": "code",
   "execution_count": 11,
   "id": "3350dca0",
   "metadata": {},
   "outputs": [
    {
     "name": "stdout",
     "output_type": "stream",
     "text": [
      "es_fin_semana\n",
      "False    1.099152\n",
      "True     1.091629\n",
      "Name: valor, dtype: float64\n"
     ]
    }
   ],
   "source": [
    "#Semana vs fin de semana\n",
    "\n",
    "promedios_dia = df.groupby('es_fin_semana')['valor'].mean()\n",
    "print(promedios_dia)\n"
   ]
  },
  {
   "cell_type": "code",
   "execution_count": 12,
   "id": "dd3ee38d",
   "metadata": {},
   "outputs": [
    {
     "name": "stdout",
     "output_type": "stream",
     "text": [
      "evento\n",
      "Año Nuevo              1.033560\n",
      "Día de Reyes           1.036996\n",
      "Día sin carro          1.071226\n",
      "Feria de las Flores    1.187633\n",
      "Independencia          1.153774\n",
      "Navidad                1.017325\n",
      "Normal                 1.097320\n",
      "Semana Santa           1.042880\n",
      "Name: valor, dtype: float64\n"
     ]
    }
   ],
   "source": [
    "#fechas especiales vs fechas normales\n",
    "\n",
    "promedios_evento = df.groupby('evento')['valor'].mean()\n",
    "print(promedios_evento)\n"
   ]
  },
  {
   "cell_type": "code",
   "execution_count": 13,
   "id": "750e4d0f",
   "metadata": {},
   "outputs": [
    {
     "data": {
      "image/png": "[encoded data removed]",
      "text/plain": [
       "<Figure size 640x480 with 1 Axes>"
      ]
     },
     "metadata": {},
     "output_type": "display_data"
    }
   ],
   "source": [
    "df['dia_semana'] = df['fecha'].dt.weekday\n",
    "df['tipo_dia'] = df['dia_semana'].apply(lambda x: 'Fin de semana' if x >= 5 else 'Entre semana')\n",
    "\n",
    "sns.barplot(data=df, x='tipo_dia', y='valor')\n",
    "plt.title(f'{contaminante_unico.upper()} - Promedio por tipo de día')\n",
    "plt.ylabel('Concentración')\n",
    "plt.show()\n",
    "#Semana vs fin de semana"
   ]
  },
  {
   "cell_type": "code",
   "execution_count": 14,
   "id": "97c46ec7",
   "metadata": {},
   "outputs": [
    {
     "data": {
      "image/png": "[encoded data removed]",
      "text/plain": [
       "<Figure size 1000x500 with 1 Axes>"
      ]
     },
     "metadata": {},
     "output_type": "display_data"
    }
   ],
   "source": [
    "plt.figure(figsize=(10, 5))\n",
    "sns.boxplot(data=df, x='evento', y='valor')\n",
    "plt.title(f'{contaminante_unico.upper()} - Concentración por evento')\n",
    "plt.ylabel('Concentración (μg/m³ o ppm)')\n",
    "plt.xticks(rotation=45)\n",
    "plt.tight_layout()\n",
    "plt.show()\n",
    "#fechas especiales vs fechas normales"
   ]
  },
  {
   "cell_type": "code",
   "execution_count": 15,
   "id": "0cd544d2",
   "metadata": {},
   "outputs": [
    {
     "data": {
      "text/html": [
       "<div>\n",
       "<style scoped>\n",
       "    .dataframe tbody tr th:only-of-type {\n",
       "        vertical-align: middle;\n",
       "    }\n",
       "\n",
       "    .dataframe tbody tr th {\n",
       "        vertical-align: top;\n",
       "    }\n",
       "\n",
       "    .dataframe thead th {\n",
       "        text-align: right;\n",
       "    }\n",
       "</style>\n",
       "<table border=\"1\" class=\"dataframe\">\n",
       "  <thead>\n",
       "    <tr style=\"text-align: right;\">\n",
       "      <th>evento</th>\n",
       "      <th>Año Nuevo</th>\n",
       "      <th>Día de Reyes</th>\n",
       "      <th>Día sin carro</th>\n",
       "      <th>Feria de las Flores</th>\n",
       "      <th>Independencia</th>\n",
       "      <th>Navidad</th>\n",
       "      <th>Normal</th>\n",
       "      <th>Semana Santa</th>\n",
       "    </tr>\n",
       "    <tr>\n",
       "      <th>tipo_dia</th>\n",
       "      <th></th>\n",
       "      <th></th>\n",
       "      <th></th>\n",
       "      <th></th>\n",
       "      <th></th>\n",
       "      <th></th>\n",
       "      <th></th>\n",
       "      <th></th>\n",
       "    </tr>\n",
       "  </thead>\n",
       "  <tbody>\n",
       "    <tr>\n",
       "      <th>Entre semana</th>\n",
       "      <td>1.03356</td>\n",
       "      <td>1.036996</td>\n",
       "      <td>1.071226</td>\n",
       "      <td>1.197491</td>\n",
       "      <td>1.153774</td>\n",
       "      <td>1.017325</td>\n",
       "      <td>1.099711</td>\n",
       "      <td>1.050609</td>\n",
       "    </tr>\n",
       "    <tr>\n",
       "      <th>Fin de semana</th>\n",
       "      <td>NaN</td>\n",
       "      <td>NaN</td>\n",
       "      <td>NaN</td>\n",
       "      <td>1.177958</td>\n",
       "      <td>NaN</td>\n",
       "      <td>NaN</td>\n",
       "      <td>1.091361</td>\n",
       "      <td>1.035202</td>\n",
       "    </tr>\n",
       "  </tbody>\n",
       "</table>\n",
       "</div>"
      ],
      "text/plain": [
       "evento         Año Nuevo  Día de Reyes  Día sin carro  Feria de las Flores  \\\n",
       "tipo_dia                                                                     \n",
       "Entre semana     1.03356      1.036996       1.071226             1.197491   \n",
       "Fin de semana        NaN           NaN            NaN             1.177958   \n",
       "\n",
       "evento         Independencia   Navidad    Normal  Semana Santa  \n",
       "tipo_dia                                                        \n",
       "Entre semana        1.153774  1.017325  1.099711      1.050609  \n",
       "Fin de semana            NaN       NaN  1.091361      1.035202  "
      ]
     },
     "execution_count": 15,
     "metadata": {},
     "output_type": "execute_result"
    }
   ],
   "source": [
    "resumen = df.groupby(['tipo_dia', 'evento'])['valor'].mean().unstack()\n",
    "resumen\n"
   ]
  },
  {
   "cell_type": "code",
   "execution_count": 16,
   "id": "ad04b2ce",
   "metadata": {},
   "outputs": [
    {
     "name": "stdout",
     "output_type": "stream",
     "text": [
      "                                               nombre     valor\n",
      "12                             Barbosa - Torre Social  1.166724\n",
      "7                                Estación Tráfico Sur  1.144280\n",
      "16  Medellín, San Cristobal - Parque Biblioteca Fe...  1.127353\n",
      "20                    Sabaneta - I.E. Rafael J. Mejía  1.113367\n",
      "4   _OFF-Caldas - Corporacion Universitaria Lasall...  1.104212\n",
      "11  Medellín, Villahermosa - Planta de producción ...  1.102195\n",
      "10     Medellín, Altavista - I.E. Pedro Octavio Amado  1.095646\n",
      "1                             Estación Tráfico Centro  1.092011\n",
      "8                    Caldas - E U Joaquín Aristizabal  1.089749\n",
      "3                    Itagüí - Casa de Justicia Itagüí  1.089087\n"
     ]
    }
   ],
   "source": [
    "#estaciones con peor aire\n",
    "\n",
    "media_top = media_estaciones[['nombre', 'valor']].sort_values(by='valor', ascending=False)\n",
    "print(media_top.head(10))\n"
   ]
  },
  {
   "cell_type": "code",
   "execution_count": 17,
   "id": "a8775bff",
   "metadata": {},
   "outputs": [
    {
     "name": "stderr",
     "output_type": "stream",
     "text": [
      "C:\\Users\\Jeronimo Zapata\\AppData\\Local\\Temp\\ipykernel_19864\\3759753072.py:3: FutureWarning: \n",
      "\n",
      "Passing `palette` without assigning `hue` is deprecated and will be removed in v0.14.0. Assign the `y` variable to `hue` and set `legend=False` for the same effect.\n",
      "\n",
      "  sns.barplot(data=estaciones_ordenadas, x='valor', y='nombre', palette='Spectral')\n"
     ]
    },
    {
     "data": {
      "image/png": "[encoded data removed]",
      "text/plain": [
       "<Figure size 1200x600 with 1 Axes>"
      ]
     },
     "metadata": {},
     "output_type": "display_data"
    }
   ],
   "source": [
    "plt.figure(figsize=(12, 6))\n",
    "estaciones_ordenadas = media_estaciones.sort_values(by='valor', ascending=False)\n",
    "sns.barplot(data=estaciones_ordenadas, x='valor', y='nombre', palette='Spectral')\n",
    "plt.title(f'{contaminante_unico.upper()} - Concentración promedio por estación')\n",
    "plt.xlabel('Concentración promedio')\n",
    "plt.ylabel('Estación')\n",
    "plt.tight_layout()\n",
    "plt.show()\n"
   ]
  },
  {
   "cell_type": "code",
   "execution_count": 18,
   "id": "aada0f38",
   "metadata": {},
   "outputs": [
    {
     "name": "stderr",
     "output_type": "stream",
     "text": [
      "C:\\Users\\Jeronimo Zapata\\AppData\\Local\\Temp\\ipykernel_19864\\2607126680.py:6: DeprecationWarning: *scatter_mapbox* is deprecated! Use *scatter_map* instead. Learn more at: https://plotly.com/python/mapbox-to-maplibre/\n",
      "  fig = px.scatter_mapbox(\n"
     ]
    },
    {
     "data": {
      "application/vnd.plotly.v1+json": {
       "config": {
        "plotlyServerURL": "https://plot.ly"
       },
       "data": [
        {
         "hovertemplate": "<b>%{hovertext}</b><br><br>valor=%{marker.color}<br>latitud=%{lat}<br>longitud=%{lon}<extra></extra>",
         "hovertext": [
          "_OFF-Girardota - S.O.S Aburrá Norte",
          "Estación Tráfico Centro",
          "Itagüí - Casa de Justicia Itagüí",
          "_OFF-Caldas - Corporacion Universitaria Lasallista",
          "Itagüí - I.E. Concejo Municipal de Itagüí",
          "Medellín, El Poblado - Tanques La Ye EPM",
          "Estación Tráfico Sur",
          "Caldas - E U Joaquín Aristizabal",
          "La Estrella - Hospital",
          "Medellín, Altavista - I.E. Pedro Octavio Amado",
          "Medellín, Villahermosa - Planta de producción de agua potable EPM",
          "Barbosa - Torre Social",
          "Copacabana - Ciudadela Educativa La Vida",
          "Medellin, Belén - I.E Pedro Justo Berrio",
          "Medellín, El Poblado - I.E INEM sede Santa Catalina",
          "Medellín, San Cristobal - Parque Biblioteca Fernando Botero",
          "Medellín, Aranjuez - I.E Ciro Mendia",
          "Bello - I.E. Fernando Vélez",
          "Envigado - E.S.E. Santa Gertrudis",
          "Sabaneta - I.E. Rafael J. Mejía"
         ],
         "lat": {
          "bdata": "7OEm/oODGUCX94JgnwIZQIvWm2IfvhhAF6yCYnVlGEAk4veAiqwYQKWc1DzsuhhAewz74vebGECW8rXCT18YQEMfLGNDnxhAnL3YIDjjGEC6iEp+HwkZQE6don5yvxlAk2nZ/6VhGUDm+/N+7fIYQALLW7+qzBhAjL9Iw4QcGUBmfRS/cykZQHUId8KmWRlANY03Q7usGEDvPiIB/pQYQA==",
          "dtype": "f8"
         },
         "legendgroup": "",
         "lon": {
          "bdata": "ybctgN/cUsD0fBcAdORSwDAe75845lLAz3cBQN/oUsA6/xsgPelSwGMfCaA941LAJ6oSwCjoUsA8pBgg0ehSwHfeISA66VLAGRXdHxTnUsDLhcq/FuNSwDppK0Al1VLAf0Py303gUsB6VPzfEedSwLqp3J/m41LA4o7cP7voUsBqs/ufjeNSwMil4N9W5FLAyA/w/z7lUsCukAPAwudSwA==",
          "dtype": "f8"
         },
         "marker": {
          "color": {
           "bdata": "AAAAAAAA8D932FiU4HjxP9S6o/TmbPE/3sinNdqq8T+PMMsTumjxPyX/AKujN/E/8/w6kfhO8j9yr7RwnG/xP2tNvxYAQvE/Jyzm9cOH8T8VxBwtl6LxP/9PQ7jmqvI/4/uIdUVW8T/SE/nZdlzxP5xAhA2rRvE/A4kvT6MJ8j+1bxrCIf7wP/XkDT0RavE/h9OSlGlN8T/6SuR1WdDxPw==",
           "dtype": "f8"
          },
          "coloraxis": "coloraxis",
          "size": {
           "bdata": "AAAAAAAA8D932FiU4HjxP9S6o/TmbPE/3sinNdqq8T+PMMsTumjxPyX/AKujN/E/8/w6kfhO8j9yr7RwnG/xP2tNvxYAQvE/Jyzm9cOH8T8VxBwtl6LxP/9PQ7jmqvI/4/uIdUVW8T/SE/nZdlzxP5xAhA2rRvE/A4kvT6MJ8j+1bxrCIf7wP/XkDT0RavE/h9OSlGlN8T/6SuR1WdDxPw==",
           "dtype": "f8"
          },
          "sizemode": "area",
          "sizeref": 0.005185439723447618
         },
         "mode": "markers",
         "name": "",
         "showlegend": false,
         "subplot": "mapbox",
         "type": "scattermapbox"
        }
       ],
       "layout": {
        "coloraxis": {
         "colorbar": {
          "title": {
           "text": "valor"
          }
         },
         "colorscale": [
          [
           0,
           "rgb(255,255,204)"
          ],
          [
           0.125,
           "rgb(255,237,160)"
          ],
          [
           0.25,
           "rgb(254,217,118)"
          ],
          [
           0.375,
           "rgb(254,178,76)"
          ],
          [
           0.5,
           "rgb(253,141,60)"
          ],
          [
           0.625,
           "rgb(252,78,42)"
          ],
          [
           0.75,
           "rgb(227,26,28)"
          ],
          [
           0.875,
           "rgb(189,0,38)"
          ],
          [
           1,
           "rgb(128,0,38)"
          ]
         ]
        },
        "legend": {
         "itemsizing": "constant",
         "tracegroupgap": 0
        },
        "mapbox": {
         "center": {
          "lat": 6.229399644999999,
          "lon": -75.574469375
         },
         "domain": {
          "x": [
           0,
           1
          ],
          "y": [
           0,
           1
          ]
         },
         "style": "carto-positron",
         "zoom": 10
        },
        "margin": {
         "t": 60
        },
        "template": {
         "data": {
          "bar": [
           {
            "error_x": {
             "color": "#2a3f5f"
            },
            "error_y": {
             "color": "#2a3f5f"
            },
            "marker": {
             "line": {
              "color": "#E5ECF6",
              "width": 0.5
             },
             "pattern": {
              "fillmode": "overlay",
              "size": 10,
              "solidity": 0.2
             }
            },
            "type": "bar"
           }
          ],
          "barpolar": [
           {
            "marker": {
             "line": {
              "color": "#E5ECF6",
              "width": 0.5
             },
             "pattern": {
              "fillmode": "overlay",
              "size": 10,
              "solidity": 0.2
             }
            },
            "type": "barpolar"
           }
          ],
          "carpet": [
           {
            "aaxis": {
             "endlinecolor": "#2a3f5f",
             "gridcolor": "white",
             "linecolor": "white",
             "minorgridcolor": "white",
             "startlinecolor": "#2a3f5f"
            },
            "baxis": {
             "endlinecolor": "#2a3f5f",
             "gridcolor": "white",
             "linecolor": "white",
             "minorgridcolor": "white",
             "startlinecolor": "#2a3f5f"
            },
            "type": "carpet"
           }
          ],
          "choropleth": [
           {
            "colorbar": {
             "outlinewidth": 0,
             "ticks": ""
            },
            "type": "choropleth"
           }
          ],
          "contour": [
           {
            "colorbar": {
             "outlinewidth": 0,
             "ticks": ""
            },
            "colorscale": [
             [
              0,
              "#0d0887"
             ],
             [
              0.1111111111111111,
              "#46039f"
             ],
             [
              0.2222222222222222,
              "#7201a8"
             ],
             [
              0.3333333333333333,
              "#9c179e"
             ],
             [
              0.4444444444444444,
              "#bd3786"
             ],
             [
              0.5555555555555556,
              "#d8576b"
             ],
             [
              0.6666666666666666,
              "#ed7953"
             ],
             [
              0.7777777777777778,
              "#fb9f3a"
             ],
             [
              0.8888888888888888,
              "#fdca26"
             ],
             [
              1,
              "#f0f921"
             ]
            ],
            "type": "contour"
           }
          ],
          "contourcarpet": [
           {
            "colorbar": {
             "outlinewidth": 0,
             "ticks": ""
            },
            "type": "contourcarpet"
           }
          ],
          "heatmap": [
           {
            "colorbar": {
             "outlinewidth": 0,
             "ticks": ""
            },
            "colorscale": [
             [
              0,
              "#0d0887"
             ],
             [
              0.1111111111111111,
              "#46039f"
             ],
             [
              0.2222222222222222,
              "#7201a8"
             ],
             [
              0.3333333333333333,
              "#9c179e"
             ],
             [
              0.4444444444444444,
              "#bd3786"
             ],
             [
              0.5555555555555556,
              "#d8576b"
             ],
             [
              0.6666666666666666,
              "#ed7953"
             ],
             [
              0.7777777777777778,
              "#fb9f3a"
             ],
             [
              0.8888888888888888,
              "#fdca26"
             ],
             [
              1,
              "#f0f921"
             ]
            ],
            "type": "heatmap"
           }
          ],
          "histogram": [
           {
            "marker": {
             "pattern": {
              "fillmode": "overlay",
              "size": 10,
              "solidity": 0.2
             }
            },
            "type": "histogram"
           }
          ],
          "histogram2d": [
           {
            "colorbar": {
             "outlinewidth": 0,
             "ticks": ""
            },
            "colorscale": [
             [
              0,
              "#0d0887"
             ],
             [
              0.1111111111111111,
              "#46039f"
             ],
             [
              0.2222222222222222,
              "#7201a8"
             ],
             [
              0.3333333333333333,
              "#9c179e"
             ],
             [
              0.4444444444444444,
              "#bd3786"
             ],
             [
              0.5555555555555556,
              "#d8576b"
             ],
             [
              0.6666666666666666,
              "#ed7953"
             ],
             [
              0.7777777777777778,
              "#fb9f3a"
             ],
             [
              0.8888888888888888,
              "#fdca26"
             ],
             [
              1,
              "#f0f921"
             ]
            ],
            "type": "histogram2d"
           }
          ],
          "histogram2dcontour": [
           {
            "colorbar": {
             "outlinewidth": 0,
             "ticks": ""
            },
            "colorscale": [
             [
              0,
              "#0d0887"
             ],
             [
              0.1111111111111111,
              "#46039f"
             ],
             [
              0.2222222222222222,
              "#7201a8"
             ],
             [
              0.3333333333333333,
              "#9c179e"
             ],
             [
              0.4444444444444444,
              "#bd3786"
             ],
             [
              0.5555555555555556,
              "#d8576b"
             ],
             [
              0.6666666666666666,
              "#ed7953"
             ],
             [
              0.7777777777777778,
              "#fb9f3a"
             ],
             [
              0.8888888888888888,
              "#fdca26"
             ],
             [
              1,
              "#f0f921"
             ]
            ],
            "type": "histogram2dcontour"
           }
          ],
          "mesh3d": [
           {
            "colorbar": {
             "outlinewidth": 0,
             "ticks": ""
            },
            "type": "mesh3d"
           }
          ],
          "parcoords": [
           {
            "line": {
             "colorbar": {
              "outlinewidth": 0,
              "ticks": ""
             }
            },
            "type": "parcoords"
           }
          ],
          "pie": [
           {
            "automargin": true,
            "type": "pie"
           }
          ],
          "scatter": [
           {
            "fillpattern": {
             "fillmode": "overlay",
             "size": 10,
             "solidity": 0.2
            },
            "type": "scatter"
           }
          ],
          "scatter3d": [
           {
            "line": {
             "colorbar": {
              "outlinewidth": 0,
              "ticks": ""
             }
            },
            "marker": {
             "colorbar": {
              "outlinewidth": 0,
              "ticks": ""
             }
            },
            "type": "scatter3d"
           }
          ],
          "scattercarpet": [
           {
            "marker": {
             "colorbar": {
              "outlinewidth": 0,
              "ticks": ""
             }
            },
            "type": "scattercarpet"
           }
          ],
          "scattergeo": [
           {
            "marker": {
             "colorbar": {
              "outlinewidth": 0,
              "ticks": ""
             }
            },
            "type": "scattergeo"
           }
          ],
          "scattergl": [
           {
            "marker": {
             "colorbar": {
              "outlinewidth": 0,
              "ticks": ""
             }
            },
            "type": "scattergl"
           }
          ],
          "scattermap": [
           {
            "marker": {
             "colorbar": {
              "outlinewidth": 0,
              "ticks": ""
             }
            },
            "type": "scattermap"
           }
          ],
          "scattermapbox": [
           {
            "marker": {
             "colorbar": {
              "outlinewidth": 0,
              "ticks": ""
             }
            },
            "type": "scattermapbox"
           }
          ],
          "scatterpolar": [
           {
            "marker": {
             "colorbar": {
              "outlinewidth": 0,
              "ticks": ""
             }
            },
            "type": "scatterpolar"
           }
          ],
          "scatterpolargl": [
           {
            "marker": {
             "colorbar": {
              "outlinewidth": 0,
              "ticks": ""
             }
            },
            "type": "scatterpolargl"
           }
          ],
          "scatterternary": [
           {
            "marker": {
             "colorbar": {
              "outlinewidth": 0,
              "ticks": ""
             }
            },
            "type": "scatterternary"
           }
          ],
          "surface": [
           {
            "colorbar": {
             "outlinewidth": 0,
             "ticks": ""
            },
            "colorscale": [
             [
              0,
              "#0d0887"
             ],
             [
              0.1111111111111111,
              "#46039f"
             ],
             [
              0.2222222222222222,
              "#7201a8"
             ],
             [
              0.3333333333333333,
              "#9c179e"
             ],
             [
              0.4444444444444444,
              "#bd3786"
             ],
             [
              0.5555555555555556,
              "#d8576b"
             ],
             [
              0.6666666666666666,
              "#ed7953"
             ],
             [
              0.7777777777777778,
              "#fb9f3a"
             ],
             [
              0.8888888888888888,
              "#fdca26"
             ],
             [
              1,
              "#f0f921"
             ]
            ],
            "type": "surface"
           }
          ],
          "table": [
           {
            "cells": {
             "fill": {
              "color": "#EBF0F8"
             },
             "line": {
              "color": "white"
             }
            },
            "header": {
             "fill": {
              "color": "#C8D4E3"
             },
             "line": {
              "color": "white"
             }
            },
            "type": "table"
           }
          ]
         },
         "layout": {
          "annotationdefaults": {
           "arrowcolor": "#2a3f5f",
           "arrowhead": 0,
           "arrowwidth": 1
          },
          "autotypenumbers": "strict",
          "coloraxis": {
           "colorbar": {
            "outlinewidth": 0,
            "ticks": ""
           }
          },
          "colorscale": {
           "diverging": [
            [
             0,
             "#8e0152"
            ],
            [
             0.1,
             "#c51b7d"
            ],
            [
             0.2,
             "#de77ae"
            ],
            [
             0.3,
             "#f1b6da"
            ],
            [
             0.4,
             "#fde0ef"
            ],
            [
             0.5,
             "#f7f7f7"
            ],
            [
             0.6,
             "#e6f5d0"
            ],
            [
             0.7,
             "#b8e186"
            ],
            [
             0.8,
             "#7fbc41"
            ],
            [
             0.9,
             "#4d9221"
            ],
            [
             1,
             "#276419"
            ]
           ],
           "sequential": [
            [
             0,
             "#0d0887"
            ],
            [
             0.1111111111111111,
             "#46039f"
            ],
            [
             0.2222222222222222,
             "#7201a8"
            ],
            [
             0.3333333333333333,
             "#9c179e"
            ],
            [
             0.4444444444444444,
             "#bd3786"
            ],
            [
             0.5555555555555556,
             "#d8576b"
            ],
            [
             0.6666666666666666,
             "#ed7953"
            ],
            [
             0.7777777777777778,
             "#fb9f3a"
            ],
            [
             0.8888888888888888,
             "#fdca26"
            ],
            [
             1,
             "#f0f921"
            ]
           ],
           "sequentialminus": [
            [
             0,
             "#0d0887"
            ],
            [
             0.1111111111111111,
             "#46039f"
            ],
            [
             0.2222222222222222,
             "#7201a8"
            ],
            [
             0.3333333333333333,
             "#9c179e"
            ],
            [
             0.4444444444444444,
             "#bd3786"
            ],
            [
             0.5555555555555556,
             "#d8576b"
            ],
            [
             0.6666666666666666,
             "#ed7953"
            ],
            [
             0.7777777777777778,
             "#fb9f3a"
            ],
            [
             0.8888888888888888,
             "#fdca26"
            ],
            [
             1,
             "#f0f921"
            ]
           ]
          },
          "colorway": [
           "#636efa",
           "#EF553B",
           "#00cc96",
           "#ab63fa",
           "#FFA15A",
           "#19d3f3",
           "#FF6692",
           "#B6E880",
           "#FF97FF",
           "#FECB52"
          ],
          "font": {
           "color": "#2a3f5f"
          },
          "geo": {
           "bgcolor": "white",
           "lakecolor": "white",
           "landcolor": "#E5ECF6",
           "showlakes": true,
           "showland": true,
           "subunitcolor": "white"
          },
          "hoverlabel": {
           "align": "left"
          },
          "hovermode": "closest",
          "mapbox": {
           "style": "light"
          },
          "paper_bgcolor": "white",
          "plot_bgcolor": "#E5ECF6",
          "polar": {
           "angularaxis": {
            "gridcolor": "white",
            "linecolor": "white",
            "ticks": ""
           },
           "bgcolor": "#E5ECF6",
           "radialaxis": {
            "gridcolor": "white",
            "linecolor": "white",
            "ticks": ""
           }
          },
          "scene": {
           "xaxis": {
            "backgroundcolor": "#E5ECF6",
            "gridcolor": "white",
            "gridwidth": 2,
            "linecolor": "white",
            "showbackground": true,
            "ticks": "",
            "zerolinecolor": "white"
           },
           "yaxis": {
            "backgroundcolor": "#E5ECF6",
            "gridcolor": "white",
            "gridwidth": 2,
            "linecolor": "white",
            "showbackground": true,
            "ticks": "",
            "zerolinecolor": "white"
           },
           "zaxis": {
            "backgroundcolor": "#E5ECF6",
            "gridcolor": "white",
            "gridwidth": 2,
            "linecolor": "white",
            "showbackground": true,
            "ticks": "",
            "zerolinecolor": "white"
           }
          },
          "shapedefaults": {
           "line": {
            "color": "#2a3f5f"
           }
          },
          "ternary": {
           "aaxis": {
            "gridcolor": "white",
            "linecolor": "white",
            "ticks": ""
           },
           "baxis": {
            "gridcolor": "white",
            "linecolor": "white",
            "ticks": ""
           },
           "bgcolor": "#E5ECF6",
           "caxis": {
            "gridcolor": "white",
            "linecolor": "white",
            "ticks": ""
           }
          },
          "title": {
           "x": 0.05
          },
          "xaxis": {
           "automargin": true,
           "gridcolor": "white",
           "linecolor": "white",
           "ticks": "",
           "title": {
            "standoff": 15
           },
           "zerolinecolor": "white",
           "zerolinewidth": 2
          },
          "yaxis": {
           "automargin": true,
           "gridcolor": "white",
           "linecolor": "white",
           "ticks": "",
           "title": {
            "standoff": 15
           },
           "zerolinecolor": "white",
           "zerolinewidth": 2
          }
         }
        },
        "title": {
         "text": "PM25 - Concentración por estación"
        }
       }
      }
     },
     "metadata": {},
     "output_type": "display_data"
    }
   ],
   "source": [
    "media_plot = media_estaciones.dropna(subset=['valor'])\n",
    "\n",
    "\n",
    "import plotly.express as px\n",
    "\n",
    "fig = px.scatter_mapbox(\n",
    "    media_plot,\n",
    "    lat=\"latitud\", lon=\"longitud\",\n",
    "    color=\"valor\",\n",
    "    size=\"valor\",\n",
    "    hover_name=\"nombre\",\n",
    "    color_continuous_scale=\"YlOrRd\",\n",
    "    size_max=15,\n",
    "    zoom=10,\n",
    "    mapbox_style=\"carto-positron\"\n",
    ")\n",
    "fig.update_layout(title=f'{contaminante_unico.upper()} - Concentración por estación')\n",
    "fig.show()\n"
   ]
  },
  {
   "cell_type": "code",
   "execution_count": 19,
   "id": "b3702df5",
   "metadata": {},
   "outputs": [],
   "source": [
    "limites_normativos = {\n",
    "    'pm25': 25,   # μg/m³ (24h) - OMS\n",
    "    'pm10': 50,   # μg/m³ (24h) - OMS\n",
    "    'ozono': 0.051,  # ppm (8h) - OMS 100 μg/m³ → 0.051 ppm aprox\n",
    "    'co': 4.0,    # ppm (24h) - OMS\n",
    "    'no2': 0.025, # ppm (1h) - OMS\n",
    "    'so2': 0.005, # ppm (24h) - OMS\n",
    "    # otros...\n",
    "}\n"
   ]
  },
  {
   "cell_type": "code",
   "execution_count": 20,
   "id": "c6323a6b",
   "metadata": {},
   "outputs": [
    {
     "name": "stdout",
     "output_type": "stream",
     "text": [
      "📌 Porcentaje de registros que exceden el límite OMS para PM25: 0.00%\n"
     ]
    }
   ],
   "source": [
    "contaminante = contaminante_unico.lower()\n",
    "limite = limites_normativos.get(contaminante, None)\n",
    "\n",
    "if limite:\n",
    "    df['excede_limite'] = df['valor'] > limite\n",
    "    excedencias = df['excede_limite'].mean() * 100\n",
    "    print(f\"📌 Porcentaje de registros que exceden el límite OMS para {contaminante.upper()}: {excedencias:.2f}%\")\n",
    "else:\n",
    "    print(\"No hay límite definido para este contaminante.\")\n"
   ]
  },
  {
   "cell_type": "code",
   "execution_count": 21,
   "id": "72245775",
   "metadata": {},
   "outputs": [
    {
     "data": {
      "image/png": "[encoded data removed]",
      "text/plain": [
       "<Figure size 1200x400 with 1 Axes>"
      ]
     },
     "metadata": {},
     "output_type": "display_data"
    }
   ],
   "source": [
    "#gafico de dias que exceden\n",
    "\n",
    "excesos_diarios = df.groupby(df['fecha'].dt.date)['excede_limite'].mean()\n",
    "\n",
    "plt.figure(figsize=(12, 4))\n",
    "excesos_diarios.plot(kind='bar', color='red')\n",
    "plt.title(f'Días con excedencias de {contaminante.upper()} según OMS')\n",
    "plt.ylabel('% de registros diarios que exceden')\n",
    "plt.xticks(rotation=90)\n",
    "plt.tight_layout()\n",
    "plt.show()\n"
   ]
  },
  {
   "cell_type": "code",
   "execution_count": 22,
   "id": "2f1765c7",
   "metadata": {},
   "outputs": [
    {
     "data": {
      "image/png": "[encoded data removed]",
      "text/plain": [
       "<Figure size 1200x600 with 1 Axes>"
      ]
     },
     "metadata": {},
     "output_type": "display_data"
    }
   ],
   "source": [
    "#comparar promedios mensuales con los limites\n",
    "plt.figure(figsize=(12,6))\n",
    "sns.lineplot(data=promedios_mensuales, x='mes', y='valor', marker='o')\n",
    "if limite:\n",
    "    plt.axhline(y=limite, color='red', linestyle='--', label='Límite OMS')\n",
    "plt.title(f'{contaminante_unico.upper()} - Promedio mensual')\n",
    "plt.xlabel('Mes')\n",
    "plt.ylabel('Concentración')\n",
    "plt.xticks(rotation=45)\n",
    "plt.legend()\n",
    "plt.grid(True)\n",
    "plt.tight_layout()\n",
    "plt.show()\n"
   ]
  },
  {
   "cell_type": "code",
   "execution_count": 23,
   "id": "ea3d61aa",
   "metadata": {},
   "outputs": [
    {
     "data": {
      "image/png": "[encoded data removed]",
      "text/plain": [
       "<Figure size 1000x500 with 1 Axes>"
      ]
     },
     "metadata": {},
     "output_type": "display_data"
    }
   ],
   "source": [
    "#variacion por hora del dia\n",
    "df['hora'] = df['fecha'].dt.hour\n",
    "\n",
    "horas = df.groupby('hora')['valor'].mean().reset_index()\n",
    "\n",
    "plt.figure(figsize=(10,5))\n",
    "sns.lineplot(data=horas, x='hora', y='valor', marker='o')\n",
    "plt.title(f'{contaminante_unico.upper()} - Promedio por hora del día')\n",
    "plt.xlabel('Hora')\n",
    "plt.ylabel('Concentración')\n",
    "plt.xticks(range(0,24))\n",
    "plt.grid(True)\n",
    "plt.tight_layout()\n",
    "plt.show()\n"
   ]
  },
  {
   "cell_type": "code",
   "execution_count": 24,
   "id": "c2aaac70",
   "metadata": {},
   "outputs": [
    {
     "name": "stdout",
     "output_type": "stream",
     "text": [
      "Días con mayor concentración promedio:\n",
      "fecha\n",
      "2021-12-18    1.359430\n",
      "2022-04-26    1.332037\n",
      "2022-09-18    1.277049\n",
      "2022-09-24    1.253608\n",
      "2022-01-19    1.235131\n",
      "2022-05-27    1.230557\n",
      "2022-07-30    1.223657\n",
      "2022-04-27    1.220257\n",
      "2021-11-20    1.215239\n",
      "2022-01-10    1.210263\n",
      "Name: valor, dtype: float64\n"
     ]
    }
   ],
   "source": [
    "#Top 10 dias mas contaminados\n",
    "top_dias = df.groupby(df['fecha'].dt.date)['valor'].mean().sort_values(ascending=False).head(10)\n",
    "print(\"Días con mayor concentración promedio:\")\n",
    "print(top_dias)\n"
   ]
  },
  {
   "cell_type": "code",
   "execution_count": 25,
   "id": "35a91eb9",
   "metadata": {},
   "outputs": [
    {
     "name": "stderr",
     "output_type": "stream",
     "text": [
      "C:\\Users\\Jeronimo Zapata\\AppData\\Local\\Temp\\ipykernel_19864\\951271130.py:13: FutureWarning:\n",
      "\n",
      "\n",
      "\n",
      "Passing `palette` without assigning `hue` is deprecated and will be removed in v0.14.0. Assign the `x` variable to `hue` and set `legend=False` for the same effect.\n",
      "\n",
      "\n"
     ]
    },
    {
     "data": {
      "image/png": "[encoded data removed]",
      "text/plain": [
       "<Figure size 1000x500 with 1 Axes>"
      ]
     },
     "metadata": {},
     "output_type": "display_data"
    }
   ],
   "source": [
    "promedio_eventos = df.groupby('evento')['valor'].mean().sort_values(ascending=False)\n",
    "\n",
    "# Convertir a DataFrame y ordenar por valor (descendente)\n",
    "evento_df = promedio_eventos.reset_index()\n",
    "evento_df.columns = ['evento', 'valor']\n",
    "evento_df = evento_df.sort_values(by='valor', ascending=False).reset_index(drop=True)\n",
    "\n",
    "# Crear una paleta personalizada basada en el número de eventos\n",
    "paleta = sns.color_palette(\"Reds\", n_colors=len(evento_df))\n",
    "\n",
    "# Graficar\n",
    "plt.figure(figsize=(10, 5))\n",
    "ax = sns.barplot(\n",
    "    data=evento_df,\n",
    "    x='evento', y='valor',\n",
    "    palette=paleta[::-1]  # ahora sí, inverso en orden decreciente\n",
    ")\n",
    "\n",
    "# Agregar etiquetas\n",
    "for i, val in enumerate(evento_df['valor']):\n",
    "    ax.text(i, val + 0.05, f'{val:.2f}', ha='center', va='bottom')\n",
    "\n",
    "plt.title(f'{contaminante_unico.upper()} - Promedio de concentración por evento')\n",
    "plt.ylabel('Concentración')\n",
    "plt.xticks(rotation=45)\n",
    "plt.tight_layout()\n",
    "plt.show()\n"
   ]
  },
  {
   "cell_type": "code",
   "execution_count": 26,
   "id": "dea16ca2",
   "metadata": {},
   "outputs": [
    {
     "name": "stdout",
     "output_type": "stream",
     "text": [
      "                      count      mean       std  min   max\n",
      "evento                                                    \n",
      "Feria de las Flores     854  1.187633  0.579919  1.0  4.32\n",
      "Independencia           424  1.153774  0.524334  1.0  3.10\n",
      "Normal               156949  1.097320  0.427763  1.0  4.32\n",
      "Día sin carro           424  1.071226  0.334215  1.0  3.30\n",
      "Semana Santa            889  1.042880  0.278121  1.0  4.32\n",
      "Día de Reyes            446  1.036996  0.214107  1.0  2.30\n",
      "Año Nuevo               441  1.033560  0.212792  1.0  3.00\n",
      "Navidad                 456  1.017325  0.154302  1.0  3.00\n"
     ]
    }
   ],
   "source": [
    "stats_eventos = df.groupby('evento')['valor'].agg(['count', 'mean', 'std', 'min', 'max']).sort_values(by='mean', ascending=False)\n",
    "print(stats_eventos)\n"
   ]
  },
  {
   "cell_type": "code",
   "execution_count": 27,
   "id": "10d79fd1",
   "metadata": {},
   "outputs": [
    {
     "name": "stderr",
     "output_type": "stream",
     "text": [
      "C:\\Users\\Jeronimo Zapata\\AppData\\Local\\Temp\\ipykernel_19864\\1442359101.py:9: FutureWarning:\n",
      "\n",
      "\n",
      "\n",
      "Passing `palette` without assigning `hue` is deprecated and will be removed in v0.14.0. Assign the `x` variable to `hue` and set `legend=False` for the same effect.\n",
      "\n",
      "\n"
     ]
    },
    {
     "data": {
      "image/png": "[encoded data removed]",
      "text/plain": [
       "<Figure size 1000x500 with 1 Axes>"
      ]
     },
     "metadata": {},
     "output_type": "display_data"
    }
   ],
   "source": [
    "# Promedio por estación\n",
    "top_estaciones = df.groupby('nombreCorto')['valor'].mean().sort_values(ascending=False).head(10).reset_index()\n",
    "\n",
    "# Paleta de colores (más alta concentración = más oscuro)\n",
    "paleta = sns.color_palette(\"Reds\", n_colors=len(top_estaciones))\n",
    "\n",
    "# Gráfico\n",
    "plt.figure(figsize=(10, 5))\n",
    "ax = sns.barplot(\n",
    "    data=top_estaciones,\n",
    "    x='nombreCorto', y='valor',\n",
    "    palette=paleta[::-1]\n",
    ")\n",
    "\n",
    "# Etiquetas\n",
    "for i, val in enumerate(top_estaciones['valor']):\n",
    "    ax.text(i, val + 0.05, f'{val:.2f}', ha='center', va='bottom')\n",
    "\n",
    "plt.title(f'{contaminante_unico.upper()} - Top 10 estaciones con mayor concentración')\n",
    "plt.ylabel('Concentración')\n",
    "plt.xlabel('Estación')\n",
    "plt.xticks(rotation=45)\n",
    "plt.tight_layout()\n",
    "plt.show()\n"
   ]
  },
  {
   "cell_type": "code",
   "execution_count": 28,
   "id": "39f61e3c",
   "metadata": {},
   "outputs": [
    {
     "data": {
      "image/png": "[encoded data removed]",
      "text/plain": [
       "<Figure size 1400x800 with 2 Axes>"
      ]
     },
     "metadata": {},
     "output_type": "display_data"
    }
   ],
   "source": [
    "# Crear columna de mes\n",
    "df['mes'] = df['fecha'].dt.to_period('M').astype(str)\n",
    "\n",
    "# Agrupamos por estación y mes\n",
    "pivot_df = df.groupby(['nombre', 'mes'])['valor'].mean().reset_index()\n",
    "\n",
    "# Reorganizar en forma de matriz\n",
    "pivot_table = pivot_df.pivot(index='nombre', columns='mes', values='valor')\n",
    "\n",
    "# Crear heatmap\n",
    "plt.figure(figsize=(14, 8))\n",
    "sns.heatmap(pivot_table, cmap=\"Reds\", linewidths=0.5, linecolor='gray', annot=False, fmt=\".1f\", cbar_kws={'label': 'Concentración'})\n",
    "plt.title(f'{contaminante_unico.upper()} - Concentración mensual por estación')\n",
    "plt.xlabel('Mes')\n",
    "plt.ylabel('Estación')\n",
    "plt.tight_layout()\n",
    "plt.show()\n"
   ]
  },
  {
   "cell_type": "code",
   "execution_count": 29,
   "id": "9720a829",
   "metadata": {},
   "outputs": [
    {
     "name": "stderr",
     "output_type": "stream",
     "text": [
      "C:\\Users\\Jeronimo Zapata\\AppData\\Local\\Temp\\ipykernel_19864\\3309211999.py:12: DeprecationWarning:\n",
      "\n",
      "*scatter_mapbox* is deprecated! Use *scatter_map* instead. Learn more at: https://plotly.com/python/mapbox-to-maplibre/\n",
      "\n"
     ]
    },
    {
     "data": {
      "application/vnd.plotly.v1+json": {
       "config": {
        "plotlyServerURL": "https://plot.ly"
       },
       "data": [
        {
         "hovertemplate": "<b>%{hovertext}</b><br><br>mes=2021-10<br>valor=%{marker.color}<br>latitud=%{lat}<br>longitud=%{lon}<extra></extra>",
         "hovertext": [
          "Barbosa - Torre Social",
          "Bello - I.E. Fernando Vélez",
          "Caldas - E U Joaquín Aristizabal",
          "Copacabana - Ciudadela Educativa La Vida",
          "Envigado - E.S.E. Santa Gertrudis",
          "Estación Tráfico Centro",
          "Estación Tráfico Sur",
          "Itagüí - Casa de Justicia Itagüí",
          "Itagüí - I.E. Concejo Municipal de Itagüí",
          "La Estrella - Hospital",
          "Medellin, Belén - I.E Pedro Justo Berrio",
          "Medellín, Altavista - I.E. Pedro Octavio Amado",
          "Medellín, Aranjuez - I.E Ciro Mendia",
          "Medellín, El Poblado - I.E INEM sede Santa Catalina",
          "Medellín, El Poblado - Tanques La Ye EPM",
          "Medellín, San Cristobal - Parque Biblioteca Fernando Botero",
          "Medellín, Villahermosa - Planta de producción de agua potable EPM",
          "Sabaneta - I.E. Rafael J. Mejía",
          "_OFF-Caldas - Corporacion Universitaria Lasallista"
         ],
         "lat": {
          "bdata": "Tp2ifnK/GUB1CHfCplkZQJbytcJPXxhAk2nZ/6VhGUA1jTdDu6wYQJf3gmCfAhlAewz74vebGECL1ptiH74YQCTi94CKrBhAQx8sY0OfGEDm+/N+7fIYQJy92CA44xhAZn0Uv3MpGUACy1u/qswYQKWc1DzsuhhAjL9Iw4QcGUC6iEp+HwkZQO8+IgH+lBhAF6yCYnVlGEA=",
          "dtype": "f8"
         },
         "legendgroup": "",
         "lon": {
          "bdata": "OmkrQCXVUsDIpeDfVuRSwDykGCDR6FLAf0Py303gUsDID/D/PuVSwPR8FwB05FLAJ6oSwCjoUsAwHu+fOOZSwDr/GyA96VLAd94hIDrpUsB6VPzfEedSwBkV3R8U51LAarP7n43jUsC6qdyf5uNSwGMfCaA941LA4o7cP7voUsDLhcq/FuNSwK6QA8DC51LAz3cBQN/oUsA=",
          "dtype": "f8"
         },
         "marker": {
          "color": {
           "bdata": "i0qnqHSK8j9+cPT1z5rxP8Ax5iddAfE/r/iKr/iK8T/TmCUQkZ3xPxuDmqpFEPI/KNmG41aB8T8aYJBhQUvxP0b3AifWHPE/6duiq9GL8T/0sZTAfmHxP+3AAiD0NfE/fCz+q+eg8T/0d7Ja3hjxP/y+3uFbh/I/JtcsoD7t8T9ZEH5ZEH7xP2cls26bsvE/KAo29NbC8T8=",
           "dtype": "f8"
          },
          "coloraxis": "coloraxis",
          "size": {
           "bdata": "i0qnqHSK8j9+cPT1z5rxP8Ax5iddAfE/r/iKr/iK8T/TmCUQkZ3xPxuDmqpFEPI/KNmG41aB8T8aYJBhQUvxP0b3AifWHPE/6duiq9GL8T/0sZTAfmHxP+3AAiD0NfE/fCz+q+eg8T/0d7Ja3hjxP/y+3uFbh/I/JtcsoD7t8T9ZEH5ZEH7xP2cls26bsvE/KAo29NbC8T8=",
           "dtype": "f8"
          },
          "sizemode": "area",
          "sizeref": 0.00614051939513478
         },
         "mode": "markers",
         "name": "",
         "showlegend": false,
         "subplot": "mapbox",
         "type": "scattermapbox"
        }
       ],
       "frames": [
        {
         "data": [
          {
           "hovertemplate": "<b>%{hovertext}</b><br><br>mes=2021-10<br>valor=%{marker.color}<br>latitud=%{lat}<br>longitud=%{lon}<extra></extra>",
           "hovertext": [
            "Barbosa - Torre Social",
            "Bello - I.E. Fernando Vélez",
            "Caldas - E U Joaquín Aristizabal",
            "Copacabana - Ciudadela Educativa La Vida",
            "Envigado - E.S.E. Santa Gertrudis",
            "Estación Tráfico Centro",
            "Estación Tráfico Sur",
            "Itagüí - Casa de Justicia Itagüí",
            "Itagüí - I.E. Concejo Municipal de Itagüí",
            "La Estrella - Hospital",
            "Medellin, Belén - I.E Pedro Justo Berrio",
            "Medellín, Altavista - I.E. Pedro Octavio Amado",
            "Medellín, Aranjuez - I.E Ciro Mendia",
            "Medellín, El Poblado - I.E INEM sede Santa Catalina",
            "Medellín, El Poblado - Tanques La Ye EPM",
            "Medellín, San Cristobal - Parque Biblioteca Fernando Botero",
            "Medellín, Villahermosa - Planta de producción de agua potable EPM",
            "Sabaneta - I.E. Rafael J. Mejía",
            "_OFF-Caldas - Corporacion Universitaria Lasallista"
           ],
           "lat": {
            "bdata": "Tp2ifnK/GUB1CHfCplkZQJbytcJPXxhAk2nZ/6VhGUA1jTdDu6wYQJf3gmCfAhlAewz74vebGECL1ptiH74YQCTi94CKrBhAQx8sY0OfGEDm+/N+7fIYQJy92CA44xhAZn0Uv3MpGUACy1u/qswYQKWc1DzsuhhAjL9Iw4QcGUC6iEp+HwkZQO8+IgH+lBhAF6yCYnVlGEA=",
            "dtype": "f8"
           },
           "legendgroup": "",
           "lon": {
            "bdata": "OmkrQCXVUsDIpeDfVuRSwDykGCDR6FLAf0Py303gUsDID/D/PuVSwPR8FwB05FLAJ6oSwCjoUsAwHu+fOOZSwDr/GyA96VLAd94hIDrpUsB6VPzfEedSwBkV3R8U51LAarP7n43jUsC6qdyf5uNSwGMfCaA941LA4o7cP7voUsDLhcq/FuNSwK6QA8DC51LAz3cBQN/oUsA=",
            "dtype": "f8"
           },
           "marker": {
            "color": {
             "bdata": "i0qnqHSK8j9+cPT1z5rxP8Ax5iddAfE/r/iKr/iK8T/TmCUQkZ3xPxuDmqpFEPI/KNmG41aB8T8aYJBhQUvxP0b3AifWHPE/6duiq9GL8T/0sZTAfmHxP+3AAiD0NfE/fCz+q+eg8T/0d7Ja3hjxP/y+3uFbh/I/JtcsoD7t8T9ZEH5ZEH7xP2cls26bsvE/KAo29NbC8T8=",
             "dtype": "f8"
            },
            "coloraxis": "coloraxis",
            "size": {
             "bdata": "i0qnqHSK8j9+cPT1z5rxP8Ax5iddAfE/r/iKr/iK8T/TmCUQkZ3xPxuDmqpFEPI/KNmG41aB8T8aYJBhQUvxP0b3AifWHPE/6duiq9GL8T/0sZTAfmHxP+3AAiD0NfE/fCz+q+eg8T/0d7Ja3hjxP/y+3uFbh/I/JtcsoD7t8T9ZEH5ZEH7xP2cls26bsvE/KAo29NbC8T8=",
             "dtype": "f8"
            },
            "sizemode": "area",
            "sizeref": 0.00614051939513478
           },
           "mode": "markers",
           "name": "",
           "showlegend": false,
           "subplot": "mapbox",
           "type": "scattermapbox"
          }
         ],
         "name": "2021-10"
        },
        {
         "data": [
          {
           "hovertemplate": "<b>%{hovertext}</b><br><br>mes=2021-11<br>valor=%{marker.color}<br>latitud=%{lat}<br>longitud=%{lon}<extra></extra>",
           "hovertext": [
            "Barbosa - Torre Social",
            "Bello - I.E. Fernando Vélez",
            "Caldas - E U Joaquín Aristizabal",
            "Copacabana - Ciudadela Educativa La Vida",
            "Envigado - E.S.E. Santa Gertrudis",
            "Estación Tráfico Centro",
            "Estación Tráfico Sur",
            "Itagüí - Casa de Justicia Itagüí",
            "Itagüí - I.E. Concejo Municipal de Itagüí",
            "La Estrella - Hospital",
            "Medellin, Belén - I.E Pedro Justo Berrio",
            "Medellín, Altavista - I.E. Pedro Octavio Amado",
            "Medellín, Aranjuez - I.E Ciro Mendia",
            "Medellín, El Poblado - I.E INEM sede Santa Catalina",
            "Medellín, El Poblado - Tanques La Ye EPM",
            "Medellín, San Cristobal - Parque Biblioteca Fernando Botero",
            "Medellín, Villahermosa - Planta de producción de agua potable EPM",
            "Sabaneta - I.E. Rafael J. Mejía",
            "_OFF-Caldas - Corporacion Universitaria Lasallista"
           ],
           "lat": {
            "bdata": "Tp2ifnK/GUB1CHfCplkZQJbytcJPXxhAk2nZ/6VhGUA1jTdDu6wYQJf3gmCfAhlAewz74vebGECL1ptiH74YQCTi94CKrBhAQx8sY0OfGEDm+/N+7fIYQJy92CA44xhAZn0Uv3MpGUACy1u/qswYQKWc1DzsuhhAjL9Iw4QcGUC6iEp+HwkZQO8+IgH+lBhAF6yCYnVlGEA=",
            "dtype": "f8"
           },
           "legendgroup": "",
           "lon": {
            "bdata": "OmkrQCXVUsDIpeDfVuRSwDykGCDR6FLAf0Py303gUsDID/D/PuVSwPR8FwB05FLAJ6oSwCjoUsAwHu+fOOZSwDr/GyA96VLAd94hIDrpUsB6VPzfEedSwBkV3R8U51LAarP7n43jUsC6qdyf5uNSwGMfCaA941LA4o7cP7voUsDLhcq/FuNSwK6QA8DC51LAz3cBQN/oUsA=",
            "dtype": "f8"
           },
           "marker": {
            "color": {
             "bdata": "4dfpxQ1+9T9VRPbfa7jxP5OguTQiFfE/W5kY7Pm58T8tq8T7CPrwP2Az/PTP9PA/8t52p4z89D+h8AJTDl/wP7Pr2HkZwPA/pQDUlxK48D93d3d3d3fwPyTjRDJOhPE/TXG6THG68D8oDpynB4bwP1GFH0NrnvA/QYiti0Qf8T+D+aLKrWXxP8mzE9hrQPE/oi/50msI8T8=",
             "dtype": "f8"
            },
            "coloraxis": "coloraxis",
            "size": {
             "bdata": "4dfpxQ1+9T9VRPbfa7jxP5OguTQiFfE/W5kY7Pm58T8tq8T7CPrwP2Az/PTP9PA/8t52p4z89D+h8AJTDl/wP7Pr2HkZwPA/pQDUlxK48D93d3d3d3fwPyTjRDJOhPE/TXG6THG68D8oDpynB4bwP1GFH0NrnvA/QYiti0Qf8T+D+aLKrWXxP8mzE9hrQPE/oi/50msI8T8=",
             "dtype": "f8"
            },
            "sizemode": "area",
            "sizeref": 0.00614051939513478
           },
           "mode": "markers",
           "name": "",
           "showlegend": false,
           "subplot": "mapbox",
           "type": "scattermapbox"
          }
         ],
         "name": "2021-11"
        },
        {
         "data": [
          {
           "hovertemplate": "<b>%{hovertext}</b><br><br>mes=2021-12<br>valor=%{marker.color}<br>latitud=%{lat}<br>longitud=%{lon}<extra></extra>",
           "hovertext": [
            "Barbosa - Torre Social",
            "Bello - I.E. Fernando Vélez",
            "Caldas - E U Joaquín Aristizabal",
            "Copacabana - Ciudadela Educativa La Vida",
            "Envigado - E.S.E. Santa Gertrudis",
            "Estación Tráfico Centro",
            "Estación Tráfico Sur",
            "Itagüí - Casa de Justicia Itagüí",
            "Itagüí - I.E. Concejo Municipal de Itagüí",
            "La Estrella - Hospital",
            "Medellin, Belén - I.E Pedro Justo Berrio",
            "Medellín, Altavista - I.E. Pedro Octavio Amado",
            "Medellín, Aranjuez - I.E Ciro Mendia",
            "Medellín, El Poblado - I.E INEM sede Santa Catalina",
            "Medellín, El Poblado - Tanques La Ye EPM",
            "Medellín, San Cristobal - Parque Biblioteca Fernando Botero",
            "Medellín, Villahermosa - Planta de producción de agua potable EPM",
            "Sabaneta - I.E. Rafael J. Mejía",
            "_OFF-Caldas - Corporacion Universitaria Lasallista"
           ],
           "lat": {
            "bdata": "Tp2ifnK/GUB1CHfCplkZQJbytcJPXxhAk2nZ/6VhGUA1jTdDu6wYQJf3gmCfAhlAewz74vebGECL1ptiH74YQCTi94CKrBhAQx8sY0OfGEDm+/N+7fIYQJy92CA44xhAZn0Uv3MpGUACy1u/qswYQKWc1DzsuhhAjL9Iw4QcGUC6iEp+HwkZQO8+IgH+lBhAF6yCYnVlGEA=",
            "dtype": "f8"
           },
           "legendgroup": "",
           "lon": {
            "bdata": "OmkrQCXVUsDIpeDfVuRSwDykGCDR6FLAf0Py303gUsDID/D/PuVSwPR8FwB05FLAJ6oSwCjoUsAwHu+fOOZSwDr/GyA96VLAd94hIDrpUsB6VPzfEedSwBkV3R8U51LAarP7n43jUsC6qdyf5uNSwGMfCaA941LA4o7cP7voUsDLhcq/FuNSwK6QA8DC51LAz3cBQN/oUsA=",
            "dtype": "f8"
           },
           "marker": {
            "color": {
             "bdata": "mr+yd2Gh8T/l5770+QryP9LcA7pUHvE/dTtUt0N18T8rjKvCuCrxP3WZ4nSZ4vA//EkAeJBn8T96VEZ/It7yPwFULy0AT/E/NHHrHSVv8D/pOoWuU+jwPyFHEnIkIfE/i0qvqPSK8T/ZWZCdBdnwP1lfWH4pnPA/JF5F4lUk8T9PafCuja3xP0yWv2T5S/E/RPO8wg/t8D8=",
             "dtype": "f8"
            },
            "coloraxis": "coloraxis",
            "size": {
             "bdata": "mr+yd2Gh8T/l5770+QryP9LcA7pUHvE/dTtUt0N18T8rjKvCuCrxP3WZ4nSZ4vA//EkAeJBn8T96VEZ/It7yPwFULy0AT/E/NHHrHSVv8D/pOoWuU+jwPyFHEnIkIfE/i0qvqPSK8T/ZWZCdBdnwP1lfWH4pnPA/JF5F4lUk8T9PafCuja3xP0yWv2T5S/E/RPO8wg/t8D8=",
             "dtype": "f8"
            },
            "sizemode": "area",
            "sizeref": 0.00614051939513478
           },
           "mode": "markers",
           "name": "",
           "showlegend": false,
           "subplot": "mapbox",
           "type": "scattermapbox"
          }
         ],
         "name": "2021-12"
        },
        {
         "data": [
          {
           "hovertemplate": "<b>%{hovertext}</b><br><br>mes=2022-01<br>valor=%{marker.color}<br>latitud=%{lat}<br>longitud=%{lon}<extra></extra>",
           "hovertext": [
            "Barbosa - Torre Social",
            "Bello - I.E. Fernando Vélez",
            "Caldas - E U Joaquín Aristizabal",
            "Copacabana - Ciudadela Educativa La Vida",
            "Envigado - E.S.E. Santa Gertrudis",
            "Estación Tráfico Centro",
            "Estación Tráfico Sur",
            "Itagüí - Casa de Justicia Itagüí",
            "Itagüí - I.E. Concejo Municipal de Itagüí",
            "La Estrella - Hospital",
            "Medellin, Belén - I.E Pedro Justo Berrio",
            "Medellín, Altavista - I.E. Pedro Octavio Amado",
            "Medellín, Aranjuez - I.E Ciro Mendia",
            "Medellín, El Poblado - I.E INEM sede Santa Catalina",
            "Medellín, El Poblado - Tanques La Ye EPM",
            "Medellín, San Cristobal - Parque Biblioteca Fernando Botero",
            "Medellín, Villahermosa - Planta de producción de agua potable EPM",
            "Sabaneta - I.E. Rafael J. Mejía",
            "_OFF-Caldas - Corporacion Universitaria Lasallista"
           ],
           "lat": {
            "bdata": "Tp2ifnK/GUB1CHfCplkZQJbytcJPXxhAk2nZ/6VhGUA1jTdDu6wYQJf3gmCfAhlAewz74vebGECL1ptiH74YQCTi94CKrBhAQx8sY0OfGEDm+/N+7fIYQJy92CA44xhAZn0Uv3MpGUACy1u/qswYQKWc1DzsuhhAjL9Iw4QcGUC6iEp+HwkZQO8+IgH+lBhAF6yCYnVlGEA=",
            "dtype": "f8"
           },
           "legendgroup": "",
           "lon": {
            "bdata": "OmkrQCXVUsDIpeDfVuRSwDykGCDR6FLAf0Py303gUsDID/D/PuVSwPR8FwB05FLAJ6oSwCjoUsAwHu+fOOZSwDr/GyA96VLAd94hIDrpUsB6VPzfEedSwBkV3R8U51LAarP7n43jUsC6qdyf5uNSwGMfCaA941LA4o7cP7voUsDLhcq/FuNSwK6QA8DC51LAz3cBQN/oUsA=",
            "dtype": "f8"
           },
           "marker": {
            "color": {
             "bdata": "Pd0ZyTNe9D+kvanJC6fwP+AvqxUt/PA/b0rspsRu8D+ZWIcwrYXwP6HISm/Y9fA/+ZUgJzBL8T/bIEynW+7wP0ebSQYrQvQ/pETb40238D9Q9vdkf0/yP5dddtlll/E/lHc6eaeT8D8RTg/h9BDxPzwNj6C9lfA/ih4Qrbb49D+wpAsK1bPxP3H3huwjQvQ/MqEoE4pS9D8=",
             "dtype": "f8"
            },
            "coloraxis": "coloraxis",
            "size": {
             "bdata": "Pd0ZyTNe9D+kvanJC6fwP+AvqxUt/PA/b0rspsRu8D+ZWIcwrYXwP6HISm/Y9fA/+ZUgJzBL8T/bIEynW+7wP0ebSQYrQvQ/pETb40238D9Q9vdkf0/yP5dddtlll/E/lHc6eaeT8D8RTg/h9BDxPzwNj6C9lfA/ih4Qrbb49D+wpAsK1bPxP3H3huwjQvQ/MqEoE4pS9D8=",
             "dtype": "f8"
            },
            "sizemode": "area",
            "sizeref": 0.00614051939513478
           },
           "mode": "markers",
           "name": "",
           "showlegend": false,
           "subplot": "mapbox",
           "type": "scattermapbox"
          }
         ],
         "name": "2022-01"
        },
        {
         "data": [
          {
           "hovertemplate": "<b>%{hovertext}</b><br><br>mes=2022-02<br>valor=%{marker.color}<br>latitud=%{lat}<br>longitud=%{lon}<extra></extra>",
           "hovertext": [
            "Barbosa - Torre Social",
            "Bello - I.E. Fernando Vélez",
            "Caldas - E U Joaquín Aristizabal",
            "Copacabana - Ciudadela Educativa La Vida",
            "Envigado - E.S.E. Santa Gertrudis",
            "Estación Tráfico Centro",
            "Estación Tráfico Sur",
            "Itagüí - Casa de Justicia Itagüí",
            "Itagüí - I.E. Concejo Municipal de Itagüí",
            "La Estrella - Hospital",
            "Medellin, Belén - I.E Pedro Justo Berrio",
            "Medellín, Altavista - I.E. Pedro Octavio Amado",
            "Medellín, Aranjuez - I.E Ciro Mendia",
            "Medellín, El Poblado - I.E INEM sede Santa Catalina",
            "Medellín, El Poblado - Tanques La Ye EPM",
            "Medellín, San Cristobal - Parque Biblioteca Fernando Botero",
            "Medellín, Villahermosa - Planta de producción de agua potable EPM",
            "Sabaneta - I.E. Rafael J. Mejía",
            "_OFF-Caldas - Corporacion Universitaria Lasallista"
           ],
           "lat": {
            "bdata": "Tp2ifnK/GUB1CHfCplkZQJbytcJPXxhAk2nZ/6VhGUA1jTdDu6wYQJf3gmCfAhlAewz74vebGECL1ptiH74YQCTi94CKrBhAQx8sY0OfGEDm+/N+7fIYQJy92CA44xhAZn0Uv3MpGUACy1u/qswYQKWc1DzsuhhAjL9Iw4QcGUC6iEp+HwkZQO8+IgH+lBhAF6yCYnVlGEA=",
            "dtype": "f8"
           },
           "legendgroup": "",
           "lon": {
            "bdata": "OmkrQCXVUsDIpeDfVuRSwDykGCDR6FLAf0Py303gUsDID/D/PuVSwPR8FwB05FLAJ6oSwCjoUsAwHu+fOOZSwDr/GyA96VLAd94hIDrpUsB6VPzfEedSwBkV3R8U51LAarP7n43jUsC6qdyf5uNSwGMfCaA941LA4o7cP7voUsDLhcq/FuNSwK6QA8DC51LAz3cBQN/oUsA=",
            "dtype": "f8"
           },
           "marker": {
            "color": {
             "bdata": "NDzIi+mB8T9MU33km4zwPz6Xdw0TcfA/JweaN0Pf8D8LiE2lIefwP0+u4NDzsvM/IfNQPPxV8T9GlOyHd+rwP8GQ0/oJpPA/vkh+fB1g8D/60X9wPMrwP4CdcbPQ5PA/7Md+7Me+8D9xeO09RfrwPwJRX1PBA/E/2gXEptIQ8T/DMAzDMEzxP1h8xVd8xfA/DuMcwOir8D8=",
             "dtype": "f8"
            },
            "coloraxis": "coloraxis",
            "size": {
             "bdata": "NDzIi+mB8T9MU33km4zwPz6Xdw0TcfA/JweaN0Pf8D8LiE2lIefwP0+u4NDzsvM/IfNQPPxV8T9GlOyHd+rwP8GQ0/oJpPA/vkh+fB1g8D/60X9wPMrwP4CdcbPQ5PA/7Md+7Me+8D9xeO09RfrwPwJRX1PBA/E/2gXEptIQ8T/DMAzDMEzxP1h8xVd8xfA/DuMcwOir8D8=",
             "dtype": "f8"
            },
            "sizemode": "area",
            "sizeref": 0.00614051939513478
           },
           "mode": "markers",
           "name": "",
           "showlegend": false,
           "subplot": "mapbox",
           "type": "scattermapbox"
          }
         ],
         "name": "2022-02"
        },
        {
         "data": [
          {
           "hovertemplate": "<b>%{hovertext}</b><br><br>mes=2022-03<br>valor=%{marker.color}<br>latitud=%{lat}<br>longitud=%{lon}<extra></extra>",
           "hovertext": [
            "Barbosa - Torre Social",
            "Bello - I.E. Fernando Vélez",
            "Caldas - E U Joaquín Aristizabal",
            "Copacabana - Ciudadela Educativa La Vida",
            "Envigado - E.S.E. Santa Gertrudis",
            "Estación Tráfico Centro",
            "Estación Tráfico Sur",
            "Itagüí - Casa de Justicia Itagüí",
            "Itagüí - I.E. Concejo Municipal de Itagüí",
            "La Estrella - Hospital",
            "Medellin, Belén - I.E Pedro Justo Berrio",
            "Medellín, Altavista - I.E. Pedro Octavio Amado",
            "Medellín, Aranjuez - I.E Ciro Mendia",
            "Medellín, El Poblado - I.E INEM sede Santa Catalina",
            "Medellín, El Poblado - Tanques La Ye EPM",
            "Medellín, San Cristobal - Parque Biblioteca Fernando Botero",
            "Medellín, Villahermosa - Planta de producción de agua potable EPM",
            "Sabaneta - I.E. Rafael J. Mejía",
            "_OFF-Caldas - Corporacion Universitaria Lasallista",
            "_OFF-Girardota - S.O.S Aburrá Norte"
           ],
           "lat": {
            "bdata": "Tp2ifnK/GUB1CHfCplkZQJbytcJPXxhAk2nZ/6VhGUA1jTdDu6wYQJf3gmCfAhlAewz74vebGECL1ptiH74YQCTi94CKrBhAQx8sY0OfGEDm+/N+7fIYQJy92CA44xhAZn0Uv3MpGUACy1u/qswYQKWc1DzsuhhAjL9Iw4QcGUC6iEp+HwkZQO8+IgH+lBhAF6yCYnVlGEDs4Sb+g4MZQA==",
            "dtype": "f8"
           },
           "legendgroup": "",
           "lon": {
            "bdata": "OmkrQCXVUsDIpeDfVuRSwDykGCDR6FLAf0Py303gUsDID/D/PuVSwPR8FwB05FLAJ6oSwCjoUsAwHu+fOOZSwDr/GyA96VLAd94hIDrpUsB6VPzfEedSwBkV3R8U51LAarP7n43jUsC6qdyf5uNSwGMfCaA941LA4o7cP7voUsDLhcq/FuNSwK6QA8DC51LAz3cBQN/oUsDJty2A39xSwA==",
            "dtype": "f8"
           },
           "marker": {
            "color": {
             "bdata": "lB6iPnc/8T+5c5E7F7nwP7XX+3JxEvE/yTJwbVmI8D+GfVzYx4XwP81G28DzsPA/eq4FTsGm8T+wbdOnA8rwP7vKenh51PA/rYA8/KDR8D9jTzP2NGPxP9GE+din5vE/yIV9XNjH8D+9TcbbZLzwP2aXXXbZZfE/tDhJi5O08D/cobodqtvwP24AVU10oPE/ZOGuwIE58T8AAAAAAADwPw==",
             "dtype": "f8"
            },
            "coloraxis": "coloraxis",
            "size": {
             "bdata": "lB6iPnc/8T+5c5E7F7nwP7XX+3JxEvE/yTJwbVmI8D+GfVzYx4XwP81G28DzsPA/eq4FTsGm8T+wbdOnA8rwP7vKenh51PA/rYA8/KDR8D9jTzP2NGPxP9GE+din5vE/yIV9XNjH8D+9TcbbZLzwP2aXXXbZZfE/tDhJi5O08D/cobodqtvwP24AVU10oPE/ZOGuwIE58T8AAAAAAADwPw==",
             "dtype": "f8"
            },
            "sizemode": "area",
            "sizeref": 0.00614051939513478
           },
           "mode": "markers",
           "name": "",
           "showlegend": false,
           "subplot": "mapbox",
           "type": "scattermapbox"
          }
         ],
         "name": "2022-03"
        },
        {
         "data": [
          {
           "hovertemplate": "<b>%{hovertext}</b><br><br>mes=2022-04<br>valor=%{marker.color}<br>latitud=%{lat}<br>longitud=%{lon}<extra></extra>",
           "hovertext": [
            "Barbosa - Torre Social",
            "Bello - I.E. Fernando Vélez",
            "Caldas - E U Joaquín Aristizabal",
            "Copacabana - Ciudadela Educativa La Vida",
            "Envigado - E.S.E. Santa Gertrudis",
            "Estación Tráfico Centro",
            "Estación Tráfico Sur",
            "Itagüí - Casa de Justicia Itagüí",
            "Itagüí - I.E. Concejo Municipal de Itagüí",
            "La Estrella - Hospital",
            "Medellin, Belén - I.E Pedro Justo Berrio",
            "Medellín, Altavista - I.E. Pedro Octavio Amado",
            "Medellín, Aranjuez - I.E Ciro Mendia",
            "Medellín, El Poblado - I.E INEM sede Santa Catalina",
            "Medellín, El Poblado - Tanques La Ye EPM",
            "Medellín, San Cristobal - Parque Biblioteca Fernando Botero",
            "Medellín, Villahermosa - Planta de producción de agua potable EPM",
            "Sabaneta - I.E. Rafael J. Mejía",
            "_OFF-Caldas - Corporacion Universitaria Lasallista"
           ],
           "lat": {
            "bdata": "Tp2ifnK/GUB1CHfCplkZQJbytcJPXxhAk2nZ/6VhGUA1jTdDu6wYQJf3gmCfAhlAewz74vebGECL1ptiH74YQCTi94CKrBhAQx8sY0OfGEDm+/N+7fIYQJy92CA44xhAZn0Uv3MpGUACy1u/qswYQKWc1DzsuhhAjL9Iw4QcGUC6iEp+HwkZQO8+IgH+lBhAF6yCYnVlGEA=",
            "dtype": "f8"
           },
           "legendgroup": "",
           "lon": {
            "bdata": "OmkrQCXVUsDIpeDfVuRSwDykGCDR6FLAf0Py303gUsDID/D/PuVSwPR8FwB05FLAJ6oSwCjoUsAwHu+fOOZSwDr/GyA96VLAd94hIDrpUsB6VPzfEedSwBkV3R8U51LAarP7n43jUsC6qdyf5uNSwGMfCaA941LA4o7cP7voUsDLhcq/FuNSwK6QA8DC51LAz3cBQN/oUsA=",
            "dtype": "f8"
           },
           "marker": {
            "color": {
             "bdata": "08BLD6Jb8j+r+wJ4yM/wP0/gOGpM5/U/pHA9Ctcj8T9Sr2baLyD0P2ClP36mUvE/iufDLW9Y8j//UOQMppjwP4TBCQ7FPPE/BhpwLJV/8D82iHzopOPwPwYUiGKjyvA/0HDpTxPs8D/ReIu5xM3wP9c7UChNEPE/bg7NTjUn8T+SXyz5xRLxP92F1Gfrt/E/IRlMIdWq8T8=",
             "dtype": "f8"
            },
            "coloraxis": "coloraxis",
            "size": {
             "bdata": "08BLD6Jb8j+r+wJ4yM/wP0/gOGpM5/U/pHA9Ctcj8T9Sr2baLyD0P2ClP36mUvE/iufDLW9Y8j//UOQMppjwP4TBCQ7FPPE/BhpwLJV/8D82iHzopOPwPwYUiGKjyvA/0HDpTxPs8D/ReIu5xM3wP9c7UChNEPE/bg7NTjUn8T+SXyz5xRLxP92F1Gfrt/E/IRlMIdWq8T8=",
             "dtype": "f8"
            },
            "sizemode": "area",
            "sizeref": 0.00614051939513478
           },
           "mode": "markers",
           "name": "",
           "showlegend": false,
           "subplot": "mapbox",
           "type": "scattermapbox"
          }
         ],
         "name": "2022-04"
        },
        {
         "data": [
          {
           "hovertemplate": "<b>%{hovertext}</b><br><br>mes=2022-05<br>valor=%{marker.color}<br>latitud=%{lat}<br>longitud=%{lon}<extra></extra>",
           "hovertext": [
            "Barbosa - Torre Social",
            "Bello - I.E. Fernando Vélez",
            "Caldas - E U Joaquín Aristizabal",
            "Copacabana - Ciudadela Educativa La Vida",
            "Envigado - E.S.E. Santa Gertrudis",
            "Estación Tráfico Centro",
            "Estación Tráfico Sur",
            "Itagüí - Casa de Justicia Itagüí",
            "Itagüí - I.E. Concejo Municipal de Itagüí",
            "La Estrella - Hospital",
            "Medellin, Belén - I.E Pedro Justo Berrio",
            "Medellín, Altavista - I.E. Pedro Octavio Amado",
            "Medellín, Aranjuez - I.E Ciro Mendia",
            "Medellín, El Poblado - I.E INEM sede Santa Catalina",
            "Medellín, El Poblado - Tanques La Ye EPM",
            "Medellín, San Cristobal - Parque Biblioteca Fernando Botero",
            "Medellín, Villahermosa - Planta de producción de agua potable EPM",
            "Sabaneta - I.E. Rafael J. Mejía",
            "_OFF-Caldas - Corporacion Universitaria Lasallista"
           ],
           "lat": {
            "bdata": "Tp2ifnK/GUB1CHfCplkZQJbytcJPXxhAk2nZ/6VhGUA1jTdDu6wYQJf3gmCfAhlAewz74vebGECL1ptiH74YQCTi94CKrBhAQx8sY0OfGEDm+/N+7fIYQJy92CA44xhAZn0Uv3MpGUACy1u/qswYQKWc1DzsuhhAjL9Iw4QcGUC6iEp+HwkZQO8+IgH+lBhAF6yCYnVlGEA=",
            "dtype": "f8"
           },
           "legendgroup": "",
           "lon": {
            "bdata": "OmkrQCXVUsDIpeDfVuRSwDykGCDR6FLAf0Py303gUsDID/D/PuVSwPR8FwB05FLAJ6oSwCjoUsAwHu+fOOZSwDr/GyA96VLAd94hIDrpUsB6VPzfEedSwBkV3R8U51LAarP7n43jUsC6qdyf5uNSwGMfCaA941LA4o7cP7voUsDLhcq/FuNSwK6QA8DC51LAz3cBQN/oUsA=",
            "dtype": "f8"
           },
           "marker": {
            "color": {
             "bdata": "THaDvLON8z+3/W4iYdrwPyNC5CQ/xfA/ATPYxQBs8T8G8BZIUPzwP2Z92ffKP/E/hc6uTlOR8j94YyPRz4vwPyc+cid/LPE/ETXhSBob9j/Gcgg1iMvwPz55RYQWevQ/DjfxADSF8T+W/GLJL5bwP4D6e7PSQfE/KhVnHz7D8j9V4CgRD7z0PyOSZdIzIvE/gI2anhKG8T8=",
             "dtype": "f8"
            },
            "coloraxis": "coloraxis",
            "size": {
             "bdata": "THaDvLON8z+3/W4iYdrwPyNC5CQ/xfA/ATPYxQBs8T8G8BZIUPzwP2Z92ffKP/E/hc6uTlOR8j94YyPRz4vwPyc+cid/LPE/ETXhSBob9j/Gcgg1iMvwPz55RYQWevQ/DjfxADSF8T+W/GLJL5bwP4D6e7PSQfE/KhVnHz7D8j9V4CgRD7z0PyOSZdIzIvE/gI2anhKG8T8=",
             "dtype": "f8"
            },
            "sizemode": "area",
            "sizeref": 0.00614051939513478
           },
           "mode": "markers",
           "name": "",
           "showlegend": false,
           "subplot": "mapbox",
           "type": "scattermapbox"
          }
         ],
         "name": "2022-05"
        },
        {
         "data": [
          {
           "hovertemplate": "<b>%{hovertext}</b><br><br>mes=2022-06<br>valor=%{marker.color}<br>latitud=%{lat}<br>longitud=%{lon}<extra></extra>",
           "hovertext": [
            "Barbosa - Torre Social",
            "Bello - I.E. Fernando Vélez",
            "Caldas - E U Joaquín Aristizabal",
            "Copacabana - Ciudadela Educativa La Vida",
            "Envigado - E.S.E. Santa Gertrudis",
            "Estación Tráfico Centro",
            "Estación Tráfico Sur",
            "Itagüí - Casa de Justicia Itagüí",
            "Itagüí - I.E. Concejo Municipal de Itagüí",
            "La Estrella - Hospital",
            "Medellin, Belén - I.E Pedro Justo Berrio",
            "Medellín, Altavista - I.E. Pedro Octavio Amado",
            "Medellín, Aranjuez - I.E Ciro Mendia",
            "Medellín, El Poblado - I.E INEM sede Santa Catalina",
            "Medellín, El Poblado - Tanques La Ye EPM",
            "Medellín, San Cristobal - Parque Biblioteca Fernando Botero",
            "Medellín, Villahermosa - Planta de producción de agua potable EPM",
            "Sabaneta - I.E. Rafael J. Mejía"
           ],
           "lat": {
            "bdata": "Tp2ifnK/GUB1CHfCplkZQJbytcJPXxhAk2nZ/6VhGUA1jTdDu6wYQJf3gmCfAhlAewz74vebGECL1ptiH74YQCTi94CKrBhAQx8sY0OfGEDm+/N+7fIYQJy92CA44xhAZn0Uv3MpGUACy1u/qswYQKWc1DzsuhhAjL9Iw4QcGUC6iEp+HwkZQO8+IgH+lBhA",
            "dtype": "f8"
           },
           "legendgroup": "",
           "lon": {
            "bdata": "OmkrQCXVUsDIpeDfVuRSwDykGCDR6FLAf0Py303gUsDID/D/PuVSwPR8FwB05FLAJ6oSwCjoUsAwHu+fOOZSwDr/GyA96VLAd94hIDrpUsB6VPzfEedSwBkV3R8U51LAarP7n43jUsC6qdyf5uNSwGMfCaA941LA4o7cP7voUsDLhcq/FuNSwK6QA8DC51LA",
            "dtype": "f8"
           },
           "marker": {
            "color": {
             "bdata": "KTaqhMVs8j9TlFCZ79DxPx2ASXkPDPE/Y3hV48wV8T8rrfsW/zPxPxj5+xLLi/E/x41mtD428j9gUt4Dw6vwP0YBBOhGevE/u45mfYSP8D/3lO7tnlTxPzNiRewN7PA/rwC511zI8D/NzMzMzMz0P6BlP8eW1/I/uPifrSH89D/n1cSzohHxP8FZGSBSDfI/",
             "dtype": "f8"
            },
            "coloraxis": "coloraxis",
            "size": {
             "bdata": "KTaqhMVs8j9TlFCZ79DxPx2ASXkPDPE/Y3hV48wV8T8rrfsW/zPxPxj5+xLLi/E/x41mtD428j9gUt4Dw6vwP0YBBOhGevE/u45mfYSP8D/3lO7tnlTxPzNiRewN7PA/rwC511zI8D/NzMzMzMz0P6BlP8eW1/I/uPifrSH89D/n1cSzohHxP8FZGSBSDfI/",
             "dtype": "f8"
            },
            "sizemode": "area",
            "sizeref": 0.00614051939513478
           },
           "mode": "markers",
           "name": "",
           "showlegend": false,
           "subplot": "mapbox",
           "type": "scattermapbox"
          }
         ],
         "name": "2022-06"
        },
        {
         "data": [
          {
           "hovertemplate": "<b>%{hovertext}</b><br><br>mes=2022-07<br>valor=%{marker.color}<br>latitud=%{lat}<br>longitud=%{lon}<extra></extra>",
           "hovertext": [
            "Barbosa - Torre Social",
            "Bello - I.E. Fernando Vélez",
            "Caldas - E U Joaquín Aristizabal",
            "Copacabana - Ciudadela Educativa La Vida",
            "Envigado - E.S.E. Santa Gertrudis",
            "Estación Tráfico Centro",
            "Estación Tráfico Sur",
            "Itagüí - Casa de Justicia Itagüí",
            "Itagüí - I.E. Concejo Municipal de Itagüí",
            "La Estrella - Hospital",
            "Medellin, Belén - I.E Pedro Justo Berrio",
            "Medellín, Altavista - I.E. Pedro Octavio Amado",
            "Medellín, Aranjuez - I.E Ciro Mendia",
            "Medellín, El Poblado - I.E INEM sede Santa Catalina",
            "Medellín, El Poblado - Tanques La Ye EPM",
            "Medellín, San Cristobal - Parque Biblioteca Fernando Botero",
            "Medellín, Villahermosa - Planta de producción de agua potable EPM",
            "Sabaneta - I.E. Rafael J. Mejía"
           ],
           "lat": {
            "bdata": "Tp2ifnK/GUB1CHfCplkZQJbytcJPXxhAk2nZ/6VhGUA1jTdDu6wYQJf3gmCfAhlAewz74vebGECL1ptiH74YQCTi94CKrBhAQx8sY0OfGEDm+/N+7fIYQJy92CA44xhAZn0Uv3MpGUACy1u/qswYQKWc1DzsuhhAjL9Iw4QcGUC6iEp+HwkZQO8+IgH+lBhA",
            "dtype": "f8"
           },
           "legendgroup": "",
           "lon": {
            "bdata": "OmkrQCXVUsDIpeDfVuRSwDykGCDR6FLAf0Py303gUsDID/D/PuVSwPR8FwB05FLAJ6oSwCjoUsAwHu+fOOZSwDr/GyA96VLAd94hIDrpUsB6VPzfEedSwBkV3R8U51LAarP7n43jUsC6qdyf5uNSwGMfCaA941LA4o7cP7voUsDLhcq/FuNSwK6QA8DC51LA",
            "dtype": "f8"
           },
           "marker": {
            "color": {
             "bdata": "v+7bthRP8j9l72tCUPbwP0y+rWNzA/E/c4nFTTs/9D+Tf+1PsW/xP2Tor+xkcfE/lupLiODV8z81FbW5t6HxP+Nyx8cQ9vA/qiBZG+/08D+X7EKKo0H0P/+dSGWFP/E/0VaD5wgU8T/DSjWsVMPxP7aOBn90uPE/P17JO/ne8D/nwWMePObxP2c8MSQmsPE/",
             "dtype": "f8"
            },
            "coloraxis": "coloraxis",
            "size": {
             "bdata": "v+7bthRP8j9l72tCUPbwP0y+rWNzA/E/c4nFTTs/9D+Tf+1PsW/xP2Tor+xkcfE/lupLiODV8z81FbW5t6HxP+Nyx8cQ9vA/qiBZG+/08D+X7EKKo0H0P/+dSGWFP/E/0VaD5wgU8T/DSjWsVMPxP7aOBn90uPE/P17JO/ne8D/nwWMePObxP2c8MSQmsPE/",
             "dtype": "f8"
            },
            "sizemode": "area",
            "sizeref": 0.00614051939513478
           },
           "mode": "markers",
           "name": "",
           "showlegend": false,
           "subplot": "mapbox",
           "type": "scattermapbox"
          }
         ],
         "name": "2022-07"
        },
        {
         "data": [
          {
           "hovertemplate": "<b>%{hovertext}</b><br><br>mes=2022-08<br>valor=%{marker.color}<br>latitud=%{lat}<br>longitud=%{lon}<extra></extra>",
           "hovertext": [
            "Barbosa - Torre Social",
            "Bello - I.E. Fernando Vélez",
            "Caldas - E U Joaquín Aristizabal",
            "Copacabana - Ciudadela Educativa La Vida",
            "Envigado - E.S.E. Santa Gertrudis",
            "Estación Tráfico Centro",
            "Estación Tráfico Sur",
            "Itagüí - Casa de Justicia Itagüí",
            "Itagüí - I.E. Concejo Municipal de Itagüí",
            "La Estrella - Hospital",
            "Medellin, Belén - I.E Pedro Justo Berrio",
            "Medellín, Altavista - I.E. Pedro Octavio Amado",
            "Medellín, Aranjuez - I.E Ciro Mendia",
            "Medellín, El Poblado - I.E INEM sede Santa Catalina",
            "Medellín, El Poblado - Tanques La Ye EPM",
            "Medellín, San Cristobal - Parque Biblioteca Fernando Botero",
            "Medellín, Villahermosa - Planta de producción de agua potable EPM",
            "Sabaneta - I.E. Rafael J. Mejía"
           ],
           "lat": {
            "bdata": "Tp2ifnK/GUB1CHfCplkZQJbytcJPXxhAk2nZ/6VhGUA1jTdDu6wYQJf3gmCfAhlAewz74vebGECL1ptiH74YQCTi94CKrBhAQx8sY0OfGEDm+/N+7fIYQJy92CA44xhAZn0Uv3MpGUACy1u/qswYQKWc1DzsuhhAjL9Iw4QcGUC6iEp+HwkZQO8+IgH+lBhA",
            "dtype": "f8"
           },
           "legendgroup": "",
           "lon": {
            "bdata": "OmkrQCXVUsDIpeDfVuRSwDykGCDR6FLAf0Py303gUsDID/D/PuVSwPR8FwB05FLAJ6oSwCjoUsAwHu+fOOZSwDr/GyA96VLAd94hIDrpUsB6VPzfEedSwBkV3R8U51LAarP7n43jUsC6qdyf5uNSwGMfCaA941LA4o7cP7voUsDLhcq/FuNSwK6QA8DC51LA",
            "dtype": "f8"
           },
           "marker": {
            "color": {
             "bdata": "VQ2HeZew8j//b/6H+tvwPy40DIlPqfE/4NwCzi3g8D9E/qGKe0TxP3koZWKw9PE/OLWUyU4x8j/FNK/z8On0P0Myefur6/A/Kg0599kF8T/Q4lhMqLDwP7QxjPjbg/E/AKs42sPS8D/zm4MwAxnxP1HH3UGpqvA/d7mJjUcO8T8nmmiiiSbxP6KCVfuV0PE/",
             "dtype": "f8"
            },
            "coloraxis": "coloraxis",
            "size": {
             "bdata": "VQ2HeZew8j//b/6H+tvwPy40DIlPqfE/4NwCzi3g8D9E/qGKe0TxP3koZWKw9PE/OLWUyU4x8j/FNK/z8On0P0Myefur6/A/Kg0599kF8T/Q4lhMqLDwP7QxjPjbg/E/AKs42sPS8D/zm4MwAxnxP1HH3UGpqvA/d7mJjUcO8T8nmmiiiSbxP6KCVfuV0PE/",
             "dtype": "f8"
            },
            "sizemode": "area",
            "sizeref": 0.00614051939513478
           },
           "mode": "markers",
           "name": "",
           "showlegend": false,
           "subplot": "mapbox",
           "type": "scattermapbox"
          }
         ],
         "name": "2022-08"
        },
        {
         "data": [
          {
           "hovertemplate": "<b>%{hovertext}</b><br><br>mes=2022-09<br>valor=%{marker.color}<br>latitud=%{lat}<br>longitud=%{lon}<extra></extra>",
           "hovertext": [
            "Barbosa - Torre Social",
            "Bello - I.E. Fernando Vélez",
            "Caldas - E U Joaquín Aristizabal",
            "Copacabana - Ciudadela Educativa La Vida",
            "Envigado - E.S.E. Santa Gertrudis",
            "Estación Tráfico Centro",
            "Estación Tráfico Sur",
            "Itagüí - Casa de Justicia Itagüí",
            "Itagüí - I.E. Concejo Municipal de Itagüí",
            "La Estrella - Hospital",
            "Medellin, Belén - I.E Pedro Justo Berrio",
            "Medellín, Altavista - I.E. Pedro Octavio Amado",
            "Medellín, Aranjuez - I.E Ciro Mendia",
            "Medellín, El Poblado - I.E INEM sede Santa Catalina",
            "Medellín, El Poblado - Tanques La Ye EPM",
            "Medellín, San Cristobal - Parque Biblioteca Fernando Botero",
            "Medellín, Villahermosa - Planta de producción de agua potable EPM",
            "Sabaneta - I.E. Rafael J. Mejía"
           ],
           "lat": {
            "bdata": "Tp2ifnK/GUB1CHfCplkZQJbytcJPXxhAk2nZ/6VhGUA1jTdDu6wYQJf3gmCfAhlAewz74vebGECL1ptiH74YQCTi94CKrBhAQx8sY0OfGEDm+/N+7fIYQJy92CA44xhAZn0Uv3MpGUACy1u/qswYQKWc1DzsuhhAjL9Iw4QcGUC6iEp+HwkZQO8+IgH+lBhA",
            "dtype": "f8"
           },
           "legendgroup": "",
           "lon": {
            "bdata": "OmkrQCXVUsDIpeDfVuRSwDykGCDR6FLAf0Py303gUsDID/D/PuVSwPR8FwB05FLAJ6oSwCjoUsAwHu+fOOZSwDr/GyA96VLAd94hIDrpUsB6VPzfEedSwBkV3R8U51LAarP7n43jUsC6qdyf5uNSwGMfCaA941LA4o7cP7voUsDLhcq/FuNSwK6QA8DC51LA",
            "dtype": "f8"
           },
           "marker": {
            "color": {
             "bdata": "pChWkzuK8j+4s4LVEtX0P0EV7fKiGfE/BBA4xK7j8D8GSO65sADxP7cBBpWJYfE/aHq3eTAd8j+gN1wjWZDxP+itr8MaNfI/QRptCjgl8T9dBgL1zVjxP1ZLIJSwFvE/M7LJz+1K8T9ZyeDGXDDxP9B3BRULvfA/zcLxapt78j+i23I3al/xP3NAS1m4API/",
             "dtype": "f8"
            },
            "coloraxis": "coloraxis",
            "size": {
             "bdata": "pChWkzuK8j+4s4LVEtX0P0EV7fKiGfE/BBA4xK7j8D8GSO65sADxP7cBBpWJYfE/aHq3eTAd8j+gN1wjWZDxP+itr8MaNfI/QRptCjgl8T9dBgL1zVjxP1ZLIJSwFvE/M7LJz+1K8T9ZyeDGXDDxP9B3BRULvfA/zcLxapt78j+i23I3al/xP3NAS1m4API/",
             "dtype": "f8"
            },
            "sizemode": "area",
            "sizeref": 0.00614051939513478
           },
           "mode": "markers",
           "name": "",
           "showlegend": false,
           "subplot": "mapbox",
           "type": "scattermapbox"
          }
         ],
         "name": "2022-09"
        },
        {
         "data": [
          {
           "hovertemplate": "<b>%{hovertext}</b><br><br>mes=2022-10<br>valor=%{marker.color}<br>latitud=%{lat}<br>longitud=%{lon}<extra></extra>",
           "hovertext": [
            "Barbosa - Torre Social",
            "Bello - I.E. Fernando Vélez",
            "Caldas - E U Joaquín Aristizabal",
            "Copacabana - Ciudadela Educativa La Vida",
            "Envigado - E.S.E. Santa Gertrudis",
            "Estación Tráfico Centro",
            "Estación Tráfico Sur",
            "Itagüí - Casa de Justicia Itagüí",
            "Itagüí - I.E. Concejo Municipal de Itagüí",
            "La Estrella - Hospital",
            "Medellin, Belén - I.E Pedro Justo Berrio",
            "Medellín, Altavista - I.E. Pedro Octavio Amado",
            "Medellín, Aranjuez - I.E Ciro Mendia",
            "Medellín, El Poblado - I.E INEM sede Santa Catalina",
            "Medellín, El Poblado - Tanques La Ye EPM",
            "Medellín, San Cristobal - Parque Biblioteca Fernando Botero",
            "Medellín, Villahermosa - Planta de producción de agua potable EPM",
            "Sabaneta - I.E. Rafael J. Mejía"
           ],
           "lat": {
            "bdata": "Tp2ifnK/GUB1CHfCplkZQJbytcJPXxhAk2nZ/6VhGUA1jTdDu6wYQJf3gmCfAhlAewz74vebGECL1ptiH74YQCTi94CKrBhAQx8sY0OfGEDm+/N+7fIYQJy92CA44xhAZn0Uv3MpGUACy1u/qswYQKWc1DzsuhhAjL9Iw4QcGUC6iEp+HwkZQO8+IgH+lBhA",
            "dtype": "f8"
           },
           "legendgroup": "",
           "lon": {
            "bdata": "OmkrQCXVUsDIpeDfVuRSwDykGCDR6FLAf0Py303gUsDID/D/PuVSwPR8FwB05FLAJ6oSwCjoUsAwHu+fOOZSwDr/GyA96VLAd94hIDrpUsB6VPzfEedSwBkV3R8U51LAarP7n43jUsC6qdyf5uNSwGMfCaA941LA4o7cP7voUsDLhcq/FuNSwK6QA8DC51LA",
            "dtype": "f8"
           },
           "marker": {
            "color": {
             "bdata": "2ujlTDgJ8T+FaglQqJbwPzfcu+UJzPA/Cokwwcnc8D/EEncohV7xP1dDw1QtM/E/OY8kbsXU8j/YUdLvFBLxP9eYncQ3G/E/fOKsLDSz8j9/2zIoYLrwP7/GXzx2RvE/Jf1OIREm8D9pWuWL4Z/wP3s5UlDaRfE/KgyKqzxc8j/YUdLvFBLxPxq3vpbouvI/",
             "dtype": "f8"
            },
            "coloraxis": "coloraxis",
            "size": {
             "bdata": "2ujlTDgJ8T+FaglQqJbwPzfcu+UJzPA/Cokwwcnc8D/EEncohV7xP1dDw1QtM/E/OY8kbsXU8j/YUdLvFBLxP9eYncQ3G/E/fOKsLDSz8j9/2zIoYLrwP7/GXzx2RvE/Jf1OIREm8D9pWuWL4Z/wP3s5UlDaRfE/KgyKqzxc8j/YUdLvFBLxPxq3vpbouvI/",
             "dtype": "f8"
            },
            "sizemode": "area",
            "sizeref": 0.00614051939513478
           },
           "mode": "markers",
           "name": "",
           "showlegend": false,
           "subplot": "mapbox",
           "type": "scattermapbox"
          }
         ],
         "name": "2022-10"
        }
       ],
       "layout": {
        "coloraxis": {
         "colorbar": {
          "title": {
           "text": "valor"
          }
         },
         "colorscale": [
          [
           0,
           "rgb(255,245,240)"
          ],
          [
           0.125,
           "rgb(254,224,210)"
          ],
          [
           0.25,
           "rgb(252,187,161)"
          ],
          [
           0.375,
           "rgb(252,146,114)"
          ],
          [
           0.5,
           "rgb(251,106,74)"
          ],
          [
           0.625,
           "rgb(239,59,44)"
          ],
          [
           0.75,
           "rgb(203,24,29)"
          ],
          [
           0.875,
           "rgb(165,15,21)"
          ],
          [
           1,
           "rgb(103,0,13)"
          ]
         ]
        },
        "legend": {
         "itemsizing": "constant",
         "tracegroupgap": 0
        },
        "mapbox": {
         "center": {
          "lat": 6.2247214251028815,
          "lon": -75.57923954814815
         },
         "domain": {
          "x": [
           0,
           1
          ],
          "y": [
           0,
           1
          ]
         },
         "style": "carto-positron",
         "zoom": 10
        },
        "margin": {
         "b": 0,
         "l": 0,
         "r": 0,
         "t": 40
        },
        "sliders": [
         {
          "active": 0,
          "currentvalue": {
           "prefix": "mes="
          },
          "len": 0.9,
          "pad": {
           "b": 10,
           "t": 60
          },
          "steps": [
           {
            "args": [
             [
              "2021-10"
             ],
             {
              "frame": {
               "duration": 0,
               "redraw": true
              },
              "fromcurrent": true,
              "mode": "immediate",
              "transition": {
               "duration": 0,
               "easing": "linear"
              }
             }
            ],
            "label": "2021-10",
            "method": "animate"
           },
           {
            "args": [
             [
              "2021-11"
             ],
             {
              "frame": {
               "duration": 0,
               "redraw": true
              },
              "fromcurrent": true,
              "mode": "immediate",
              "transition": {
               "duration": 0,
               "easing": "linear"
              }
             }
            ],
            "label": "2021-11",
            "method": "animate"
           },
           {
            "args": [
             [
              "2021-12"
             ],
             {
              "frame": {
               "duration": 0,
               "redraw": true
              },
              "fromcurrent": true,
              "mode": "immediate",
              "transition": {
               "duration": 0,
               "easing": "linear"
              }
             }
            ],
            "label": "2021-12",
            "method": "animate"
           },
           {
            "args": [
             [
              "2022-01"
             ],
             {
              "frame": {
               "duration": 0,
               "redraw": true
              },
              "fromcurrent": true,
              "mode": "immediate",
              "transition": {
               "duration": 0,
               "easing": "linear"
              }
             }
            ],
            "label": "2022-01",
            "method": "animate"
           },
           {
            "args": [
             [
              "2022-02"
             ],
             {
              "frame": {
               "duration": 0,
               "redraw": true
              },
              "fromcurrent": true,
              "mode": "immediate",
              "transition": {
               "duration": 0,
               "easing": "linear"
              }
             }
            ],
            "label": "2022-02",
            "method": "animate"
           },
           {
            "args": [
             [
              "2022-03"
             ],
             {
              "frame": {
               "duration": 0,
               "redraw": true
              },
              "fromcurrent": true,
              "mode": "immediate",
              "transition": {
               "duration": 0,
               "easing": "linear"
              }
             }
            ],
            "label": "2022-03",
            "method": "animate"
           },
           {
            "args": [
             [
              "2022-04"
             ],
             {
              "frame": {
               "duration": 0,
               "redraw": true
              },
              "fromcurrent": true,
              "mode": "immediate",
              "transition": {
               "duration": 0,
               "easing": "linear"
              }
             }
            ],
            "label": "2022-04",
            "method": "animate"
           },
           {
            "args": [
             [
              "2022-05"
             ],
             {
              "frame": {
               "duration": 0,
               "redraw": true
              },
              "fromcurrent": true,
              "mode": "immediate",
              "transition": {
               "duration": 0,
               "easing": "linear"
              }
             }
            ],
            "label": "2022-05",
            "method": "animate"
           },
           {
            "args": [
             [
              "2022-06"
             ],
             {
              "frame": {
               "duration": 0,
               "redraw": true
              },
              "fromcurrent": true,
              "mode": "immediate",
              "transition": {
               "duration": 0,
               "easing": "linear"
              }
             }
            ],
            "label": "2022-06",
            "method": "animate"
           },
           {
            "args": [
             [
              "2022-07"
             ],
             {
              "frame": {
               "duration": 0,
               "redraw": true
              },
              "fromcurrent": true,
              "mode": "immediate",
              "transition": {
               "duration": 0,
               "easing": "linear"
              }
             }
            ],
            "label": "2022-07",
            "method": "animate"
           },
           {
            "args": [
             [
              "2022-08"
             ],
             {
              "frame": {
               "duration": 0,
               "redraw": true
              },
              "fromcurrent": true,
              "mode": "immediate",
              "transition": {
               "duration": 0,
               "easing": "linear"
              }
             }
            ],
            "label": "2022-08",
            "method": "animate"
           },
           {
            "args": [
             [
              "2022-09"
             ],
             {
              "frame": {
               "duration": 0,
               "redraw": true
              },
              "fromcurrent": true,
              "mode": "immediate",
              "transition": {
               "duration": 0,
               "easing": "linear"
              }
             }
            ],
            "label": "2022-09",
            "method": "animate"
           },
           {
            "args": [
             [
              "2022-10"
             ],
             {
              "frame": {
               "duration": 0,
               "redraw": true
              },
              "fromcurrent": true,
              "mode": "immediate",
              "transition": {
               "duration": 0,
               "easing": "linear"
              }
             }
            ],
            "label": "2022-10",
            "method": "animate"
           }
          ],
          "x": 0.1,
          "xanchor": "left",
          "y": 0,
          "yanchor": "top"
         }
        ],
        "template": {
         "data": {
          "bar": [
           {
            "error_x": {
             "color": "#2a3f5f"
            },
            "error_y": {
             "color": "#2a3f5f"
            },
            "marker": {
             "line": {
              "color": "#E5ECF6",
              "width": 0.5
             },
             "pattern": {
              "fillmode": "overlay",
              "size": 10,
              "solidity": 0.2
             }
            },
            "type": "bar"
           }
          ],
          "barpolar": [
           {
            "marker": {
             "line": {
              "color": "#E5ECF6",
              "width": 0.5
             },
             "pattern": {
              "fillmode": "overlay",
              "size": 10,
              "solidity": 0.2
             }
            },
            "type": "barpolar"
           }
          ],
          "carpet": [
           {
            "aaxis": {
             "endlinecolor": "#2a3f5f",
             "gridcolor": "white",
             "linecolor": "white",
             "minorgridcolor": "white",
             "startlinecolor": "#2a3f5f"
            },
            "baxis": {
             "endlinecolor": "#2a3f5f",
             "gridcolor": "white",
             "linecolor": "white",
             "minorgridcolor": "white",
             "startlinecolor": "#2a3f5f"
            },
            "type": "carpet"
           }
          ],
          "choropleth": [
           {
            "colorbar": {
             "outlinewidth": 0,
             "ticks": ""
            },
            "type": "choropleth"
           }
          ],
          "contour": [
           {
            "colorbar": {
             "outlinewidth": 0,
             "ticks": ""
            },
            "colorscale": [
             [
              0,
              "#0d0887"
             ],
             [
              0.1111111111111111,
              "#46039f"
             ],
             [
              0.2222222222222222,
              "#7201a8"
             ],
             [
              0.3333333333333333,
              "#9c179e"
             ],
             [
              0.4444444444444444,
              "#bd3786"
             ],
             [
              0.5555555555555556,
              "#d8576b"
             ],
             [
              0.6666666666666666,
              "#ed7953"
             ],
             [
              0.7777777777777778,
              "#fb9f3a"
             ],
             [
              0.8888888888888888,
              "#fdca26"
             ],
             [
              1,
              "#f0f921"
             ]
            ],
            "type": "contour"
           }
          ],
          "contourcarpet": [
           {
            "colorbar": {
             "outlinewidth": 0,
             "ticks": ""
            },
            "type": "contourcarpet"
           }
          ],
          "heatmap": [
           {
            "colorbar": {
             "outlinewidth": 0,
             "ticks": ""
            },
            "colorscale": [
             [
              0,
              "#0d0887"
             ],
             [
              0.1111111111111111,
              "#46039f"
             ],
             [
              0.2222222222222222,
              "#7201a8"
             ],
             [
              0.3333333333333333,
              "#9c179e"
             ],
             [
              0.4444444444444444,
              "#bd3786"
             ],
             [
              0.5555555555555556,
              "#d8576b"
             ],
             [
              0.6666666666666666,
              "#ed7953"
             ],
             [
              0.7777777777777778,
              "#fb9f3a"
             ],
             [
              0.8888888888888888,
              "#fdca26"
             ],
             [
              1,
              "#f0f921"
             ]
            ],
            "type": "heatmap"
           }
          ],
          "histogram": [
           {
            "marker": {
             "pattern": {
              "fillmode": "overlay",
              "size": 10,
              "solidity": 0.2
             }
            },
            "type": "histogram"
           }
          ],
          "histogram2d": [
           {
            "colorbar": {
             "outlinewidth": 0,
             "ticks": ""
            },
            "colorscale": [
             [
              0,
              "#0d0887"
             ],
             [
              0.1111111111111111,
              "#46039f"
             ],
             [
              0.2222222222222222,
              "#7201a8"
             ],
             [
              0.3333333333333333,
              "#9c179e"
             ],
             [
              0.4444444444444444,
              "#bd3786"
             ],
             [
              0.5555555555555556,
              "#d8576b"
             ],
             [
              0.6666666666666666,
              "#ed7953"
             ],
             [
              0.7777777777777778,
              "#fb9f3a"
             ],
             [
              0.8888888888888888,
              "#fdca26"
             ],
             [
              1,
              "#f0f921"
             ]
            ],
            "type": "histogram2d"
           }
          ],
          "histogram2dcontour": [
           {
            "colorbar": {
             "outlinewidth": 0,
             "ticks": ""
            },
            "colorscale": [
             [
              0,
              "#0d0887"
             ],
             [
              0.1111111111111111,
              "#46039f"
             ],
             [
              0.2222222222222222,
              "#7201a8"
             ],
             [
              0.3333333333333333,
              "#9c179e"
             ],
             [
              0.4444444444444444,
              "#bd3786"
             ],
             [
              0.5555555555555556,
              "#d8576b"
             ],
             [
              0.6666666666666666,
              "#ed7953"
             ],
             [
              0.7777777777777778,
              "#fb9f3a"
             ],
             [
              0.8888888888888888,
              "#fdca26"
             ],
             [
              1,
              "#f0f921"
             ]
            ],
            "type": "histogram2dcontour"
           }
          ],
          "mesh3d": [
           {
            "colorbar": {
             "outlinewidth": 0,
             "ticks": ""
            },
            "type": "mesh3d"
           }
          ],
          "parcoords": [
           {
            "line": {
             "colorbar": {
              "outlinewidth": 0,
              "ticks": ""
             }
            },
            "type": "parcoords"
           }
          ],
          "pie": [
           {
            "automargin": true,
            "type": "pie"
           }
          ],
          "scatter": [
           {
            "fillpattern": {
             "fillmode": "overlay",
             "size": 10,
             "solidity": 0.2
            },
            "type": "scatter"
           }
          ],
          "scatter3d": [
           {
            "line": {
             "colorbar": {
              "outlinewidth": 0,
              "ticks": ""
             }
            },
            "marker": {
             "colorbar": {
              "outlinewidth": 0,
              "ticks": ""
             }
            },
            "type": "scatter3d"
           }
          ],
          "scattercarpet": [
           {
            "marker": {
             "colorbar": {
              "outlinewidth": 0,
              "ticks": ""
             }
            },
            "type": "scattercarpet"
           }
          ],
          "scattergeo": [
           {
            "marker": {
             "colorbar": {
              "outlinewidth": 0,
              "ticks": ""
             }
            },
            "type": "scattergeo"
           }
          ],
          "scattergl": [
           {
            "marker": {
             "colorbar": {
              "outlinewidth": 0,
              "ticks": ""
             }
            },
            "type": "scattergl"
           }
          ],
          "scattermap": [
           {
            "marker": {
             "colorbar": {
              "outlinewidth": 0,
              "ticks": ""
             }
            },
            "type": "scattermap"
           }
          ],
          "scattermapbox": [
           {
            "marker": {
             "colorbar": {
              "outlinewidth": 0,
              "ticks": ""
             }
            },
            "type": "scattermapbox"
           }
          ],
          "scatterpolar": [
           {
            "marker": {
             "colorbar": {
              "outlinewidth": 0,
              "ticks": ""
             }
            },
            "type": "scatterpolar"
           }
          ],
          "scatterpolargl": [
           {
            "marker": {
             "colorbar": {
              "outlinewidth": 0,
              "ticks": ""
             }
            },
            "type": "scatterpolargl"
           }
          ],
          "scatterternary": [
           {
            "marker": {
             "colorbar": {
              "outlinewidth": 0,
              "ticks": ""
             }
            },
            "type": "scatterternary"
           }
          ],
          "surface": [
           {
            "colorbar": {
             "outlinewidth": 0,
             "ticks": ""
            },
            "colorscale": [
             [
              0,
              "#0d0887"
             ],
             [
              0.1111111111111111,
              "#46039f"
             ],
             [
              0.2222222222222222,
              "#7201a8"
             ],
             [
              0.3333333333333333,
              "#9c179e"
             ],
             [
              0.4444444444444444,
              "#bd3786"
             ],
             [
              0.5555555555555556,
              "#d8576b"
             ],
             [
              0.6666666666666666,
              "#ed7953"
             ],
             [
              0.7777777777777778,
              "#fb9f3a"
             ],
             [
              0.8888888888888888,
              "#fdca26"
             ],
             [
              1,
              "#f0f921"
             ]
            ],
            "type": "surface"
           }
          ],
          "table": [
           {
            "cells": {
             "fill": {
              "color": "#EBF0F8"
             },
             "line": {
              "color": "white"
             }
            },
            "header": {
             "fill": {
              "color": "#C8D4E3"
             },
             "line": {
              "color": "white"
             }
            },
            "type": "table"
           }
          ]
         },
         "layout": {
          "annotationdefaults": {
           "arrowcolor": "#2a3f5f",
           "arrowhead": 0,
           "arrowwidth": 1
          },
          "autotypenumbers": "strict",
          "coloraxis": {
           "colorbar": {
            "outlinewidth": 0,
            "ticks": ""
           }
          },
          "colorscale": {
           "diverging": [
            [
             0,
             "#8e0152"
            ],
            [
             0.1,
             "#c51b7d"
            ],
            [
             0.2,
             "#de77ae"
            ],
            [
             0.3,
             "#f1b6da"
            ],
            [
             0.4,
             "#fde0ef"
            ],
            [
             0.5,
             "#f7f7f7"
            ],
            [
             0.6,
             "#e6f5d0"
            ],
            [
             0.7,
             "#b8e186"
            ],
            [
             0.8,
             "#7fbc41"
            ],
            [
             0.9,
             "#4d9221"
            ],
            [
             1,
             "#276419"
            ]
           ],
           "sequential": [
            [
             0,
             "#0d0887"
            ],
            [
             0.1111111111111111,
             "#46039f"
            ],
            [
             0.2222222222222222,
             "#7201a8"
            ],
            [
             0.3333333333333333,
             "#9c179e"
            ],
            [
             0.4444444444444444,
             "#bd3786"
            ],
            [
             0.5555555555555556,
             "#d8576b"
            ],
            [
             0.6666666666666666,
             "#ed7953"
            ],
            [
             0.7777777777777778,
             "#fb9f3a"
            ],
            [
             0.8888888888888888,
             "#fdca26"
            ],
            [
             1,
             "#f0f921"
            ]
           ],
           "sequentialminus": [
            [
             0,
             "#0d0887"
            ],
            [
             0.1111111111111111,
             "#46039f"
            ],
            [
             0.2222222222222222,
             "#7201a8"
            ],
            [
             0.3333333333333333,
             "#9c179e"
            ],
            [
             0.4444444444444444,
             "#bd3786"
            ],
            [
             0.5555555555555556,
             "#d8576b"
            ],
            [
             0.6666666666666666,
             "#ed7953"
            ],
            [
             0.7777777777777778,
             "#fb9f3a"
            ],
            [
             0.8888888888888888,
             "#fdca26"
            ],
            [
             1,
             "#f0f921"
            ]
           ]
          },
          "colorway": [
           "#636efa",
           "#EF553B",
           "#00cc96",
           "#ab63fa",
           "#FFA15A",
           "#19d3f3",
           "#FF6692",
           "#B6E880",
           "#FF97FF",
           "#FECB52"
          ],
          "font": {
           "color": "#2a3f5f"
          },
          "geo": {
           "bgcolor": "white",
           "lakecolor": "white",
           "landcolor": "#E5ECF6",
           "showlakes": true,
           "showland": true,
           "subunitcolor": "white"
          },
          "hoverlabel": {
           "align": "left"
          },
          "hovermode": "closest",
          "mapbox": {
           "style": "light"
          },
          "paper_bgcolor": "white",
          "plot_bgcolor": "#E5ECF6",
          "polar": {
           "angularaxis": {
            "gridcolor": "white",
            "linecolor": "white",
            "ticks": ""
           },
           "bgcolor": "#E5ECF6",
           "radialaxis": {
            "gridcolor": "white",
            "linecolor": "white",
            "ticks": ""
           }
          },
          "scene": {
           "xaxis": {
            "backgroundcolor": "#E5ECF6",
            "gridcolor": "white",
            "gridwidth": 2,
            "linecolor": "white",
            "showbackground": true,
            "ticks": "",
            "zerolinecolor": "white"
           },
           "yaxis": {
            "backgroundcolor": "#E5ECF6",
            "gridcolor": "white",
            "gridwidth": 2,
            "linecolor": "white",
            "showbackground": true,
            "ticks": "",
            "zerolinecolor": "white"
           },
           "zaxis": {
            "backgroundcolor": "#E5ECF6",
            "gridcolor": "white",
            "gridwidth": 2,
            "linecolor": "white",
            "showbackground": true,
            "ticks": "",
            "zerolinecolor": "white"
           }
          },
          "shapedefaults": {
           "line": {
            "color": "#2a3f5f"
           }
          },
          "ternary": {
           "aaxis": {
            "gridcolor": "white",
            "linecolor": "white",
            "ticks": ""
           },
           "baxis": {
            "gridcolor": "white",
            "linecolor": "white",
            "ticks": ""
           },
           "bgcolor": "#E5ECF6",
           "caxis": {
            "gridcolor": "white",
            "linecolor": "white",
            "ticks": ""
           }
          },
          "title": {
           "x": 0.05
          },
          "xaxis": {
           "automargin": true,
           "gridcolor": "white",
           "linecolor": "white",
           "ticks": "",
           "title": {
            "standoff": 15
           },
           "zerolinecolor": "white",
           "zerolinewidth": 2
          },
          "yaxis": {
           "automargin": true,
           "gridcolor": "white",
           "linecolor": "white",
           "ticks": "",
           "title": {
            "standoff": 15
           },
           "zerolinecolor": "white",
           "zerolinewidth": 2
          }
         }
        },
        "title": {
         "text": "PM25 - Concentración mensual por estación"
        },
        "updatemenus": [
         {
          "buttons": [
           {
            "args": [
             null,
             {
              "frame": {
               "duration": 500,
               "redraw": true
              },
              "fromcurrent": true,
              "mode": "immediate",
              "transition": {
               "duration": 500,
               "easing": "linear"
              }
             }
            ],
            "label": "&#9654;",
            "method": "animate"
           },
           {
            "args": [
             [
              null
             ],
             {
              "frame": {
               "duration": 0,
               "redraw": true
              },
              "fromcurrent": true,
              "mode": "immediate",
              "transition": {
               "duration": 0,
               "easing": "linear"
              }
             }
            ],
            "label": "&#9724;",
            "method": "animate"
           }
          ],
          "direction": "left",
          "pad": {
           "r": 10,
           "t": 70
          },
          "showactive": false,
          "type": "buttons",
          "x": 0.1,
          "xanchor": "right",
          "y": 0,
          "yanchor": "top"
         }
        ]
       }
      }
     },
     "metadata": {},
     "output_type": "display_data"
    }
   ],
   "source": [
    "import plotly.express as px\n",
    "\n",
    "# Asegurar que el mes esté como string\n",
    "df['mes'] = df['fecha'].dt.to_period(\"M\").astype(str)\n",
    "\n",
    "# Calcular promedio mensual por estación\n",
    "mapa_mensual = df.groupby(['nombre', 'latitud', 'longitud', 'mes'])['valor'].mean().reset_index()\n",
    "\n",
    "media_mensual_limpio = mapa_mensual.dropna(subset=['valor'])\n",
    "\n",
    "# Crear mapa animado\n",
    "fig = px.scatter_mapbox(\n",
    "    media_mensual_limpio,\n",
    "    lat=\"latitud\", lon=\"longitud\",\n",
    "    color=\"valor\",\n",
    "    size=\"valor\",\n",
    "    animation_frame=\"mes\",\n",
    "    hover_name=\"nombre\",\n",
    "    color_continuous_scale=\"Reds\",\n",
    "    size_max=15,\n",
    "    zoom=10,\n",
    "    mapbox_style=\"carto-positron\",\n",
    "    title=f'{contaminante_unico.upper()} - Concentración mensual por estación'\n",
    ")\n",
    "\n",
    "fig.update_layout(margin={\"r\":0,\"t\":40,\"l\":0,\"b\":0})\n",
    "fig.show()\n"
   ]
  }
 ],
 "metadata": {
  "kernelspec": {
   "display_name": "Python 3",
   "language": "python",
   "name": "python3"
  },
  "language_info": {
   "codemirror_mode": {
    "name": "ipython",
    "version": 3
   },
   "file_extension": ".py",
   "mimetype": "text/x-python",
   "name": "python",
   "nbconvert_exporter": "python",
   "pygments_lexer": "ipython3",
   "version": "3.10.11"
  }
 },
 "nbformat": 4,
 "nbformat_minor": 5
}
