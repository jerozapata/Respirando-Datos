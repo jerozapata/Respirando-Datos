{
 "cells": [
  {
   "cell_type": "code",
   "execution_count": 19,
   "id": "9c46e885",
   "metadata": {},
   "outputs": [],
   "source": [
    "import json\n",
    "import pandas as pd\n",
    "import numpy as np\n",
    "import matplotlib.pyplot as plt\n",
    "import seaborn as sns\n",
    "import plotly.express as px\n",
    "import folium\n",
    "import os"
   ]
  },
  {
   "cell_type": "code",
   "execution_count": 20,
   "id": "b60ad02d",
   "metadata": {},
   "outputs": [
    {
     "name": "stdout",
     "output_type": "stream",
     "text": [
      "      codigoSerial nombreCorto                               nombre   latitud  \\\n",
      "8741             3    GIR-SOSN  _OFF-Girardota - S.O.S Aburrá Norte  6.378433   \n",
      "8742             3    GIR-SOSN  _OFF-Girardota - S.O.S Aburrá Norte  6.378433   \n",
      "8743             3    GIR-SOSN  _OFF-Girardota - S.O.S Aburrá Norte  6.378433   \n",
      "8744             3    GIR-SOSN  _OFF-Girardota - S.O.S Aburrá Norte  6.378433   \n",
      "8745             3    GIR-SOSN  _OFF-Girardota - S.O.S Aburrá Norte  6.378433   \n",
      "8746             3    GIR-SOSN  _OFF-Girardota - S.O.S Aburrá Norte  6.378433   \n",
      "8747             3    GIR-SOSN  _OFF-Girardota - S.O.S Aburrá Norte  6.378433   \n",
      "8748             3    GIR-SOSN  _OFF-Girardota - S.O.S Aburrá Norte  6.378433   \n",
      "8749             3    GIR-SOSN  _OFF-Girardota - S.O.S Aburrá Norte  6.378433   \n",
      "8750             3    GIR-SOSN  _OFF-Girardota - S.O.S Aburrá Norte  6.378433   \n",
      "8751             3    GIR-SOSN  _OFF-Girardota - S.O.S Aburrá Norte  6.378433   \n",
      "8752             3    GIR-SOSN  _OFF-Girardota - S.O.S Aburrá Norte  6.378433   \n",
      "8753             3    GIR-SOSN  _OFF-Girardota - S.O.S Aburrá Norte  6.378433   \n",
      "8754             3    GIR-SOSN  _OFF-Girardota - S.O.S Aburrá Norte  6.378433   \n",
      "8755             3    GIR-SOSN  _OFF-Girardota - S.O.S Aburrá Norte  6.378433   \n",
      "8756             3    GIR-SOSN  _OFF-Girardota - S.O.S Aburrá Norte  6.378433   \n",
      "8757             3    GIR-SOSN  _OFF-Girardota - S.O.S Aburrá Norte  6.378433   \n",
      "8758             3    GIR-SOSN  _OFF-Girardota - S.O.S Aburrá Norte  6.378433   \n",
      "8759             3    GIR-SOSN  _OFF-Girardota - S.O.S Aburrá Norte  6.378433   \n",
      "8760             3    GIR-SOSN  _OFF-Girardota - S.O.S Aburrá Norte  6.378433   \n",
      "\n",
      "       longitud contaminante               fecha  calibracion  valor  \n",
      "8741 -75.451141          so2 2022-12-13 09:00:00      -9999.0    NaN  \n",
      "8742 -75.451141          so2 2022-12-13 10:00:00      -9999.0    NaN  \n",
      "8743 -75.451141          so2 2022-12-13 11:00:00      -9999.0    NaN  \n",
      "8744 -75.451141          so2 2022-12-13 12:00:00      -9999.0    NaN  \n",
      "8745 -75.451141          so2 2022-12-13 13:00:00      -9999.0    NaN  \n",
      "8746 -75.451141          so2 2022-12-13 14:00:00      -9999.0    NaN  \n",
      "8747 -75.451141          so2 2022-12-13 15:00:00      -9999.0    NaN  \n",
      "8748 -75.451141          so2 2022-12-13 16:00:00      -9999.0    NaN  \n",
      "8749 -75.451141          so2 2022-12-13 17:00:00      -9999.0    NaN  \n",
      "8750 -75.451141          so2 2022-12-13 18:00:00      -9999.0    NaN  \n",
      "8751 -75.451141          so2 2022-12-13 19:00:00      -9999.0    NaN  \n",
      "8752 -75.451141          so2 2022-12-13 20:00:00      -9999.0    NaN  \n",
      "8753 -75.451141          so2 2022-12-13 21:00:00      -9999.0    NaN  \n",
      "8754 -75.451141          so2 2022-12-13 22:00:00      -9999.0    NaN  \n",
      "8755 -75.451141          so2 2022-12-13 23:00:00      -9999.0    NaN  \n",
      "8756 -75.451141          so2 2022-12-14 00:00:00      -9999.0    NaN  \n",
      "8757 -75.451141          so2 2022-12-14 01:00:00      -9999.0    NaN  \n",
      "8758 -75.451141          so2 2022-12-14 02:00:00      -9999.0    NaN  \n",
      "8759 -75.451141          so2 2022-12-14 03:00:00      -9999.0    NaN  \n",
      "8760 -75.451141          so2 2022-12-14 04:00:00      -9999.0    NaN  \n"
     ]
    }
   ],
   "source": [
    "carpeta_so2 = \"Datasets\\Datos_SIATA_Aire_so2.json\"\n",
    "\n",
    "with open(carpeta_so2, \"r\", encoding=\"utf-8\") as f:data = json.load(f)\n",
    "\n",
    "registros = []\n",
    "\n",
    "        \n",
    "for estacion in data:\n",
    "    lat = estacion.get(\"latitud\")\n",
    "    lon = estacion.get(\"longitud\")\n",
    "    codigo = estacion.get(\"codigoSerial\")\n",
    "    nombre = estacion.get(\"nombre\")\n",
    "    nombreCorto = estacion.get(\"nombreCorto\")\n",
    "    datos = estacion.get(\"datos\", [])\n",
    "\n",
    "    for entrada in datos:\n",
    "        registros.append({\n",
    "            \"codigoSerial\": codigo,\n",
    "            \"nombreCorto\": nombreCorto,\n",
    "            \"nombre\": nombre,\n",
    "            \"latitud\": lat,\n",
    "            \"longitud\": lon,\n",
    "            \"contaminante\": entrada.get(\"variableConsulta\"),\n",
    "            \"fecha\": entrada.get(\"fecha\"),\n",
    "            \"calibracion\": entrada.get(\"valor\"), # Ojooo esto es calibración \n",
    "            \"valor\": entrada.get(\"calidad\") # Y esto calidad, osea que la calidad se llama valor y la calibración valga la redundancia calibración \n",
    "        })\n",
    "\n",
    "# Convertimos a DataFrame como antes\n",
    "df = pd.DataFrame(registros)\n",
    "df['fecha'] = pd.to_datetime(df['fecha'], errors='coerce')\n",
    "df['valor'] = pd.to_numeric(df['valor'], errors='coerce')\n",
    "df[\"calibracion\"] = pd.to_numeric(df[\"calibracion\"], errors='coerce')\n",
    "\n",
    "\n",
    "df.loc[df[\"calibracion\"] == -9999, 'valor'] = np.nan\n",
    "\n",
    "print(df.tail(20))"
   ]
  },
  {
   "cell_type": "code",
   "execution_count": 21,
   "id": "96a33623",
   "metadata": {},
   "outputs": [
    {
     "name": "stdout",
     "output_type": "stream",
     "text": [
      "Porcentaje datos válidos por estación\n",
      "nombreCorto\n",
      "GIR-SOSN    0.045657\n",
      "Name: valor, dtype: float64\n",
      "\n",
      "Porcentaje datos válidos por contaminantecontaminante\n",
      "so2    0.045657\n",
      "Name: valor, dtype: float64\n"
     ]
    }
   ],
   "source": [
    "validos_por_estacion = df.groupby('nombreCorto')['valor'].apply(lambda x: x.notna().mean() * 100)\n",
    "validos_por_contaminante = df.groupby('contaminante')['valor'].apply(lambda x: x.notna().mean() * 100)\n",
    "print(f\"Porcentaje datos válidos por estación\\n{validos_por_estacion}\\n\\nPorcentaje datos válidos por contaminante{validos_por_contaminante}\")"
   ]
  },
  {
   "cell_type": "code",
   "execution_count": 22,
   "id": "bdaf6cde",
   "metadata": {},
   "outputs": [],
   "source": [
    "# Obtener contaminante único (ya que el archivo es solo de uno)\n",
    "contaminante_unico = df['contaminante'].unique()[0] if not df['contaminante'].isna().all() else \"Desconocido\"\n"
   ]
  },
  {
   "cell_type": "code",
   "execution_count": 23,
   "id": "6a20c5f2",
   "metadata": {},
   "outputs": [
    {
     "data": {
      "image/png": "[encoded data removed]",
      "text/plain": [
       "<Figure size 1200x600 with 1 Axes>"
      ]
     },
     "metadata": {},
     "output_type": "display_data"
    }
   ],
   "source": [
    "df['mes'] = df['fecha'].dt.to_period(\"M\")\n",
    "promedios_mensuales = df.groupby('mes')['valor'].mean().reset_index()\n",
    "promedios_mensuales['mes'] = promedios_mensuales['mes'].astype(str)\n",
    "\n",
    "# Graficar\n",
    "plt.figure(figsize=(12,6))\n",
    "sns.lineplot(data=promedios_mensuales, x='mes', y='valor', marker='o')\n",
    "plt.title(f'Promedios mensuales todas las estaciones - {contaminante_unico.upper()}')\n",
    "plt.xlabel('Mes')\n",
    "plt.ylabel('Concentración')\n",
    "plt.xticks(rotation=45)\n",
    "plt.grid(True)\n",
    "plt.tight_layout()\n",
    "plt.show()"
   ]
  },
  {
   "cell_type": "code",
   "execution_count": 24,
   "id": "dbe22d34",
   "metadata": {},
   "outputs": [
    {
     "data": {
      "text/html": [
       "<div style=\"width:100%;\"><div style=\"position:relative;width:100%;height:0;padding-bottom:60%;\"><span style=\"color:#565656\">Make this Notebook Trusted to load map: File -> Trust Notebook</span><iframe srcdoc=\"&lt;!DOCTYPE html&gt;\n",
       "&lt;html&gt;\n",
       "&lt;head&gt;\n",
       "    \n",
       "    &lt;meta http-equiv=&quot;content-type&quot; content=&quot;text/html; charset=UTF-8&quot; /&gt;\n",
       "    &lt;script src=&quot;https://cdn.jsdelivr.net/npm/leaflet@1.9.3/dist/leaflet.js&quot;&gt;&lt;/script&gt;\n",
       "    &lt;script src=&quot;https://code.jquery.com/jquery-3.7.1.min.js&quot;&gt;&lt;/script&gt;\n",
       "    &lt;script src=&quot;https://cdn.jsdelivr.net/npm/bootstrap@5.2.2/dist/js/bootstrap.bundle.min.js&quot;&gt;&lt;/script&gt;\n",
       "    &lt;script src=&quot;https://cdnjs.cloudflare.com/ajax/libs/Leaflet.awesome-markers/2.0.2/leaflet.awesome-markers.js&quot;&gt;&lt;/script&gt;\n",
       "    &lt;link rel=&quot;stylesheet&quot; href=&quot;https://cdn.jsdelivr.net/npm/leaflet@1.9.3/dist/leaflet.css&quot;/&gt;\n",
       "    &lt;link rel=&quot;stylesheet&quot; href=&quot;https://cdn.jsdelivr.net/npm/bootstrap@5.2.2/dist/css/bootstrap.min.css&quot;/&gt;\n",
       "    &lt;link rel=&quot;stylesheet&quot; href=&quot;https://netdna.bootstrapcdn.com/bootstrap/3.0.0/css/bootstrap-glyphicons.css&quot;/&gt;\n",
       "    &lt;link rel=&quot;stylesheet&quot; href=&quot;https://cdn.jsdelivr.net/npm/@fortawesome/fontawesome-free@6.2.0/css/all.min.css&quot;/&gt;\n",
       "    &lt;link rel=&quot;stylesheet&quot; href=&quot;https://cdnjs.cloudflare.com/ajax/libs/Leaflet.awesome-markers/2.0.2/leaflet.awesome-markers.css&quot;/&gt;\n",
       "    &lt;link rel=&quot;stylesheet&quot; href=&quot;https://cdn.jsdelivr.net/gh/python-visualization/folium/folium/templates/leaflet.awesome.rotate.min.css&quot;/&gt;\n",
       "    \n",
       "            &lt;meta name=&quot;viewport&quot; content=&quot;width=device-width,\n",
       "                initial-scale=1.0, maximum-scale=1.0, user-scalable=no&quot; /&gt;\n",
       "            &lt;style&gt;\n",
       "                #map_8ddb2d912064b89cfd34540dc5ba1b34 {\n",
       "                    position: relative;\n",
       "                    width: 100.0%;\n",
       "                    height: 100.0%;\n",
       "                    left: 0.0%;\n",
       "                    top: 0.0%;\n",
       "                }\n",
       "                .leaflet-container { font-size: 1rem; }\n",
       "            &lt;/style&gt;\n",
       "\n",
       "            &lt;style&gt;html, body {\n",
       "                width: 100%;\n",
       "                height: 100%;\n",
       "                margin: 0;\n",
       "                padding: 0;\n",
       "            }\n",
       "            &lt;/style&gt;\n",
       "\n",
       "            &lt;style&gt;#map {\n",
       "                position:absolute;\n",
       "                top:0;\n",
       "                bottom:0;\n",
       "                right:0;\n",
       "                left:0;\n",
       "                }\n",
       "            &lt;/style&gt;\n",
       "\n",
       "            &lt;script&gt;\n",
       "                L_NO_TOUCH = false;\n",
       "                L_DISABLE_3D = false;\n",
       "            &lt;/script&gt;\n",
       "\n",
       "        \n",
       "&lt;/head&gt;\n",
       "&lt;body&gt;\n",
       "    \n",
       "    \n",
       "            &lt;div class=&quot;folium-map&quot; id=&quot;map_8ddb2d912064b89cfd34540dc5ba1b34&quot; &gt;&lt;/div&gt;\n",
       "        \n",
       "&lt;/body&gt;\n",
       "&lt;script&gt;\n",
       "    \n",
       "    \n",
       "            var map_8ddb2d912064b89cfd34540dc5ba1b34 = L.map(\n",
       "                &quot;map_8ddb2d912064b89cfd34540dc5ba1b34&quot;,\n",
       "                {\n",
       "                    center: [6.25, -75.6],\n",
       "                    crs: L.CRS.EPSG3857,\n",
       "                    ...{\n",
       "  &quot;zoom&quot;: 11,\n",
       "  &quot;zoomControl&quot;: true,\n",
       "  &quot;preferCanvas&quot;: false,\n",
       "}\n",
       "\n",
       "                }\n",
       "            );\n",
       "\n",
       "            \n",
       "\n",
       "        \n",
       "    \n",
       "            var tile_layer_a3355cdc4d4a9e4e97d8aca448d9f3d8 = L.tileLayer(\n",
       "                &quot;https://tile.openstreetmap.org/{z}/{x}/{y}.png&quot;,\n",
       "                {\n",
       "  &quot;minZoom&quot;: 0,\n",
       "  &quot;maxZoom&quot;: 19,\n",
       "  &quot;maxNativeZoom&quot;: 19,\n",
       "  &quot;noWrap&quot;: false,\n",
       "  &quot;attribution&quot;: &quot;\\u0026copy; \\u003ca href=\\&quot;https://www.openstreetmap.org/copyright\\&quot;\\u003eOpenStreetMap\\u003c/a\\u003e contributors&quot;,\n",
       "  &quot;subdomains&quot;: &quot;abc&quot;,\n",
       "  &quot;detectRetina&quot;: false,\n",
       "  &quot;tms&quot;: false,\n",
       "  &quot;opacity&quot;: 1,\n",
       "}\n",
       "\n",
       "            );\n",
       "        \n",
       "    \n",
       "            tile_layer_a3355cdc4d4a9e4e97d8aca448d9f3d8.addTo(map_8ddb2d912064b89cfd34540dc5ba1b34);\n",
       "        \n",
       "    \n",
       "            var circle_marker_ef0551c4864b4c7e130976efdc78cec0 = L.circleMarker(\n",
       "                [6.3784332, -75.4511414],\n",
       "                {&quot;bubblingMouseEvents&quot;: true, &quot;color&quot;: &quot;red&quot;, &quot;dashArray&quot;: null, &quot;dashOffset&quot;: null, &quot;fill&quot;: true, &quot;fillColor&quot;: &quot;red&quot;, &quot;fillOpacity&quot;: 0.2, &quot;fillRule&quot;: &quot;evenodd&quot;, &quot;lineCap&quot;: &quot;round&quot;, &quot;lineJoin&quot;: &quot;round&quot;, &quot;opacity&quot;: 1.0, &quot;radius&quot;: 6, &quot;stroke&quot;: true, &quot;weight&quot;: 3}\n",
       "            ).addTo(map_8ddb2d912064b89cfd34540dc5ba1b34);\n",
       "        \n",
       "    \n",
       "        var popup_2f29030c615a6c21468cd1c39cf92e4e = L.popup({\n",
       "  &quot;maxWidth&quot;: &quot;100%&quot;,\n",
       "});\n",
       "\n",
       "        \n",
       "            \n",
       "                var html_c52b17605c4339352692bf3bd19304a5 = $(`&lt;div id=&quot;html_c52b17605c4339352692bf3bd19304a5&quot; style=&quot;width: 100.0%; height: 100.0%;&quot;&gt;Estación _OFF-Girardota - S.O.S Aburrá Norte Media: 1.00 Válidos: 0.0%&lt;/div&gt;`)[0];\n",
       "                popup_2f29030c615a6c21468cd1c39cf92e4e.setContent(html_c52b17605c4339352692bf3bd19304a5);\n",
       "            \n",
       "        \n",
       "\n",
       "        circle_marker_ef0551c4864b4c7e130976efdc78cec0.bindPopup(popup_2f29030c615a6c21468cd1c39cf92e4e)\n",
       "        ;\n",
       "\n",
       "        \n",
       "    \n",
       "&lt;/script&gt;\n",
       "&lt;/html&gt;\" style=\"position:absolute;width:100%;height:100%;left:0;top:0;border:none !important;\" allowfullscreen webkitallowfullscreen mozallowfullscreen></iframe></div></div>"
      ],
      "text/plain": [
       "<folium.folium.Map at 0x1d1d3d1b040>"
      ]
     },
     "execution_count": 24,
     "metadata": {},
     "output_type": "execute_result"
    }
   ],
   "source": [
    "# 5. Mapa estático de estaciones segun datos validos\n",
    "\n",
    "\n",
    "\n",
    "# Media por estacion\n",
    "media_estaciones = df.groupby(['codigoSerial', 'nombre', 'latitud', 'longitud'])['valor'].mean().reset_index()\n",
    "\n",
    "validos_por_estacion = df.groupby('codigoSerial')['valor'].apply(lambda x: x.notna().mean() * 100)\n",
    "\n",
    "media_estaciones['porcentaje_validos'] = media_estaciones['codigoSerial'].map(validos_por_estacion)\n",
    "\n",
    "\n",
    "mapa = folium.Map(location=[6.25, -75.6], zoom_start=11)\n",
    "\n",
    "for _, row in media_estaciones.iterrows():\n",
    "    folium.CircleMarker(\n",
    "        location=[row['latitud'], row['longitud']],\n",
    "        radius=6,\n",
    "        popup=(\n",
    "            f\"Estación {row['nombre']}\\n\"\n",
    "            f\"Media: {row['valor']:.2f}\\n\"\n",
    "            f\"Válidos: {row['porcentaje_validos']:.1f}%\"\n",
    "        ),\n",
    "        color = 'green' if row['porcentaje_validos'] >= 51 else 'red',\n",
    "        fill=True,\n",
    "    ).add_to(mapa)\n",
    "\n",
    "mapa"
   ]
  },
  {
   "cell_type": "code",
   "execution_count": 25,
   "id": "945ef723",
   "metadata": {},
   "outputs": [
    {
     "data": {
      "text/html": [
       "<div style=\"width:100%;\"><div style=\"position:relative;width:100%;height:0;padding-bottom:60%;\"><span style=\"color:#565656\">Make this Notebook Trusted to load map: File -> Trust Notebook</span><iframe srcdoc=\"&lt;!DOCTYPE html&gt;\n",
       "&lt;html&gt;\n",
       "&lt;head&gt;\n",
       "    \n",
       "    &lt;meta http-equiv=&quot;content-type&quot; content=&quot;text/html; charset=UTF-8&quot; /&gt;\n",
       "    &lt;script src=&quot;https://cdn.jsdelivr.net/npm/leaflet@1.9.3/dist/leaflet.js&quot;&gt;&lt;/script&gt;\n",
       "    &lt;script src=&quot;https://code.jquery.com/jquery-3.7.1.min.js&quot;&gt;&lt;/script&gt;\n",
       "    &lt;script src=&quot;https://cdn.jsdelivr.net/npm/bootstrap@5.2.2/dist/js/bootstrap.bundle.min.js&quot;&gt;&lt;/script&gt;\n",
       "    &lt;script src=&quot;https://cdnjs.cloudflare.com/ajax/libs/Leaflet.awesome-markers/2.0.2/leaflet.awesome-markers.js&quot;&gt;&lt;/script&gt;\n",
       "    &lt;link rel=&quot;stylesheet&quot; href=&quot;https://cdn.jsdelivr.net/npm/leaflet@1.9.3/dist/leaflet.css&quot;/&gt;\n",
       "    &lt;link rel=&quot;stylesheet&quot; href=&quot;https://cdn.jsdelivr.net/npm/bootstrap@5.2.2/dist/css/bootstrap.min.css&quot;/&gt;\n",
       "    &lt;link rel=&quot;stylesheet&quot; href=&quot;https://netdna.bootstrapcdn.com/bootstrap/3.0.0/css/bootstrap-glyphicons.css&quot;/&gt;\n",
       "    &lt;link rel=&quot;stylesheet&quot; href=&quot;https://cdn.jsdelivr.net/npm/@fortawesome/fontawesome-free@6.2.0/css/all.min.css&quot;/&gt;\n",
       "    &lt;link rel=&quot;stylesheet&quot; href=&quot;https://cdnjs.cloudflare.com/ajax/libs/Leaflet.awesome-markers/2.0.2/leaflet.awesome-markers.css&quot;/&gt;\n",
       "    &lt;link rel=&quot;stylesheet&quot; href=&quot;https://cdn.jsdelivr.net/gh/python-visualization/folium/folium/templates/leaflet.awesome.rotate.min.css&quot;/&gt;\n",
       "    \n",
       "            &lt;meta name=&quot;viewport&quot; content=&quot;width=device-width,\n",
       "                initial-scale=1.0, maximum-scale=1.0, user-scalable=no&quot; /&gt;\n",
       "            &lt;style&gt;\n",
       "                #map_0dc13b19a8f9a19f2d78a9cfe120c645 {\n",
       "                    position: relative;\n",
       "                    width: 100.0%;\n",
       "                    height: 100.0%;\n",
       "                    left: 0.0%;\n",
       "                    top: 0.0%;\n",
       "                }\n",
       "                .leaflet-container { font-size: 1rem; }\n",
       "            &lt;/style&gt;\n",
       "\n",
       "            &lt;style&gt;html, body {\n",
       "                width: 100%;\n",
       "                height: 100%;\n",
       "                margin: 0;\n",
       "                padding: 0;\n",
       "            }\n",
       "            &lt;/style&gt;\n",
       "\n",
       "            &lt;style&gt;#map {\n",
       "                position:absolute;\n",
       "                top:0;\n",
       "                bottom:0;\n",
       "                right:0;\n",
       "                left:0;\n",
       "                }\n",
       "            &lt;/style&gt;\n",
       "\n",
       "            &lt;script&gt;\n",
       "                L_NO_TOUCH = false;\n",
       "                L_DISABLE_3D = false;\n",
       "            &lt;/script&gt;\n",
       "\n",
       "        \n",
       "&lt;/head&gt;\n",
       "&lt;body&gt;\n",
       "    \n",
       "    \n",
       "            &lt;div class=&quot;folium-map&quot; id=&quot;map_0dc13b19a8f9a19f2d78a9cfe120c645&quot; &gt;&lt;/div&gt;\n",
       "        \n",
       "&lt;/body&gt;\n",
       "&lt;script&gt;\n",
       "    \n",
       "    \n",
       "            var map_0dc13b19a8f9a19f2d78a9cfe120c645 = L.map(\n",
       "                &quot;map_0dc13b19a8f9a19f2d78a9cfe120c645&quot;,\n",
       "                {\n",
       "                    center: [6.25, -75.6],\n",
       "                    crs: L.CRS.EPSG3857,\n",
       "                    ...{\n",
       "  &quot;zoom&quot;: 11,\n",
       "  &quot;zoomControl&quot;: true,\n",
       "  &quot;preferCanvas&quot;: false,\n",
       "}\n",
       "\n",
       "                }\n",
       "            );\n",
       "\n",
       "            \n",
       "\n",
       "        \n",
       "    \n",
       "            var tile_layer_9324aeff9cbb2b9f7ddfdaac3b48c3d5 = L.tileLayer(\n",
       "                &quot;https://tile.openstreetmap.org/{z}/{x}/{y}.png&quot;,\n",
       "                {\n",
       "  &quot;minZoom&quot;: 0,\n",
       "  &quot;maxZoom&quot;: 19,\n",
       "  &quot;maxNativeZoom&quot;: 19,\n",
       "  &quot;noWrap&quot;: false,\n",
       "  &quot;attribution&quot;: &quot;\\u0026copy; \\u003ca href=\\&quot;https://www.openstreetmap.org/copyright\\&quot;\\u003eOpenStreetMap\\u003c/a\\u003e contributors&quot;,\n",
       "  &quot;subdomains&quot;: &quot;abc&quot;,\n",
       "  &quot;detectRetina&quot;: false,\n",
       "  &quot;tms&quot;: false,\n",
       "  &quot;opacity&quot;: 1,\n",
       "}\n",
       "\n",
       "            );\n",
       "        \n",
       "    \n",
       "            tile_layer_9324aeff9cbb2b9f7ddfdaac3b48c3d5.addTo(map_0dc13b19a8f9a19f2d78a9cfe120c645);\n",
       "        \n",
       "    \n",
       "            var circle_marker_9c276d78abc38a391700520eccd53dad = L.circleMarker(\n",
       "                [6.3784332, -75.4511414],\n",
       "                {&quot;bubblingMouseEvents&quot;: true, &quot;color&quot;: &quot;maroon&quot;, &quot;dashArray&quot;: null, &quot;dashOffset&quot;: null, &quot;fill&quot;: true, &quot;fillColor&quot;: &quot;maroon&quot;, &quot;fillOpacity&quot;: 0.7, &quot;fillRule&quot;: &quot;evenodd&quot;, &quot;lineCap&quot;: &quot;round&quot;, &quot;lineJoin&quot;: &quot;round&quot;, &quot;opacity&quot;: 1.0, &quot;radius&quot;: 4.2, &quot;stroke&quot;: true, &quot;weight&quot;: 3}\n",
       "            ).addTo(map_0dc13b19a8f9a19f2d78a9cfe120c645);\n",
       "        \n",
       "    \n",
       "        var popup_64d5d4de3fbc635bded7043268a9829a = L.popup({\n",
       "  &quot;maxWidth&quot;: 300,\n",
       "});\n",
       "\n",
       "        \n",
       "            \n",
       "                var html_17a7a3be55ebeab186adcd2c59965bd4 = $(`&lt;div id=&quot;html_17a7a3be55ebeab186adcd2c59965bd4&quot; style=&quot;width: 100.0%; height: 100.0%;&quot;&gt;&lt;b&gt;_OFF-Girardota - S.O.S Aburrá Norte&lt;/b&gt;&lt;br&gt;Media: 1.00&lt;br&gt;Categoría: Peligroso&lt;br&gt;Válidos: 0.0%&lt;/div&gt;`)[0];\n",
       "                popup_64d5d4de3fbc635bded7043268a9829a.setContent(html_17a7a3be55ebeab186adcd2c59965bd4);\n",
       "            \n",
       "        \n",
       "\n",
       "        circle_marker_9c276d78abc38a391700520eccd53dad.bindPopup(popup_64d5d4de3fbc635bded7043268a9829a)\n",
       "        ;\n",
       "\n",
       "        \n",
       "    \n",
       "&lt;/script&gt;\n",
       "&lt;/html&gt;\" style=\"position:absolute;width:100%;height:100%;left:0;top:0;border:none !important;\" allowfullscreen webkitallowfullscreen mozallowfullscreen></iframe></div></div>"
      ],
      "text/plain": [
       "<folium.folium.Map at 0x1d1e71c30a0>"
      ]
     },
     "execution_count": 25,
     "metadata": {},
     "output_type": "execute_result"
    }
   ],
   "source": [
    "# mapa por estacion según concentracion de la partícula\n",
    "\n",
    "\n",
    "# Media por estación\n",
    "media_estaciones = df.groupby(['codigoSerial', 'nombre', 'latitud', 'longitud'])['valor'].mean().reset_index()\n",
    "\n",
    "# Porcentaje de datos válidos por estación\n",
    "validos_por_estacion = df.groupby('codigoSerial')['valor'].apply(lambda x: x.notna().mean() * 100)\n",
    "media_estaciones['porcentaje_validos'] = media_estaciones['codigoSerial'].map(validos_por_estacion)\n",
    "\n",
    "# Clasificación de color según niveles de concentración promedio\n",
    "def clasificar_calidad_aire(valor, contaminante):\n",
    "    if pd.isna(valor):\n",
    "        return \"Sin datos\"\n",
    "    \n",
    "    contaminante = contaminante.lower()\n",
    "    \n",
    "    if contaminante == 'pm25':\n",
    "        if valor <= 12:\n",
    "            return \"Bueno\"\n",
    "        elif valor <= 35.4:\n",
    "            return \"Aceptable\"\n",
    "        elif valor <= 55.4:\n",
    "            return \"No saludable sensibles\"\n",
    "        elif valor <= 150.4:\n",
    "            return \"No saludable\"\n",
    "        elif valor <= 250.4:\n",
    "            return \"Muy no saludable\"\n",
    "        else:\n",
    "            return \"Peligroso\"\n",
    "\n",
    "    elif contaminante == 'pm10':\n",
    "        if valor <= 54:\n",
    "            return \"Bueno\"\n",
    "        elif valor <= 154:\n",
    "            return \"Aceptable\"\n",
    "        elif valor <= 254:\n",
    "            return \"No saludable sensibles\"\n",
    "        elif valor <= 354:\n",
    "            return \"No saludable\"\n",
    "        elif valor <= 424:\n",
    "            return \"Muy no saludable\"\n",
    "        else:\n",
    "            return \"Peligroso\"\n",
    "\n",
    "    elif contaminante == 'co':\n",
    "        if valor <= 4.4:\n",
    "            return \"Bueno\"\n",
    "        elif valor <= 9.4:\n",
    "            return \"Aceptable\"\n",
    "        elif valor <= 12.4:\n",
    "            return \"No saludable sensibles\"\n",
    "        elif valor <= 15.4:\n",
    "            return \"No saludable\"\n",
    "        elif valor <= 30.4:\n",
    "            return \"Muy no saludable\"\n",
    "        else:\n",
    "            return \"Peligroso\"\n",
    "\n",
    "    elif contaminante == 'o3':\n",
    "        if valor <= 0.054:\n",
    "            return \"Bueno\"\n",
    "        elif valor <= 0.070:\n",
    "            return \"Aceptable\"\n",
    "        elif valor <= 0.085:\n",
    "            return \"No saludable sensibles\"\n",
    "        elif valor <= 0.105:\n",
    "            return \"No saludable\"\n",
    "        elif valor <= 0.200:\n",
    "            return \"Muy no saludable\"\n",
    "        else:\n",
    "            return \"Peligroso\"\n",
    "\n",
    "    elif contaminante == 'no2':\n",
    "        if valor <= 0.053:\n",
    "            return \"Bueno\"\n",
    "        elif valor <= 0.100:\n",
    "            return \"Aceptable\"\n",
    "        elif valor <= 0.360:\n",
    "            return \"No saludable sensibles\"\n",
    "        elif valor <= 0.649:\n",
    "            return \"No saludable\"\n",
    "        elif valor <= 1.249:\n",
    "            return \"Muy no saludable\"\n",
    "        else:\n",
    "            return \"Peligroso\"\n",
    "\n",
    "    elif contaminante == 'so2':\n",
    "        if valor <= 0.035:\n",
    "            return \"Bueno\"\n",
    "        elif valor <= 0.075:\n",
    "            return \"Aceptable\"\n",
    "        elif valor <= 0.185:\n",
    "            return \"No saludable sensibles\"\n",
    "        elif valor <= 0.304:\n",
    "            return \"No saludable\"\n",
    "        elif valor <= 0.604:\n",
    "            return \"Muy no saludable\"\n",
    "        else:\n",
    "            return \"Peligroso\"\n",
    "\n",
    "    elif contaminante == 'no' or contaminante == 'pm1':\n",
    "        return \"Sin estándar oficial\"\n",
    "\n",
    "    else:\n",
    "        return \"Contaminante desconocido\"\n",
    "    \n",
    "def color_por_categoria(categoria):\n",
    "    colores = {\n",
    "        \"Bueno\": \"green\",\n",
    "        \"Aceptable\": \"yellow\",\n",
    "        \"No saludable sensibles\": \"orange\",\n",
    "        \"No saludable\": \"red\",\n",
    "        \"Muy no saludable\": \"purple\",\n",
    "        \"Peligroso\": \"maroon\",\n",
    "        \"Sin datos\": \"gray\",\n",
    "        \"Sin estándar oficial\": \"blue\",\n",
    "        \"Contaminante desconocido\": \"black\"\n",
    "    }\n",
    "    return colores.get(categoria, \"black\")\n",
    "\n",
    "\n",
    "# Crear mapa\n",
    "mapa = folium.Map(location=[6.25, -75.6], zoom_start=11)\n",
    "\n",
    "for _, row in media_estaciones.iterrows():\n",
    "    categoria = clasificar_calidad_aire(row['valor'], contaminante_unico) \n",
    "    color = color_por_categoria(categoria)\n",
    "    radio = 4 + (row['valor'] / 5) if not pd.isna(row['valor']) else 4\n",
    "    folium.CircleMarker(\n",
    "        location=[row['latitud'], row['longitud']],\n",
    "        radius=radio,\n",
    "        popup=folium.Popup(\n",
    "            f\"<b>{row['nombre']}</b><br>\"\n",
    "            f\"Media: {row['valor']:.2f}<br>\"\n",
    "            f\"Categoría: {categoria}<br>\"\n",
    "            f\"Válidos: {row['porcentaje_validos']:.1f}%\",\n",
    "            max_width=300\n",
    "        ),\n",
    "        color=color,\n",
    "        fill=True,\n",
    "        fill_color=color,\n",
    "        fill_opacity=0.7\n",
    "    ).add_to(mapa)\n",
    "\n",
    "# Mostrar mapa en notebook\n",
    "mapa"
   ]
  },
  {
   "cell_type": "code",
   "execution_count": 26,
   "id": "9b51826d",
   "metadata": {},
   "outputs": [
    {
     "data": {
      "text/html": [
       "<div>\n",
       "<style scoped>\n",
       "    .dataframe tbody tr th:only-of-type {\n",
       "        vertical-align: middle;\n",
       "    }\n",
       "\n",
       "    .dataframe tbody tr th {\n",
       "        vertical-align: top;\n",
       "    }\n",
       "\n",
       "    .dataframe thead th {\n",
       "        text-align: right;\n",
       "    }\n",
       "</style>\n",
       "<table border=\"1\" class=\"dataframe\">\n",
       "  <thead>\n",
       "    <tr style=\"text-align: right;\">\n",
       "      <th></th>\n",
       "      <th>codigoSerial</th>\n",
       "      <th>nombreCorto</th>\n",
       "      <th>nombre</th>\n",
       "      <th>latitud</th>\n",
       "      <th>longitud</th>\n",
       "      <th>contaminante</th>\n",
       "      <th>fecha</th>\n",
       "      <th>calibracion</th>\n",
       "      <th>valor</th>\n",
       "      <th>mes</th>\n",
       "      <th>categoria_calidad</th>\n",
       "    </tr>\n",
       "  </thead>\n",
       "  <tbody>\n",
       "    <tr>\n",
       "      <th>0</th>\n",
       "      <td>3</td>\n",
       "      <td>GIR-SOSN</td>\n",
       "      <td>_OFF-Girardota - S.O.S Aburrá Norte</td>\n",
       "      <td>6.378433</td>\n",
       "      <td>-75.451141</td>\n",
       "      <td>so2</td>\n",
       "      <td>2021-12-14 04:00:00</td>\n",
       "      <td>-9999.0</td>\n",
       "      <td>NaN</td>\n",
       "      <td>2021-12</td>\n",
       "      <td>Sin datos</td>\n",
       "    </tr>\n",
       "    <tr>\n",
       "      <th>1</th>\n",
       "      <td>3</td>\n",
       "      <td>GIR-SOSN</td>\n",
       "      <td>_OFF-Girardota - S.O.S Aburrá Norte</td>\n",
       "      <td>6.378433</td>\n",
       "      <td>-75.451141</td>\n",
       "      <td>so2</td>\n",
       "      <td>2021-12-14 05:00:00</td>\n",
       "      <td>-9999.0</td>\n",
       "      <td>NaN</td>\n",
       "      <td>2021-12</td>\n",
       "      <td>Sin datos</td>\n",
       "    </tr>\n",
       "    <tr>\n",
       "      <th>2</th>\n",
       "      <td>3</td>\n",
       "      <td>GIR-SOSN</td>\n",
       "      <td>_OFF-Girardota - S.O.S Aburrá Norte</td>\n",
       "      <td>6.378433</td>\n",
       "      <td>-75.451141</td>\n",
       "      <td>so2</td>\n",
       "      <td>2021-12-14 06:00:00</td>\n",
       "      <td>-9999.0</td>\n",
       "      <td>NaN</td>\n",
       "      <td>2021-12</td>\n",
       "      <td>Sin datos</td>\n",
       "    </tr>\n",
       "    <tr>\n",
       "      <th>3</th>\n",
       "      <td>3</td>\n",
       "      <td>GIR-SOSN</td>\n",
       "      <td>_OFF-Girardota - S.O.S Aburrá Norte</td>\n",
       "      <td>6.378433</td>\n",
       "      <td>-75.451141</td>\n",
       "      <td>so2</td>\n",
       "      <td>2021-12-14 07:00:00</td>\n",
       "      <td>-9999.0</td>\n",
       "      <td>NaN</td>\n",
       "      <td>2021-12</td>\n",
       "      <td>Sin datos</td>\n",
       "    </tr>\n",
       "    <tr>\n",
       "      <th>4</th>\n",
       "      <td>3</td>\n",
       "      <td>GIR-SOSN</td>\n",
       "      <td>_OFF-Girardota - S.O.S Aburrá Norte</td>\n",
       "      <td>6.378433</td>\n",
       "      <td>-75.451141</td>\n",
       "      <td>so2</td>\n",
       "      <td>2021-12-14 08:00:00</td>\n",
       "      <td>-9999.0</td>\n",
       "      <td>NaN</td>\n",
       "      <td>2021-12</td>\n",
       "      <td>Sin datos</td>\n",
       "    </tr>\n",
       "    <tr>\n",
       "      <th>...</th>\n",
       "      <td>...</td>\n",
       "      <td>...</td>\n",
       "      <td>...</td>\n",
       "      <td>...</td>\n",
       "      <td>...</td>\n",
       "      <td>...</td>\n",
       "      <td>...</td>\n",
       "      <td>...</td>\n",
       "      <td>...</td>\n",
       "      <td>...</td>\n",
       "      <td>...</td>\n",
       "    </tr>\n",
       "    <tr>\n",
       "      <th>8756</th>\n",
       "      <td>3</td>\n",
       "      <td>GIR-SOSN</td>\n",
       "      <td>_OFF-Girardota - S.O.S Aburrá Norte</td>\n",
       "      <td>6.378433</td>\n",
       "      <td>-75.451141</td>\n",
       "      <td>so2</td>\n",
       "      <td>2022-12-14 00:00:00</td>\n",
       "      <td>-9999.0</td>\n",
       "      <td>NaN</td>\n",
       "      <td>2022-12</td>\n",
       "      <td>Sin datos</td>\n",
       "    </tr>\n",
       "    <tr>\n",
       "      <th>8757</th>\n",
       "      <td>3</td>\n",
       "      <td>GIR-SOSN</td>\n",
       "      <td>_OFF-Girardota - S.O.S Aburrá Norte</td>\n",
       "      <td>6.378433</td>\n",
       "      <td>-75.451141</td>\n",
       "      <td>so2</td>\n",
       "      <td>2022-12-14 01:00:00</td>\n",
       "      <td>-9999.0</td>\n",
       "      <td>NaN</td>\n",
       "      <td>2022-12</td>\n",
       "      <td>Sin datos</td>\n",
       "    </tr>\n",
       "    <tr>\n",
       "      <th>8758</th>\n",
       "      <td>3</td>\n",
       "      <td>GIR-SOSN</td>\n",
       "      <td>_OFF-Girardota - S.O.S Aburrá Norte</td>\n",
       "      <td>6.378433</td>\n",
       "      <td>-75.451141</td>\n",
       "      <td>so2</td>\n",
       "      <td>2022-12-14 02:00:00</td>\n",
       "      <td>-9999.0</td>\n",
       "      <td>NaN</td>\n",
       "      <td>2022-12</td>\n",
       "      <td>Sin datos</td>\n",
       "    </tr>\n",
       "    <tr>\n",
       "      <th>8759</th>\n",
       "      <td>3</td>\n",
       "      <td>GIR-SOSN</td>\n",
       "      <td>_OFF-Girardota - S.O.S Aburrá Norte</td>\n",
       "      <td>6.378433</td>\n",
       "      <td>-75.451141</td>\n",
       "      <td>so2</td>\n",
       "      <td>2022-12-14 03:00:00</td>\n",
       "      <td>-9999.0</td>\n",
       "      <td>NaN</td>\n",
       "      <td>2022-12</td>\n",
       "      <td>Sin datos</td>\n",
       "    </tr>\n",
       "    <tr>\n",
       "      <th>8760</th>\n",
       "      <td>3</td>\n",
       "      <td>GIR-SOSN</td>\n",
       "      <td>_OFF-Girardota - S.O.S Aburrá Norte</td>\n",
       "      <td>6.378433</td>\n",
       "      <td>-75.451141</td>\n",
       "      <td>so2</td>\n",
       "      <td>2022-12-14 04:00:00</td>\n",
       "      <td>-9999.0</td>\n",
       "      <td>NaN</td>\n",
       "      <td>2022-12</td>\n",
       "      <td>Sin datos</td>\n",
       "    </tr>\n",
       "  </tbody>\n",
       "</table>\n",
       "<p>8761 rows × 11 columns</p>\n",
       "</div>"
      ],
      "text/plain": [
       "      codigoSerial nombreCorto                               nombre   latitud  \\\n",
       "0                3    GIR-SOSN  _OFF-Girardota - S.O.S Aburrá Norte  6.378433   \n",
       "1                3    GIR-SOSN  _OFF-Girardota - S.O.S Aburrá Norte  6.378433   \n",
       "2                3    GIR-SOSN  _OFF-Girardota - S.O.S Aburrá Norte  6.378433   \n",
       "3                3    GIR-SOSN  _OFF-Girardota - S.O.S Aburrá Norte  6.378433   \n",
       "4                3    GIR-SOSN  _OFF-Girardota - S.O.S Aburrá Norte  6.378433   \n",
       "...            ...         ...                                  ...       ...   \n",
       "8756             3    GIR-SOSN  _OFF-Girardota - S.O.S Aburrá Norte  6.378433   \n",
       "8757             3    GIR-SOSN  _OFF-Girardota - S.O.S Aburrá Norte  6.378433   \n",
       "8758             3    GIR-SOSN  _OFF-Girardota - S.O.S Aburrá Norte  6.378433   \n",
       "8759             3    GIR-SOSN  _OFF-Girardota - S.O.S Aburrá Norte  6.378433   \n",
       "8760             3    GIR-SOSN  _OFF-Girardota - S.O.S Aburrá Norte  6.378433   \n",
       "\n",
       "       longitud contaminante               fecha  calibracion  valor      mes  \\\n",
       "0    -75.451141          so2 2021-12-14 04:00:00      -9999.0    NaN  2021-12   \n",
       "1    -75.451141          so2 2021-12-14 05:00:00      -9999.0    NaN  2021-12   \n",
       "2    -75.451141          so2 2021-12-14 06:00:00      -9999.0    NaN  2021-12   \n",
       "3    -75.451141          so2 2021-12-14 07:00:00      -9999.0    NaN  2021-12   \n",
       "4    -75.451141          so2 2021-12-14 08:00:00      -9999.0    NaN  2021-12   \n",
       "...         ...          ...                 ...          ...    ...      ...   \n",
       "8756 -75.451141          so2 2022-12-14 00:00:00      -9999.0    NaN  2022-12   \n",
       "8757 -75.451141          so2 2022-12-14 01:00:00      -9999.0    NaN  2022-12   \n",
       "8758 -75.451141          so2 2022-12-14 02:00:00      -9999.0    NaN  2022-12   \n",
       "8759 -75.451141          so2 2022-12-14 03:00:00      -9999.0    NaN  2022-12   \n",
       "8760 -75.451141          so2 2022-12-14 04:00:00      -9999.0    NaN  2022-12   \n",
       "\n",
       "     categoria_calidad  \n",
       "0            Sin datos  \n",
       "1            Sin datos  \n",
       "2            Sin datos  \n",
       "3            Sin datos  \n",
       "4            Sin datos  \n",
       "...                ...  \n",
       "8756         Sin datos  \n",
       "8757         Sin datos  \n",
       "8758         Sin datos  \n",
       "8759         Sin datos  \n",
       "8760         Sin datos  \n",
       "\n",
       "[8761 rows x 11 columns]"
      ]
     },
     "execution_count": 26,
     "metadata": {},
     "output_type": "execute_result"
    }
   ],
   "source": [
    "df['categoria_calidad'] = df.apply(\n",
    "    lambda row: clasificar_calidad_aire(row['valor'], row['contaminante']),\n",
    "    axis=1\n",
    ")\n",
    "df"
   ]
  },
  {
   "cell_type": "code",
   "execution_count": 27,
   "id": "cc7c379a",
   "metadata": {},
   "outputs": [],
   "source": [
    "df['dia_semana'] = df['fecha'].dt.weekday  # Lunes=0, Domingo=6\n",
    "df['es_fin_semana'] = df['dia_semana'] >= 5"
   ]
  },
  {
   "cell_type": "code",
   "execution_count": 28,
   "id": "aa367090",
   "metadata": {},
   "outputs": [],
   "source": [
    "eventos_especiales = {\n",
    "    '2021-12-24': 'Navidad',\n",
    "    '2021-12-31': 'Año Nuevo',\n",
    "    '2022-01-06': 'Día de Reyes',\n",
    "    '2022-04-10': 'Semana Santa',\n",
    "    '2022-04-15': 'Semana Santa',\n",
    "    '2022-07-20': 'Independencia',\n",
    "    '2022-08-07': 'Feria de las Flores',\n",
    "    '2022-08-08': 'Feria de las Flores',\n",
    "    '2022-09-22': 'Día sin carro',\n",
    "    '2022-10-31': 'Halloween',\n",
    "    '2022-12-07': 'Día de las Velitas',\n",
    "    '2022-12-24': 'Navidad',\n",
    "    '2022-12-31': 'Año Nuevo',\n",
    "    # Puedes seguir agregando...\n",
    "}\n"
   ]
  },
  {
   "cell_type": "code",
   "execution_count": 29,
   "id": "9131775c",
   "metadata": {},
   "outputs": [
    {
     "data": {
      "text/html": [
       "<div>\n",
       "<style scoped>\n",
       "    .dataframe tbody tr th:only-of-type {\n",
       "        vertical-align: middle;\n",
       "    }\n",
       "\n",
       "    .dataframe tbody tr th {\n",
       "        vertical-align: top;\n",
       "    }\n",
       "\n",
       "    .dataframe thead th {\n",
       "        text-align: right;\n",
       "    }\n",
       "</style>\n",
       "<table border=\"1\" class=\"dataframe\">\n",
       "  <thead>\n",
       "    <tr style=\"text-align: right;\">\n",
       "      <th></th>\n",
       "      <th>codigoSerial</th>\n",
       "      <th>nombreCorto</th>\n",
       "      <th>nombre</th>\n",
       "      <th>latitud</th>\n",
       "      <th>longitud</th>\n",
       "      <th>contaminante</th>\n",
       "      <th>fecha</th>\n",
       "      <th>calibracion</th>\n",
       "      <th>valor</th>\n",
       "      <th>mes</th>\n",
       "      <th>categoria_calidad</th>\n",
       "      <th>dia_semana</th>\n",
       "      <th>es_fin_semana</th>\n",
       "      <th>fecha_str</th>\n",
       "      <th>evento</th>\n",
       "    </tr>\n",
       "  </thead>\n",
       "  <tbody>\n",
       "    <tr>\n",
       "      <th>0</th>\n",
       "      <td>3</td>\n",
       "      <td>GIR-SOSN</td>\n",
       "      <td>_OFF-Girardota - S.O.S Aburrá Norte</td>\n",
       "      <td>6.378433</td>\n",
       "      <td>-75.451141</td>\n",
       "      <td>so2</td>\n",
       "      <td>2021-12-14 04:00:00</td>\n",
       "      <td>-9999.0</td>\n",
       "      <td>NaN</td>\n",
       "      <td>2021-12</td>\n",
       "      <td>Sin datos</td>\n",
       "      <td>1</td>\n",
       "      <td>False</td>\n",
       "      <td>2021-12-14</td>\n",
       "      <td>Normal</td>\n",
       "    </tr>\n",
       "    <tr>\n",
       "      <th>1</th>\n",
       "      <td>3</td>\n",
       "      <td>GIR-SOSN</td>\n",
       "      <td>_OFF-Girardota - S.O.S Aburrá Norte</td>\n",
       "      <td>6.378433</td>\n",
       "      <td>-75.451141</td>\n",
       "      <td>so2</td>\n",
       "      <td>2021-12-14 05:00:00</td>\n",
       "      <td>-9999.0</td>\n",
       "      <td>NaN</td>\n",
       "      <td>2021-12</td>\n",
       "      <td>Sin datos</td>\n",
       "      <td>1</td>\n",
       "      <td>False</td>\n",
       "      <td>2021-12-14</td>\n",
       "      <td>Normal</td>\n",
       "    </tr>\n",
       "    <tr>\n",
       "      <th>2</th>\n",
       "      <td>3</td>\n",
       "      <td>GIR-SOSN</td>\n",
       "      <td>_OFF-Girardota - S.O.S Aburrá Norte</td>\n",
       "      <td>6.378433</td>\n",
       "      <td>-75.451141</td>\n",
       "      <td>so2</td>\n",
       "      <td>2021-12-14 06:00:00</td>\n",
       "      <td>-9999.0</td>\n",
       "      <td>NaN</td>\n",
       "      <td>2021-12</td>\n",
       "      <td>Sin datos</td>\n",
       "      <td>1</td>\n",
       "      <td>False</td>\n",
       "      <td>2021-12-14</td>\n",
       "      <td>Normal</td>\n",
       "    </tr>\n",
       "    <tr>\n",
       "      <th>3</th>\n",
       "      <td>3</td>\n",
       "      <td>GIR-SOSN</td>\n",
       "      <td>_OFF-Girardota - S.O.S Aburrá Norte</td>\n",
       "      <td>6.378433</td>\n",
       "      <td>-75.451141</td>\n",
       "      <td>so2</td>\n",
       "      <td>2021-12-14 07:00:00</td>\n",
       "      <td>-9999.0</td>\n",
       "      <td>NaN</td>\n",
       "      <td>2021-12</td>\n",
       "      <td>Sin datos</td>\n",
       "      <td>1</td>\n",
       "      <td>False</td>\n",
       "      <td>2021-12-14</td>\n",
       "      <td>Normal</td>\n",
       "    </tr>\n",
       "    <tr>\n",
       "      <th>4</th>\n",
       "      <td>3</td>\n",
       "      <td>GIR-SOSN</td>\n",
       "      <td>_OFF-Girardota - S.O.S Aburrá Norte</td>\n",
       "      <td>6.378433</td>\n",
       "      <td>-75.451141</td>\n",
       "      <td>so2</td>\n",
       "      <td>2021-12-14 08:00:00</td>\n",
       "      <td>-9999.0</td>\n",
       "      <td>NaN</td>\n",
       "      <td>2021-12</td>\n",
       "      <td>Sin datos</td>\n",
       "      <td>1</td>\n",
       "      <td>False</td>\n",
       "      <td>2021-12-14</td>\n",
       "      <td>Normal</td>\n",
       "    </tr>\n",
       "    <tr>\n",
       "      <th>...</th>\n",
       "      <td>...</td>\n",
       "      <td>...</td>\n",
       "      <td>...</td>\n",
       "      <td>...</td>\n",
       "      <td>...</td>\n",
       "      <td>...</td>\n",
       "      <td>...</td>\n",
       "      <td>...</td>\n",
       "      <td>...</td>\n",
       "      <td>...</td>\n",
       "      <td>...</td>\n",
       "      <td>...</td>\n",
       "      <td>...</td>\n",
       "      <td>...</td>\n",
       "      <td>...</td>\n",
       "    </tr>\n",
       "    <tr>\n",
       "      <th>8756</th>\n",
       "      <td>3</td>\n",
       "      <td>GIR-SOSN</td>\n",
       "      <td>_OFF-Girardota - S.O.S Aburrá Norte</td>\n",
       "      <td>6.378433</td>\n",
       "      <td>-75.451141</td>\n",
       "      <td>so2</td>\n",
       "      <td>2022-12-14 00:00:00</td>\n",
       "      <td>-9999.0</td>\n",
       "      <td>NaN</td>\n",
       "      <td>2022-12</td>\n",
       "      <td>Sin datos</td>\n",
       "      <td>2</td>\n",
       "      <td>False</td>\n",
       "      <td>2022-12-14</td>\n",
       "      <td>Normal</td>\n",
       "    </tr>\n",
       "    <tr>\n",
       "      <th>8757</th>\n",
       "      <td>3</td>\n",
       "      <td>GIR-SOSN</td>\n",
       "      <td>_OFF-Girardota - S.O.S Aburrá Norte</td>\n",
       "      <td>6.378433</td>\n",
       "      <td>-75.451141</td>\n",
       "      <td>so2</td>\n",
       "      <td>2022-12-14 01:00:00</td>\n",
       "      <td>-9999.0</td>\n",
       "      <td>NaN</td>\n",
       "      <td>2022-12</td>\n",
       "      <td>Sin datos</td>\n",
       "      <td>2</td>\n",
       "      <td>False</td>\n",
       "      <td>2022-12-14</td>\n",
       "      <td>Normal</td>\n",
       "    </tr>\n",
       "    <tr>\n",
       "      <th>8758</th>\n",
       "      <td>3</td>\n",
       "      <td>GIR-SOSN</td>\n",
       "      <td>_OFF-Girardota - S.O.S Aburrá Norte</td>\n",
       "      <td>6.378433</td>\n",
       "      <td>-75.451141</td>\n",
       "      <td>so2</td>\n",
       "      <td>2022-12-14 02:00:00</td>\n",
       "      <td>-9999.0</td>\n",
       "      <td>NaN</td>\n",
       "      <td>2022-12</td>\n",
       "      <td>Sin datos</td>\n",
       "      <td>2</td>\n",
       "      <td>False</td>\n",
       "      <td>2022-12-14</td>\n",
       "      <td>Normal</td>\n",
       "    </tr>\n",
       "    <tr>\n",
       "      <th>8759</th>\n",
       "      <td>3</td>\n",
       "      <td>GIR-SOSN</td>\n",
       "      <td>_OFF-Girardota - S.O.S Aburrá Norte</td>\n",
       "      <td>6.378433</td>\n",
       "      <td>-75.451141</td>\n",
       "      <td>so2</td>\n",
       "      <td>2022-12-14 03:00:00</td>\n",
       "      <td>-9999.0</td>\n",
       "      <td>NaN</td>\n",
       "      <td>2022-12</td>\n",
       "      <td>Sin datos</td>\n",
       "      <td>2</td>\n",
       "      <td>False</td>\n",
       "      <td>2022-12-14</td>\n",
       "      <td>Normal</td>\n",
       "    </tr>\n",
       "    <tr>\n",
       "      <th>8760</th>\n",
       "      <td>3</td>\n",
       "      <td>GIR-SOSN</td>\n",
       "      <td>_OFF-Girardota - S.O.S Aburrá Norte</td>\n",
       "      <td>6.378433</td>\n",
       "      <td>-75.451141</td>\n",
       "      <td>so2</td>\n",
       "      <td>2022-12-14 04:00:00</td>\n",
       "      <td>-9999.0</td>\n",
       "      <td>NaN</td>\n",
       "      <td>2022-12</td>\n",
       "      <td>Sin datos</td>\n",
       "      <td>2</td>\n",
       "      <td>False</td>\n",
       "      <td>2022-12-14</td>\n",
       "      <td>Normal</td>\n",
       "    </tr>\n",
       "  </tbody>\n",
       "</table>\n",
       "<p>8761 rows × 15 columns</p>\n",
       "</div>"
      ],
      "text/plain": [
       "      codigoSerial nombreCorto                               nombre   latitud  \\\n",
       "0                3    GIR-SOSN  _OFF-Girardota - S.O.S Aburrá Norte  6.378433   \n",
       "1                3    GIR-SOSN  _OFF-Girardota - S.O.S Aburrá Norte  6.378433   \n",
       "2                3    GIR-SOSN  _OFF-Girardota - S.O.S Aburrá Norte  6.378433   \n",
       "3                3    GIR-SOSN  _OFF-Girardota - S.O.S Aburrá Norte  6.378433   \n",
       "4                3    GIR-SOSN  _OFF-Girardota - S.O.S Aburrá Norte  6.378433   \n",
       "...            ...         ...                                  ...       ...   \n",
       "8756             3    GIR-SOSN  _OFF-Girardota - S.O.S Aburrá Norte  6.378433   \n",
       "8757             3    GIR-SOSN  _OFF-Girardota - S.O.S Aburrá Norte  6.378433   \n",
       "8758             3    GIR-SOSN  _OFF-Girardota - S.O.S Aburrá Norte  6.378433   \n",
       "8759             3    GIR-SOSN  _OFF-Girardota - S.O.S Aburrá Norte  6.378433   \n",
       "8760             3    GIR-SOSN  _OFF-Girardota - S.O.S Aburrá Norte  6.378433   \n",
       "\n",
       "       longitud contaminante               fecha  calibracion  valor      mes  \\\n",
       "0    -75.451141          so2 2021-12-14 04:00:00      -9999.0    NaN  2021-12   \n",
       "1    -75.451141          so2 2021-12-14 05:00:00      -9999.0    NaN  2021-12   \n",
       "2    -75.451141          so2 2021-12-14 06:00:00      -9999.0    NaN  2021-12   \n",
       "3    -75.451141          so2 2021-12-14 07:00:00      -9999.0    NaN  2021-12   \n",
       "4    -75.451141          so2 2021-12-14 08:00:00      -9999.0    NaN  2021-12   \n",
       "...         ...          ...                 ...          ...    ...      ...   \n",
       "8756 -75.451141          so2 2022-12-14 00:00:00      -9999.0    NaN  2022-12   \n",
       "8757 -75.451141          so2 2022-12-14 01:00:00      -9999.0    NaN  2022-12   \n",
       "8758 -75.451141          so2 2022-12-14 02:00:00      -9999.0    NaN  2022-12   \n",
       "8759 -75.451141          so2 2022-12-14 03:00:00      -9999.0    NaN  2022-12   \n",
       "8760 -75.451141          so2 2022-12-14 04:00:00      -9999.0    NaN  2022-12   \n",
       "\n",
       "     categoria_calidad  dia_semana  es_fin_semana   fecha_str  evento  \n",
       "0            Sin datos           1          False  2021-12-14  Normal  \n",
       "1            Sin datos           1          False  2021-12-14  Normal  \n",
       "2            Sin datos           1          False  2021-12-14  Normal  \n",
       "3            Sin datos           1          False  2021-12-14  Normal  \n",
       "4            Sin datos           1          False  2021-12-14  Normal  \n",
       "...                ...         ...            ...         ...     ...  \n",
       "8756         Sin datos           2          False  2022-12-14  Normal  \n",
       "8757         Sin datos           2          False  2022-12-14  Normal  \n",
       "8758         Sin datos           2          False  2022-12-14  Normal  \n",
       "8759         Sin datos           2          False  2022-12-14  Normal  \n",
       "8760         Sin datos           2          False  2022-12-14  Normal  \n",
       "\n",
       "[8761 rows x 15 columns]"
      ]
     },
     "execution_count": 29,
     "metadata": {},
     "output_type": "execute_result"
    }
   ],
   "source": [
    "df['fecha_str'] = df['fecha'].dt.strftime('%Y-%m-%d')\n",
    "df['evento'] = df['fecha_str'].map(eventos_especiales).fillna(\"Normal\")\n",
    "df"
   ]
  },
  {
   "cell_type": "code",
   "execution_count": 30,
   "id": "6584bb38",
   "metadata": {},
   "outputs": [
    {
     "name": "stdout",
     "output_type": "stream",
     "text": [
      "es_fin_semana\n",
      "False    NaN\n",
      "True     1.0\n",
      "Name: valor, dtype: float64\n"
     ]
    }
   ],
   "source": [
    "#Semana vs fin de semana\n",
    "\n",
    "promedios_dia = df.groupby('es_fin_semana')['valor'].mean()\n",
    "print(promedios_dia)"
   ]
  },
  {
   "cell_type": "code",
   "execution_count": 31,
   "id": "c918a28a",
   "metadata": {},
   "outputs": [
    {
     "name": "stdout",
     "output_type": "stream",
     "text": [
      "evento\n",
      "Año Nuevo              NaN\n",
      "Día de Reyes           NaN\n",
      "Día de las Velitas     NaN\n",
      "Día sin carro          NaN\n",
      "Feria de las Flores    NaN\n",
      "Halloween              NaN\n",
      "Independencia          NaN\n",
      "Navidad                NaN\n",
      "Normal                 1.0\n",
      "Semana Santa           NaN\n",
      "Name: valor, dtype: float64\n"
     ]
    }
   ],
   "source": [
    "#fechas especiales vs fechas normales\n",
    "\n",
    "promedios_evento = df.groupby('evento')['valor'].mean()\n",
    "print(promedios_evento)"
   ]
  },
  {
   "cell_type": "code",
   "execution_count": 32,
   "id": "5e390245",
   "metadata": {},
   "outputs": [
    {
     "data": {
      "image/png": "[encoded data removed]",
      "text/plain": [
       "<Figure size 640x480 with 1 Axes>"
      ]
     },
     "metadata": {},
     "output_type": "display_data"
    }
   ],
   "source": [
    "df['dia_semana'] = df['fecha'].dt.weekday\n",
    "df['tipo_dia'] = df['dia_semana'].apply(lambda x: 'Fin de semana' if x >= 5 else 'Entre semana')\n",
    "\n",
    "sns.barplot(data=df, x='tipo_dia', y='valor')\n",
    "plt.title(f'{contaminante_unico.upper()} - Promedio por tipo de día')\n",
    "plt.ylabel('Concentración')\n",
    "plt.show()\n",
    "#Semana vs fin de semana"
   ]
  },
  {
   "cell_type": "code",
   "execution_count": 33,
   "id": "e4c8112c",
   "metadata": {},
   "outputs": [
    {
     "data": {
      "image/png": "[encoded data removed]",
      "text/plain": [
       "<Figure size 1000x500 with 1 Axes>"
      ]
     },
     "metadata": {},
     "output_type": "display_data"
    }
   ],
   "source": [
    "plt.figure(figsize=(10, 5))\n",
    "sns.boxplot(data=df, x='evento', y='valor')\n",
    "plt.title(f'{contaminante_unico.upper()} - Concentración por evento')\n",
    "plt.ylabel('Concentración (μg/m³ o ppm)')\n",
    "plt.xticks(rotation=45)\n",
    "plt.tight_layout()\n",
    "plt.show()\n",
    "#fechas especiales vs fechas normales"
   ]
  },
  {
   "cell_type": "code",
   "execution_count": 34,
   "id": "e9f64bcb",
   "metadata": {},
   "outputs": [
    {
     "data": {
      "text/html": [
       "<div>\n",
       "<style scoped>\n",
       "    .dataframe tbody tr th:only-of-type {\n",
       "        vertical-align: middle;\n",
       "    }\n",
       "\n",
       "    .dataframe tbody tr th {\n",
       "        vertical-align: top;\n",
       "    }\n",
       "\n",
       "    .dataframe thead th {\n",
       "        text-align: right;\n",
       "    }\n",
       "</style>\n",
       "<table border=\"1\" class=\"dataframe\">\n",
       "  <thead>\n",
       "    <tr style=\"text-align: right;\">\n",
       "      <th>evento</th>\n",
       "      <th>Año Nuevo</th>\n",
       "      <th>Día de Reyes</th>\n",
       "      <th>Día de las Velitas</th>\n",
       "      <th>Día sin carro</th>\n",
       "      <th>Feria de las Flores</th>\n",
       "      <th>Halloween</th>\n",
       "      <th>Independencia</th>\n",
       "      <th>Navidad</th>\n",
       "      <th>Normal</th>\n",
       "      <th>Semana Santa</th>\n",
       "    </tr>\n",
       "    <tr>\n",
       "      <th>tipo_dia</th>\n",
       "      <th></th>\n",
       "      <th></th>\n",
       "      <th></th>\n",
       "      <th></th>\n",
       "      <th></th>\n",
       "      <th></th>\n",
       "      <th></th>\n",
       "      <th></th>\n",
       "      <th></th>\n",
       "      <th></th>\n",
       "    </tr>\n",
       "  </thead>\n",
       "  <tbody>\n",
       "    <tr>\n",
       "      <th>Entre semana</th>\n",
       "      <td>NaN</td>\n",
       "      <td>NaN</td>\n",
       "      <td>NaN</td>\n",
       "      <td>NaN</td>\n",
       "      <td>NaN</td>\n",
       "      <td>NaN</td>\n",
       "      <td>NaN</td>\n",
       "      <td>NaN</td>\n",
       "      <td>NaN</td>\n",
       "      <td>NaN</td>\n",
       "    </tr>\n",
       "    <tr>\n",
       "      <th>Fin de semana</th>\n",
       "      <td>NaN</td>\n",
       "      <td>NaN</td>\n",
       "      <td>NaN</td>\n",
       "      <td>NaN</td>\n",
       "      <td>NaN</td>\n",
       "      <td>NaN</td>\n",
       "      <td>NaN</td>\n",
       "      <td>NaN</td>\n",
       "      <td>1.0</td>\n",
       "      <td>NaN</td>\n",
       "    </tr>\n",
       "  </tbody>\n",
       "</table>\n",
       "</div>"
      ],
      "text/plain": [
       "evento         Año Nuevo  Día de Reyes  Día de las Velitas  Día sin carro  \\\n",
       "tipo_dia                                                                    \n",
       "Entre semana         NaN           NaN                 NaN            NaN   \n",
       "Fin de semana        NaN           NaN                 NaN            NaN   \n",
       "\n",
       "evento         Feria de las Flores  Halloween  Independencia  Navidad  Normal  \\\n",
       "tipo_dia                                                                        \n",
       "Entre semana                   NaN        NaN            NaN      NaN     NaN   \n",
       "Fin de semana                  NaN        NaN            NaN      NaN     1.0   \n",
       "\n",
       "evento         Semana Santa  \n",
       "tipo_dia                     \n",
       "Entre semana            NaN  \n",
       "Fin de semana           NaN  "
      ]
     },
     "execution_count": 34,
     "metadata": {},
     "output_type": "execute_result"
    }
   ],
   "source": [
    "resumen = df.groupby(['tipo_dia', 'evento'])['valor'].mean().unstack()\n",
    "resumen"
   ]
  },
  {
   "cell_type": "code",
   "execution_count": 35,
   "id": "a5a757a5",
   "metadata": {},
   "outputs": [
    {
     "name": "stdout",
     "output_type": "stream",
     "text": [
      "                                nombre  valor\n",
      "0  _OFF-Girardota - S.O.S Aburrá Norte    1.0\n"
     ]
    }
   ],
   "source": [
    "#estaciones con peor aire\n",
    "\n",
    "media_top = media_estaciones[['nombre', 'valor']].sort_values(by='valor', ascending=False)\n",
    "print(media_top.head(10))"
   ]
  },
  {
   "cell_type": "code",
   "execution_count": 36,
   "id": "03a95146",
   "metadata": {},
   "outputs": [
    {
     "name": "stderr",
     "output_type": "stream",
     "text": [
      "C:\\Users\\Jeronimo Zapata\\AppData\\Local\\Temp\\ipykernel_21840\\2538979619.py:3: FutureWarning: \n",
      "\n",
      "Passing `palette` without assigning `hue` is deprecated and will be removed in v0.14.0. Assign the `y` variable to `hue` and set `legend=False` for the same effect.\n",
      "\n",
      "  sns.barplot(data=estaciones_ordenadas, x='valor', y='nombre', palette='Spectral')\n"
     ]
    },
    {
     "data": {
      "image/png": "[encoded data removed]",
      "text/plain": [
       "<Figure size 1200x600 with 1 Axes>"
      ]
     },
     "metadata": {},
     "output_type": "display_data"
    }
   ],
   "source": [
    "plt.figure(figsize=(12, 6))\n",
    "estaciones_ordenadas = media_estaciones.sort_values(by='valor', ascending=False)\n",
    "sns.barplot(data=estaciones_ordenadas, x='valor', y='nombre', palette='Spectral')\n",
    "plt.title(f'{contaminante_unico.upper()} - Concentración promedio por estación')\n",
    "plt.xlabel('Concentración promedio')\n",
    "plt.ylabel('Estación')\n",
    "plt.tight_layout()\n",
    "plt.show()"
   ]
  },
  {
   "cell_type": "code",
   "execution_count": 37,
   "id": "e168e0c8",
   "metadata": {},
   "outputs": [
    {
     "name": "stderr",
     "output_type": "stream",
     "text": [
      "C:\\Users\\Jeronimo Zapata\\AppData\\Local\\Temp\\ipykernel_21840\\3915280519.py:6: DeprecationWarning: *scatter_mapbox* is deprecated! Use *scatter_map* instead. Learn more at: https://plotly.com/python/mapbox-to-maplibre/\n",
      "  fig = px.scatter_mapbox(\n"
     ]
    },
    {
     "data": {
      "application/vnd.plotly.v1+json": {
       "config": {
        "plotlyServerURL": "https://plot.ly"
       },
       "data": [
        {
         "hovertemplate": "<b>%{hovertext}</b><br><br>valor=%{marker.color}<br>latitud=%{lat}<br>longitud=%{lon}<extra></extra>",
         "hovertext": [
          "_OFF-Girardota - S.O.S Aburrá Norte"
         ],
         "lat": {
          "bdata": "7OEm/oODGUA=",
          "dtype": "f8"
         },
         "legendgroup": "",
         "lon": {
          "bdata": "ybctgN/cUsA=",
          "dtype": "f8"
         },
         "marker": {
          "color": {
           "bdata": "AAAAAAAA8D8=",
           "dtype": "f8"
          },
          "coloraxis": "coloraxis",
          "size": {
           "bdata": "AAAAAAAA8D8=",
           "dtype": "f8"
          },
          "sizemode": "area",
          "sizeref": 0.0044444444444444444
         },
         "mode": "markers",
         "name": "",
         "showlegend": false,
         "subplot": "mapbox",
         "type": "scattermapbox"
        }
       ],
       "layout": {
        "coloraxis": {
         "colorbar": {
          "title": {
           "text": "valor"
          }
         },
         "colorscale": [
          [
           0,
           "rgb(255,255,204)"
          ],
          [
           0.125,
           "rgb(255,237,160)"
          ],
          [
           0.25,
           "rgb(254,217,118)"
          ],
          [
           0.375,
           "rgb(254,178,76)"
          ],
          [
           0.5,
           "rgb(253,141,60)"
          ],
          [
           0.625,
           "rgb(252,78,42)"
          ],
          [
           0.75,
           "rgb(227,26,28)"
          ],
          [
           0.875,
           "rgb(189,0,38)"
          ],
          [
           1,
           "rgb(128,0,38)"
          ]
         ]
        },
        "legend": {
         "itemsizing": "constant",
         "tracegroupgap": 0
        },
        "mapbox": {
         "center": {
          "lat": 6.3784332,
          "lon": -75.4511414
         },
         "domain": {
          "x": [
           0,
           1
          ],
          "y": [
           0,
           1
          ]
         },
         "style": "carto-positron",
         "zoom": 10
        },
        "margin": {
         "t": 60
        },
        "template": {
         "data": {
          "bar": [
           {
            "error_x": {
             "color": "#2a3f5f"
            },
            "error_y": {
             "color": "#2a3f5f"
            },
            "marker": {
             "line": {
              "color": "#E5ECF6",
              "width": 0.5
             },
             "pattern": {
              "fillmode": "overlay",
              "size": 10,
              "solidity": 0.2
             }
            },
            "type": "bar"
           }
          ],
          "barpolar": [
           {
            "marker": {
             "line": {
              "color": "#E5ECF6",
              "width": 0.5
             },
             "pattern": {
              "fillmode": "overlay",
              "size": 10,
              "solidity": 0.2
             }
            },
            "type": "barpolar"
           }
          ],
          "carpet": [
           {
            "aaxis": {
             "endlinecolor": "#2a3f5f",
             "gridcolor": "white",
             "linecolor": "white",
             "minorgridcolor": "white",
             "startlinecolor": "#2a3f5f"
            },
            "baxis": {
             "endlinecolor": "#2a3f5f",
             "gridcolor": "white",
             "linecolor": "white",
             "minorgridcolor": "white",
             "startlinecolor": "#2a3f5f"
            },
            "type": "carpet"
           }
          ],
          "choropleth": [
           {
            "colorbar": {
             "outlinewidth": 0,
             "ticks": ""
            },
            "type": "choropleth"
           }
          ],
          "contour": [
           {
            "colorbar": {
             "outlinewidth": 0,
             "ticks": ""
            },
            "colorscale": [
             [
              0,
              "#0d0887"
             ],
             [
              0.1111111111111111,
              "#46039f"
             ],
             [
              0.2222222222222222,
              "#7201a8"
             ],
             [
              0.3333333333333333,
              "#9c179e"
             ],
             [
              0.4444444444444444,
              "#bd3786"
             ],
             [
              0.5555555555555556,
              "#d8576b"
             ],
             [
              0.6666666666666666,
              "#ed7953"
             ],
             [
              0.7777777777777778,
              "#fb9f3a"
             ],
             [
              0.8888888888888888,
              "#fdca26"
             ],
             [
              1,
              "#f0f921"
             ]
            ],
            "type": "contour"
           }
          ],
          "contourcarpet": [
           {
            "colorbar": {
             "outlinewidth": 0,
             "ticks": ""
            },
            "type": "contourcarpet"
           }
          ],
          "heatmap": [
           {
            "colorbar": {
             "outlinewidth": 0,
             "ticks": ""
            },
            "colorscale": [
             [
              0,
              "#0d0887"
             ],
             [
              0.1111111111111111,
              "#46039f"
             ],
             [
              0.2222222222222222,
              "#7201a8"
             ],
             [
              0.3333333333333333,
              "#9c179e"
             ],
             [
              0.4444444444444444,
              "#bd3786"
             ],
             [
              0.5555555555555556,
              "#d8576b"
             ],
             [
              0.6666666666666666,
              "#ed7953"
             ],
             [
              0.7777777777777778,
              "#fb9f3a"
             ],
             [
              0.8888888888888888,
              "#fdca26"
             ],
             [
              1,
              "#f0f921"
             ]
            ],
            "type": "heatmap"
           }
          ],
          "histogram": [
           {
            "marker": {
             "pattern": {
              "fillmode": "overlay",
              "size": 10,
              "solidity": 0.2
             }
            },
            "type": "histogram"
           }
          ],
          "histogram2d": [
           {
            "colorbar": {
             "outlinewidth": 0,
             "ticks": ""
            },
            "colorscale": [
             [
              0,
              "#0d0887"
             ],
             [
              0.1111111111111111,
              "#46039f"
             ],
             [
              0.2222222222222222,
              "#7201a8"
             ],
             [
              0.3333333333333333,
              "#9c179e"
             ],
             [
              0.4444444444444444,
              "#bd3786"
             ],
             [
              0.5555555555555556,
              "#d8576b"
             ],
             [
              0.6666666666666666,
              "#ed7953"
             ],
             [
              0.7777777777777778,
              "#fb9f3a"
             ],
             [
              0.8888888888888888,
              "#fdca26"
             ],
             [
              1,
              "#f0f921"
             ]
            ],
            "type": "histogram2d"
           }
          ],
          "histogram2dcontour": [
           {
            "colorbar": {
             "outlinewidth": 0,
             "ticks": ""
            },
            "colorscale": [
             [
              0,
              "#0d0887"
             ],
             [
              0.1111111111111111,
              "#46039f"
             ],
             [
              0.2222222222222222,
              "#7201a8"
             ],
             [
              0.3333333333333333,
              "#9c179e"
             ],
             [
              0.4444444444444444,
              "#bd3786"
             ],
             [
              0.5555555555555556,
              "#d8576b"
             ],
             [
              0.6666666666666666,
              "#ed7953"
             ],
             [
              0.7777777777777778,
              "#fb9f3a"
             ],
             [
              0.8888888888888888,
              "#fdca26"
             ],
             [
              1,
              "#f0f921"
             ]
            ],
            "type": "histogram2dcontour"
           }
          ],
          "mesh3d": [
           {
            "colorbar": {
             "outlinewidth": 0,
             "ticks": ""
            },
            "type": "mesh3d"
           }
          ],
          "parcoords": [
           {
            "line": {
             "colorbar": {
              "outlinewidth": 0,
              "ticks": ""
             }
            },
            "type": "parcoords"
           }
          ],
          "pie": [
           {
            "automargin": true,
            "type": "pie"
           }
          ],
          "scatter": [
           {
            "fillpattern": {
             "fillmode": "overlay",
             "size": 10,
             "solidity": 0.2
            },
            "type": "scatter"
           }
          ],
          "scatter3d": [
           {
            "line": {
             "colorbar": {
              "outlinewidth": 0,
              "ticks": ""
             }
            },
            "marker": {
             "colorbar": {
              "outlinewidth": 0,
              "ticks": ""
             }
            },
            "type": "scatter3d"
           }
          ],
          "scattercarpet": [
           {
            "marker": {
             "colorbar": {
              "outlinewidth": 0,
              "ticks": ""
             }
            },
            "type": "scattercarpet"
           }
          ],
          "scattergeo": [
           {
            "marker": {
             "colorbar": {
              "outlinewidth": 0,
              "ticks": ""
             }
            },
            "type": "scattergeo"
           }
          ],
          "scattergl": [
           {
            "marker": {
             "colorbar": {
              "outlinewidth": 0,
              "ticks": ""
             }
            },
            "type": "scattergl"
           }
          ],
          "scattermap": [
           {
            "marker": {
             "colorbar": {
              "outlinewidth": 0,
              "ticks": ""
             }
            },
            "type": "scattermap"
           }
          ],
          "scattermapbox": [
           {
            "marker": {
             "colorbar": {
              "outlinewidth": 0,
              "ticks": ""
             }
            },
            "type": "scattermapbox"
           }
          ],
          "scatterpolar": [
           {
            "marker": {
             "colorbar": {
              "outlinewidth": 0,
              "ticks": ""
             }
            },
            "type": "scatterpolar"
           }
          ],
          "scatterpolargl": [
           {
            "marker": {
             "colorbar": {
              "outlinewidth": 0,
              "ticks": ""
             }
            },
            "type": "scatterpolargl"
           }
          ],
          "scatterternary": [
           {
            "marker": {
             "colorbar": {
              "outlinewidth": 0,
              "ticks": ""
             }
            },
            "type": "scatterternary"
           }
          ],
          "surface": [
           {
            "colorbar": {
             "outlinewidth": 0,
             "ticks": ""
            },
            "colorscale": [
             [
              0,
              "#0d0887"
             ],
             [
              0.1111111111111111,
              "#46039f"
             ],
             [
              0.2222222222222222,
              "#7201a8"
             ],
             [
              0.3333333333333333,
              "#9c179e"
             ],
             [
              0.4444444444444444,
              "#bd3786"
             ],
             [
              0.5555555555555556,
              "#d8576b"
             ],
             [
              0.6666666666666666,
              "#ed7953"
             ],
             [
              0.7777777777777778,
              "#fb9f3a"
             ],
             [
              0.8888888888888888,
              "#fdca26"
             ],
             [
              1,
              "#f0f921"
             ]
            ],
            "type": "surface"
           }
          ],
          "table": [
           {
            "cells": {
             "fill": {
              "color": "#EBF0F8"
             },
             "line": {
              "color": "white"
             }
            },
            "header": {
             "fill": {
              "color": "#C8D4E3"
             },
             "line": {
              "color": "white"
             }
            },
            "type": "table"
           }
          ]
         },
         "layout": {
          "annotationdefaults": {
           "arrowcolor": "#2a3f5f",
           "arrowhead": 0,
           "arrowwidth": 1
          },
          "autotypenumbers": "strict",
          "coloraxis": {
           "colorbar": {
            "outlinewidth": 0,
            "ticks": ""
           }
          },
          "colorscale": {
           "diverging": [
            [
             0,
             "#8e0152"
            ],
            [
             0.1,
             "#c51b7d"
            ],
            [
             0.2,
             "#de77ae"
            ],
            [
             0.3,
             "#f1b6da"
            ],
            [
             0.4,
             "#fde0ef"
            ],
            [
             0.5,
             "#f7f7f7"
            ],
            [
             0.6,
             "#e6f5d0"
            ],
            [
             0.7,
             "#b8e186"
            ],
            [
             0.8,
             "#7fbc41"
            ],
            [
             0.9,
             "#4d9221"
            ],
            [
             1,
             "#276419"
            ]
           ],
           "sequential": [
            [
             0,
             "#0d0887"
            ],
            [
             0.1111111111111111,
             "#46039f"
            ],
            [
             0.2222222222222222,
             "#7201a8"
            ],
            [
             0.3333333333333333,
             "#9c179e"
            ],
            [
             0.4444444444444444,
             "#bd3786"
            ],
            [
             0.5555555555555556,
             "#d8576b"
            ],
            [
             0.6666666666666666,
             "#ed7953"
            ],
            [
             0.7777777777777778,
             "#fb9f3a"
            ],
            [
             0.8888888888888888,
             "#fdca26"
            ],
            [
             1,
             "#f0f921"
            ]
           ],
           "sequentialminus": [
            [
             0,
             "#0d0887"
            ],
            [
             0.1111111111111111,
             "#46039f"
            ],
            [
             0.2222222222222222,
             "#7201a8"
            ],
            [
             0.3333333333333333,
             "#9c179e"
            ],
            [
             0.4444444444444444,
             "#bd3786"
            ],
            [
             0.5555555555555556,
             "#d8576b"
            ],
            [
             0.6666666666666666,
             "#ed7953"
            ],
            [
             0.7777777777777778,
             "#fb9f3a"
            ],
            [
             0.8888888888888888,
             "#fdca26"
            ],
            [
             1,
             "#f0f921"
            ]
           ]
          },
          "colorway": [
           "#636efa",
           "#EF553B",
           "#00cc96",
           "#ab63fa",
           "#FFA15A",
           "#19d3f3",
           "#FF6692",
           "#B6E880",
           "#FF97FF",
           "#FECB52"
          ],
          "font": {
           "color": "#2a3f5f"
          },
          "geo": {
           "bgcolor": "white",
           "lakecolor": "white",
           "landcolor": "#E5ECF6",
           "showlakes": true,
           "showland": true,
           "subunitcolor": "white"
          },
          "hoverlabel": {
           "align": "left"
          },
          "hovermode": "closest",
          "mapbox": {
           "style": "light"
          },
          "paper_bgcolor": "white",
          "plot_bgcolor": "#E5ECF6",
          "polar": {
           "angularaxis": {
            "gridcolor": "white",
            "linecolor": "white",
            "ticks": ""
           },
           "bgcolor": "#E5ECF6",
           "radialaxis": {
            "gridcolor": "white",
            "linecolor": "white",
            "ticks": ""
           }
          },
          "scene": {
           "xaxis": {
            "backgroundcolor": "#E5ECF6",
            "gridcolor": "white",
            "gridwidth": 2,
            "linecolor": "white",
            "showbackground": true,
            "ticks": "",
            "zerolinecolor": "white"
           },
           "yaxis": {
            "backgroundcolor": "#E5ECF6",
            "gridcolor": "white",
            "gridwidth": 2,
            "linecolor": "white",
            "showbackground": true,
            "ticks": "",
            "zerolinecolor": "white"
           },
           "zaxis": {
            "backgroundcolor": "#E5ECF6",
            "gridcolor": "white",
            "gridwidth": 2,
            "linecolor": "white",
            "showbackground": true,
            "ticks": "",
            "zerolinecolor": "white"
           }
          },
          "shapedefaults": {
           "line": {
            "color": "#2a3f5f"
           }
          },
          "ternary": {
           "aaxis": {
            "gridcolor": "white",
            "linecolor": "white",
            "ticks": ""
           },
           "baxis": {
            "gridcolor": "white",
            "linecolor": "white",
            "ticks": ""
           },
           "bgcolor": "#E5ECF6",
           "caxis": {
            "gridcolor": "white",
            "linecolor": "white",
            "ticks": ""
           }
          },
          "title": {
           "x": 0.05
          },
          "xaxis": {
           "automargin": true,
           "gridcolor": "white",
           "linecolor": "white",
           "ticks": "",
           "title": {
            "standoff": 15
           },
           "zerolinecolor": "white",
           "zerolinewidth": 2
          },
          "yaxis": {
           "automargin": true,
           "gridcolor": "white",
           "linecolor": "white",
           "ticks": "",
           "title": {
            "standoff": 15
           },
           "zerolinecolor": "white",
           "zerolinewidth": 2
          }
         }
        },
        "title": {
         "text": "SO2 - Concentración por estación"
        }
       }
      }
     },
     "metadata": {},
     "output_type": "display_data"
    }
   ],
   "source": [
    "media_plot = media_estaciones.dropna(subset=['valor'])\n",
    "\n",
    "\n",
    "import plotly.express as px\n",
    "\n",
    "fig = px.scatter_mapbox(\n",
    "    media_plot,\n",
    "    lat=\"latitud\", lon=\"longitud\",\n",
    "    color=\"valor\",\n",
    "    size=\"valor\",\n",
    "    hover_name=\"nombre\",\n",
    "    color_continuous_scale=\"YlOrRd\",\n",
    "    size_max=15,\n",
    "    zoom=10,\n",
    "    mapbox_style=\"carto-positron\"\n",
    ")\n",
    "fig.update_layout(title=f'{contaminante_unico.upper()} - Concentración por estación')\n",
    "fig.show()"
   ]
  },
  {
   "cell_type": "code",
   "execution_count": 38,
   "id": "fb0d0db0",
   "metadata": {},
   "outputs": [],
   "source": [
    "limites_normativos = {\n",
    "    'pm25': 25,   # μg/m³ (24h) - OMS\n",
    "    'pm10': 50,   # μg/m³ (24h) - OMS\n",
    "    'ozono': 0.051,  # ppm (8h) - OMS 100 μg/m³ → 0.051 ppm aprox\n",
    "    'co': 4.0,    # ppm (24h) - OMS\n",
    "    'no2': 0.025, # ppm (1h) - OMS\n",
    "    'so2': 0.005, # ppm (24h) - OMS\n",
    "    # otros...\n",
    "}"
   ]
  },
  {
   "cell_type": "code",
   "execution_count": 39,
   "id": "f9de4b3e",
   "metadata": {},
   "outputs": [
    {
     "name": "stdout",
     "output_type": "stream",
     "text": [
      "📌 Porcentaje de registros que exceden el límite OMS para SO2: 0.05%\n"
     ]
    }
   ],
   "source": [
    "contaminante = contaminante_unico.lower()\n",
    "limite = limites_normativos.get(contaminante, None)\n",
    "\n",
    "if limite:\n",
    "    df['excede_limite'] = df['valor'] > limite\n",
    "    excedencias = df['excede_limite'].mean() * 100\n",
    "    print(f\"📌 Porcentaje de registros que exceden el límite OMS para {contaminante.upper()}: {excedencias:.2f}%\")\n",
    "else:\n",
    "    print(\"No hay límite definido para este contaminante.\")"
   ]
  },
  {
   "cell_type": "code",
   "execution_count": 40,
   "id": "6e857267",
   "metadata": {},
   "outputs": [
    {
     "data": {
      "image/png": "[encoded data removed]",
      "text/plain": [
       "<Figure size 1200x400 with 1 Axes>"
      ]
     },
     "metadata": {},
     "output_type": "display_data"
    }
   ],
   "source": [
    "#gafico de dias que exceden\n",
    "\n",
    "excesos_diarios = df.groupby(df['fecha'].dt.date)['excede_limite'].mean()\n",
    "\n",
    "plt.figure(figsize=(12, 4))\n",
    "excesos_diarios.plot(kind='bar', color='red')\n",
    "plt.title(f'Días con excedencias de {contaminante.upper()} según OMS')\n",
    "plt.ylabel('% de registros diarios que exceden')\n",
    "plt.xticks(rotation=90)\n",
    "plt.tight_layout()\n",
    "plt.show()"
   ]
  },
  {
   "cell_type": "code",
   "execution_count": 41,
   "id": "846d41e2",
   "metadata": {},
   "outputs": [
    {
     "data": {
      "image/png": "[encoded data removed]",
      "text/plain": [
       "<Figure size 1200x600 with 1 Axes>"
      ]
     },
     "metadata": {},
     "output_type": "display_data"
    }
   ],
   "source": [
    "#comparar promedios mensuales con los limites\n",
    "plt.figure(figsize=(12,6))\n",
    "sns.lineplot(data=promedios_mensuales, x='mes', y='valor', marker='o')\n",
    "if limite:\n",
    "    plt.axhline(y=limite, color='red', linestyle='--', label='Límite OMS')\n",
    "plt.title(f'{contaminante_unico.upper()} - Promedio mensual')\n",
    "plt.xlabel('Mes')\n",
    "plt.ylabel('Concentración')\n",
    "plt.xticks(rotation=45)\n",
    "plt.legend()\n",
    "plt.grid(True)\n",
    "plt.tight_layout()\n",
    "plt.show()"
   ]
  },
  {
   "cell_type": "code",
   "execution_count": 42,
   "id": "7dafd48f",
   "metadata": {},
   "outputs": [
    {
     "data": {
      "image/png": "[encoded data removed]",
      "text/plain": [
       "<Figure size 1000x500 with 1 Axes>"
      ]
     },
     "metadata": {},
     "output_type": "display_data"
    }
   ],
   "source": [
    "#variacion por hora del dia\n",
    "df['hora'] = df['fecha'].dt.hour\n",
    "\n",
    "horas = df.groupby('hora')['valor'].mean().reset_index()\n",
    "\n",
    "plt.figure(figsize=(10,5))\n",
    "sns.lineplot(data=horas, x='hora', y='valor', marker='o')\n",
    "plt.title(f'{contaminante_unico.upper()} - Promedio por hora del día')\n",
    "plt.xlabel('Hora')\n",
    "plt.ylabel('Concentración')\n",
    "plt.xticks(range(0,24))\n",
    "plt.grid(True)\n",
    "plt.tight_layout()\n",
    "plt.show()"
   ]
  },
  {
   "cell_type": "code",
   "execution_count": 43,
   "id": "7bc290d2",
   "metadata": {},
   "outputs": [
    {
     "name": "stdout",
     "output_type": "stream",
     "text": [
      "Días con mayor concentración promedio:\n",
      "fecha\n",
      "2021-12-18    1.0\n",
      "2021-12-19    1.0\n",
      "2021-12-14    NaN\n",
      "2021-12-15    NaN\n",
      "2021-12-16    NaN\n",
      "2021-12-17    NaN\n",
      "2021-12-20    NaN\n",
      "2021-12-21    NaN\n",
      "2021-12-22    NaN\n",
      "2021-12-23    NaN\n",
      "Name: valor, dtype: float64\n"
     ]
    }
   ],
   "source": [
    "#Top 10 dias mas contaminados\n",
    "top_dias = df.groupby(df['fecha'].dt.date)['valor'].mean().sort_values(ascending=False).head(10)\n",
    "print(\"Días con mayor concentración promedio:\")\n",
    "print(top_dias)"
   ]
  },
  {
   "cell_type": "code",
   "execution_count": 44,
   "id": "5b286207",
   "metadata": {},
   "outputs": [
    {
     "name": "stderr",
     "output_type": "stream",
     "text": [
      "C:\\Users\\Jeronimo Zapata\\AppData\\Local\\Temp\\ipykernel_21840\\975894284.py:13: FutureWarning:\n",
      "\n",
      "\n",
      "\n",
      "Passing `palette` without assigning `hue` is deprecated and will be removed in v0.14.0. Assign the `x` variable to `hue` and set `legend=False` for the same effect.\n",
      "\n",
      "\n"
     ]
    },
    {
     "data": {
      "image/png": "[encoded data removed]",
      "text/plain": [
       "<Figure size 1000x500 with 1 Axes>"
      ]
     },
     "metadata": {},
     "output_type": "display_data"
    }
   ],
   "source": [
    "promedio_eventos = df.groupby('evento')['valor'].mean().sort_values(ascending=False)\n",
    "\n",
    "# Convertir a DataFrame y ordenar por valor (descendente)\n",
    "evento_df = promedio_eventos.reset_index()\n",
    "evento_df.columns = ['evento', 'valor']\n",
    "evento_df = evento_df.sort_values(by='valor', ascending=False).reset_index(drop=True)\n",
    "\n",
    "# Crear una paleta personalizada basada en el número de eventos\n",
    "paleta = sns.color_palette(\"Reds\", n_colors=len(evento_df))\n",
    "\n",
    "# Graficar\n",
    "plt.figure(figsize=(10, 5))\n",
    "ax = sns.barplot(\n",
    "    data=evento_df,\n",
    "    x='evento', y='valor',\n",
    "    palette=paleta[::-1]  \n",
    ")\n",
    "\n",
    "# Agregar etiquetas\n",
    "for i, val in enumerate(evento_df['valor']):\n",
    "    ax.text(i, val + 0.05, f'{val:.2f}', ha='center', va='bottom')\n",
    "\n",
    "plt.title(f'{contaminante_unico.upper()} - Promedio de concentración por evento')\n",
    "plt.ylabel('Concentración')\n",
    "plt.xticks(rotation=45)\n",
    "plt.tight_layout()\n",
    "plt.show()"
   ]
  },
  {
   "cell_type": "code",
   "execution_count": 45,
   "id": "524d328a",
   "metadata": {},
   "outputs": [
    {
     "name": "stdout",
     "output_type": "stream",
     "text": [
      "                     count  mean  std  min  max\n",
      "evento                                         \n",
      "Normal                   4   1.0  0.0  1.0  1.0\n",
      "Año Nuevo                0   NaN  NaN  NaN  NaN\n",
      "Día de Reyes             0   NaN  NaN  NaN  NaN\n",
      "Día de las Velitas       0   NaN  NaN  NaN  NaN\n",
      "Día sin carro            0   NaN  NaN  NaN  NaN\n",
      "Feria de las Flores      0   NaN  NaN  NaN  NaN\n",
      "Halloween                0   NaN  NaN  NaN  NaN\n",
      "Independencia            0   NaN  NaN  NaN  NaN\n",
      "Navidad                  0   NaN  NaN  NaN  NaN\n",
      "Semana Santa             0   NaN  NaN  NaN  NaN\n"
     ]
    }
   ],
   "source": [
    "stats_eventos = df.groupby('evento')['valor'].agg(['count', 'mean', 'std', 'min', 'max']).sort_values(by='mean', ascending=False)\n",
    "print(stats_eventos)"
   ]
  },
  {
   "cell_type": "code",
   "execution_count": 46,
   "id": "cbcdf1ef",
   "metadata": {},
   "outputs": [
    {
     "name": "stderr",
     "output_type": "stream",
     "text": [
      "C:\\Users\\Jeronimo Zapata\\AppData\\Local\\Temp\\ipykernel_21840\\211640032.py:9: FutureWarning:\n",
      "\n",
      "\n",
      "\n",
      "Passing `palette` without assigning `hue` is deprecated and will be removed in v0.14.0. Assign the `x` variable to `hue` and set `legend=False` for the same effect.\n",
      "\n",
      "\n"
     ]
    },
    {
     "data": {
      "image/png": "[encoded data removed]",
      "text/plain": [
       "<Figure size 1000x500 with 1 Axes>"
      ]
     },
     "metadata": {},
     "output_type": "display_data"
    }
   ],
   "source": [
    "# Promedio por estación\n",
    "top_estaciones = df.groupby('nombre')['valor'].mean().sort_values(ascending=False).head(10).reset_index()\n",
    "\n",
    "# Paleta de colores (más alta concentración = más oscuro)\n",
    "paleta = sns.color_palette(\"Reds\", n_colors=len(top_estaciones))\n",
    "\n",
    "# Gráfico\n",
    "plt.figure(figsize=(10, 5))\n",
    "ax = sns.barplot(\n",
    "    data=top_estaciones,\n",
    "    x='nombre', y='valor',\n",
    "    palette=paleta[::-1]\n",
    ")\n",
    "\n",
    "# Etiquetas\n",
    "for i, val in enumerate(top_estaciones['valor']):\n",
    "    ax.text(i, val + 0.05, f'{val:.2f}', ha='center', va='bottom')\n",
    "\n",
    "plt.title(f'{contaminante_unico.upper()} - Top 10 estaciones con mayor concentración')\n",
    "plt.ylabel('Concentración')\n",
    "plt.xlabel('Estación')\n",
    "plt.xticks(rotation=45)\n",
    "plt.tight_layout()\n",
    "plt.show()"
   ]
  },
  {
   "cell_type": "code",
   "execution_count": 47,
   "id": "0d95c9a9",
   "metadata": {},
   "outputs": [
    {
     "data": {
      "image/png": "[encoded data removed]",
      "text/plain": [
       "<Figure size 1400x800 with 2 Axes>"
      ]
     },
     "metadata": {},
     "output_type": "display_data"
    }
   ],
   "source": [
    "# Crear columna de mes\n",
    "df['mes'] = df['fecha'].dt.to_period('M').astype(str)\n",
    "\n",
    "# Agrupamos por estación y mes\n",
    "pivot_df = df.groupby(['nombre', 'mes'])['valor'].mean().reset_index()\n",
    "\n",
    "# Reorganizar en forma de matriz\n",
    "pivot_table = pivot_df.pivot(index='nombre', columns='mes', values='valor')\n",
    "\n",
    "# Crear heatmap\n",
    "plt.figure(figsize=(14, 8))\n",
    "sns.heatmap(pivot_table, cmap=\"Reds\", linewidths=0.5, linecolor='gray', annot=False, fmt=\".1f\", cbar_kws={'label': 'Concentración'})\n",
    "plt.title(f'{contaminante_unico.upper()} - Concentración mensual por estación')\n",
    "plt.xlabel('Mes')\n",
    "plt.ylabel('Estación')\n",
    "plt.tight_layout()\n",
    "plt.show()"
   ]
  },
  {
   "cell_type": "code",
   "execution_count": 48,
   "id": "84b0013a",
   "metadata": {},
   "outputs": [
    {
     "name": "stderr",
     "output_type": "stream",
     "text": [
      "C:\\Users\\Jeronimo Zapata\\AppData\\Local\\Temp\\ipykernel_21840\\666634833.py:12: DeprecationWarning:\n",
      "\n",
      "*scatter_mapbox* is deprecated! Use *scatter_map* instead. Learn more at: https://plotly.com/python/mapbox-to-maplibre/\n",
      "\n"
     ]
    },
    {
     "data": {
      "application/vnd.plotly.v1+json": {
       "config": {
        "plotlyServerURL": "https://plot.ly"
       },
       "data": [
        {
         "hovertemplate": "<b>%{hovertext}</b><br><br>mes=2021-12<br>valor=%{marker.color}<br>latitud=%{lat}<br>longitud=%{lon}<extra></extra>",
         "hovertext": [
          "_OFF-Girardota - S.O.S Aburrá Norte"
         ],
         "lat": {
          "bdata": "7OEm/oODGUA=",
          "dtype": "f8"
         },
         "legendgroup": "",
         "lon": {
          "bdata": "ybctgN/cUsA=",
          "dtype": "f8"
         },
         "marker": {
          "color": {
           "bdata": "AAAAAAAA8D8=",
           "dtype": "f8"
          },
          "coloraxis": "coloraxis",
          "size": {
           "bdata": "AAAAAAAA8D8=",
           "dtype": "f8"
          },
          "sizemode": "area",
          "sizeref": 0.0044444444444444444
         },
         "mode": "markers",
         "name": "",
         "showlegend": false,
         "subplot": "mapbox",
         "type": "scattermapbox"
        }
       ],
       "layout": {
        "coloraxis": {
         "colorbar": {
          "title": {
           "text": "valor"
          }
         },
         "colorscale": [
          [
           0,
           "rgb(255,245,240)"
          ],
          [
           0.125,
           "rgb(254,224,210)"
          ],
          [
           0.25,
           "rgb(252,187,161)"
          ],
          [
           0.375,
           "rgb(252,146,114)"
          ],
          [
           0.5,
           "rgb(251,106,74)"
          ],
          [
           0.625,
           "rgb(239,59,44)"
          ],
          [
           0.75,
           "rgb(203,24,29)"
          ],
          [
           0.875,
           "rgb(165,15,21)"
          ],
          [
           1,
           "rgb(103,0,13)"
          ]
         ]
        },
        "legend": {
         "itemsizing": "constant",
         "tracegroupgap": 0
        },
        "mapbox": {
         "center": {
          "lat": 6.3784332,
          "lon": -75.4511414
         },
         "domain": {
          "x": [
           0,
           1
          ],
          "y": [
           0,
           1
          ]
         },
         "style": "carto-positron",
         "zoom": 10
        },
        "margin": {
         "b": 0,
         "l": 0,
         "r": 0,
         "t": 40
        },
        "template": {
         "data": {
          "bar": [
           {
            "error_x": {
             "color": "#2a3f5f"
            },
            "error_y": {
             "color": "#2a3f5f"
            },
            "marker": {
             "line": {
              "color": "#E5ECF6",
              "width": 0.5
             },
             "pattern": {
              "fillmode": "overlay",
              "size": 10,
              "solidity": 0.2
             }
            },
            "type": "bar"
           }
          ],
          "barpolar": [
           {
            "marker": {
             "line": {
              "color": "#E5ECF6",
              "width": 0.5
             },
             "pattern": {
              "fillmode": "overlay",
              "size": 10,
              "solidity": 0.2
             }
            },
            "type": "barpolar"
           }
          ],
          "carpet": [
           {
            "aaxis": {
             "endlinecolor": "#2a3f5f",
             "gridcolor": "white",
             "linecolor": "white",
             "minorgridcolor": "white",
             "startlinecolor": "#2a3f5f"
            },
            "baxis": {
             "endlinecolor": "#2a3f5f",
             "gridcolor": "white",
             "linecolor": "white",
             "minorgridcolor": "white",
             "startlinecolor": "#2a3f5f"
            },
            "type": "carpet"
           }
          ],
          "choropleth": [
           {
            "colorbar": {
             "outlinewidth": 0,
             "ticks": ""
            },
            "type": "choropleth"
           }
          ],
          "contour": [
           {
            "colorbar": {
             "outlinewidth": 0,
             "ticks": ""
            },
            "colorscale": [
             [
              0,
              "#0d0887"
             ],
             [
              0.1111111111111111,
              "#46039f"
             ],
             [
              0.2222222222222222,
              "#7201a8"
             ],
             [
              0.3333333333333333,
              "#9c179e"
             ],
             [
              0.4444444444444444,
              "#bd3786"
             ],
             [
              0.5555555555555556,
              "#d8576b"
             ],
             [
              0.6666666666666666,
              "#ed7953"
             ],
             [
              0.7777777777777778,
              "#fb9f3a"
             ],
             [
              0.8888888888888888,
              "#fdca26"
             ],
             [
              1,
              "#f0f921"
             ]
            ],
            "type": "contour"
           }
          ],
          "contourcarpet": [
           {
            "colorbar": {
             "outlinewidth": 0,
             "ticks": ""
            },
            "type": "contourcarpet"
           }
          ],
          "heatmap": [
           {
            "colorbar": {
             "outlinewidth": 0,
             "ticks": ""
            },
            "colorscale": [
             [
              0,
              "#0d0887"
             ],
             [
              0.1111111111111111,
              "#46039f"
             ],
             [
              0.2222222222222222,
              "#7201a8"
             ],
             [
              0.3333333333333333,
              "#9c179e"
             ],
             [
              0.4444444444444444,
              "#bd3786"
             ],
             [
              0.5555555555555556,
              "#d8576b"
             ],
             [
              0.6666666666666666,
              "#ed7953"
             ],
             [
              0.7777777777777778,
              "#fb9f3a"
             ],
             [
              0.8888888888888888,
              "#fdca26"
             ],
             [
              1,
              "#f0f921"
             ]
            ],
            "type": "heatmap"
           }
          ],
          "histogram": [
           {
            "marker": {
             "pattern": {
              "fillmode": "overlay",
              "size": 10,
              "solidity": 0.2
             }
            },
            "type": "histogram"
           }
          ],
          "histogram2d": [
           {
            "colorbar": {
             "outlinewidth": 0,
             "ticks": ""
            },
            "colorscale": [
             [
              0,
              "#0d0887"
             ],
             [
              0.1111111111111111,
              "#46039f"
             ],
             [
              0.2222222222222222,
              "#7201a8"
             ],
             [
              0.3333333333333333,
              "#9c179e"
             ],
             [
              0.4444444444444444,
              "#bd3786"
             ],
             [
              0.5555555555555556,
              "#d8576b"
             ],
             [
              0.6666666666666666,
              "#ed7953"
             ],
             [
              0.7777777777777778,
              "#fb9f3a"
             ],
             [
              0.8888888888888888,
              "#fdca26"
             ],
             [
              1,
              "#f0f921"
             ]
            ],
            "type": "histogram2d"
           }
          ],
          "histogram2dcontour": [
           {
            "colorbar": {
             "outlinewidth": 0,
             "ticks": ""
            },
            "colorscale": [
             [
              0,
              "#0d0887"
             ],
             [
              0.1111111111111111,
              "#46039f"
             ],
             [
              0.2222222222222222,
              "#7201a8"
             ],
             [
              0.3333333333333333,
              "#9c179e"
             ],
             [
              0.4444444444444444,
              "#bd3786"
             ],
             [
              0.5555555555555556,
              "#d8576b"
             ],
             [
              0.6666666666666666,
              "#ed7953"
             ],
             [
              0.7777777777777778,
              "#fb9f3a"
             ],
             [
              0.8888888888888888,
              "#fdca26"
             ],
             [
              1,
              "#f0f921"
             ]
            ],
            "type": "histogram2dcontour"
           }
          ],
          "mesh3d": [
           {
            "colorbar": {
             "outlinewidth": 0,
             "ticks": ""
            },
            "type": "mesh3d"
           }
          ],
          "parcoords": [
           {
            "line": {
             "colorbar": {
              "outlinewidth": 0,
              "ticks": ""
             }
            },
            "type": "parcoords"
           }
          ],
          "pie": [
           {
            "automargin": true,
            "type": "pie"
           }
          ],
          "scatter": [
           {
            "fillpattern": {
             "fillmode": "overlay",
             "size": 10,
             "solidity": 0.2
            },
            "type": "scatter"
           }
          ],
          "scatter3d": [
           {
            "line": {
             "colorbar": {
              "outlinewidth": 0,
              "ticks": ""
             }
            },
            "marker": {
             "colorbar": {
              "outlinewidth": 0,
              "ticks": ""
             }
            },
            "type": "scatter3d"
           }
          ],
          "scattercarpet": [
           {
            "marker": {
             "colorbar": {
              "outlinewidth": 0,
              "ticks": ""
             }
            },
            "type": "scattercarpet"
           }
          ],
          "scattergeo": [
           {
            "marker": {
             "colorbar": {
              "outlinewidth": 0,
              "ticks": ""
             }
            },
            "type": "scattergeo"
           }
          ],
          "scattergl": [
           {
            "marker": {
             "colorbar": {
              "outlinewidth": 0,
              "ticks": ""
             }
            },
            "type": "scattergl"
           }
          ],
          "scattermap": [
           {
            "marker": {
             "colorbar": {
              "outlinewidth": 0,
              "ticks": ""
             }
            },
            "type": "scattermap"
           }
          ],
          "scattermapbox": [
           {
            "marker": {
             "colorbar": {
              "outlinewidth": 0,
              "ticks": ""
             }
            },
            "type": "scattermapbox"
           }
          ],
          "scatterpolar": [
           {
            "marker": {
             "colorbar": {
              "outlinewidth": 0,
              "ticks": ""
             }
            },
            "type": "scatterpolar"
           }
          ],
          "scatterpolargl": [
           {
            "marker": {
             "colorbar": {
              "outlinewidth": 0,
              "ticks": ""
             }
            },
            "type": "scatterpolargl"
           }
          ],
          "scatterternary": [
           {
            "marker": {
             "colorbar": {
              "outlinewidth": 0,
              "ticks": ""
             }
            },
            "type": "scatterternary"
           }
          ],
          "surface": [
           {
            "colorbar": {
             "outlinewidth": 0,
             "ticks": ""
            },
            "colorscale": [
             [
              0,
              "#0d0887"
             ],
             [
              0.1111111111111111,
              "#46039f"
             ],
             [
              0.2222222222222222,
              "#7201a8"
             ],
             [
              0.3333333333333333,
              "#9c179e"
             ],
             [
              0.4444444444444444,
              "#bd3786"
             ],
             [
              0.5555555555555556,
              "#d8576b"
             ],
             [
              0.6666666666666666,
              "#ed7953"
             ],
             [
              0.7777777777777778,
              "#fb9f3a"
             ],
             [
              0.8888888888888888,
              "#fdca26"
             ],
             [
              1,
              "#f0f921"
             ]
            ],
            "type": "surface"
           }
          ],
          "table": [
           {
            "cells": {
             "fill": {
              "color": "#EBF0F8"
             },
             "line": {
              "color": "white"
             }
            },
            "header": {
             "fill": {
              "color": "#C8D4E3"
             },
             "line": {
              "color": "white"
             }
            },
            "type": "table"
           }
          ]
         },
         "layout": {
          "annotationdefaults": {
           "arrowcolor": "#2a3f5f",
           "arrowhead": 0,
           "arrowwidth": 1
          },
          "autotypenumbers": "strict",
          "coloraxis": {
           "colorbar": {
            "outlinewidth": 0,
            "ticks": ""
           }
          },
          "colorscale": {
           "diverging": [
            [
             0,
             "#8e0152"
            ],
            [
             0.1,
             "#c51b7d"
            ],
            [
             0.2,
             "#de77ae"
            ],
            [
             0.3,
             "#f1b6da"
            ],
            [
             0.4,
             "#fde0ef"
            ],
            [
             0.5,
             "#f7f7f7"
            ],
            [
             0.6,
             "#e6f5d0"
            ],
            [
             0.7,
             "#b8e186"
            ],
            [
             0.8,
             "#7fbc41"
            ],
            [
             0.9,
             "#4d9221"
            ],
            [
             1,
             "#276419"
            ]
           ],
           "sequential": [
            [
             0,
             "#0d0887"
            ],
            [
             0.1111111111111111,
             "#46039f"
            ],
            [
             0.2222222222222222,
             "#7201a8"
            ],
            [
             0.3333333333333333,
             "#9c179e"
            ],
            [
             0.4444444444444444,
             "#bd3786"
            ],
            [
             0.5555555555555556,
             "#d8576b"
            ],
            [
             0.6666666666666666,
             "#ed7953"
            ],
            [
             0.7777777777777778,
             "#fb9f3a"
            ],
            [
             0.8888888888888888,
             "#fdca26"
            ],
            [
             1,
             "#f0f921"
            ]
           ],
           "sequentialminus": [
            [
             0,
             "#0d0887"
            ],
            [
             0.1111111111111111,
             "#46039f"
            ],
            [
             0.2222222222222222,
             "#7201a8"
            ],
            [
             0.3333333333333333,
             "#9c179e"
            ],
            [
             0.4444444444444444,
             "#bd3786"
            ],
            [
             0.5555555555555556,
             "#d8576b"
            ],
            [
             0.6666666666666666,
             "#ed7953"
            ],
            [
             0.7777777777777778,
             "#fb9f3a"
            ],
            [
             0.8888888888888888,
             "#fdca26"
            ],
            [
             1,
             "#f0f921"
            ]
           ]
          },
          "colorway": [
           "#636efa",
           "#EF553B",
           "#00cc96",
           "#ab63fa",
           "#FFA15A",
           "#19d3f3",
           "#FF6692",
           "#B6E880",
           "#FF97FF",
           "#FECB52"
          ],
          "font": {
           "color": "#2a3f5f"
          },
          "geo": {
           "bgcolor": "white",
           "lakecolor": "white",
           "landcolor": "#E5ECF6",
           "showlakes": true,
           "showland": true,
           "subunitcolor": "white"
          },
          "hoverlabel": {
           "align": "left"
          },
          "hovermode": "closest",
          "mapbox": {
           "style": "light"
          },
          "paper_bgcolor": "white",
          "plot_bgcolor": "#E5ECF6",
          "polar": {
           "angularaxis": {
            "gridcolor": "white",
            "linecolor": "white",
            "ticks": ""
           },
           "bgcolor": "#E5ECF6",
           "radialaxis": {
            "gridcolor": "white",
            "linecolor": "white",
            "ticks": ""
           }
          },
          "scene": {
           "xaxis": {
            "backgroundcolor": "#E5ECF6",
            "gridcolor": "white",
            "gridwidth": 2,
            "linecolor": "white",
            "showbackground": true,
            "ticks": "",
            "zerolinecolor": "white"
           },
           "yaxis": {
            "backgroundcolor": "#E5ECF6",
            "gridcolor": "white",
            "gridwidth": 2,
            "linecolor": "white",
            "showbackground": true,
            "ticks": "",
            "zerolinecolor": "white"
           },
           "zaxis": {
            "backgroundcolor": "#E5ECF6",
            "gridcolor": "white",
            "gridwidth": 2,
            "linecolor": "white",
            "showbackground": true,
            "ticks": "",
            "zerolinecolor": "white"
           }
          },
          "shapedefaults": {
           "line": {
            "color": "#2a3f5f"
           }
          },
          "ternary": {
           "aaxis": {
            "gridcolor": "white",
            "linecolor": "white",
            "ticks": ""
           },
           "baxis": {
            "gridcolor": "white",
            "linecolor": "white",
            "ticks": ""
           },
           "bgcolor": "#E5ECF6",
           "caxis": {
            "gridcolor": "white",
            "linecolor": "white",
            "ticks": ""
           }
          },
          "title": {
           "x": 0.05
          },
          "xaxis": {
           "automargin": true,
           "gridcolor": "white",
           "linecolor": "white",
           "ticks": "",
           "title": {
            "standoff": 15
           },
           "zerolinecolor": "white",
           "zerolinewidth": 2
          },
          "yaxis": {
           "automargin": true,
           "gridcolor": "white",
           "linecolor": "white",
           "ticks": "",
           "title": {
            "standoff": 15
           },
           "zerolinecolor": "white",
           "zerolinewidth": 2
          }
         }
        },
        "title": {
         "text": "SO2 - Concentración mensual por estación"
        }
       }
      }
     },
     "metadata": {},
     "output_type": "display_data"
    }
   ],
   "source": [
    "import plotly.express as px\n",
    "\n",
    "# Asegurar que el mes esté como string\n",
    "df['mes'] = df['fecha'].dt.to_period(\"M\").astype(str)\n",
    "\n",
    "# Calcular promedio mensual por estación\n",
    "mapa_mensual = df.groupby(['nombre', 'latitud', 'longitud', 'mes'])['valor'].mean().reset_index()\n",
    "\n",
    "media_mensual_limpio = mapa_mensual.dropna(subset=['valor'])\n",
    "\n",
    "# Crear mapa animado\n",
    "fig = px.scatter_mapbox(\n",
    "    media_mensual_limpio,\n",
    "    lat=\"latitud\", lon=\"longitud\",\n",
    "    color=\"valor\",\n",
    "    size=\"valor\",\n",
    "    animation_frame=\"mes\",\n",
    "    hover_name=\"nombre\",\n",
    "    color_continuous_scale=\"Reds\",\n",
    "    size_max=15,\n",
    "    zoom=10,\n",
    "    mapbox_style=\"carto-positron\",\n",
    "    title=f'{contaminante_unico.upper()} - Concentración mensual por estación'\n",
    ")\n",
    "\n",
    "fig.update_layout(margin={\"r\":0,\"t\":40,\"l\":0,\"b\":0})\n",
    "fig.show()"
   ]
  }
 ],
 "metadata": {
  "kernelspec": {
   "display_name": "Python 3",
   "language": "python",
   "name": "python3"
  },
  "language_info": {
   "codemirror_mode": {
    "name": "ipython",
    "version": 3
   },
   "file_extension": ".py",
   "mimetype": "text/x-python",
   "name": "python",
   "nbconvert_exporter": "python",
   "pygments_lexer": "ipython3",
   "version": "3.10.11"
  }
 },
 "nbformat": 4,
 "nbformat_minor": 5
}
